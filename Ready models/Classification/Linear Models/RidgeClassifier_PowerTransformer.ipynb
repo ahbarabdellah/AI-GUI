{
  "nbformat": 4,
  "nbformat_minor": 2,
  "metadata": {
    "kernelspec": {
      "name": "python3",
      "display_name": "Python 3.8.5 64-bit ('base': conda)"
    },
    "language_info": {
      "codemirror_mode": {
        "name": "ipython",
        "version": 3
      },
      "file_extension": ".py",
      "mimetype": "text/x-python",
      "name": "python",
      "nbconvert_exporter": "python",
      "pygments_lexer": "ipython3",
      "version": "3.8.5"
    },
    "interpreter": {
      "hash": "51a9663a131f1b5758c45b97a2d6917c8ae86b33e231c3733631cbc7265cfc89"
    },
    "colab": {
      "name": "RidgeClassifier_PowerTransformer.ipynb",
      "provenance": []
    }
  },
  "cells": [
    {
      "cell_type": "markdown",
      "source": [
        "# Simple RidgeClassifier with PowerTransformer"
      ],
      "metadata": {
        "id": "T8-JNeJmuRz3"
      }
    },
    {
      "cell_type": "markdown",
      "source": [
        "This Code template is for the Classification tasks using the simple RidgeClassifier and feature transformation technique PowerTransformer in a pipeline"
      ],
      "metadata": {
        "id": "4EQd5tbruRz5"
      }
    },
    {
      "cell_type": "markdown",
      "source": [
        "### Required Packages"
      ],
      "metadata": {
        "id": "pDBuU3GguRz6"
      }
    },
    {
      "cell_type": "code",
      "execution_count": null,
      "source": [
        "!pip install imblearn"
      ],
      "outputs": [],
      "metadata": {
        "id": "rhf6tTuVuRz7"
      }
    },
    {
      "cell_type": "code",
      "execution_count": null,
      "source": [
        "import warnings \r\n",
        "import numpy as np \r\n",
        "import pandas as pd \r\n",
        "import matplotlib.pyplot as plt \r\n",
        "import seaborn as se \r\n",
        "from sklearn.pipeline import make_pipeline\r\n",
        "from imblearn.over_sampling import RandomOverSampler\r\n",
        "from sklearn.preprocessing import LabelEncoder,PowerTransformer\r\n",
        "from sklearn.model_selection import train_test_split \r\n",
        "from sklearn.linear_model import RidgeClassifier\r\n",
        "from sklearn.metrics import classification_report,plot_confusion_matrix\r\n",
        "warnings.filterwarnings('ignore')"
      ],
      "outputs": [],
      "metadata": {
        "id": "AeHoShjpuRz7"
      }
    },
    {
      "cell_type": "markdown",
      "source": [
        "### Initialization\n",
        "\n",
        "Filepath of CSV file"
      ],
      "metadata": {
        "id": "w2SiJEuduRz8"
      }
    },
    {
      "cell_type": "code",
      "execution_count": 3,
      "source": [
        "#filepath\r\n",
        "file_path= \"\""
      ],
      "outputs": [],
      "metadata": {
        "id": "M0zNRqCYuRz8"
      }
    },
    {
      "cell_type": "markdown",
      "source": [
        "List of features which are  required for model training ."
      ],
      "metadata": {
        "id": "jBtUstbzuRz8"
      }
    },
    {
      "cell_type": "code",
      "execution_count": 4,
      "source": [
        "#x_values\n",
        "features=[]"
      ],
      "outputs": [],
      "metadata": {
        "id": "mIRu2dlDuRz9"
      }
    },
    {
      "cell_type": "markdown",
      "source": [
        "Target feature for prediction."
      ],
      "metadata": {
        "id": "ju6kNnvluRz9"
      }
    },
    {
      "cell_type": "code",
      "execution_count": 5,
      "source": [
        "#y_value\n",
        "target=''"
      ],
      "outputs": [],
      "metadata": {
        "id": "EAXp4gd5uRz9"
      }
    },
    {
      "cell_type": "markdown",
      "source": [
        "### Data Fetching\n",
        "\n",
        "Pandas is an open-source, BSD-licensed library providing high-performance, easy-to-use data manipulation and data analysis tools.\n",
        "\n",
        "We will use panda's library to read the CSV file using its storage path.And we use the head function to display the initial row or entry."
      ],
      "metadata": {
        "id": "NihST35tuRz-"
      }
    },
    {
      "cell_type": "code",
      "execution_count": 6,
      "source": [
        "df=pd.read_csv(file_path)\n",
        "df.head()"
      ],
      "outputs": [
        {
          "output_type": "execute_result",
          "data": {
            "text/html": [
              "<div>\n",
              "<style scoped>\n",
              "    .dataframe tbody tr th:only-of-type {\n",
              "        vertical-align: middle;\n",
              "    }\n",
              "\n",
              "    .dataframe tbody tr th {\n",
              "        vertical-align: top;\n",
              "    }\n",
              "\n",
              "    .dataframe thead th {\n",
              "        text-align: right;\n",
              "    }\n",
              "</style>\n",
              "<table border=\"1\" class=\"dataframe\">\n",
              "  <thead>\n",
              "    <tr style=\"text-align: right;\">\n",
              "      <th></th>\n",
              "      <th>Recency (months)</th>\n",
              "      <th>Frequency (times)</th>\n",
              "      <th>Monetary (c.c. blood)</th>\n",
              "      <th>Time (months)</th>\n",
              "      <th>whether he/she donated blood in March 2007</th>\n",
              "    </tr>\n",
              "  </thead>\n",
              "  <tbody>\n",
              "    <tr>\n",
              "      <th>0</th>\n",
              "      <td>2</td>\n",
              "      <td>50</td>\n",
              "      <td>12500</td>\n",
              "      <td>98</td>\n",
              "      <td>1</td>\n",
              "    </tr>\n",
              "    <tr>\n",
              "      <th>1</th>\n",
              "      <td>0</td>\n",
              "      <td>13</td>\n",
              "      <td>3250</td>\n",
              "      <td>28</td>\n",
              "      <td>1</td>\n",
              "    </tr>\n",
              "    <tr>\n",
              "      <th>2</th>\n",
              "      <td>1</td>\n",
              "      <td>16</td>\n",
              "      <td>4000</td>\n",
              "      <td>35</td>\n",
              "      <td>1</td>\n",
              "    </tr>\n",
              "    <tr>\n",
              "      <th>3</th>\n",
              "      <td>2</td>\n",
              "      <td>20</td>\n",
              "      <td>5000</td>\n",
              "      <td>45</td>\n",
              "      <td>1</td>\n",
              "    </tr>\n",
              "    <tr>\n",
              "      <th>4</th>\n",
              "      <td>1</td>\n",
              "      <td>24</td>\n",
              "      <td>6000</td>\n",
              "      <td>77</td>\n",
              "      <td>0</td>\n",
              "    </tr>\n",
              "  </tbody>\n",
              "</table>\n",
              "</div>"
            ],
            "text/plain": [
              "   Recency (months)  ...  whether he/she donated blood in March 2007\n",
              "0                 2  ...                                           1\n",
              "1                 0  ...                                           1\n",
              "2                 1  ...                                           1\n",
              "3                 2  ...                                           1\n",
              "4                 1  ...                                           0\n",
              "\n",
              "[5 rows x 5 columns]"
            ]
          },
          "metadata": {
            "tags": []
          },
          "execution_count": 6
        }
      ],
      "metadata": {
        "colab": {
          "base_uri": "https://localhost:8080/",
          "height": 200
        },
        "id": "EsgRXMwsuRz_",
        "outputId": "484e231a-b863-44b2-f076-b3af698e979c"
      }
    },
    {
      "cell_type": "markdown",
      "source": [
        "### Feature Selections\n",
        "\n",
        "It is the process of reducing the number of input variables when developing a predictive model. Used to reduce the number of input variables to both reduce the computational cost of modelling and, in some cases, to improve the performance of the model.\n",
        "\n",
        "We will assign all the required input features to X and target/outcome to Y."
      ],
      "metadata": {
        "id": "pVOV2w1JuR0A"
      }
    },
    {
      "cell_type": "code",
      "execution_count": 7,
      "source": [
        "X = df[features]\n",
        "Y = df[target]"
      ],
      "outputs": [],
      "metadata": {
        "id": "AMQX90souR0A"
      }
    },
    {
      "cell_type": "markdown",
      "source": [
        "### Data Preprocessing\n",
        "\n",
        "Since the majority of the machine learning models in the Sklearn library doesn't handle string category data and Null value, we have to explicitly remove or replace null values. The below snippet have functions, which removes the null value if any exists. And convert the string classes data in the datasets by encoding them to integer classes.\n"
      ],
      "metadata": {
        "id": "hEEqIhY0uR0A"
      }
    },
    {
      "cell_type": "code",
      "execution_count": 8,
      "source": [
        "def NullClearner(df):\n",
        "    if(isinstance(df, pd.Series) and (df.dtype in [\"float64\",\"int64\"])):\n",
        "        df.fillna(df.mean(),inplace=True)\n",
        "        return df\n",
        "    elif(isinstance(df, pd.Series)):\n",
        "        df.fillna(df.mode()[0],inplace=True)\n",
        "        return df\n",
        "    else:return df\n",
        "def EncodeX(df):\n",
        "    return pd.get_dummies(df)\n",
        "def EncodeY(df):\n",
        "    if len(df.unique())<=2:\n",
        "        return df\n",
        "    else:\n",
        "        un_EncodedT=np.sort(pd.unique(df), axis=-1, kind='mergesort')\n",
        "        df=LabelEncoder().fit_transform(df)\n",
        "        EncodedT=[xi for xi in range(len(un_EncodedT))]\n",
        "        print(\"Encoded Target: {} to {}\".format(un_EncodedT,EncodedT))\n",
        "        return df"
      ],
      "outputs": [],
      "metadata": {
        "id": "PPU0qDaMuR0B"
      }
    },
    {
      "cell_type": "code",
      "execution_count": 9,
      "source": [
        "x=X.columns.to_list()\n",
        "for i in x:\n",
        "    X[i]=NullClearner(X[i])  \n",
        "X=EncodeX(X)\n",
        "Y=EncodeY(NullClearner(Y))\n",
        "X.head()"
      ],
      "outputs": [
        {
          "output_type": "execute_result",
          "data": {
            "text/html": [
              "<div>\n",
              "<style scoped>\n",
              "    .dataframe tbody tr th:only-of-type {\n",
              "        vertical-align: middle;\n",
              "    }\n",
              "\n",
              "    .dataframe tbody tr th {\n",
              "        vertical-align: top;\n",
              "    }\n",
              "\n",
              "    .dataframe thead th {\n",
              "        text-align: right;\n",
              "    }\n",
              "</style>\n",
              "<table border=\"1\" class=\"dataframe\">\n",
              "  <thead>\n",
              "    <tr style=\"text-align: right;\">\n",
              "      <th></th>\n",
              "      <th>Recency (months)</th>\n",
              "      <th>Frequency (times)</th>\n",
              "      <th>Monetary (c.c. blood)</th>\n",
              "      <th>Time (months)</th>\n",
              "    </tr>\n",
              "  </thead>\n",
              "  <tbody>\n",
              "    <tr>\n",
              "      <th>0</th>\n",
              "      <td>2</td>\n",
              "      <td>50</td>\n",
              "      <td>12500</td>\n",
              "      <td>98</td>\n",
              "    </tr>\n",
              "    <tr>\n",
              "      <th>1</th>\n",
              "      <td>0</td>\n",
              "      <td>13</td>\n",
              "      <td>3250</td>\n",
              "      <td>28</td>\n",
              "    </tr>\n",
              "    <tr>\n",
              "      <th>2</th>\n",
              "      <td>1</td>\n",
              "      <td>16</td>\n",
              "      <td>4000</td>\n",
              "      <td>35</td>\n",
              "    </tr>\n",
              "    <tr>\n",
              "      <th>3</th>\n",
              "      <td>2</td>\n",
              "      <td>20</td>\n",
              "      <td>5000</td>\n",
              "      <td>45</td>\n",
              "    </tr>\n",
              "    <tr>\n",
              "      <th>4</th>\n",
              "      <td>1</td>\n",
              "      <td>24</td>\n",
              "      <td>6000</td>\n",
              "      <td>77</td>\n",
              "    </tr>\n",
              "  </tbody>\n",
              "</table>\n",
              "</div>"
            ],
            "text/plain": [
              "   Recency (months)  Frequency (times)  Monetary (c.c. blood)  Time (months)\n",
              "0                 2                 50                  12500             98\n",
              "1                 0                 13                   3250             28\n",
              "2                 1                 16                   4000             35\n",
              "3                 2                 20                   5000             45\n",
              "4                 1                 24                   6000             77"
            ]
          },
          "metadata": {
            "tags": []
          },
          "execution_count": 9
        }
      ],
      "metadata": {
        "colab": {
          "base_uri": "https://localhost:8080/",
          "height": 200
        },
        "id": "ltG79UzyuR0B",
        "outputId": "10203719-af16-4dcf-d473-6501d51d8136"
      }
    },
    {
      "cell_type": "markdown",
      "source": [
        "#### Correlation Map\n",
        "\n",
        "In order to check the correlation between the features, we will plot a correlation matrix. It is effective in summarizing a large amount of data where the goal is to see patterns."
      ],
      "metadata": {
        "id": "VtmXO2xMuR0C"
      }
    },
    {
      "cell_type": "code",
      "execution_count": 10,
      "source": [
        "f,ax = plt.subplots(figsize=(18, 18))\n",
        "matrix = np.triu(X.corr())\n",
        "se.heatmap(X.corr(), annot=True, linewidths=.5, fmt= '.1f',ax=ax, mask=matrix)\n",
        "plt.show()"
      ],
      "outputs": [
        {
          "output_type": "display_data",
          "data": {
            "image/png": "[encoded data removed]",
            "text/plain": [
              "<Figure size 1296x1296 with 2 Axes>"
            ]
          },
          "metadata": {
            "tags": [],
            "needs_background": "light"
          }
        }
      ],
      "metadata": {
        "colab": {
          "base_uri": "https://localhost:8080/",
          "height": 1000
        },
        "id": "wezkvL80uR0C",
        "outputId": "8889097b-f4cd-41e5-d388-eec862f8df8f"
      }
    },
    {
      "cell_type": "markdown",
      "source": [
        "#### Distribution Of Target Variable"
      ],
      "metadata": {
        "id": "lSta6TwTuR0C"
      }
    },
    {
      "cell_type": "code",
      "execution_count": 11,
      "source": [
        "plt.figure(figsize = (10,6))\n",
        "se.countplot(Y)"
      ],
      "outputs": [
        {
          "output_type": "execute_result",
          "data": {
            "text/plain": [
              "<matplotlib.axes._subplots.AxesSubplot at 0x7f7ba87bc690>"
            ]
          },
          "metadata": {
            "tags": []
          },
          "execution_count": 11
        },
        {
          "output_type": "display_data",
          "data": {
            "image/png": "[encoded data removed]",
            "text/plain": [
              "<Figure size 720x432 with 1 Axes>"
            ]
          },
          "metadata": {
            "tags": [],
            "needs_background": "light"
          }
        }
      ],
      "metadata": {
        "colab": {
          "base_uri": "https://localhost:8080/",
          "height": 403
        },
        "id": "YxAf_PhPuR0D",
        "outputId": "6bd711cc-a73a-44af-85a8-998791c64cf3"
      }
    },
    {
      "cell_type": "markdown",
      "source": [
        "### Data Splitting\n",
        "\n",
        "The train-test split is a procedure for evaluating the performance of an algorithm. The procedure involves taking a dataset and dividing it into two subsets. The first subset is utilized to fit/train the model. The second subset is used for prediction. The main motive is to estimate the performance of the model on new data."
      ],
      "metadata": {
        "id": "6XmVkPqEuR0D"
      }
    },
    {
      "cell_type": "code",
      "execution_count": 12,
      "source": [
        "x_train,x_test,y_train,y_test=train_test_split(X,Y,test_size=0.2,random_state=123)"
      ],
      "outputs": [],
      "metadata": {
        "id": "x7_Mmg5kuR0G"
      }
    },
    {
      "cell_type": "markdown",
      "source": [
        "#### Handling Target Imbalance\n",
        "\n",
        "The challenge of working with imbalanced datasets is that most machine learning techniques will ignore, and in turn have poor performance on, the minority class, although typically it is performance on the minority class that is most important.\n",
        "\n",
        "One approach to addressing imbalanced datasets is to oversample the minority class. The simplest approach involves duplicating examples in the minority class.We will perform overspampling using imblearn library. "
      ],
      "metadata": {
        "id": "I0T33wk1uR0G"
      }
    },
    {
      "cell_type": "code",
      "execution_count": 13,
      "source": [
        "x_train,y_train = RandomOverSampler(random_state=123).fit_resample(x_train, y_train)"
      ],
      "outputs": [],
      "metadata": {
        "id": "VweimAhCuR0H"
      }
    },
    {
      "cell_type": "markdown",
      "source": [
        "### Model\n",
        "\n",
        "Classifier using Ridge regression.\n",
        "\n",
        "This classifier first converts the target values into {-1, 1} and then treats the problem as a regression task (multi-output regression in the multiclass case).\n",
        "\n",
        "#### Model Tuning Parameters\n",
        "\n",
        "> **alpha** -> Regularization strength; must be a positive float. Regularization improves the conditioning of the problem and reduces the variance of the estimates. Larger values specify stronger regularization.\n",
        "\n",
        "> **solver** -> Solver to use in the computational routines {‘auto’, ‘svd’, ‘cholesky’, ‘lsqr’, ‘sparse_cg’, ‘sag’, ‘saga’}\n",
        "\n",
        "> **tol** -> Precision of the solution.\n",
        "\n"
      ],
      "metadata": {
        "id": "5Dal-lVPuR0H"
      }
    },
    {
      "cell_type": "markdown",
      "source": [
        "#### Feature Transformation\n",
        "Power transfomer is a family of functions that transform data using power laws that are applied to make data more Gaussian-like. This is useful for modeling issues related to heteroscedasticity (non-constant variance), or other situations where normality is desired.\n",
        "\n",
        "Refer [API](https://scikit-learn.org/stable/modules/generated/sklearn.preprocessing.PowerTransformer.html) for the parameters"
      ],
      "metadata": {
        "id": "aJG0zUmQx3TE"
      }
    },
    {
      "cell_type": "code",
      "execution_count": 14,
      "source": [
        "# Build Model here\n",
        "model = make_pipeline(PowerTransformer(),RidgeClassifier(random_state=123))\n",
        "model.fit(x_train, y_train)"
      ],
      "outputs": [
        {
          "output_type": "execute_result",
          "data": {
            "text/plain": [
              "Pipeline(memory=None,\n",
              "         steps=[('powertransformer',\n",
              "                 PowerTransformer(copy=True, method='yeo-johnson',\n",
              "                                  standardize=True)),\n",
              "                ('ridgeclassifier',\n",
              "                 RidgeClassifier(alpha=1.0, class_weight=None, copy_X=True,\n",
              "                                 fit_intercept=True, max_iter=None,\n",
              "                                 normalize=False, random_state=123,\n",
              "                                 solver='auto', tol=0.001))],\n",
              "         verbose=False)"
            ]
          },
          "metadata": {
            "tags": []
          },
          "execution_count": 14
        }
      ],
      "metadata": {
        "colab": {
          "base_uri": "https://localhost:8080/"
        },
        "id": "jzPeqn93uR0I",
        "outputId": "10014ad3-7d65-4236-95d7-6f3f51f4ede5"
      }
    },
    {
      "cell_type": "markdown",
      "source": [
        "#### Model Accuracy\n",
        "\n",
        "score() method return the mean accuracy on the given test data and labels.\n",
        "\n",
        "In multi-label classification, this is the subset accuracy which is a harsh metric since you require for each sample that each label set be correctly predicted."
      ],
      "metadata": {
        "id": "SvVzKSj1uR0J"
      }
    },
    {
      "cell_type": "code",
      "execution_count": 15,
      "source": [
        "print(\"Accuracy score {:.2f} %\\n\".format(model.score(x_test,y_test)*100))"
      ],
      "outputs": [
        {
          "output_type": "stream",
          "name": "stdout",
          "text": [
            "Accuracy score 62.67 %\n",
            "\n"
          ]
        }
      ],
      "metadata": {
        "colab": {
          "base_uri": "https://localhost:8080/"
        },
        "id": "i56YpFw4uR0K",
        "outputId": "94684c65-65d9-4e11-8fc6-322ffa2dd843"
      }
    },
    {
      "cell_type": "markdown",
      "source": [
        "#### Confusion Matrix\n",
        "\n",
        "A confusion matrix is utilized to understand the performance of the classification model or algorithm in machine learning for a given test set where results are known."
      ],
      "metadata": {
        "id": "PIaMXQAIuR0K"
      }
    },
    {
      "cell_type": "code",
      "execution_count": 16,
      "source": [
        "plot_confusion_matrix(model,x_test,y_test,cmap=plt.cm.Blues)"
      ],
      "outputs": [
        {
          "output_type": "execute_result",
          "data": {
            "text/plain": [
              "<sklearn.metrics._plot.confusion_matrix.ConfusionMatrixDisplay at 0x7f7ba834e490>"
            ]
          },
          "metadata": {
            "tags": []
          },
          "execution_count": 16
        },
        {
          "output_type": "display_data",
          "data": {
            "image/png": "[encoded data removed]",
            "text/plain": [
              "<Figure size 432x288 with 2 Axes>"
            ]
          },
          "metadata": {
            "tags": [],
            "needs_background": "light"
          }
        }
      ],
      "metadata": {
        "colab": {
          "base_uri": "https://localhost:8080/",
          "height": 298
        },
        "id": "UCMitqtnuR0L",
        "outputId": "5bef9090-091f-4e5d-b7fc-f875c80a0fdf"
      }
    },
    {
      "cell_type": "markdown",
      "source": [
        "#### Classification Report\n",
        "A Classification report is used to measure the quality of predictions from a classification algorithm. How many predictions are True, how many are False.\n",
        "\n",
        "* **where**:\n",
        "    - Precision:- Accuracy of positive predictions.\n",
        "    - Recall:- Fraction of positives that were correctly identified.\n",
        "    - f1-score:-  percent of positive predictions were correct\n",
        "    - support:- Support is the number of actual occurrences of the class in the specified dataset."
      ],
      "metadata": {
        "id": "FC11kSQXuR0L"
      }
    },
    {
      "cell_type": "code",
      "execution_count": 17,
      "source": [
        "print(classification_report(y_test,model.predict(x_test)))"
      ],
      "outputs": [
        {
          "output_type": "stream",
          "name": "stdout",
          "text": [
            "              precision    recall  f1-score   support\n",
            "\n",
            "           0       0.81      0.64      0.71       110\n",
            "           1       0.38      0.60      0.46        40\n",
            "\n",
            "    accuracy                           0.63       150\n",
            "   macro avg       0.59      0.62      0.59       150\n",
            "weighted avg       0.70      0.63      0.65       150\n",
            "\n"
          ]
        }
      ],
      "metadata": {
        "colab": {
          "base_uri": "https://localhost:8080/"
        },
        "id": "YOaSoZjcuR0M",
        "outputId": "94319a91-a94a-4931-9d3f-ac8e45198ab4"
      }
    },
    {
      "cell_type": "markdown",
      "source": [
        "#### Creator: Vikas Mishra , Github: [Profile](https://github.com/Vikaas08)\n"
      ],
      "metadata": {
        "id": "srVKSJ11uR0M"
      }
    }
  ]
}