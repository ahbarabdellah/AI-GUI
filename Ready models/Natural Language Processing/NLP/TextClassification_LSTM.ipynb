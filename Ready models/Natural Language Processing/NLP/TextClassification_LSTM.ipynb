{
  "nbformat": 4,
  "nbformat_minor": 2,
  "metadata": {
    "kernelspec": {
      "display_name": "Python 3",
      "language": "python",
      "name": "python3"
    },
    "language_info": {
      "codemirror_mode": {
        "name": "ipython",
        "version": 3
      },
      "file_extension": ".py",
      "mimetype": "text/x-python",
      "name": "python",
      "nbconvert_exporter": "python",
      "pygments_lexer": "ipython3",
      "version": "3.7.4"
    },
    "colab": {
      "name": "TextClassification_LSTM.ipynb",
      "provenance": [],
      "collapsed_sections": [
        "6uMuiJHo90um"
      ]
    }
  },
  "cells": [
    {
      "cell_type": "markdown",
      "source": [
        "# Text Classification using LSTM"
      ],
      "metadata": {
        "id": "YgleEO8Z-Hxz"
      }
    },
    {
      "cell_type": "markdown",
      "source": [
        "This Code Template is for Text Classification using Long short-term memory in python\r\n",
        "\r\n",
        "<img src=\"https://cdn.blobcity.com/assets/gpu_required.png\"  height=\"25\" style=\"margin-bottom:-15px\" />"
      ],
      "metadata": {}
    },
    {
      "cell_type": "markdown",
      "source": [
        "### Required Packages"
      ],
      "metadata": {
        "id": "mxA1VpkRAKwd"
      }
    },
    {
      "cell_type": "code",
      "execution_count": null,
      "source": [
        "!pip install tensorflow\r\n",
        "!pip install nltk"
      ],
      "outputs": [],
      "metadata": {}
    },
    {
      "cell_type": "code",
      "execution_count": 1,
      "source": [
        "import pandas as pd\r\n",
        "import tensorflow as tf\r\n",
        "from tensorflow.keras.layers import Embedding\r\n",
        "from tensorflow.keras.preprocessing.sequence import pad_sequences\r\n",
        "from tensorflow.keras.models import Sequential\r\n",
        "from tensorflow.keras.preprocessing.text import one_hot\r\n",
        "from tensorflow.keras.layers import LSTM\r\n",
        "from tensorflow.keras.layers import Dense\r\n",
        "import nltk\r\n",
        "import re\r\n",
        "from nltk.corpus import stopwords\r\n",
        "import numpy as np\r\n",
        "from sklearn.model_selection import train_test_split\r\n",
        "from sklearn.metrics import accuracy_score\r\n",
        "from sklearn.metrics import confusion_matrix"
      ],
      "outputs": [],
      "metadata": {
        "id": "80Q_JP5_xAOA"
      }
    },
    {
      "cell_type": "code",
      "execution_count": null,
      "source": [
        "pip install tensorflow==2.1.0"
      ],
      "outputs": [],
      "metadata": {
        "id": "BEGJGwaQ6Wp8"
      }
    },
    {
      "cell_type": "markdown",
      "source": [
        "### Initialization\n",
        "\n",
        "Filepath of CSV file"
      ],
      "metadata": {
        "id": "qPpURomZARqh"
      }
    },
    {
      "cell_type": "code",
      "execution_count": 3,
      "source": [
        "df=pd.read_csv('/content/train.csv')"
      ],
      "outputs": [],
      "metadata": {
        "id": "8c2tOW4sxAOF"
      }
    },
    {
      "cell_type": "markdown",
      "source": [
        "### Data Fetching\n",
        "\n",
        "Pandas is an open-source, BSD-licensed library providing high-performance, easy-to-use data manipulation and data analysis tools.\n",
        "\n",
        "We will use panda's library to read the CSV file using its storage path.And we use the head function to display the initial row or entry."
      ],
      "metadata": {
        "id": "LqmRjrm4AbQq"
      }
    },
    {
      "cell_type": "code",
      "execution_count": 4,
      "source": [
        "df.head()"
      ],
      "outputs": [
        {
          "output_type": "execute_result",
          "data": {
            "text/html": [
              "<div>\n",
              "<style scoped>\n",
              "    .dataframe tbody tr th:only-of-type {\n",
              "        vertical-align: middle;\n",
              "    }\n",
              "\n",
              "    .dataframe tbody tr th {\n",
              "        vertical-align: top;\n",
              "    }\n",
              "\n",
              "    .dataframe thead th {\n",
              "        text-align: right;\n",
              "    }\n",
              "</style>\n",
              "<table border=\"1\" class=\"dataframe\">\n",
              "  <thead>\n",
              "    <tr style=\"text-align: right;\">\n",
              "      <th></th>\n",
              "      <th>id</th>\n",
              "      <th>title</th>\n",
              "      <th>author</th>\n",
              "      <th>text</th>\n",
              "      <th>label</th>\n",
              "    </tr>\n",
              "  </thead>\n",
              "  <tbody>\n",
              "    <tr>\n",
              "      <th>0</th>\n",
              "      <td>0</td>\n",
              "      <td>House Dem Aide: We Didn’t Even See Comey’s Let...</td>\n",
              "      <td>Darrell Lucus</td>\n",
              "      <td>House Dem Aide: We Didn’t Even See Comey’s Let...</td>\n",
              "      <td>1</td>\n",
              "    </tr>\n",
              "    <tr>\n",
              "      <th>1</th>\n",
              "      <td>1</td>\n",
              "      <td>FLYNN: Hillary Clinton, Big Woman on Campus - ...</td>\n",
              "      <td>Daniel J. Flynn</td>\n",
              "      <td>Ever get the feeling your life circles the rou...</td>\n",
              "      <td>0</td>\n",
              "    </tr>\n",
              "    <tr>\n",
              "      <th>2</th>\n",
              "      <td>2</td>\n",
              "      <td>Why the Truth Might Get You Fired</td>\n",
              "      <td>Consortiumnews.com</td>\n",
              "      <td>Why the Truth Might Get You Fired October 29, ...</td>\n",
              "      <td>1</td>\n",
              "    </tr>\n",
              "    <tr>\n",
              "      <th>3</th>\n",
              "      <td>3</td>\n",
              "      <td>15 Civilians Killed In Single US Airstrike Hav...</td>\n",
              "      <td>Jessica Purkiss</td>\n",
              "      <td>Videos 15 Civilians Killed In Single US Airstr...</td>\n",
              "      <td>1</td>\n",
              "    </tr>\n",
              "    <tr>\n",
              "      <th>4</th>\n",
              "      <td>4</td>\n",
              "      <td>Iranian woman jailed for fictional unpublished...</td>\n",
              "      <td>Howard Portnoy</td>\n",
              "      <td>Print \\nAn Iranian woman has been sentenced to...</td>\n",
              "      <td>1</td>\n",
              "    </tr>\n",
              "  </tbody>\n",
              "</table>\n",
              "</div>"
            ],
            "text/plain": [
              "   id  ... label\n",
              "0   0  ...     1\n",
              "1   1  ...     0\n",
              "2   2  ...     1\n",
              "3   3  ...     1\n",
              "4   4  ...     1\n",
              "\n",
              "[5 rows x 5 columns]"
            ]
          },
          "metadata": {},
          "execution_count": 4
        }
      ],
      "metadata": {
        "colab": {
          "base_uri": "https://localhost:8080/",
          "height": 203
        },
        "id": "S6I40AxcxAOH",
        "outputId": "2afd56cc-d0ee-49e0-bef6-30eda83db8c2"
      }
    },
    {
      "cell_type": "code",
      "execution_count": 5,
      "source": [
        "###Drop Nan Values\n",
        "df=df.dropna()\n"
      ],
      "outputs": [],
      "metadata": {
        "id": "IecrIIgkxAOK"
      }
    },
    {
      "cell_type": "markdown",
      "source": [
        "\n",
        "Target variable for prediction."
      ],
      "metadata": {
        "id": "eSgmIe8mKGWV"
      }
    },
    {
      "cell_type": "code",
      "execution_count": 40,
      "source": [
        "target=''"
      ],
      "outputs": [],
      "metadata": {
        "id": "nE4u9T1wxAOL"
      }
    },
    {
      "cell_type": "markdown",
      "source": [
        "Text column containing all the text data"
      ],
      "metadata": {
        "id": "jfw5k4FTKLGl"
      }
    },
    {
      "cell_type": "code",
      "execution_count": 41,
      "source": [
        "text=\"\""
      ],
      "outputs": [],
      "metadata": {
        "id": "DCT0HU9xxAON"
      }
    },
    {
      "cell_type": "code",
      "execution_count": 32,
      "source": [
        "tf.__version__"
      ],
      "outputs": [
        {
          "output_type": "execute_result",
          "data": {
            "application/vnd.google.colaboratory.intrinsic+json": {
              "type": "string"
            },
            "text/plain": [
              "'2.1.0'"
            ]
          },
          "metadata": {},
          "execution_count": 32
        }
      ],
      "metadata": {
        "colab": {
          "base_uri": "https://localhost:8080/",
          "height": 35
        },
        "id": "mJ_4gz3lxAOU",
        "outputId": "3a005776-ad56-47a8-fbf5-e9f71e3f4123"
      }
    },
    {
      "cell_type": "code",
      "execution_count": 33,
      "source": [
        "### Vocabulary size\n",
        "voc_size=5000"
      ],
      "outputs": [],
      "metadata": {
        "id": "67njADDnxAOW"
      }
    },
    {
      "cell_type": "code",
      "execution_count": 15,
      "source": [
        "nltk.download('stopwords')"
      ],
      "outputs": [
        {
          "output_type": "stream",
          "name": "stdout",
          "text": [
            "[nltk_data] Downloading package stopwords to /root/nltk_data...\n",
            "[nltk_data]   Unzipping corpora/stopwords.zip.\n"
          ]
        },
        {
          "output_type": "execute_result",
          "data": {
            "text/plain": [
              "True"
            ]
          },
          "metadata": {},
          "execution_count": 15
        }
      ],
      "metadata": {
        "colab": {
          "base_uri": "https://localhost:8080/"
        },
        "id": "MbQgNAjrxAOb",
        "outputId": "636f515e-4593-4c3c-a941-7565ef41541c"
      }
    },
    {
      "cell_type": "markdown",
      "source": [
        "### Data Preprocessing\n",
        "\n",
        "Since the majority of the machine learning models in the Sklearn library doesn't handle string category data and Null value, we have to explicitly remove or replace null values. The below snippet have functions, which removes the null value if any exists. And convert the string classes data in the datasets by encoding them to integer classes."
      ],
      "metadata": {
        "id": "n3k_wzFfAi7F"
      }
    },
    {
      "cell_type": "code",
      "execution_count": 16,
      "source": [
        "### Dataset Preprocessing\n",
        "from nltk.stem.porter import PorterStemmer\n",
        "ps = PorterStemmer()\n",
        "corpus = []\n",
        "for i in range(0, len(df)):\n",
        "    \n",
        "    review = re.sub('[^a-zA-Z]', ' ', df[text][i])\n",
        "    review = review.lower()\n",
        "    review = review.split()\n",
        "    \n",
        "    review = [ps.stem(word) for word in review if not word in stopwords.words('english')]\n",
        "    review = ' '.join(review)\n",
        "    corpus.append(review)"
      ],
      "outputs": [],
      "metadata": {
        "id": "J-qABO9nxAOc"
      }
    },
    {
      "cell_type": "code",
      "execution_count": 17,
      "source": [
        "corpus[1:10]"
      ],
      "outputs": [
        {
          "output_type": "execute_result",
          "data": {
            "text/plain": [
              "['flynn hillari clinton big woman campu breitbart',\n",
              " 'truth might get fire',\n",
              " 'civilian kill singl us airstrik identifi',\n",
              " 'iranian woman jail fiction unpublish stori woman stone death adulteri',\n",
              " 'jacki mason hollywood would love trump bomb north korea lack tran bathroom exclus video breitbart',\n",
              " 'beno hamon win french socialist parti presidenti nomin new york time',\n",
              " 'back channel plan ukrain russia courtesi trump associ new york time',\n",
              " 'obama organ action partner soro link indivis disrupt trump agenda',\n",
              " 'bbc comedi sketch real housew isi caus outrag']"
            ]
          },
          "metadata": {},
          "execution_count": 17
        }
      ],
      "metadata": {
        "colab": {
          "base_uri": "https://localhost:8080/"
        },
        "id": "MUmSvWcHInGm",
        "outputId": "c402879b-5ff4-42c2-92a8-814822a593e7"
      }
    },
    {
      "cell_type": "code",
      "execution_count": null,
      "source": [
        "onehot_repr=[one_hot(words,voc_size)for words in corpus] \n",
        "onehot_repr"
      ],
      "outputs": [],
      "metadata": {
        "id": "KPYgOdwUxAOf"
      }
    },
    {
      "cell_type": "markdown",
      "source": [
        "### Embedding Representation"
      ],
      "metadata": {
        "id": "6zN0STgsxAOg"
      }
    },
    {
      "cell_type": "code",
      "execution_count": 19,
      "source": [
        "sent_length=20\n",
        "embedded_docs=pad_sequences(onehot_repr,padding='pre',maxlen=sent_length)\n",
        "print(embedded_docs)"
      ],
      "outputs": [
        {
          "output_type": "stream",
          "name": "stdout",
          "text": [
            "[[   0    0    0 ...  507 3345 2160]\n",
            " [   0    0    0 ... 3948 3577 3153]\n",
            " [   0    0    0 ... 2057 1898 3813]\n",
            " ...\n",
            " [   0    0    0 ...   75 3100 3640]\n",
            " [   0    0    0 ... 1567 4686 2908]\n",
            " [   0    0    0 ... 1022 4893 2464]]\n"
          ]
        }
      ],
      "metadata": {
        "colab": {
          "base_uri": "https://localhost:8080/"
        },
        "id": "WWQ9hVrZxAOh",
        "outputId": "9401d8f0-9052-45f5-fd1e-af9b639e430e"
      }
    },
    {
      "cell_type": "code",
      "execution_count": 20,
      "source": [
        "embedded_docs[0]"
      ],
      "outputs": [
        {
          "output_type": "execute_result",
          "data": {
            "text/plain": [
              "array([   0,    0,    0,    0,    0,    0,    0,    0,    0,    0, 4299,\n",
              "       4728, 1414, 1271, 4961,  271, 4089,  507, 3345, 2160], dtype=int32)"
            ]
          },
          "metadata": {},
          "execution_count": 20
        }
      ],
      "metadata": {
        "colab": {
          "base_uri": "https://localhost:8080/"
        },
        "id": "twFoPOslxAOi",
        "outputId": "69a702ff-9e42-414a-c2be-bc5d6e0aa1cb"
      }
    },
    {
      "cell_type": "markdown",
      "source": [
        "### Model\n",
        "#LSTM\n",
        "The LSTM model will learn a function that maps a sequence of past observations as input to an output observation. As such, the sequence of observations must be transformed into multiple examples from which the LSTM can learn.\n",
        "\n",
        "Refer [API](https://towardsdatascience.com/illustrated-guide-to-lstms-and-gru-s-a-step-by-step-explanation-44e9eb85bf21) for the parameters"
      ],
      "metadata": {
        "id": "e3dddO_AAqGy"
      }
    },
    {
      "cell_type": "code",
      "execution_count": 21,
      "source": [
        "## Creating model\n",
        "embedding_vector_features=40\n",
        "model=Sequential()\n",
        "model.add(Embedding(voc_size,embedding_vector_features,input_length=sent_length))\n",
        "model.add(LSTM(100))\n",
        "model.add(Dense(1,activation='sigmoid'))\n",
        "model.compile(loss='binary_crossentropy',optimizer='adam',metrics=['accuracy'])\n",
        "print(model.summary())"
      ],
      "outputs": [
        {
          "output_type": "stream",
          "name": "stdout",
          "text": [
            "Model: \"sequential\"\n",
            "_________________________________________________________________\n",
            "Layer (type)                 Output Shape              Param #   \n",
            "=================================================================\n",
            "embedding (Embedding)        (None, 20, 40)            200000    \n",
            "_________________________________________________________________\n",
            "lstm (LSTM)                  (None, 100)               56400     \n",
            "_________________________________________________________________\n",
            "dense (Dense)                (None, 1)                 101       \n",
            "=================================================================\n",
            "Total params: 256,501\n",
            "Trainable params: 256,501\n",
            "Non-trainable params: 0\n",
            "_________________________________________________________________\n",
            "None\n"
          ]
        }
      ],
      "metadata": {
        "scrolled": true,
        "colab": {
          "base_uri": "https://localhost:8080/"
        },
        "id": "t1bwrWSPxAOi",
        "outputId": "4770a26d-7a66-4c3d-b59b-63824b74cd6b"
      }
    },
    {
      "cell_type": "code",
      "execution_count": 22,
      "source": [
        "len(embedded_docs),y.shape"
      ],
      "outputs": [
        {
          "output_type": "execute_result",
          "data": {
            "text/plain": [
              "(18285, (18285,))"
            ]
          },
          "metadata": {},
          "execution_count": 22
        }
      ],
      "metadata": {
        "colab": {
          "base_uri": "https://localhost:8080/"
        },
        "id": "5SOE0jqkxAOj",
        "outputId": "d0bb5071-f6f6-427d-c765-dc9086f17d58"
      }
    },
    {
      "cell_type": "code",
      "execution_count": 23,
      "source": [
        "X=np.array(embedded_docs)\n",
        "Y=df[target]"
      ],
      "outputs": [],
      "metadata": {
        "id": "ZfRAO1zPxAOk"
      }
    },
    {
      "cell_type": "code",
      "execution_count": 25,
      "source": [
        "\n",
        "X_train, X_test, y_train, y_test = train_test_split(X, Y, test_size=0.33, random_state=42)"
      ],
      "outputs": [],
      "metadata": {
        "id": "cTpdT2iHxAOl"
      }
    },
    {
      "cell_type": "markdown",
      "source": [
        "### Model Training"
      ],
      "metadata": {
        "id": "C6ct3t5BxAOm"
      }
    },
    {
      "cell_type": "code",
      "execution_count": 26,
      "source": [
        "### Finally Training\n",
        "model.fit(X_train,y_train,validation_data=(X_test,y_test),epochs=10,batch_size=64)"
      ],
      "outputs": [
        {
          "output_type": "stream",
          "name": "stdout",
          "text": [
            "Train on 12250 samples, validate on 6035 samples\n",
            "Epoch 1/10\n",
            "12250/12250 [==============================] - 8s 619us/sample - loss: 0.3372 - accuracy: 0.8449 - val_loss: 0.2024 - val_accuracy: 0.9165\n",
            "Epoch 2/10\n",
            "12250/12250 [==============================] - 5s 444us/sample - loss: 0.1415 - accuracy: 0.9439 - val_loss: 0.1897 - val_accuracy: 0.9178\n",
            "Epoch 3/10\n",
            "12250/12250 [==============================] - 5s 443us/sample - loss: 0.0977 - accuracy: 0.9649 - val_loss: 0.2057 - val_accuracy: 0.9195\n",
            "Epoch 4/10\n",
            "12250/12250 [==============================] - 6s 454us/sample - loss: 0.0660 - accuracy: 0.9773 - val_loss: 0.2384 - val_accuracy: 0.9188\n",
            "Epoch 5/10\n",
            "12250/12250 [==============================] - 5s 445us/sample - loss: 0.0406 - accuracy: 0.9878 - val_loss: 0.2494 - val_accuracy: 0.9137\n",
            "Epoch 6/10\n",
            "12250/12250 [==============================] - 5s 437us/sample - loss: 0.0270 - accuracy: 0.9920 - val_loss: 0.3918 - val_accuracy: 0.9145\n",
            "Epoch 7/10\n",
            "12250/12250 [==============================] - 5s 443us/sample - loss: 0.0149 - accuracy: 0.9957 - val_loss: 0.4154 - val_accuracy: 0.9163\n",
            "Epoch 8/10\n",
            "12250/12250 [==============================] - 5s 448us/sample - loss: 0.0121 - accuracy: 0.9961 - val_loss: 0.4521 - val_accuracy: 0.9133\n",
            "Epoch 9/10\n",
            "12250/12250 [==============================] - 5s 439us/sample - loss: 0.0068 - accuracy: 0.9984 - val_loss: 0.5141 - val_accuracy: 0.9125\n",
            "Epoch 10/10\n",
            "12250/12250 [==============================] - 6s 465us/sample - loss: 0.0042 - accuracy: 0.9986 - val_loss: 0.7131 - val_accuracy: 0.9034\n"
          ]
        },
        {
          "output_type": "execute_result",
          "data": {
            "text/plain": [
              "<tensorflow.python.keras.callbacks.History at 0x7f6ba2f4aed0>"
            ]
          },
          "metadata": {},
          "execution_count": 26
        }
      ],
      "metadata": {
        "colab": {
          "base_uri": "https://localhost:8080/"
        },
        "id": "PZpGkBAExAOm",
        "outputId": "2c56efd2-e840-4b79-eb0c-dd639d39d025"
      }
    },
    {
      "cell_type": "markdown",
      "source": [
        "### Performance Metrics And Accuracy"
      ],
      "metadata": {
        "id": "qdZgOGSVxAOo"
      }
    },
    {
      "cell_type": "code",
      "execution_count": 27,
      "source": [
        "y_pred=model.predict_classes(X_test)"
      ],
      "outputs": [],
      "metadata": {
        "id": "seVZUvN0xAOo"
      }
    },
    {
      "cell_type": "code",
      "execution_count": 28,
      "source": [
        "confusion_matrix(y_test,y_pred)"
      ],
      "outputs": [
        {
          "output_type": "execute_result",
          "data": {
            "text/plain": [
              "array([[3225,  194],\n",
              "       [ 389, 2227]])"
            ]
          },
          "metadata": {},
          "execution_count": 28
        }
      ],
      "metadata": {
        "id": "B68-dKE8xAOp",
        "colab": {
          "base_uri": "https://localhost:8080/"
        },
        "outputId": "0b69c3bf-6bf0-4833-a9de-03108b434b49"
      }
    },
    {
      "cell_type": "markdown",
      "source": [
        "## Model Accuracy"
      ],
      "metadata": {
        "id": "G31MywbhBTFp"
      }
    },
    {
      "cell_type": "code",
      "execution_count": 29,
      "source": [
        "\n",
        "accuracy_score(y_test,y_pred)"
      ],
      "outputs": [
        {
          "output_type": "execute_result",
          "data": {
            "text/plain": [
              "0.9033968516984259"
            ]
          },
          "metadata": {},
          "execution_count": 29
        }
      ],
      "metadata": {
        "id": "l7UL6akHxAOq",
        "colab": {
          "base_uri": "https://localhost:8080/"
        },
        "outputId": "659ea259-ed60-40f6-c190-29f036384d5a"
      }
    },
    {
      "cell_type": "markdown",
      "source": [
        "#### Creator: Ageer Harikrishna , Github: [Profile](https://github.com/ageerHarikrishna)"
      ],
      "metadata": {
        "id": "6uMuiJHo90um"
      }
    }
  ]
}