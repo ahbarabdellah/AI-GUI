{
  "nbformat": 4,
  "nbformat_minor": 0,
  "metadata": {
    "kernelspec": {
      "display_name": "Python 3",
      "language": "python",
      "name": "python3"
    },
    "language_info": {
      "codemirror_mode": {
        "name": "ipython",
        "version": 3
      },
      "file_extension": ".py",
      "mimetype": "text/x-python",
      "name": "python",
      "nbconvert_exporter": "python",
      "pygments_lexer": "ipython3",
      "version": "3.7.6"
    },
    "colab": {
      "name": "FaceDetection_Video.ipynb",
      "provenance": [],
      "collapsed_sections": []
    }
  },
  "cells": [
    {
      "cell_type": "markdown",
      "metadata": {
        "id": "A38sH6yz7ek9"
      },
      "source": [
        "#  Motion Detection using OpenCV"
      ]
    },
    {
      "cell_type": "markdown",
      "metadata": {
        "id": "C362RwF27elD"
      },
      "source": [
        "This code template is for motion detection in a video using OpenCV Library.\n",
        "Run this code either on Spyder or PyCharm."
      ]
    },
    {
      "cell_type": "markdown",
      "metadata": {
        "id": "Wr8xK_G87elE"
      },
      "source": [
        "## Required Packages"
      ]
    },
    {
      "cell_type": "code",
      "metadata": {
        "id": "11e4X1o17elF"
      },
      "source": [
        "import cv2 as cv\n",
        "import numpy as np\n",
        "from matplotlib import pyplot as plt"
      ],
      "execution_count": 1,
      "outputs": []
    },
    {
      "cell_type": "markdown",
      "metadata": {
        "id": "hgx5IujC7elK"
      },
      "source": [
        "## Motion Detection\n"
      ]
    },
    {
      "cell_type": "markdown",
      "metadata": {
        "id": "y_bKgEXq7elK"
      },
      "source": [
        ">**Loading sample video**\n",
        "\n",
        "OpenCV-Python is a library of Python bindings designed to solve computer vision problems.\n",
        "\n",
        "We use the the **\"cv2.VideoCapture()\"** method to get a video capture object for the camera.\n",
        "\n",
        ">**Converting into grayscale**\n",
        "\n",
        "Reading the frames using object initialized above and further converting it into the grayscale format.\n",
        "\n",
        ">**Image Blurring**\n",
        "\n",
        "Removing the noise from each frame, basically removing high frequencies from the images using **GaussianBlur** function by CV2. Pass the height and width of the low pass filter kernel as an argument along with the standard deviation in both directions.\n",
        "\n",
        "Also, pass the grayscale image as input to the function. After blurring the image, motion in the consecutive frames will be detected easily.\n",
        "\n",
        ">**Contours**\n",
        "\n",
        "After the region of motion has been converted to the white using thresholding, which can be treated as contours, so use find contours to detect coordinates of the moving objects."
      ]
    },
    {
      "cell_type": "code",
      "metadata": {
        "id": "ZHjPhFMj7elM"
      },
      "source": [
        "def motionDetection():\n",
        "    cap = cv.VideoCapture(\"\")\n",
        "    ret, frame1 = cap.read()\n",
        "    ret, frame2 = cap.read()\n",
        "\n",
        "    while cap.isOpened():\n",
        "        diff = cv.absdiff(frame1, frame2)\n",
        "        diff_gray = cv.cvtColor(diff, cv.COLOR_BGR2GRAY)\n",
        "        blur = cv.GaussianBlur(diff_gray, (5, 5), 0)\n",
        "        _, thresh = cv.threshold(blur, 20, 255, cv.THRESH_BINARY)\n",
        "        dilated = cv.dilate(thresh, None, iterations=3)\n",
        "        contours, _ = cv.findContours(\n",
        "            dilated, cv.RETR_TREE, cv.CHAIN_APPROX_SIMPLE)\n",
        "\n",
        "        for contour in contours:\n",
        "            (x, y, w, h) = cv.boundingRect(contour)\n",
        "            if cv.contourArea(contour) < 900:\n",
        "                continue\n",
        "            cv.rectangle(frame1, (x, y), (x+w, y+h), (0, 255, 0), 2)\n",
        "            cv.putText(frame1, \"Status: {}\".format('Movement'), (10, 20), cv.FONT_HERSHEY_SIMPLEX,1, (255, 0, 0), 3)\n",
        "\n",
        "        cv.imshow(\"Video\", frame1)\n",
        "        frame1 = frame2\n",
        "        ret, frame2 = cap.read()\n",
        "\n",
        "        if cv.waitKey(50) == 27:\n",
        "            break\n",
        "\n",
        "    cap.release()\n",
        "    cv.destroyAllWindows()\n",
        "\n",
        "\n",
        "if __name__ == \"__main__\":\n",
        "    motionDetection()"
      ],
      "execution_count": null,
      "outputs": []
    },
    {
      "cell_type": "markdown",
      "metadata": {
        "id": "MKsmAAI07elm"
      },
      "source": [
        "#### **Creator: Vikas Mishra , Github: [Profile](https://github.com/Vikaas08)**"
      ]
    }
  ]
}