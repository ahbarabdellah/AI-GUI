{
  "nbformat": 4,
  "nbformat_minor": 0,
  "metadata": {
    "kernelspec": {
      "display_name": "Python 3",
      "language": "python",
      "name": "python3"
    },
    "language_info": {
      "codemirror_mode": {
        "name": "ipython",
        "version": 3
      },
      "file_extension": ".py",
      "mimetype": "text/x-python",
      "name": "python",
      "nbconvert_exporter": "python",
      "pygments_lexer": "ipython3",
      "version": "3.7.6"
    },
    "colab": {
      "name": "FaceDetection_Video.ipynb",
      "provenance": [],
      "collapsed_sections": []
    }
  },
  "cells": [
    {
      "cell_type": "markdown",
      "metadata": {
        "id": "A38sH6yz7ek9"
      },
      "source": [
        "# Face Detection using OpenCV"
      ]
    },
    {
      "cell_type": "markdown",
      "metadata": {
        "id": "C362RwF27elD"
      },
      "source": [
        "This code template is for face detection in a video using OpenCV Library.\n",
        "Run this code either on Spyder or PyCharm."
      ]
    },
    {
      "cell_type": "markdown",
      "metadata": {
        "id": "Wr8xK_G87elE"
      },
      "source": [
        "## Required Packages"
      ]
    },
    {
      "cell_type": "code",
      "metadata": {
        "id": "11e4X1o17elF"
      },
      "source": [
        "import cv2\n",
        "import imutils"
      ],
      "execution_count": null,
      "outputs": []
    },
    {
      "cell_type": "markdown",
      "metadata": {
        "id": "Gam93rEj7elI"
      },
      "source": [
        "> **Classifier used in this template :** [haar frontal face](https://github.com/opencv/opencv/blob/master/data/haarcascades/haarcascade_frontalface_default.xml)"
      ]
    },
    {
      "cell_type": "code",
      "metadata": {
        "id": "Sm0ARhbQ7elJ"
      },
      "source": [
        "face_cascade = cv2.CascadeClassifier('')"
      ],
      "execution_count": null,
      "outputs": []
    },
    {
      "cell_type": "markdown",
      "metadata": {
        "id": "hgx5IujC7elK"
      },
      "source": [
        "## Loading sample video"
      ]
    },
    {
      "cell_type": "markdown",
      "metadata": {
        "id": "y_bKgEXq7elK"
      },
      "source": [
        "OpenCV-Python is a library of Python bindings designed to solve computer vision problems.\n",
        "\n",
        "We use the the **\"cv2.VideoCapture()\"** method to get a video capture object for the camera."
      ]
    },
    {
      "cell_type": "code",
      "metadata": {
        "id": "ioCTY7i87elL"
      },
      "source": [
        "cap = cv2.VideoCapture('')"
      ],
      "execution_count": null,
      "outputs": []
    },
    {
      "cell_type": "markdown",
      "metadata": {
        "id": "b-dhgWHI7elL"
      },
      "source": [
        "## Doing detection and displaying output"
      ]
    },
    {
      "cell_type": "code",
      "metadata": {
        "id": "ZHjPhFMj7elM"
      },
      "source": [
        "if (cap.isOpened() == False):\n",
        "    print(\"Error opening video stream or file\")\n",
        "    \n",
        "while True:\n",
        "    try:\n",
        "        ret,frame = cap.read()\n",
        "        frame = imutils.resize(frame, width=500)\n",
        "        gray = cv2.cvtColor(frame, cv2.COLOR_BGR2GRAY)\n",
        "        faces = face_cascade.detectMultiScale(gray, 1.1, 4)\n",
        "        for (x, y, w, h) in faces:\n",
        "            cv2.rectangle(frame, (x, y), (x+w, y+h), (255, 0, 0), 2)\n",
        "        cv2.imshow('frame', frame)\n",
        "        if cv2.waitKey(1) & 0xFF == ord('q'):\n",
        "            break\n",
        "            \n",
        "    except(AttributeError):\n",
        "        cv2.destroyAllWindows()      \n",
        "cap.release()"
      ],
      "execution_count": null,
      "outputs": []
    },
    {
      "cell_type": "markdown",
      "metadata": {
        "id": "MKsmAAI07elm"
      },
      "source": [
        "####**Creator: Aishwarya Guntoju , Github: [Profile](https://github.com/DSAishwaryaG)**"
      ]
    }
  ]
}