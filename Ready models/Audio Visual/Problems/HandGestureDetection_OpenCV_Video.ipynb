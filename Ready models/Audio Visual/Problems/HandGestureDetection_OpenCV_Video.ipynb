{
  "nbformat": 4,
  "nbformat_minor": 0,
  "metadata": {
    "interpreter": {
      "hash": "51a9663a131f1b5758c45b97a2d6917c8ae86b33e231c3733631cbc7265cfc89"
    },
    "kernelspec": {
      "display_name": "Python 3",
      "language": "python",
      "name": "python3"
    },
    "language_info": {
      "codemirror_mode": {
        "name": "ipython",
        "version": 3
      },
      "file_extension": ".py",
      "mimetype": "text/x-python",
      "name": "python",
      "nbconvert_exporter": "python",
      "pygments_lexer": "ipython3",
      "version": "3.8.6"
    },
    "colab": {
      "name": "HandGestureDetection_OpenCV.ipynb",
      "provenance": [],
      "collapsed_sections": []
    }
  },
  "cells": [
    {
      "cell_type": "markdown",
      "metadata": {
        "id": "qw-3zVyjI8c1"
      },
      "source": [
        "#  HandGestureDetection using OpenCV"
      ]
    },
    {
      "cell_type": "markdown",
      "metadata": {
        "id": "jAxm5M3NOwLL"
      },
      "source": [
        "This code template is for Hand Gesture detection in a video using OpenCV Library."
      ]
    },
    {
      "cell_type": "markdown",
      "metadata": {
        "id": "VU9LuzqMPGMw"
      },
      "source": [
        "### Required Packages"
      ]
    },
    {
      "cell_type": "code",
      "metadata": {
        "id": "93EDMECbth4e"
      },
      "source": [
        "!pip install opencv-python\n",
        "!pip install mediapipe"
      ],
      "execution_count": null,
      "outputs": []
    },
    {
      "cell_type": "code",
      "metadata": {
        "id": "zUm16oHMmu7_"
      },
      "source": [
        "import cv2\n",
        "import mediapipe as mp\n",
        "import time"
      ],
      "execution_count": 2,
      "outputs": []
    },
    {
      "cell_type": "markdown",
      "metadata": {
        "id": "249vQftjxO0X"
      },
      "source": [
        "### Hand Detection\n",
        "For detecting hands in the image, we use the detectMultiScale() function.\n",
        "\n",
        "It detects objects of different sizes in the input image. The detected objects are returned as a list of rectangles which can be then plotted around the hands.\n",
        "\n",
        "####Tuning Parameters:\n",
        "**image** - Matrix of the type CV_8U containing an image where objects are detected.\n",
        "\n",
        "**objects** - Vector of rectangles where each rectangle contains the detected object, the rectangles may be partially outside the original image.\n",
        "\n",
        "**scaleFactor** - Parameter specifying how much the image size is reduced at each image scale.\n",
        "\n",
        "**minNeighbors** - Parameter specifying how many neighbors each candidate rectangle should have to retain it."
      ]
    },
    {
      "cell_type": "code",
      "metadata": {
        "id": "8SNn32Hoxl0B"
      },
      "source": [
        "class handDetector():\n",
        "    def __init__(self, mode = False, maxHands = 2, detectionCon = 0.5, trackCon = 0.5):\n",
        "        self.mode = mode\n",
        "        self.maxHands = maxHands\n",
        "        self.detectionCon = detectionCon\n",
        "        self.trackCon = trackCon\n",
        "\n",
        "        self.mpHands = mp.solutions.hands\n",
        "        self.hands = self.mpHands.Hands(self.mode, self.maxHands, self.detectionCon, self.trackCon)\n",
        "        self.mpDraw = mp.solutions.drawing_utils\n",
        "        \n",
        "    def findHands(self,img, draw = True):\n",
        "        imgRGB = cv2.cvtColor(img, cv2.COLOR_BGR2RGB)\n",
        "        self.results = self.hands.process(imgRGB)\n",
        "        # print(results.multi_hand_landmarks)\n",
        "\n",
        "        if self.results.multi_hand_landmarks:\n",
        "            for handLms in self.results.multi_hand_landmarks:\n",
        "                if draw:\n",
        "                    self.mpDraw.draw_landmarks(img, handLms, self.mpHands.HAND_CONNECTIONS)\n",
        "        return img\n",
        "\n",
        "    def findPosition(self, img, handNo = 0, draw = True):\n",
        "\n",
        "        lmlist = []\n",
        "        if self.results.multi_hand_landmarks:\n",
        "            myHand = self.results.multi_hand_landmarks[handNo]\n",
        "            for id, lm in enumerate(myHand.landmark):\n",
        "                h, w, c = img.shape\n",
        "                cx, cy = int(lm.x * w), int(lm.y * h)\n",
        "                lmlist.append([id, cx, cy])\n",
        "                if draw:\n",
        "                    cv2.circle(img, (cx, cy), 3, (255, 0, 255), cv2.FILLED)\n",
        "        return lmlist"
      ],
      "execution_count": 3,
      "outputs": []
    },
    {
      "cell_type": "markdown",
      "metadata": {
        "id": "3ryu1qMTq4Io"
      },
      "source": [
        "To run the handDetector(), save this file with .py extension and allow your webcam to take a video. The co-ordinates will be outputted at the terminal."
      ]
    },
    {
      "cell_type": "code",
      "metadata": {
        "id": "77mTaIxSyI7X"
      },
      "source": [
        "pTime = 0\n",
        "cTime = 0\n",
        "cap = cv2.VideoCapture(0)\n",
        "detector = handDetector()\n",
        "\n",
        "while True:\n",
        "  success, img = cap.read()\n",
        "  img = detector.findHands(img)\n",
        "  lmlist = detector.findPosition(img)\n",
        "  if len(lmlist) != 0:\n",
        "    print(lmlist[4])\n",
        "\n",
        "  cTime = time.time()\n",
        "  fps = 1 / (cTime - pTime)\n",
        "  pTime = cTime\n",
        "\n",
        "  cv2.putText(img, str(int(fps)), (10, 70), cv2.FONT_HERSHEY_PLAIN, 3, (255, 0, 255), 3)\n",
        "\n",
        "  cv2.imshow(\"Image\", img)\n",
        "  cv2.waitKey(1)"
      ],
      "execution_count": null,
      "outputs": []
    },
    {
      "cell_type": "markdown",
      "metadata": {
        "id": "eLjzoA50I8dP"
      },
      "source": [
        "#### Creator: Ayush Gupta , Github: [Profile](https://github.com/guptayush179)"
      ]
    }
  ]
}