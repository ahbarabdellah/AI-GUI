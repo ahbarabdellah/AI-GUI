{
 "cells": [
  {
   "cell_type": "markdown",
   "source": [
    "# Eye Detection using OpenCV"
   ],
   "metadata": {}
  },
  {
   "cell_type": "markdown",
   "source": [
    "This code template is for eye detection in a video using OpenCV Library."
   ],
   "metadata": {}
  },
  {
   "cell_type": "markdown",
   "source": [
    "## Required Packages"
   ],
   "metadata": {}
  },
  {
   "cell_type": "code",
   "execution_count": 1,
   "source": [
    "import cv2"
   ],
   "outputs": [],
   "metadata": {}
  },
  {
   "cell_type": "markdown",
   "source": [
    "## Loading our classifiers\n",
    "> **Classifiers used in this template :** [haar eye tree](https://github.com/opencv/opencv/blob/master/data/haarcascades/haarcascade_eye_tree_eyeglasses.xml) **,** [haar frontal face](https://github.com/opencv/opencv/blob/master/data/haarcascades/haarcascade_frontalface_default.xml)"
   ],
   "metadata": {}
  },
  {
   "cell_type": "code",
   "execution_count": 6,
   "source": [
    "face_cascade = cv2.CascadeClassifier('')\r\n",
    "eye_cascade = cv2.CascadeClassifier('')"
   ],
   "outputs": [],
   "metadata": {}
  },
  {
   "cell_type": "markdown",
   "source": [
    "## Loading sample video"
   ],
   "metadata": {}
  },
  {
   "cell_type": "markdown",
   "source": [
    "OpenCV-Python is a library of Python bindings designed to solve computer vision problems.\n",
    "\n",
    "We use the the **\"cv2.VideoCapture()\"** method to get a video capture object for the camera."
   ],
   "metadata": {}
  },
  {
   "cell_type": "code",
   "execution_count": 3,
   "source": [
    "cap = cv2.VideoCapture('')"
   ],
   "outputs": [],
   "metadata": {}
  },
  {
   "cell_type": "markdown",
   "source": [
    "## Doing detection and displaying output"
   ],
   "metadata": {}
  },
  {
   "cell_type": "code",
   "execution_count": 4,
   "source": [
    "while cap.isOpened():\r\n",
    "    _, img = cap.read()\r\n",
    "    gray = cv2.cvtColor(img, cv2.COLOR_BGR2GRAY)\r\n",
    "    faces = face_cascade.detectMultiScale(gray, 1.1, 4)\r\n",
    "\r\n",
    "    for (x, y , w ,h) in faces:\r\n",
    "        cv2.rectangle(img, (x,y), (x+w, y+h), (255, 0 , 0), 3)\r\n",
    "        roi_gray = gray[y:y+h, x:x+w]\r\n",
    "        roi_color = img[y:y+h, x:x+w]\r\n",
    "        eyes = eye_cascade.detectMultiScale(roi_gray)\r\n",
    "        for (ex, ey ,ew, eh) in eyes:\r\n",
    "            cv2.rectangle(roi_color, (ex,ey), (ex+ew, ey+eh), (0, 255, 0), 5)\r\n",
    "\r\n",
    "    # Display the output\r\n",
    "    cv2.imshow('img', img)\r\n",
    "    if cv2.waitKey(1) & 0xFF == ord('q'):\r\n",
    "        break\r\n",
    "\r\n",
    "cap.release()"
   ],
   "outputs": [],
   "metadata": {}
  },
  {
   "cell_type": "markdown",
   "source": [
    "# Creator: Abhishek Garg, Github: [Profile](https://github.com/abhishek-252)"
   ],
   "metadata": {}
  }
 ],
 "metadata": {
  "kernelspec": {
   "display_name": "Python 3",
   "language": "python",
   "name": "python3"
  },
  "language_info": {
   "codemirror_mode": {
    "name": "ipython",
    "version": 3
   },
   "file_extension": ".py",
   "mimetype": "text/x-python",
   "name": "python",
   "nbconvert_exporter": "python",
   "pygments_lexer": "ipython3",
   "version": "3.8.3"
  }
 },
 "nbformat": 4,
 "nbformat_minor": 4
}