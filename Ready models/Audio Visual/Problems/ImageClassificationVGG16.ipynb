{
 "cells": [
  {
   "cell_type": "markdown",
   "source": [
    "# Image Classification using VGG16"
   ],
   "metadata": {}
  },
  {
   "cell_type": "markdown",
   "source": [
    "This Code Template is for Image Classification task using Transfer Learning Technique. For this task in this template VGG-16 pretrained Deep Neural Network Architecture is Utilized from Tensorflow Library.\r\n",
    "\r\n",
    "<img src=\"https://cdn.blobcity.com/assets/gpu_required.png\"  height=\"25\" style=\"margin-bottom:-15px\" />"
   ],
   "metadata": {}
  },
  {
   "cell_type": "markdown",
   "source": [
    "## Coming Soon"
   ],
   "metadata": {}
  }
 ],
 "metadata": {
  "orig_nbformat": 4,
  "language_info": {
   "name": "python"
  }
 },
 "nbformat": 4,
 "nbformat_minor": 2
}