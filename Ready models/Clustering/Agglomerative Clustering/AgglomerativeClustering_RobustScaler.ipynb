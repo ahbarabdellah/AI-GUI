{
 "cells": [
  {
   "cell_type": "markdown",
   "source": [
    "# Agglomerative Clustering with RobustScaler"
   ],
   "metadata": {}
  },
  {
   "cell_type": "markdown",
   "source": [
    "This Code template is for the Cluster analysis using a simple Agglomerative Clustering algorithm with the RobustScaler feature rescaling technique. Which is type of hierarchical clustering, and this code template includes 2D and 3D cluster visualization of the Clusters."
   ],
   "metadata": {}
  },
  {
   "cell_type": "markdown",
   "source": [
    "### Required Packages"
   ],
   "metadata": {}
  },
  {
   "cell_type": "code",
   "execution_count": null,
   "source": [
    "!pip install plotly"
   ],
   "outputs": [],
   "metadata": {}
  },
  {
   "cell_type": "code",
   "execution_count": 2,
   "source": [
    "import operator\r\n",
    "import warnings\r\n",
    "import itertools\r\n",
    "import numpy as np\r\n",
    "import pandas as pd\r\n",
    "import plotly.express as px\r\n",
    "import matplotlib.pyplot as plt\r\n",
    "from mpl_toolkits import mplot3d\r\n",
    "import plotly.graph_objects as go\r\n",
    "import scipy.cluster.hierarchy as sch\r\n",
    "from sklearn.cluster import AgglomerativeClustering\r\n",
    "from sklearn.preprocessing import RobustScaler \r\n",
    "\r\n",
    "warnings.filterwarnings(\"ignore\")"
   ],
   "outputs": [],
   "metadata": {}
  },
  {
   "cell_type": "markdown",
   "source": [
    "### Initialization\n",
    "\n",
    "Filepath of CSV file"
   ],
   "metadata": {}
  },
  {
   "cell_type": "code",
   "execution_count": 3,
   "source": [
    "file_path = \"\""
   ],
   "outputs": [],
   "metadata": {}
  },
  {
   "cell_type": "markdown",
   "source": [
    "List of features which are required for model training"
   ],
   "metadata": {}
  },
  {
   "cell_type": "code",
   "execution_count": 4,
   "source": [
    "features=[]"
   ],
   "outputs": [],
   "metadata": {}
  },
  {
   "cell_type": "markdown",
   "source": [
    "### Data Fetching\n",
    "\n",
    "Pandas is an open-source, BSD-licensed library providing high-performance, easy-to-use data manipulation and data analysis tools.\n",
    "\n",
    "We will use panda's library to read the CSV file using its storage path.And we use the head function to display the initial row or entry."
   ],
   "metadata": {}
  },
  {
   "cell_type": "code",
   "execution_count": 5,
   "source": [
    "df=pd.read_csv(file_path)\n",
    "df.head()"
   ],
   "outputs": [
    {
     "output_type": "execute_result",
     "data": {
      "text/html": [
       "<div>\n",
       "<style scoped>\n",
       "    .dataframe tbody tr th:only-of-type {\n",
       "        vertical-align: middle;\n",
       "    }\n",
       "\n",
       "    .dataframe tbody tr th {\n",
       "        vertical-align: top;\n",
       "    }\n",
       "\n",
       "    .dataframe thead th {\n",
       "        text-align: right;\n",
       "    }\n",
       "</style>\n",
       "<table border=\"1\" class=\"dataframe\">\n",
       "  <thead>\n",
       "    <tr style=\"text-align: right;\">\n",
       "      <th></th>\n",
       "      <th>CustomerID</th>\n",
       "      <th>Gender</th>\n",
       "      <th>Age</th>\n",
       "      <th>Annual Income (k$)</th>\n",
       "      <th>Spending Score (1-100)</th>\n",
       "    </tr>\n",
       "  </thead>\n",
       "  <tbody>\n",
       "    <tr>\n",
       "      <th>0</th>\n",
       "      <td>1</td>\n",
       "      <td>Male</td>\n",
       "      <td>19</td>\n",
       "      <td>15</td>\n",
       "      <td>39</td>\n",
       "    </tr>\n",
       "    <tr>\n",
       "      <th>1</th>\n",
       "      <td>2</td>\n",
       "      <td>Male</td>\n",
       "      <td>21</td>\n",
       "      <td>15</td>\n",
       "      <td>81</td>\n",
       "    </tr>\n",
       "    <tr>\n",
       "      <th>2</th>\n",
       "      <td>3</td>\n",
       "      <td>Female</td>\n",
       "      <td>20</td>\n",
       "      <td>16</td>\n",
       "      <td>6</td>\n",
       "    </tr>\n",
       "    <tr>\n",
       "      <th>3</th>\n",
       "      <td>4</td>\n",
       "      <td>Female</td>\n",
       "      <td>23</td>\n",
       "      <td>16</td>\n",
       "      <td>77</td>\n",
       "    </tr>\n",
       "    <tr>\n",
       "      <th>4</th>\n",
       "      <td>5</td>\n",
       "      <td>Female</td>\n",
       "      <td>31</td>\n",
       "      <td>17</td>\n",
       "      <td>40</td>\n",
       "    </tr>\n",
       "  </tbody>\n",
       "</table>\n",
       "</div>"
      ],
      "text/plain": [
       "   CustomerID  Gender  Age  Annual Income (k$)  Spending Score (1-100)\n",
       "0           1    Male   19                  15                      39\n",
       "1           2    Male   21                  15                      81\n",
       "2           3  Female   20                  16                       6\n",
       "3           4  Female   23                  16                      77\n",
       "4           5  Female   31                  17                      40"
      ]
     },
     "metadata": {},
     "execution_count": 5
    }
   ],
   "metadata": {}
  },
  {
   "cell_type": "markdown",
   "source": [
    "### Feature Selections\n",
    "\n",
    "It is the process of reducing the number of input variables when developing a predictive model. Used to reduce the number of input variables to both reduce the computational cost of modelling and, in some cases, to improve the performance of the model.\n",
    "\n",
    "We will assign all the required input features to X."
   ],
   "metadata": {}
  },
  {
   "cell_type": "code",
   "execution_count": 6,
   "source": [
    "X = df[features]"
   ],
   "outputs": [],
   "metadata": {}
  },
  {
   "cell_type": "markdown",
   "source": [
    "### Data Preprocessing\n",
    "\n",
    "Since the majority of the machine learning models in the Sklearn library doesn't handle string category data and Null value, we have to explicitly remove or replace null values. The below snippet have functions, which removes the null value if any exists. And convert the string classes data in the datasets by encoding them to integer classes.\n"
   ],
   "metadata": {}
  },
  {
   "cell_type": "code",
   "execution_count": 7,
   "source": [
    "def NullClearner(df):\n",
    "    if(isinstance(df, pd.Series) and (df.dtype in [\"float64\",\"int64\"])):\n",
    "        df.fillna(df.mean(),inplace=True)\n",
    "        return df\n",
    "    elif(isinstance(df, pd.Series)):\n",
    "        df.fillna(df.mode()[0],inplace=True)\n",
    "        return df\n",
    "    else:return df\n",
    "def EncodeX(df):\n",
    "    return pd.get_dummies(df)"
   ],
   "outputs": [],
   "metadata": {}
  },
  {
   "cell_type": "markdown",
   "source": [
    "Calling preprocessing functions on the feature and target set."
   ],
   "metadata": {}
  },
  {
   "cell_type": "code",
   "execution_count": 8,
   "source": [
    "x=X.columns.to_list()\n",
    "for i in x:\n",
    "    X[i]=NullClearner(X[i])\n",
    "X=EncodeX(X)\n",
    "X.head()"
   ],
   "outputs": [
    {
     "output_type": "execute_result",
     "data": {
      "text/html": [
       "<div>\n",
       "<style scoped>\n",
       "    .dataframe tbody tr th:only-of-type {\n",
       "        vertical-align: middle;\n",
       "    }\n",
       "\n",
       "    .dataframe tbody tr th {\n",
       "        vertical-align: top;\n",
       "    }\n",
       "\n",
       "    .dataframe thead th {\n",
       "        text-align: right;\n",
       "    }\n",
       "</style>\n",
       "<table border=\"1\" class=\"dataframe\">\n",
       "  <thead>\n",
       "    <tr style=\"text-align: right;\">\n",
       "      <th></th>\n",
       "      <th>Annual Income (k$)</th>\n",
       "      <th>Spending Score (1-100)</th>\n",
       "      <th>Age</th>\n",
       "    </tr>\n",
       "  </thead>\n",
       "  <tbody>\n",
       "    <tr>\n",
       "      <th>0</th>\n",
       "      <td>15</td>\n",
       "      <td>39</td>\n",
       "      <td>19</td>\n",
       "    </tr>\n",
       "    <tr>\n",
       "      <th>1</th>\n",
       "      <td>15</td>\n",
       "      <td>81</td>\n",
       "      <td>21</td>\n",
       "    </tr>\n",
       "    <tr>\n",
       "      <th>2</th>\n",
       "      <td>16</td>\n",
       "      <td>6</td>\n",
       "      <td>20</td>\n",
       "    </tr>\n",
       "    <tr>\n",
       "      <th>3</th>\n",
       "      <td>16</td>\n",
       "      <td>77</td>\n",
       "      <td>23</td>\n",
       "    </tr>\n",
       "    <tr>\n",
       "      <th>4</th>\n",
       "      <td>17</td>\n",
       "      <td>40</td>\n",
       "      <td>31</td>\n",
       "    </tr>\n",
       "  </tbody>\n",
       "</table>\n",
       "</div>"
      ],
      "text/plain": [
       "   Annual Income (k$)  Spending Score (1-100)  Age\n",
       "0                  15                      39   19\n",
       "1                  15                      81   21\n",
       "2                  16                       6   20\n",
       "3                  16                      77   23\n",
       "4                  17                      40   31"
      ]
     },
     "metadata": {},
     "execution_count": 8
    }
   ],
   "metadata": {}
  },
  {
   "cell_type": "markdown",
   "source": [
    "### Rescaling technique\n",
    "#### Robust Scaler\n",
    "\n",
    "Standardization of a dataset is a common requirement for many machine learning estimators. Typically this is done by removing the mean and scaling to unit variance. However, outliers can often influence the sample mean / variance in a negative way. In such cases, the median and the interquartile range often give better results.\n",
    "\n",
    "The `Robust Scaler` removes the median and scales the data according to the quantile range (defaults to IQR: Interquartile Range). The IQR is the range between the 1st quartile (25th quantile) and the 3rd quartile (75th quantile)."
   ],
   "metadata": {}
  },
  {
   "cell_type": "code",
   "execution_count": 9,
   "source": [
    "X_Robust=RobustScaler().fit_transform(X)\n",
    "X_Robust=pd.DataFrame(data = X_Robust,columns = X.columns)\n",
    "X_Robust.head()"
   ],
   "outputs": [
    {
     "output_type": "execute_result",
     "data": {
      "text/html": [
       "<div>\n",
       "<style scoped>\n",
       "    .dataframe tbody tr th:only-of-type {\n",
       "        vertical-align: middle;\n",
       "    }\n",
       "\n",
       "    .dataframe tbody tr th {\n",
       "        vertical-align: top;\n",
       "    }\n",
       "\n",
       "    .dataframe thead th {\n",
       "        text-align: right;\n",
       "    }\n",
       "</style>\n",
       "<table border=\"1\" class=\"dataframe\">\n",
       "  <thead>\n",
       "    <tr style=\"text-align: right;\">\n",
       "      <th></th>\n",
       "      <th>Annual Income (k$)</th>\n",
       "      <th>Spending Score (1-100)</th>\n",
       "      <th>Age</th>\n",
       "    </tr>\n",
       "  </thead>\n",
       "  <tbody>\n",
       "    <tr>\n",
       "      <th>0</th>\n",
       "      <td>-1.273973</td>\n",
       "      <td>-0.287582</td>\n",
       "      <td>-0.839506</td>\n",
       "    </tr>\n",
       "    <tr>\n",
       "      <th>1</th>\n",
       "      <td>-1.273973</td>\n",
       "      <td>0.810458</td>\n",
       "      <td>-0.740741</td>\n",
       "    </tr>\n",
       "    <tr>\n",
       "      <th>2</th>\n",
       "      <td>-1.246575</td>\n",
       "      <td>-1.150327</td>\n",
       "      <td>-0.790123</td>\n",
       "    </tr>\n",
       "    <tr>\n",
       "      <th>3</th>\n",
       "      <td>-1.246575</td>\n",
       "      <td>0.705882</td>\n",
       "      <td>-0.641975</td>\n",
       "    </tr>\n",
       "    <tr>\n",
       "      <th>4</th>\n",
       "      <td>-1.219178</td>\n",
       "      <td>-0.261438</td>\n",
       "      <td>-0.246914</td>\n",
       "    </tr>\n",
       "  </tbody>\n",
       "</table>\n",
       "</div>"
      ],
      "text/plain": [
       "   Annual Income (k$)  Spending Score (1-100)       Age\n",
       "0           -1.273973               -0.287582 -0.839506\n",
       "1           -1.273973                0.810458 -0.740741\n",
       "2           -1.246575               -1.150327 -0.790123\n",
       "3           -1.246575                0.705882 -0.641975\n",
       "4           -1.219178               -0.261438 -0.246914"
      ]
     },
     "metadata": {},
     "execution_count": 9
    }
   ],
   "metadata": {}
  },
  {
   "cell_type": "markdown",
   "source": [
    "### Dendrogram\n",
    "\n",
    "The dendrogram represents how each cluster gets formed by drawing a  link between a non-singleton Cluster and its children. The length of the two legs of the links represents the distance between the child clusters. The key to interpreting a dendrogram is to focus on the height at which any two objects are joined together. This helps in identifying the number of clusters to be selected.\n"
   ],
   "metadata": {}
  },
  {
   "cell_type": "code",
   "execution_count": 10,
   "source": [
    "dendrogram = sch.dendrogram(sch.linkage(X_Robust, method='ward'))"
   ],
   "outputs": [
    {
     "output_type": "display_data",
     "data": {
      "image/png": "[encoded data removed]",
      "text/plain": [
       "<Figure size 432x288 with 1 Axes>"
      ]
     },
     "metadata": {
      "needs_background": "light"
     }
    }
   ],
   "metadata": {}
  },
  {
   "cell_type": "markdown",
   "source": [
    "### Model\n",
    "\n",
    "Hierarchical clustering is a general family of clustering algorithms that build nested clusters by merging or splitting them successively. This hierarchy of clusters is represented as a tree (or dendrogram). The root of the tree is the unique cluster that gathers all the samples, the leaves being the clusters with only one sample. The AgglomerativeClustering object performs a hierarchical clustering using a bottom up approach: each observation starts in its own cluster, and clusters are successively merged together. The linkage criteria determines the metric used for the merge strategy\n",
    "\n",
    "> **n_clusters**:The number of clusters to find.\n",
    "\n",
    "> **affinity**: Metric used to compute the linkage. Can be “euclidean”, “l1”, “l2”, “manhattan”, “cosine”, or “precomputed”. \n",
    "\n",
    "> **connectivity**: Connectivity matrix. Defines for each sample the neighboring samples following a given structure of the data. This can be a connectivity matrix itself or a callable that transforms the data into a connectivity matrix, such as derived from kneighbors_graph.\n",
    "\n",
    "> **compute_full_tree**: Stop early the construction of the tree at n_clusters. \n",
    "\n",
    "> **linkage**: Which linkage criterion to use. \n",
    "\n",
    "> **distance_threshold**: The linkage distance threshold above which, clusters will not be merged. If not None, n_clusters must be None and compute_full_tree must be True.\n",
    "\n",
    "> **compute_distances**: Computes distances between clusters even if distance_threshold is not used. This can be used to make dendrogram visualization, but introduces a computational and memory overhead.\n",
    "\n",
    "[For more parameter details](https://scikit-learn.org/stable/modules/generated/sklearn.cluster.AgglomerativeClustering.html)"
   ],
   "metadata": {}
  },
  {
   "cell_type": "code",
   "execution_count": 11,
   "source": [
    "model = AgglomerativeClustering(n_clusters=5, affinity='euclidean', linkage='ward')"
   ],
   "outputs": [],
   "metadata": {}
  },
  {
   "cell_type": "markdown",
   "source": [
    "### Cluster Analysis\n",
    "\n",
    "First, we add the cluster labels from the trained model into the copy of the data frame for cluster analysis/visualization."
   ],
   "metadata": {}
  },
  {
   "cell_type": "code",
   "execution_count": 12,
   "source": [
    "ClusterDF = X_Robust.copy()\n",
    "ClusterDF['ClusterID'] = model.fit_predict(X_Robust)\n",
    "ClusterDF.head()"
   ],
   "outputs": [
    {
     "output_type": "execute_result",
     "data": {
      "text/html": [
       "<div>\n",
       "<style scoped>\n",
       "    .dataframe tbody tr th:only-of-type {\n",
       "        vertical-align: middle;\n",
       "    }\n",
       "\n",
       "    .dataframe tbody tr th {\n",
       "        vertical-align: top;\n",
       "    }\n",
       "\n",
       "    .dataframe thead th {\n",
       "        text-align: right;\n",
       "    }\n",
       "</style>\n",
       "<table border=\"1\" class=\"dataframe\">\n",
       "  <thead>\n",
       "    <tr style=\"text-align: right;\">\n",
       "      <th></th>\n",
       "      <th>Annual Income (k$)</th>\n",
       "      <th>Spending Score (1-100)</th>\n",
       "      <th>Age</th>\n",
       "      <th>ClusterID</th>\n",
       "    </tr>\n",
       "  </thead>\n",
       "  <tbody>\n",
       "    <tr>\n",
       "      <th>0</th>\n",
       "      <td>-1.273973</td>\n",
       "      <td>-0.287582</td>\n",
       "      <td>-0.839506</td>\n",
       "      <td>4</td>\n",
       "    </tr>\n",
       "    <tr>\n",
       "      <th>1</th>\n",
       "      <td>-1.273973</td>\n",
       "      <td>0.810458</td>\n",
       "      <td>-0.740741</td>\n",
       "      <td>0</td>\n",
       "    </tr>\n",
       "    <tr>\n",
       "      <th>2</th>\n",
       "      <td>-1.246575</td>\n",
       "      <td>-1.150327</td>\n",
       "      <td>-0.790123</td>\n",
       "      <td>4</td>\n",
       "    </tr>\n",
       "    <tr>\n",
       "      <th>3</th>\n",
       "      <td>-1.246575</td>\n",
       "      <td>0.705882</td>\n",
       "      <td>-0.641975</td>\n",
       "      <td>0</td>\n",
       "    </tr>\n",
       "    <tr>\n",
       "      <th>4</th>\n",
       "      <td>-1.219178</td>\n",
       "      <td>-0.261438</td>\n",
       "      <td>-0.246914</td>\n",
       "      <td>4</td>\n",
       "    </tr>\n",
       "  </tbody>\n",
       "</table>\n",
       "</div>"
      ],
      "text/plain": [
       "   Annual Income (k$)  Spending Score (1-100)       Age  ClusterID\n",
       "0           -1.273973               -0.287582 -0.839506          4\n",
       "1           -1.273973                0.810458 -0.740741          0\n",
       "2           -1.246575               -1.150327 -0.790123          4\n",
       "3           -1.246575                0.705882 -0.641975          0\n",
       "4           -1.219178               -0.261438 -0.246914          4"
      ]
     },
     "metadata": {},
     "execution_count": 12
    }
   ],
   "metadata": {}
  },
  {
   "cell_type": "markdown",
   "source": [
    "#### Cluster Records\n",
    "The below bar graphs show the number of data points in each available cluster."
   ],
   "metadata": {}
  },
  {
   "cell_type": "code",
   "execution_count": 13,
   "source": [
    "ClusterDF['ClusterID'].value_counts().plot(kind='bar')"
   ],
   "outputs": [
    {
     "output_type": "execute_result",
     "data": {
      "text/plain": [
       "<AxesSubplot:>"
      ]
     },
     "metadata": {},
     "execution_count": 13
    },
    {
     "output_type": "display_data",
     "data": {
      "image/png": "[encoded data removed]",
      "text/plain": [
       "<Figure size 432x288 with 1 Axes>"
      ]
     },
     "metadata": {
      "needs_background": "light"
     }
    }
   ],
   "metadata": {}
  },
  {
   "cell_type": "markdown",
   "source": [
    "#### Cluster Plots\n",
    "Below written functions get utilized to plot 2-Dimensional and 3-Dimensional cluster plots on the available set of features in the dataset. Plots include different available clusters along with cluster centroid."
   ],
   "metadata": {}
  },
  {
   "cell_type": "code",
   "execution_count": 14,
   "source": [
    "def Plot2DCluster(X_Cols,df):\n",
    "    for i in list(itertools.combinations(X_Cols, 2)):\n",
    "        plt.rcParams[\"figure.figsize\"] = (8,6)\n",
    "        xi,yi=df.columns.get_loc(i[0]),df.columns.get_loc(i[1])\n",
    "        for j in df['ClusterID'].unique():\n",
    "            DFC=df[df.ClusterID==j]\n",
    "            plt.scatter(DFC[i[0]],DFC[i[1]],cmap=plt.cm.Accent,label=j)\n",
    "        plt.xlabel(i[0])\n",
    "        plt.ylabel(i[1])\n",
    "        plt.legend()\n",
    "        plt.show()\n",
    "\n",
    "def Plot3DCluster(X_Cols,df):\n",
    "    for i in list(itertools.combinations(X_Cols, 3)):\n",
    "        xi,yi,zi=df.columns.get_loc(i[0]),df.columns.get_loc(i[1]),df.columns.get_loc(i[2])\n",
    "        fig,ax = plt.figure(figsize = (16, 10)),plt.axes(projection =\"3d\")\n",
    "        ax.grid(b = True, color ='grey',linestyle ='-.',linewidth = 0.3,alpha = 0.2)\n",
    "        for j in df['ClusterID'].unique():\n",
    "            DFC=df[df.ClusterID==j]\n",
    "            ax.scatter3D(DFC[i[0]],DFC[i[1]],DFC[i[2]],alpha = 0.8,cmap=plt.cm.Accent,label=j)\n",
    "        ax.set_xlabel(i[0])\n",
    "        ax.set_ylabel(i[1])\n",
    "        ax.set_zlabel(i[2])\n",
    "        plt.legend()\n",
    "        plt.show()\n",
    "    \n",
    "def Plotly3D(X_Cols,df):\n",
    "    for i in list(itertools.combinations(X_Cols,3)):\n",
    "        xi,yi,zi=df.columns.get_loc(i[0]),df.columns.get_loc(i[1]),df.columns.get_loc(i[2])\n",
    "        fig2=px.scatter_3d(df, x=i[0], y=i[1],z=i[2],color=df['ClusterID'])\n",
    "        fig2.show()"
   ],
   "outputs": [],
   "metadata": {}
  },
  {
   "cell_type": "code",
   "execution_count": 15,
   "source": [
    "Plot2DCluster(X.columns,ClusterDF)"
   ],
   "outputs": [
    {
     "output_type": "display_data",
     "data": {
      "image/png": "[encoded data removed]",
      "text/plain": [
       "<Figure size 576x432 with 1 Axes>"
      ]
     },
     "metadata": {
      "needs_background": "light"
     }
    },
    {
     "output_type": "display_data",
     "data": {
      "image/png": "[encoded data removed]",
      "text/plain": [
       "<Figure size 576x432 with 1 Axes>"
      ]
     },
     "metadata": {
      "needs_background": "light"
     }
    },
    {
     "output_type": "display_data",
     "data": {
      "image/png": "[encoded data removed]",
      "text/plain": [
       "<Figure size 576x432 with 1 Axes>"
      ]
     },
     "metadata": {
      "needs_background": "light"
     }
    }
   ],
   "metadata": {}
  },
  {
   "cell_type": "code",
   "execution_count": 16,
   "source": [
    "Plot3DCluster(X.columns,ClusterDF)"
   ],
   "outputs": [
    {
     "output_type": "display_data",
     "data": {
      "image/png": "[encoded data removed]",
      "text/plain": [
       "<Figure size 1152x720 with 1 Axes>"
      ]
     },
     "metadata": {
      "needs_background": "light"
     }
    }
   ],
   "metadata": {}
  },
  {
   "cell_type": "code",
   "execution_count": 18,
   "source": [
    "Plotly3D(X.columns,ClusterDF)"
   ],
   "outputs": [
    {
     "output_type": "display_data",
     "data": {
      "application/vnd.plotly.v1+json": {
       "config": {
        "plotlyServerURL": "https://plot.ly"
       },
       "data": [
        {
         "hovertemplate": "Annual Income (k$)=%{x}<br>Spending Score (1-100)=%{y}<br>Age=%{z}<br>ClusterID=%{marker.color}<extra></extra>",
         "legendgroup": "",
         "marker": {
          "color": [
           4,
           0,
           4,
           0,
           4,
           0,
           4,
           0,
           4,
           0,
           4,
           0,
           4,
           0,
           4,
           0,
           4,
           0,
           4,
           0,
           4,
           0,
           4,
           0,
           4,
           0,
           4,
           0,
           4,
           0,
           4,
           0,
           4,
           0,
           4,
           0,
           4,
           0,
           4,
           0,
           1,
           0,
           1,
           0,
           1,
           0,
           1,
           0,
           0,
           0,
           1,
           0,
           0,
           1,
           1,
           1,
           1,
           1,
           0,
           1,
           1,
           0,
           1,
           1,
           1,
           0,
           1,
           1,
           0,
           0,
           1,
           1,
           1,
           1,
           1,
           0,
           1,
           1,
           0,
           1,
           1,
           1,
           1,
           1,
           0,
           1,
           1,
           0,
           1,
           1,
           1,
           0,
           1,
           1,
           1,
           0,
           1,
           0,
           1,
           0,
           0,
           1,
           1,
           0,
           1,
           0,
           1,
           1,
           1,
           1,
           1,
           0,
           1,
           0,
           0,
           0,
           1,
           1,
           1,
           1,
           0,
           1,
           1,
           2,
           0,
           2,
           1,
           2,
           3,
           2,
           3,
           2,
           0,
           2,
           0,
           2,
           3,
           2,
           0,
           2,
           3,
           2,
           0,
           2,
           0,
           2,
           1,
           2,
           3,
           2,
           3,
           2,
           3,
           2,
           3,
           2,
           3,
           2,
           3,
           2,
           1,
           2,
           0,
           2,
           3,
           2,
           3,
           2,
           3,
           2,
           3,
           2,
           3,
           2,
           3,
           2,
           3,
           2,
           3,
           2,
           3,
           2,
           3,
           2,
           3,
           2,
           3,
           2,
           3,
           2,
           3,
           2,
           3,
           2,
           3,
           2,
           3,
           2,
           3,
           2
          ],
          "coloraxis": "coloraxis",
          "symbol": "circle"
         },
         "mode": "markers",
         "name": "",
         "scene": "scene",
         "showlegend": false,
         "type": "scatter3d",
         "x": [
          -1.273972602739726,
          -1.273972602739726,
          -1.2465753424657535,
          -1.2465753424657535,
          -1.2191780821917808,
          -1.2191780821917808,
          -1.1917808219178083,
          -1.1917808219178083,
          -1.1643835616438356,
          -1.1643835616438356,
          -1.1643835616438356,
          -1.1643835616438356,
          -1.1369863013698631,
          -1.1369863013698631,
          -1.1369863013698631,
          -1.1369863013698631,
          -1.1095890410958904,
          -1.1095890410958904,
          -1.0547945205479452,
          -1.0547945205479452,
          -1.0273972602739727,
          -1.0273972602739727,
          -1,
          -1,
          -0.9178082191780822,
          -0.9178082191780822,
          -0.9178082191780822,
          -0.9178082191780822,
          -0.8904109589041096,
          -0.8904109589041096,
          -0.863013698630137,
          -0.863013698630137,
          -0.7808219178082192,
          -0.7808219178082192,
          -0.7808219178082192,
          -0.7808219178082192,
          -0.7534246575342466,
          -0.7534246575342466,
          -0.6712328767123288,
          -0.6712328767123288,
          -0.6438356164383562,
          -0.6438356164383562,
          -0.6164383561643836,
          -0.6164383561643836,
          -0.6164383561643836,
          -0.6164383561643836,
          -0.589041095890411,
          -0.589041095890411,
          -0.589041095890411,
          -0.589041095890411,
          -0.5342465753424658,
          -0.5342465753424658,
          -0.5068493150684932,
          -0.5068493150684932,
          -0.5068493150684932,
          -0.5068493150684932,
          -0.4794520547945205,
          -0.4794520547945205,
          -0.4246575342465753,
          -0.4246575342465753,
          -0.4246575342465753,
          -0.4246575342465753,
          -0.3972602739726027,
          -0.3972602739726027,
          -0.3698630136986301,
          -0.3698630136986301,
          -0.3698630136986301,
          -0.3698630136986301,
          -0.3698630136986301,
          -0.3698630136986301,
          -0.3424657534246575,
          -0.3424657534246575,
          -0.3150684931506849,
          -0.3150684931506849,
          -0.2054794520547945,
          -0.2054794520547945,
          -0.2054794520547945,
          -0.2054794520547945,
          -0.2054794520547945,
          -0.2054794520547945,
          -0.2054794520547945,
          -0.2054794520547945,
          -0.2054794520547945,
          -0.2054794520547945,
          -0.2054794520547945,
          -0.2054794520547945,
          -0.1232876712328767,
          -0.1232876712328767,
          -0.0958904109589041,
          -0.0958904109589041,
          -0.0684931506849315,
          -0.0684931506849315,
          -0.0410958904109589,
          -0.0410958904109589,
          -0.0410958904109589,
          -0.0410958904109589,
          -0.0410958904109589,
          -0.0410958904109589,
          -0.0136986301369863,
          -0.0136986301369863,
          0.0136986301369863,
          0.0136986301369863,
          0.0136986301369863,
          0.0136986301369863,
          0.0136986301369863,
          0.0136986301369863,
          0.0410958904109589,
          0.0410958904109589,
          0.0410958904109589,
          0.0410958904109589,
          0.0410958904109589,
          0.0410958904109589,
          0.0684931506849315,
          0.0684931506849315,
          0.0958904109589041,
          0.0958904109589041,
          0.0958904109589041,
          0.0958904109589041,
          0.1506849315068493,
          0.1506849315068493,
          0.1506849315068493,
          0.1506849315068493,
          0.2054794520547945,
          0.2054794520547945,
          0.2328767123287671,
          0.2328767123287671,
          0.2602739726027397,
          0.2602739726027397,
          0.2602739726027397,
          0.2602739726027397,
          0.2602739726027397,
          0.2602739726027397,
          0.2876712328767123,
          0.2876712328767123,
          0.3150684931506849,
          0.3150684931506849,
          0.3150684931506849,
          0.3150684931506849,
          0.3424657534246575,
          0.3424657534246575,
          0.3698630136986301,
          0.3698630136986301,
          0.3972602739726027,
          0.3972602739726027,
          0.4246575342465753,
          0.4246575342465753,
          0.4246575342465753,
          0.4246575342465753,
          0.4520547945205479,
          0.4520547945205479,
          0.4520547945205479,
          0.4520547945205479,
          0.4520547945205479,
          0.4520547945205479,
          0.4520547945205479,
          0.4520547945205479,
          0.4520547945205479,
          0.4520547945205479,
          0.4520547945205479,
          0.4520547945205479,
          0.4794520547945205,
          0.4794520547945205,
          0.5342465753424658,
          0.5342465753424658,
          0.6438356164383562,
          0.6438356164383562,
          0.6712328767123288,
          0.6712328767123288,
          0.6986301369863014,
          0.6986301369863014,
          0.6986301369863014,
          0.6986301369863014,
          0.6986301369863014,
          0.6986301369863014,
          0.726027397260274,
          0.726027397260274,
          0.726027397260274,
          0.726027397260274,
          0.863013698630137,
          0.863013698630137,
          0.9726027397260274,
          0.9726027397260274,
          1,
          1,
          1.0273972602739727,
          1.0273972602739727,
          1.082191780821918,
          1.082191780821918,
          1.1369863013698631,
          1.1369863013698631,
          1.1369863013698631,
          1.1369863013698631,
          1.4109589041095891,
          1.4109589041095891,
          1.6027397260273972,
          1.6027397260273972,
          1.7671232876712328,
          1.7671232876712328,
          2.0684931506849313,
          2.0684931506849313
         ],
         "y": [
          -0.2875816993464052,
          0.8104575163398693,
          -1.1503267973856208,
          0.7058823529411765,
          -0.26143790849673204,
          0.6797385620915033,
          -1.1503267973856208,
          1.1503267973856208,
          -1.2287581699346406,
          0.5751633986928104,
          -0.9411764705882353,
          1.2810457516339868,
          -0.9150326797385621,
          0.7058823529411765,
          -0.9673202614379085,
          0.7581699346405228,
          -0.39215686274509803,
          0.41830065359477125,
          -0.5490196078431373,
          1.2549019607843137,
          -0.39215686274509803,
          0.6013071895424836,
          -1.1764705882352942,
          0.6013071895424836,
          -0.9411764705882353,
          0.8366013071895425,
          -0.47058823529411764,
          0.2875816993464052,
          -0.49673202614379086,
          0.9673202614379085,
          -1.2026143790849673,
          0.6013071895424836,
          -1.2026143790849673,
          1.0980392156862746,
          -0.9411764705882353,
          0.8104575163398693,
          -0.8627450980392157,
          0.6013071895424836,
          -0.6274509803921569,
          0.6535947712418301,
          -0.39215686274509803,
          1.0980392156862746,
          -0.3660130718954248,
          0.2875816993464052,
          -0.5751633986928104,
          0.39215686274509803,
          0.13071895424836602,
          -0.0784313725490196,
          -0.20915032679738563,
          -0.20915032679738563,
          0.05228758169934641,
          0.26143790849673204,
          0.10457516339869281,
          0.26143790849673204,
          -0.13071895424836602,
          -0.23529411764705882,
          0,
          -0.10457516339869281,
          0.026143790849673203,
          -0.10457516339869281,
          0.1568627450980392,
          0.13071895424836602,
          0.05228758169934641,
          0.23529411764705882,
          0.026143790849673203,
          0.23529411764705882,
          0,
          -0.05228758169934641,
          0.23529411764705882,
          -0.0784313725490196,
          0.13071895424836602,
          -0.20915032679738563,
          -0.026143790849673203,
          0.1568627450980392,
          -0.0784313725490196,
          0.10457516339869281,
          0.0784313725490196,
          -0.05228758169934641,
          0.05228758169934641,
          -0.20915032679738563,
          0.026143790849673203,
          0.13071895424836602,
          -0.23529411764705882,
          -0.1568627450980392,
          0.1830065359477124,
          -0.10457516339869281,
          0.20915032679738563,
          0.13071895424836602,
          0.26143790849673204,
          -0.10457516339869281,
          0.13071895424836602,
          -0.23529411764705882,
          -0.026143790849673203,
          -0.26143790849673204,
          -0.20915032679738563,
          0.05228758169934641,
          -0.0784313725490196,
          0,
          -0.20915032679738563,
          -0.026143790849673203,
          -0.23529411764705882,
          -0.05228758169934641,
          0.23529411764705882,
          0.13071895424836602,
          0.1568627450980392,
          -0.20915032679738563,
          0,
          -0.10457516339869281,
          -0.1830065359477124,
          -0.05228758169934641,
          0.05228758169934641,
          0.10457516339869281,
          -0.20915032679738563,
          -0.10457516339869281,
          -0.05228758169934641,
          0,
          -0.1830065359477124,
          0.23529411764705882,
          -0.1830065359477124,
          0.1830065359477124,
          0.1568627450980392,
          -0.26143790849673204,
          0.20915032679738563,
          1.0718954248366013,
          -0.5490196078431373,
          0.7058823529411765,
          -0.39215686274509803,
          1.1764705882352942,
          -1.0196078431372548,
          0.6535947712418301,
          -1.0718954248366013,
          0.6535947712418301,
          -0.41830065359477125,
          0.5490196078431373,
          -1.1764705882352942,
          0.9934640522875817,
          -1.1241830065359477,
          0.6013071895424836,
          -1.0457516339869282,
          0.5751633986928104,
          -1.1764705882352942,
          1.1241830065359477,
          -0.26143790849673204,
          0.9673202614379085,
          -0.9934640522875817,
          1.2287581699346406,
          -0.3660130718954248,
          0.6274509803921569,
          -0.7320261437908496,
          1.0457516339869282,
          -0.8627450980392157,
          0.9934640522875817,
          -0.7843137254901961,
          0.6797385620915033,
          -0.8888888888888888,
          1.0196078431372548,
          -1.2810457516339868,
          0.7320261437908496,
          -1.2810457516339868,
          0.6013071895424836,
          -0.39215686274509803,
          0.8627450980392157,
          -1.1764705882352942,
          1.1241830065359477,
          -0.6274509803921569,
          0.6535947712418301,
          -0.7843137254901961,
          1.1764705882352942,
          -0.6013071895424836,
          0.33986928104575165,
          -0.9673202614379085,
          0.6535947712418301,
          -1.0457516339869282,
          1.0980392156862746,
          -0.9673202614379085,
          0.9411764705882353,
          -0.9150326797385621,
          0.49673202614379086,
          -0.9411764705882353,
          1.0457516339869282,
          -0.47058823529411764,
          0.9411764705882353,
          -0.9150326797385621,
          0.9934640522875817,
          -0.2875816993464052,
          1.2287581699346406,
          -0.6797385620915033,
          0.47058823529411764,
          -0.8627450980392157,
          0.9150326797385621,
          -0.7058823529411765,
          0.49673202614379086,
          -1.0980392156862746,
          1.0718954248366013,
          -0.8888888888888888,
          0.7581699346405228,
          -0.5751633986928104,
          0.6274509803921569,
          -0.8366013071895425,
          0.8627450980392157
         ],
         "z": [
          -0.8395061728395061,
          -0.7407407407407407,
          -0.7901234567901234,
          -0.6419753086419753,
          -0.24691358024691357,
          -0.691358024691358,
          -0.04938271604938271,
          -0.6419753086419753,
          1.382716049382716,
          -0.2962962962962963,
          1.5308641975308641,
          -0.04938271604938271,
          1.0864197530864197,
          -0.5925925925925926,
          0.04938271604938271,
          -0.691358024691358,
          -0.04938271604938271,
          -0.7901234567901234,
          0.7901234567901234,
          -0.04938271604938271,
          -0.04938271604938271,
          -0.5432098765432098,
          0.49382716049382713,
          -0.24691358024691357,
          0.8888888888888888,
          -0.345679012345679,
          0.4444444444444444,
          -0.04938271604938271,
          0.19753086419753085,
          -0.6419753086419753,
          1.1851851851851851,
          -0.7407407407407407,
          0.8395061728395061,
          -0.8888888888888888,
          0.6419753086419753,
          -0.7407407407407407,
          0.2962962962962963,
          -0.2962962962962963,
          0,
          -0.7901234567901234,
          1.4320987654320987,
          -0.5925925925925926,
          0.5925925925925926,
          -0.24691358024691357,
          0.6419753086419753,
          -0.5925925925925926,
          0.691358024691358,
          -0.4444444444444444,
          -0.345679012345679,
          -0.24691358024691357,
          0.6419753086419753,
          -0.14814814814814814,
          -0.24691358024691357,
          1.1358024691358024,
          0.691358024691358,
          0.5432098765432098,
          0.7407407407407407,
          1.6296296296296295,
          -0.4444444444444444,
          0.8395061728395061,
          1.6790123456790123,
          -0.8395061728395061,
          1.5308641975308641,
          0.8888888888888888,
          1.3333333333333333,
          -0.8888888888888888,
          0.345679012345679,
          1.5802469135802468,
          -0.8395061728395061,
          -0.19753086419753085,
          1.6790123456790123,
          0.5432098765432098,
          1.1851851851851851,
          1.1851851851851851,
          1.1358024691358024,
          -0.49382716049382713,
          0.4444444444444444,
          0.19753086419753085,
          -0.6419753086419753,
          0.6419753086419753,
          1.037037037037037,
          0.09876543209876543,
          1.5308641975308641,
          0.49382716049382713,
          -0.7407407407407407,
          0.5925925925925926,
          0.9382716049382716,
          -0.691358024691358,
          -0.09876543209876543,
          0.691358024691358,
          1.5802469135802468,
          -0.8888888888888888,
          0.5925925925925926,
          0.19753086419753085,
          -0.19753086419753085,
          -0.5925925925925926,
          0.5432098765432098,
          -0.4444444444444444,
          0.5925925925925926,
          -0.7901234567901234,
          -0.6419753086419753,
          0.6419753086419753,
          1.5308641975308641,
          -0.49382716049382713,
          0.6419753086419753,
          -0.7407407407407407,
          1.4814814814814814,
          0.8888888888888888,
          1.5802469135802468,
          1.4814814814814814,
          1.4320987654320987,
          -0.8395061728395061,
          0.09876543209876543,
          -0.8395061728395061,
          -0.8888888888888888,
          -0.8395061728395061,
          1.3333333333333333,
          0.6419753086419753,
          0.7407407407407407,
          0.691358024691358,
          -0.4444444444444444,
          0.09876543209876543,
          0.19753086419753085,
          0.14814814814814814,
          -0.6419753086419753,
          -0.24691358024691357,
          0.345679012345679,
          0.19753086419753085,
          1.1358024691358024,
          0.09876543209876543,
          0.5432098765432098,
          0.14814814814814814,
          -0.5432098765432098,
          -0.24691358024691357,
          -0.7901234567901234,
          -0.345679012345679,
          0.3950617283950617,
          -0.19753086419753085,
          -0.8395061728395061,
          -0.04938271604938271,
          1.037037037037037,
          -0.19753086419753085,
          -0.3950617283950617,
          -0.19753086419753085,
          -0.5432098765432098,
          -0.3950617283950617,
          0.5925925925925926,
          -0.19753086419753085,
          -0.09876543209876543,
          -0.09876543209876543,
          0.345679012345679,
          0.14814814814814814,
          0.3950617283950617,
          0.09876543209876543,
          0.5432098765432098,
          -0.4444444444444444,
          0.04938271604938271,
          -0.2962962962962963,
          -0.09876543209876543,
          -0.2962962962962963,
          0.9876543209876543,
          -0.345679012345679,
          -0.8395061728395061,
          -0.24691358024691357,
          0.691358024691358,
          0,
          0.2962962962962963,
          -0.14814814814814814,
          0,
          -0.19753086419753085,
          0.19753086419753085,
          -0.3950617283950617,
          0,
          0,
          0.7901234567901234,
          -0.2962962962962963,
          1.0864197530864197,
          -0.4444444444444444,
          1.1358024691358024,
          -0.04938271604938271,
          0.04938271604938271,
          -0.19753086419753085,
          0.49382716049382713,
          -0.345679012345679,
          0.24691358024691357,
          -0.2962962962962963,
          0.8888888888888888,
          -0.3950617283950617,
          0.24691358024691357,
          0,
          -0.09876543209876543,
          -0.19753086419753085,
          -0.14814814814814814,
          0.09876543209876543,
          0.5432098765432098,
          -0.04938271604938271,
          0.4444444444444444,
          -0.19753086419753085,
          -0.19753086419753085,
          -0.2962962962962963
         ]
        }
       ],
       "layout": {
        "coloraxis": {
         "colorbar": {
          "title": {
           "text": "ClusterID"
          }
         },
         "colorscale": [
          [
           0,
           "#0d0887"
          ],
          [
           0.1111111111111111,
           "#46039f"
          ],
          [
           0.2222222222222222,
           "#7201a8"
          ],
          [
           0.3333333333333333,
           "#9c179e"
          ],
          [
           0.4444444444444444,
           "#bd3786"
          ],
          [
           0.5555555555555556,
           "#d8576b"
          ],
          [
           0.6666666666666666,
           "#ed7953"
          ],
          [
           0.7777777777777778,
           "#fb9f3a"
          ],
          [
           0.8888888888888888,
           "#fdca26"
          ],
          [
           1,
           "#f0f921"
          ]
         ]
        },
        "legend": {
         "tracegroupgap": 0
        },
        "margin": {
         "t": 60
        },
        "scene": {
         "domain": {
          "x": [
           0,
           1
          ],
          "y": [
           0,
           1
          ]
         },
         "xaxis": {
          "title": {
           "text": "Annual Income (k$)"
          }
         },
         "yaxis": {
          "title": {
           "text": "Spending Score (1-100)"
          }
         },
         "zaxis": {
          "title": {
           "text": "Age"
          }
         }
        },
        "template": {
         "data": {
          "bar": [
           {
            "error_x": {
             "color": "#2a3f5f"
            },
            "error_y": {
             "color": "#2a3f5f"
            },
            "marker": {
             "line": {
              "color": "#E5ECF6",
              "width": 0.5
             },
             "pattern": {
              "fillmode": "overlay",
              "size": 10,
              "solidity": 0.2
             }
            },
            "type": "bar"
           }
          ],
          "barpolar": [
           {
            "marker": {
             "line": {
              "color": "#E5ECF6",
              "width": 0.5
             },
             "pattern": {
              "fillmode": "overlay",
              "size": 10,
              "solidity": 0.2
             }
            },
            "type": "barpolar"
           }
          ],
          "carpet": [
           {
            "aaxis": {
             "endlinecolor": "#2a3f5f",
             "gridcolor": "white",
             "linecolor": "white",
             "minorgridcolor": "white",
             "startlinecolor": "#2a3f5f"
            },
            "baxis": {
             "endlinecolor": "#2a3f5f",
             "gridcolor": "white",
             "linecolor": "white",
             "minorgridcolor": "white",
             "startlinecolor": "#2a3f5f"
            },
            "type": "carpet"
           }
          ],
          "choropleth": [
           {
            "colorbar": {
             "outlinewidth": 0,
             "ticks": ""
            },
            "type": "choropleth"
           }
          ],
          "contour": [
           {
            "colorbar": {
             "outlinewidth": 0,
             "ticks": ""
            },
            "colorscale": [
             [
              0,
              "#0d0887"
             ],
             [
              0.1111111111111111,
              "#46039f"
             ],
             [
              0.2222222222222222,
              "#7201a8"
             ],
             [
              0.3333333333333333,
              "#9c179e"
             ],
             [
              0.4444444444444444,
              "#bd3786"
             ],
             [
              0.5555555555555556,
              "#d8576b"
             ],
             [
              0.6666666666666666,
              "#ed7953"
             ],
             [
              0.7777777777777778,
              "#fb9f3a"
             ],
             [
              0.8888888888888888,
              "#fdca26"
             ],
             [
              1,
              "#f0f921"
             ]
            ],
            "type": "contour"
           }
          ],
          "contourcarpet": [
           {
            "colorbar": {
             "outlinewidth": 0,
             "ticks": ""
            },
            "type": "contourcarpet"
           }
          ],
          "heatmap": [
           {
            "colorbar": {
             "outlinewidth": 0,
             "ticks": ""
            },
            "colorscale": [
             [
              0,
              "#0d0887"
             ],
             [
              0.1111111111111111,
              "#46039f"
             ],
             [
              0.2222222222222222,
              "#7201a8"
             ],
             [
              0.3333333333333333,
              "#9c179e"
             ],
             [
              0.4444444444444444,
              "#bd3786"
             ],
             [
              0.5555555555555556,
              "#d8576b"
             ],
             [
              0.6666666666666666,
              "#ed7953"
             ],
             [
              0.7777777777777778,
              "#fb9f3a"
             ],
             [
              0.8888888888888888,
              "#fdca26"
             ],
             [
              1,
              "#f0f921"
             ]
            ],
            "type": "heatmap"
           }
          ],
          "heatmapgl": [
           {
            "colorbar": {
             "outlinewidth": 0,
             "ticks": ""
            },
            "colorscale": [
             [
              0,
              "#0d0887"
             ],
             [
              0.1111111111111111,
              "#46039f"
             ],
             [
              0.2222222222222222,
              "#7201a8"
             ],
             [
              0.3333333333333333,
              "#9c179e"
             ],
             [
              0.4444444444444444,
              "#bd3786"
             ],
             [
              0.5555555555555556,
              "#d8576b"
             ],
             [
              0.6666666666666666,
              "#ed7953"
             ],
             [
              0.7777777777777778,
              "#fb9f3a"
             ],
             [
              0.8888888888888888,
              "#fdca26"
             ],
             [
              1,
              "#f0f921"
             ]
            ],
            "type": "heatmapgl"
           }
          ],
          "histogram": [
           {
            "marker": {
             "pattern": {
              "fillmode": "overlay",
              "size": 10,
              "solidity": 0.2
             }
            },
            "type": "histogram"
           }
          ],
          "histogram2d": [
           {
            "colorbar": {
             "outlinewidth": 0,
             "ticks": ""
            },
            "colorscale": [
             [
              0,
              "#0d0887"
             ],
             [
              0.1111111111111111,
              "#46039f"
             ],
             [
              0.2222222222222222,
              "#7201a8"
             ],
             [
              0.3333333333333333,
              "#9c179e"
             ],
             [
              0.4444444444444444,
              "#bd3786"
             ],
             [
              0.5555555555555556,
              "#d8576b"
             ],
             [
              0.6666666666666666,
              "#ed7953"
             ],
             [
              0.7777777777777778,
              "#fb9f3a"
             ],
             [
              0.8888888888888888,
              "#fdca26"
             ],
             [
              1,
              "#f0f921"
             ]
            ],
            "type": "histogram2d"
           }
          ],
          "histogram2dcontour": [
           {
            "colorbar": {
             "outlinewidth": 0,
             "ticks": ""
            },
            "colorscale": [
             [
              0,
              "#0d0887"
             ],
             [
              0.1111111111111111,
              "#46039f"
             ],
             [
              0.2222222222222222,
              "#7201a8"
             ],
             [
              0.3333333333333333,
              "#9c179e"
             ],
             [
              0.4444444444444444,
              "#bd3786"
             ],
             [
              0.5555555555555556,
              "#d8576b"
             ],
             [
              0.6666666666666666,
              "#ed7953"
             ],
             [
              0.7777777777777778,
              "#fb9f3a"
             ],
             [
              0.8888888888888888,
              "#fdca26"
             ],
             [
              1,
              "#f0f921"
             ]
            ],
            "type": "histogram2dcontour"
           }
          ],
          "mesh3d": [
           {
            "colorbar": {
             "outlinewidth": 0,
             "ticks": ""
            },
            "type": "mesh3d"
           }
          ],
          "parcoords": [
           {
            "line": {
             "colorbar": {
              "outlinewidth": 0,
              "ticks": ""
             }
            },
            "type": "parcoords"
           }
          ],
          "pie": [
           {
            "automargin": true,
            "type": "pie"
           }
          ],
          "scatter": [
           {
            "marker": {
             "colorbar": {
              "outlinewidth": 0,
              "ticks": ""
             }
            },
            "type": "scatter"
           }
          ],
          "scatter3d": [
           {
            "line": {
             "colorbar": {
              "outlinewidth": 0,
              "ticks": ""
             }
            },
            "marker": {
             "colorbar": {
              "outlinewidth": 0,
              "ticks": ""
             }
            },
            "type": "scatter3d"
           }
          ],
          "scattercarpet": [
           {
            "marker": {
             "colorbar": {
              "outlinewidth": 0,
              "ticks": ""
             }
            },
            "type": "scattercarpet"
           }
          ],
          "scattergeo": [
           {
            "marker": {
             "colorbar": {
              "outlinewidth": 0,
              "ticks": ""
             }
            },
            "type": "scattergeo"
           }
          ],
          "scattergl": [
           {
            "marker": {
             "colorbar": {
              "outlinewidth": 0,
              "ticks": ""
             }
            },
            "type": "scattergl"
           }
          ],
          "scattermapbox": [
           {
            "marker": {
             "colorbar": {
              "outlinewidth": 0,
              "ticks": ""
             }
            },
            "type": "scattermapbox"
           }
          ],
          "scatterpolar": [
           {
            "marker": {
             "colorbar": {
              "outlinewidth": 0,
              "ticks": ""
             }
            },
            "type": "scatterpolar"
           }
          ],
          "scatterpolargl": [
           {
            "marker": {
             "colorbar": {
              "outlinewidth": 0,
              "ticks": ""
             }
            },
            "type": "scatterpolargl"
           }
          ],
          "scatterternary": [
           {
            "marker": {
             "colorbar": {
              "outlinewidth": 0,
              "ticks": ""
             }
            },
            "type": "scatterternary"
           }
          ],
          "surface": [
           {
            "colorbar": {
             "outlinewidth": 0,
             "ticks": ""
            },
            "colorscale": [
             [
              0,
              "#0d0887"
             ],
             [
              0.1111111111111111,
              "#46039f"
             ],
             [
              0.2222222222222222,
              "#7201a8"
             ],
             [
              0.3333333333333333,
              "#9c179e"
             ],
             [
              0.4444444444444444,
              "#bd3786"
             ],
             [
              0.5555555555555556,
              "#d8576b"
             ],
             [
              0.6666666666666666,
              "#ed7953"
             ],
             [
              0.7777777777777778,
              "#fb9f3a"
             ],
             [
              0.8888888888888888,
              "#fdca26"
             ],
             [
              1,
              "#f0f921"
             ]
            ],
            "type": "surface"
           }
          ],
          "table": [
           {
            "cells": {
             "fill": {
              "color": "#EBF0F8"
             },
             "line": {
              "color": "white"
             }
            },
            "header": {
             "fill": {
              "color": "#C8D4E3"
             },
             "line": {
              "color": "white"
             }
            },
            "type": "table"
           }
          ]
         },
         "layout": {
          "annotationdefaults": {
           "arrowcolor": "#2a3f5f",
           "arrowhead": 0,
           "arrowwidth": 1
          },
          "autotypenumbers": "strict",
          "coloraxis": {
           "colorbar": {
            "outlinewidth": 0,
            "ticks": ""
           }
          },
          "colorscale": {
           "diverging": [
            [
             0,
             "#8e0152"
            ],
            [
             0.1,
             "#c51b7d"
            ],
            [
             0.2,
             "#de77ae"
            ],
            [
             0.3,
             "#f1b6da"
            ],
            [
             0.4,
             "#fde0ef"
            ],
            [
             0.5,
             "#f7f7f7"
            ],
            [
             0.6,
             "#e6f5d0"
            ],
            [
             0.7,
             "#b8e186"
            ],
            [
             0.8,
             "#7fbc41"
            ],
            [
             0.9,
             "#4d9221"
            ],
            [
             1,
             "#276419"
            ]
           ],
           "sequential": [
            [
             0,
             "#0d0887"
            ],
            [
             0.1111111111111111,
             "#46039f"
            ],
            [
             0.2222222222222222,
             "#7201a8"
            ],
            [
             0.3333333333333333,
             "#9c179e"
            ],
            [
             0.4444444444444444,
             "#bd3786"
            ],
            [
             0.5555555555555556,
             "#d8576b"
            ],
            [
             0.6666666666666666,
             "#ed7953"
            ],
            [
             0.7777777777777778,
             "#fb9f3a"
            ],
            [
             0.8888888888888888,
             "#fdca26"
            ],
            [
             1,
             "#f0f921"
            ]
           ],
           "sequentialminus": [
            [
             0,
             "#0d0887"
            ],
            [
             0.1111111111111111,
             "#46039f"
            ],
            [
             0.2222222222222222,
             "#7201a8"
            ],
            [
             0.3333333333333333,
             "#9c179e"
            ],
            [
             0.4444444444444444,
             "#bd3786"
            ],
            [
             0.5555555555555556,
             "#d8576b"
            ],
            [
             0.6666666666666666,
             "#ed7953"
            ],
            [
             0.7777777777777778,
             "#fb9f3a"
            ],
            [
             0.8888888888888888,
             "#fdca26"
            ],
            [
             1,
             "#f0f921"
            ]
           ]
          },
          "colorway": [
           "#636efa",
           "#EF553B",
           "#00cc96",
           "#ab63fa",
           "#FFA15A",
           "#19d3f3",
           "#FF6692",
           "#B6E880",
           "#FF97FF",
           "#FECB52"
          ],
          "font": {
           "color": "#2a3f5f"
          },
          "geo": {
           "bgcolor": "white",
           "lakecolor": "white",
           "landcolor": "#E5ECF6",
           "showlakes": true,
           "showland": true,
           "subunitcolor": "white"
          },
          "hoverlabel": {
           "align": "left"
          },
          "hovermode": "closest",
          "mapbox": {
           "style": "light"
          },
          "paper_bgcolor": "white",
          "plot_bgcolor": "#E5ECF6",
          "polar": {
           "angularaxis": {
            "gridcolor": "white",
            "linecolor": "white",
            "ticks": ""
           },
           "bgcolor": "#E5ECF6",
           "radialaxis": {
            "gridcolor": "white",
            "linecolor": "white",
            "ticks": ""
           }
          },
          "scene": {
           "xaxis": {
            "backgroundcolor": "#E5ECF6",
            "gridcolor": "white",
            "gridwidth": 2,
            "linecolor": "white",
            "showbackground": true,
            "ticks": "",
            "zerolinecolor": "white"
           },
           "yaxis": {
            "backgroundcolor": "#E5ECF6",
            "gridcolor": "white",
            "gridwidth": 2,
            "linecolor": "white",
            "showbackground": true,
            "ticks": "",
            "zerolinecolor": "white"
           },
           "zaxis": {
            "backgroundcolor": "#E5ECF6",
            "gridcolor": "white",
            "gridwidth": 2,
            "linecolor": "white",
            "showbackground": true,
            "ticks": "",
            "zerolinecolor": "white"
           }
          },
          "shapedefaults": {
           "line": {
            "color": "#2a3f5f"
           }
          },
          "ternary": {
           "aaxis": {
            "gridcolor": "white",
            "linecolor": "white",
            "ticks": ""
           },
           "baxis": {
            "gridcolor": "white",
            "linecolor": "white",
            "ticks": ""
           },
           "bgcolor": "#E5ECF6",
           "caxis": {
            "gridcolor": "white",
            "linecolor": "white",
            "ticks": ""
           }
          },
          "title": {
           "x": 0.05
          },
          "xaxis": {
           "automargin": true,
           "gridcolor": "white",
           "linecolor": "white",
           "ticks": "",
           "title": {
            "standoff": 15
           },
           "zerolinecolor": "white",
           "zerolinewidth": 2
          },
          "yaxis": {
           "automargin": true,
           "gridcolor": "white",
           "linecolor": "white",
           "ticks": "",
           "title": {
            "standoff": 15
           },
           "zerolinecolor": "white",
           "zerolinewidth": 2
          }
         }
        }
       }
      },
      "text/html": [
       "<div>                            <div id=\"240d6efd-4b78-4985-87fd-438cc359c9ba\" class=\"plotly-graph-div\" style=\"height:525px; width:100%;\"></div>            <script type=\"text/javascript\">                require([\"plotly\"], function(Plotly) {                    window.PLOTLYENV=window.PLOTLYENV || {};                                    if (document.getElementById(\"240d6efd-4b78-4985-87fd-438cc359c9ba\")) {                    Plotly.newPlot(                        \"240d6efd-4b78-4985-87fd-438cc359c9ba\",                        [{\"hovertemplate\":\"Annual Income (k$)=%{x}<br>Spending Score (1-100)=%{y}<br>Age=%{z}<br>ClusterID=%{marker.color}<extra></extra>\",\"legendgroup\":\"\",\"marker\":{\"color\":[4,0,4,0,4,0,4,0,4,0,4,0,4,0,4,0,4,0,4,0,4,0,4,0,4,0,4,0,4,0,4,0,4,0,4,0,4,0,4,0,1,0,1,0,1,0,1,0,0,0,1,0,0,1,1,1,1,1,0,1,1,0,1,1,1,0,1,1,0,0,1,1,1,1,1,0,1,1,0,1,1,1,1,1,0,1,1,0,1,1,1,0,1,1,1,0,1,0,1,0,0,1,1,0,1,0,1,1,1,1,1,0,1,0,0,0,1,1,1,1,0,1,1,2,0,2,1,2,3,2,3,2,0,2,0,2,3,2,0,2,3,2,0,2,0,2,1,2,3,2,3,2,3,2,3,2,3,2,3,2,1,2,0,2,3,2,3,2,3,2,3,2,3,2,3,2,3,2,3,2,3,2,3,2,3,2,3,2,3,2,3,2,3,2,3,2,3,2,3,2],\"coloraxis\":\"coloraxis\",\"symbol\":\"circle\"},\"mode\":\"markers\",\"name\":\"\",\"scene\":\"scene\",\"showlegend\":false,\"type\":\"scatter3d\",\"x\":[-1.273972602739726,-1.273972602739726,-1.2465753424657535,-1.2465753424657535,-1.2191780821917808,-1.2191780821917808,-1.1917808219178083,-1.1917808219178083,-1.1643835616438356,-1.1643835616438356,-1.1643835616438356,-1.1643835616438356,-1.1369863013698631,-1.1369863013698631,-1.1369863013698631,-1.1369863013698631,-1.1095890410958904,-1.1095890410958904,-1.0547945205479452,-1.0547945205479452,-1.0273972602739727,-1.0273972602739727,-1.0,-1.0,-0.9178082191780822,-0.9178082191780822,-0.9178082191780822,-0.9178082191780822,-0.8904109589041096,-0.8904109589041096,-0.863013698630137,-0.863013698630137,-0.7808219178082192,-0.7808219178082192,-0.7808219178082192,-0.7808219178082192,-0.7534246575342466,-0.7534246575342466,-0.6712328767123288,-0.6712328767123288,-0.6438356164383562,-0.6438356164383562,-0.6164383561643836,-0.6164383561643836,-0.6164383561643836,-0.6164383561643836,-0.589041095890411,-0.589041095890411,-0.589041095890411,-0.589041095890411,-0.5342465753424658,-0.5342465753424658,-0.5068493150684932,-0.5068493150684932,-0.5068493150684932,-0.5068493150684932,-0.4794520547945205,-0.4794520547945205,-0.4246575342465753,-0.4246575342465753,-0.4246575342465753,-0.4246575342465753,-0.3972602739726027,-0.3972602739726027,-0.3698630136986301,-0.3698630136986301,-0.3698630136986301,-0.3698630136986301,-0.3698630136986301,-0.3698630136986301,-0.3424657534246575,-0.3424657534246575,-0.3150684931506849,-0.3150684931506849,-0.2054794520547945,-0.2054794520547945,-0.2054794520547945,-0.2054794520547945,-0.2054794520547945,-0.2054794520547945,-0.2054794520547945,-0.2054794520547945,-0.2054794520547945,-0.2054794520547945,-0.2054794520547945,-0.2054794520547945,-0.1232876712328767,-0.1232876712328767,-0.0958904109589041,-0.0958904109589041,-0.0684931506849315,-0.0684931506849315,-0.0410958904109589,-0.0410958904109589,-0.0410958904109589,-0.0410958904109589,-0.0410958904109589,-0.0410958904109589,-0.0136986301369863,-0.0136986301369863,0.0136986301369863,0.0136986301369863,0.0136986301369863,0.0136986301369863,0.0136986301369863,0.0136986301369863,0.0410958904109589,0.0410958904109589,0.0410958904109589,0.0410958904109589,0.0410958904109589,0.0410958904109589,0.0684931506849315,0.0684931506849315,0.0958904109589041,0.0958904109589041,0.0958904109589041,0.0958904109589041,0.1506849315068493,0.1506849315068493,0.1506849315068493,0.1506849315068493,0.2054794520547945,0.2054794520547945,0.2328767123287671,0.2328767123287671,0.2602739726027397,0.2602739726027397,0.2602739726027397,0.2602739726027397,0.2602739726027397,0.2602739726027397,0.2876712328767123,0.2876712328767123,0.3150684931506849,0.3150684931506849,0.3150684931506849,0.3150684931506849,0.3424657534246575,0.3424657534246575,0.3698630136986301,0.3698630136986301,0.3972602739726027,0.3972602739726027,0.4246575342465753,0.4246575342465753,0.4246575342465753,0.4246575342465753,0.4520547945205479,0.4520547945205479,0.4520547945205479,0.4520547945205479,0.4520547945205479,0.4520547945205479,0.4520547945205479,0.4520547945205479,0.4520547945205479,0.4520547945205479,0.4520547945205479,0.4520547945205479,0.4794520547945205,0.4794520547945205,0.5342465753424658,0.5342465753424658,0.6438356164383562,0.6438356164383562,0.6712328767123288,0.6712328767123288,0.6986301369863014,0.6986301369863014,0.6986301369863014,0.6986301369863014,0.6986301369863014,0.6986301369863014,0.726027397260274,0.726027397260274,0.726027397260274,0.726027397260274,0.863013698630137,0.863013698630137,0.9726027397260274,0.9726027397260274,1.0,1.0,1.0273972602739727,1.0273972602739727,1.082191780821918,1.082191780821918,1.1369863013698631,1.1369863013698631,1.1369863013698631,1.1369863013698631,1.4109589041095891,1.4109589041095891,1.6027397260273972,1.6027397260273972,1.7671232876712328,1.7671232876712328,2.0684931506849313,2.0684931506849313],\"y\":[-0.2875816993464052,0.8104575163398693,-1.1503267973856208,0.7058823529411765,-0.26143790849673204,0.6797385620915033,-1.1503267973856208,1.1503267973856208,-1.2287581699346406,0.5751633986928104,-0.9411764705882353,1.2810457516339868,-0.9150326797385621,0.7058823529411765,-0.9673202614379085,0.7581699346405228,-0.39215686274509803,0.41830065359477125,-0.5490196078431373,1.2549019607843137,-0.39215686274509803,0.6013071895424836,-1.1764705882352942,0.6013071895424836,-0.9411764705882353,0.8366013071895425,-0.47058823529411764,0.2875816993464052,-0.49673202614379086,0.9673202614379085,-1.2026143790849673,0.6013071895424836,-1.2026143790849673,1.0980392156862746,-0.9411764705882353,0.8104575163398693,-0.8627450980392157,0.6013071895424836,-0.6274509803921569,0.6535947712418301,-0.39215686274509803,1.0980392156862746,-0.3660130718954248,0.2875816993464052,-0.5751633986928104,0.39215686274509803,0.13071895424836602,-0.0784313725490196,-0.20915032679738563,-0.20915032679738563,0.05228758169934641,0.26143790849673204,0.10457516339869281,0.26143790849673204,-0.13071895424836602,-0.23529411764705882,0.0,-0.10457516339869281,0.026143790849673203,-0.10457516339869281,0.1568627450980392,0.13071895424836602,0.05228758169934641,0.23529411764705882,0.026143790849673203,0.23529411764705882,0.0,-0.05228758169934641,0.23529411764705882,-0.0784313725490196,0.13071895424836602,-0.20915032679738563,-0.026143790849673203,0.1568627450980392,-0.0784313725490196,0.10457516339869281,0.0784313725490196,-0.05228758169934641,0.05228758169934641,-0.20915032679738563,0.026143790849673203,0.13071895424836602,-0.23529411764705882,-0.1568627450980392,0.1830065359477124,-0.10457516339869281,0.20915032679738563,0.13071895424836602,0.26143790849673204,-0.10457516339869281,0.13071895424836602,-0.23529411764705882,-0.026143790849673203,-0.26143790849673204,-0.20915032679738563,0.05228758169934641,-0.0784313725490196,0.0,-0.20915032679738563,-0.026143790849673203,-0.23529411764705882,-0.05228758169934641,0.23529411764705882,0.13071895424836602,0.1568627450980392,-0.20915032679738563,0.0,-0.10457516339869281,-0.1830065359477124,-0.05228758169934641,0.05228758169934641,0.10457516339869281,-0.20915032679738563,-0.10457516339869281,-0.05228758169934641,0.0,-0.1830065359477124,0.23529411764705882,-0.1830065359477124,0.1830065359477124,0.1568627450980392,-0.26143790849673204,0.20915032679738563,1.0718954248366013,-0.5490196078431373,0.7058823529411765,-0.39215686274509803,1.1764705882352942,-1.0196078431372548,0.6535947712418301,-1.0718954248366013,0.6535947712418301,-0.41830065359477125,0.5490196078431373,-1.1764705882352942,0.9934640522875817,-1.1241830065359477,0.6013071895424836,-1.0457516339869282,0.5751633986928104,-1.1764705882352942,1.1241830065359477,-0.26143790849673204,0.9673202614379085,-0.9934640522875817,1.2287581699346406,-0.3660130718954248,0.6274509803921569,-0.7320261437908496,1.0457516339869282,-0.8627450980392157,0.9934640522875817,-0.7843137254901961,0.6797385620915033,-0.8888888888888888,1.0196078431372548,-1.2810457516339868,0.7320261437908496,-1.2810457516339868,0.6013071895424836,-0.39215686274509803,0.8627450980392157,-1.1764705882352942,1.1241830065359477,-0.6274509803921569,0.6535947712418301,-0.7843137254901961,1.1764705882352942,-0.6013071895424836,0.33986928104575165,-0.9673202614379085,0.6535947712418301,-1.0457516339869282,1.0980392156862746,-0.9673202614379085,0.9411764705882353,-0.9150326797385621,0.49673202614379086,-0.9411764705882353,1.0457516339869282,-0.47058823529411764,0.9411764705882353,-0.9150326797385621,0.9934640522875817,-0.2875816993464052,1.2287581699346406,-0.6797385620915033,0.47058823529411764,-0.8627450980392157,0.9150326797385621,-0.7058823529411765,0.49673202614379086,-1.0980392156862746,1.0718954248366013,-0.8888888888888888,0.7581699346405228,-0.5751633986928104,0.6274509803921569,-0.8366013071895425,0.8627450980392157],\"z\":[-0.8395061728395061,-0.7407407407407407,-0.7901234567901234,-0.6419753086419753,-0.24691358024691357,-0.691358024691358,-0.04938271604938271,-0.6419753086419753,1.382716049382716,-0.2962962962962963,1.5308641975308641,-0.04938271604938271,1.0864197530864197,-0.5925925925925926,0.04938271604938271,-0.691358024691358,-0.04938271604938271,-0.7901234567901234,0.7901234567901234,-0.04938271604938271,-0.04938271604938271,-0.5432098765432098,0.49382716049382713,-0.24691358024691357,0.8888888888888888,-0.345679012345679,0.4444444444444444,-0.04938271604938271,0.19753086419753085,-0.6419753086419753,1.1851851851851851,-0.7407407407407407,0.8395061728395061,-0.8888888888888888,0.6419753086419753,-0.7407407407407407,0.2962962962962963,-0.2962962962962963,0.0,-0.7901234567901234,1.4320987654320987,-0.5925925925925926,0.5925925925925926,-0.24691358024691357,0.6419753086419753,-0.5925925925925926,0.691358024691358,-0.4444444444444444,-0.345679012345679,-0.24691358024691357,0.6419753086419753,-0.14814814814814814,-0.24691358024691357,1.1358024691358024,0.691358024691358,0.5432098765432098,0.7407407407407407,1.6296296296296295,-0.4444444444444444,0.8395061728395061,1.6790123456790123,-0.8395061728395061,1.5308641975308641,0.8888888888888888,1.3333333333333333,-0.8888888888888888,0.345679012345679,1.5802469135802468,-0.8395061728395061,-0.19753086419753085,1.6790123456790123,0.5432098765432098,1.1851851851851851,1.1851851851851851,1.1358024691358024,-0.49382716049382713,0.4444444444444444,0.19753086419753085,-0.6419753086419753,0.6419753086419753,1.037037037037037,0.09876543209876543,1.5308641975308641,0.49382716049382713,-0.7407407407407407,0.5925925925925926,0.9382716049382716,-0.691358024691358,-0.09876543209876543,0.691358024691358,1.5802469135802468,-0.8888888888888888,0.5925925925925926,0.19753086419753085,-0.19753086419753085,-0.5925925925925926,0.5432098765432098,-0.4444444444444444,0.5925925925925926,-0.7901234567901234,-0.6419753086419753,0.6419753086419753,1.5308641975308641,-0.49382716049382713,0.6419753086419753,-0.7407407407407407,1.4814814814814814,0.8888888888888888,1.5802469135802468,1.4814814814814814,1.4320987654320987,-0.8395061728395061,0.09876543209876543,-0.8395061728395061,-0.8888888888888888,-0.8395061728395061,1.3333333333333333,0.6419753086419753,0.7407407407407407,0.691358024691358,-0.4444444444444444,0.09876543209876543,0.19753086419753085,0.14814814814814814,-0.6419753086419753,-0.24691358024691357,0.345679012345679,0.19753086419753085,1.1358024691358024,0.09876543209876543,0.5432098765432098,0.14814814814814814,-0.5432098765432098,-0.24691358024691357,-0.7901234567901234,-0.345679012345679,0.3950617283950617,-0.19753086419753085,-0.8395061728395061,-0.04938271604938271,1.037037037037037,-0.19753086419753085,-0.3950617283950617,-0.19753086419753085,-0.5432098765432098,-0.3950617283950617,0.5925925925925926,-0.19753086419753085,-0.09876543209876543,-0.09876543209876543,0.345679012345679,0.14814814814814814,0.3950617283950617,0.09876543209876543,0.5432098765432098,-0.4444444444444444,0.04938271604938271,-0.2962962962962963,-0.09876543209876543,-0.2962962962962963,0.9876543209876543,-0.345679012345679,-0.8395061728395061,-0.24691358024691357,0.691358024691358,0.0,0.2962962962962963,-0.14814814814814814,0.0,-0.19753086419753085,0.19753086419753085,-0.3950617283950617,0.0,0.0,0.7901234567901234,-0.2962962962962963,1.0864197530864197,-0.4444444444444444,1.1358024691358024,-0.04938271604938271,0.04938271604938271,-0.19753086419753085,0.49382716049382713,-0.345679012345679,0.24691358024691357,-0.2962962962962963,0.8888888888888888,-0.3950617283950617,0.24691358024691357,0.0,-0.09876543209876543,-0.19753086419753085,-0.14814814814814814,0.09876543209876543,0.5432098765432098,-0.04938271604938271,0.4444444444444444,-0.19753086419753085,-0.19753086419753085,-0.2962962962962963]}],                        {\"coloraxis\":{\"colorbar\":{\"title\":{\"text\":\"ClusterID\"}},\"colorscale\":[[0.0,\"#0d0887\"],[0.1111111111111111,\"#46039f\"],[0.2222222222222222,\"#7201a8\"],[0.3333333333333333,\"#9c179e\"],[0.4444444444444444,\"#bd3786\"],[0.5555555555555556,\"#d8576b\"],[0.6666666666666666,\"#ed7953\"],[0.7777777777777778,\"#fb9f3a\"],[0.8888888888888888,\"#fdca26\"],[1.0,\"#f0f921\"]]},\"legend\":{\"tracegroupgap\":0},\"margin\":{\"t\":60},\"scene\":{\"domain\":{\"x\":[0.0,1.0],\"y\":[0.0,1.0]},\"xaxis\":{\"title\":{\"text\":\"Annual Income (k$)\"}},\"yaxis\":{\"title\":{\"text\":\"Spending Score (1-100)\"}},\"zaxis\":{\"title\":{\"text\":\"Age\"}}},\"template\":{\"data\":{\"bar\":[{\"error_x\":{\"color\":\"#2a3f5f\"},\"error_y\":{\"color\":\"#2a3f5f\"},\"marker\":{\"line\":{\"color\":\"#E5ECF6\",\"width\":0.5},\"pattern\":{\"fillmode\":\"overlay\",\"size\":10,\"solidity\":0.2}},\"type\":\"bar\"}],\"barpolar\":[{\"marker\":{\"line\":{\"color\":\"#E5ECF6\",\"width\":0.5},\"pattern\":{\"fillmode\":\"overlay\",\"size\":10,\"solidity\":0.2}},\"type\":\"barpolar\"}],\"carpet\":[{\"aaxis\":{\"endlinecolor\":\"#2a3f5f\",\"gridcolor\":\"white\",\"linecolor\":\"white\",\"minorgridcolor\":\"white\",\"startlinecolor\":\"#2a3f5f\"},\"baxis\":{\"endlinecolor\":\"#2a3f5f\",\"gridcolor\":\"white\",\"linecolor\":\"white\",\"minorgridcolor\":\"white\",\"startlinecolor\":\"#2a3f5f\"},\"type\":\"carpet\"}],\"choropleth\":[{\"colorbar\":{\"outlinewidth\":0,\"ticks\":\"\"},\"type\":\"choropleth\"}],\"contour\":[{\"colorbar\":{\"outlinewidth\":0,\"ticks\":\"\"},\"colorscale\":[[0.0,\"#0d0887\"],[0.1111111111111111,\"#46039f\"],[0.2222222222222222,\"#7201a8\"],[0.3333333333333333,\"#9c179e\"],[0.4444444444444444,\"#bd3786\"],[0.5555555555555556,\"#d8576b\"],[0.6666666666666666,\"#ed7953\"],[0.7777777777777778,\"#fb9f3a\"],[0.8888888888888888,\"#fdca26\"],[1.0,\"#f0f921\"]],\"type\":\"contour\"}],\"contourcarpet\":[{\"colorbar\":{\"outlinewidth\":0,\"ticks\":\"\"},\"type\":\"contourcarpet\"}],\"heatmap\":[{\"colorbar\":{\"outlinewidth\":0,\"ticks\":\"\"},\"colorscale\":[[0.0,\"#0d0887\"],[0.1111111111111111,\"#46039f\"],[0.2222222222222222,\"#7201a8\"],[0.3333333333333333,\"#9c179e\"],[0.4444444444444444,\"#bd3786\"],[0.5555555555555556,\"#d8576b\"],[0.6666666666666666,\"#ed7953\"],[0.7777777777777778,\"#fb9f3a\"],[0.8888888888888888,\"#fdca26\"],[1.0,\"#f0f921\"]],\"type\":\"heatmap\"}],\"heatmapgl\":[{\"colorbar\":{\"outlinewidth\":0,\"ticks\":\"\"},\"colorscale\":[[0.0,\"#0d0887\"],[0.1111111111111111,\"#46039f\"],[0.2222222222222222,\"#7201a8\"],[0.3333333333333333,\"#9c179e\"],[0.4444444444444444,\"#bd3786\"],[0.5555555555555556,\"#d8576b\"],[0.6666666666666666,\"#ed7953\"],[0.7777777777777778,\"#fb9f3a\"],[0.8888888888888888,\"#fdca26\"],[1.0,\"#f0f921\"]],\"type\":\"heatmapgl\"}],\"histogram\":[{\"marker\":{\"pattern\":{\"fillmode\":\"overlay\",\"size\":10,\"solidity\":0.2}},\"type\":\"histogram\"}],\"histogram2d\":[{\"colorbar\":{\"outlinewidth\":0,\"ticks\":\"\"},\"colorscale\":[[0.0,\"#0d0887\"],[0.1111111111111111,\"#46039f\"],[0.2222222222222222,\"#7201a8\"],[0.3333333333333333,\"#9c179e\"],[0.4444444444444444,\"#bd3786\"],[0.5555555555555556,\"#d8576b\"],[0.6666666666666666,\"#ed7953\"],[0.7777777777777778,\"#fb9f3a\"],[0.8888888888888888,\"#fdca26\"],[1.0,\"#f0f921\"]],\"type\":\"histogram2d\"}],\"histogram2dcontour\":[{\"colorbar\":{\"outlinewidth\":0,\"ticks\":\"\"},\"colorscale\":[[0.0,\"#0d0887\"],[0.1111111111111111,\"#46039f\"],[0.2222222222222222,\"#7201a8\"],[0.3333333333333333,\"#9c179e\"],[0.4444444444444444,\"#bd3786\"],[0.5555555555555556,\"#d8576b\"],[0.6666666666666666,\"#ed7953\"],[0.7777777777777778,\"#fb9f3a\"],[0.8888888888888888,\"#fdca26\"],[1.0,\"#f0f921\"]],\"type\":\"histogram2dcontour\"}],\"mesh3d\":[{\"colorbar\":{\"outlinewidth\":0,\"ticks\":\"\"},\"type\":\"mesh3d\"}],\"parcoords\":[{\"line\":{\"colorbar\":{\"outlinewidth\":0,\"ticks\":\"\"}},\"type\":\"parcoords\"}],\"pie\":[{\"automargin\":true,\"type\":\"pie\"}],\"scatter\":[{\"marker\":{\"colorbar\":{\"outlinewidth\":0,\"ticks\":\"\"}},\"type\":\"scatter\"}],\"scatter3d\":[{\"line\":{\"colorbar\":{\"outlinewidth\":0,\"ticks\":\"\"}},\"marker\":{\"colorbar\":{\"outlinewidth\":0,\"ticks\":\"\"}},\"type\":\"scatter3d\"}],\"scattercarpet\":[{\"marker\":{\"colorbar\":{\"outlinewidth\":0,\"ticks\":\"\"}},\"type\":\"scattercarpet\"}],\"scattergeo\":[{\"marker\":{\"colorbar\":{\"outlinewidth\":0,\"ticks\":\"\"}},\"type\":\"scattergeo\"}],\"scattergl\":[{\"marker\":{\"colorbar\":{\"outlinewidth\":0,\"ticks\":\"\"}},\"type\":\"scattergl\"}],\"scattermapbox\":[{\"marker\":{\"colorbar\":{\"outlinewidth\":0,\"ticks\":\"\"}},\"type\":\"scattermapbox\"}],\"scatterpolar\":[{\"marker\":{\"colorbar\":{\"outlinewidth\":0,\"ticks\":\"\"}},\"type\":\"scatterpolar\"}],\"scatterpolargl\":[{\"marker\":{\"colorbar\":{\"outlinewidth\":0,\"ticks\":\"\"}},\"type\":\"scatterpolargl\"}],\"scatterternary\":[{\"marker\":{\"colorbar\":{\"outlinewidth\":0,\"ticks\":\"\"}},\"type\":\"scatterternary\"}],\"surface\":[{\"colorbar\":{\"outlinewidth\":0,\"ticks\":\"\"},\"colorscale\":[[0.0,\"#0d0887\"],[0.1111111111111111,\"#46039f\"],[0.2222222222222222,\"#7201a8\"],[0.3333333333333333,\"#9c179e\"],[0.4444444444444444,\"#bd3786\"],[0.5555555555555556,\"#d8576b\"],[0.6666666666666666,\"#ed7953\"],[0.7777777777777778,\"#fb9f3a\"],[0.8888888888888888,\"#fdca26\"],[1.0,\"#f0f921\"]],\"type\":\"surface\"}],\"table\":[{\"cells\":{\"fill\":{\"color\":\"#EBF0F8\"},\"line\":{\"color\":\"white\"}},\"header\":{\"fill\":{\"color\":\"#C8D4E3\"},\"line\":{\"color\":\"white\"}},\"type\":\"table\"}]},\"layout\":{\"annotationdefaults\":{\"arrowcolor\":\"#2a3f5f\",\"arrowhead\":0,\"arrowwidth\":1},\"autotypenumbers\":\"strict\",\"coloraxis\":{\"colorbar\":{\"outlinewidth\":0,\"ticks\":\"\"}},\"colorscale\":{\"diverging\":[[0,\"#8e0152\"],[0.1,\"#c51b7d\"],[0.2,\"#de77ae\"],[0.3,\"#f1b6da\"],[0.4,\"#fde0ef\"],[0.5,\"#f7f7f7\"],[0.6,\"#e6f5d0\"],[0.7,\"#b8e186\"],[0.8,\"#7fbc41\"],[0.9,\"#4d9221\"],[1,\"#276419\"]],\"sequential\":[[0.0,\"#0d0887\"],[0.1111111111111111,\"#46039f\"],[0.2222222222222222,\"#7201a8\"],[0.3333333333333333,\"#9c179e\"],[0.4444444444444444,\"#bd3786\"],[0.5555555555555556,\"#d8576b\"],[0.6666666666666666,\"#ed7953\"],[0.7777777777777778,\"#fb9f3a\"],[0.8888888888888888,\"#fdca26\"],[1.0,\"#f0f921\"]],\"sequentialminus\":[[0.0,\"#0d0887\"],[0.1111111111111111,\"#46039f\"],[0.2222222222222222,\"#7201a8\"],[0.3333333333333333,\"#9c179e\"],[0.4444444444444444,\"#bd3786\"],[0.5555555555555556,\"#d8576b\"],[0.6666666666666666,\"#ed7953\"],[0.7777777777777778,\"#fb9f3a\"],[0.8888888888888888,\"#fdca26\"],[1.0,\"#f0f921\"]]},\"colorway\":[\"#636efa\",\"#EF553B\",\"#00cc96\",\"#ab63fa\",\"#FFA15A\",\"#19d3f3\",\"#FF6692\",\"#B6E880\",\"#FF97FF\",\"#FECB52\"],\"font\":{\"color\":\"#2a3f5f\"},\"geo\":{\"bgcolor\":\"white\",\"lakecolor\":\"white\",\"landcolor\":\"#E5ECF6\",\"showlakes\":true,\"showland\":true,\"subunitcolor\":\"white\"},\"hoverlabel\":{\"align\":\"left\"},\"hovermode\":\"closest\",\"mapbox\":{\"style\":\"light\"},\"paper_bgcolor\":\"white\",\"plot_bgcolor\":\"#E5ECF6\",\"polar\":{\"angularaxis\":{\"gridcolor\":\"white\",\"linecolor\":\"white\",\"ticks\":\"\"},\"bgcolor\":\"#E5ECF6\",\"radialaxis\":{\"gridcolor\":\"white\",\"linecolor\":\"white\",\"ticks\":\"\"}},\"scene\":{\"xaxis\":{\"backgroundcolor\":\"#E5ECF6\",\"gridcolor\":\"white\",\"gridwidth\":2,\"linecolor\":\"white\",\"showbackground\":true,\"ticks\":\"\",\"zerolinecolor\":\"white\"},\"yaxis\":{\"backgroundcolor\":\"#E5ECF6\",\"gridcolor\":\"white\",\"gridwidth\":2,\"linecolor\":\"white\",\"showbackground\":true,\"ticks\":\"\",\"zerolinecolor\":\"white\"},\"zaxis\":{\"backgroundcolor\":\"#E5ECF6\",\"gridcolor\":\"white\",\"gridwidth\":2,\"linecolor\":\"white\",\"showbackground\":true,\"ticks\":\"\",\"zerolinecolor\":\"white\"}},\"shapedefaults\":{\"line\":{\"color\":\"#2a3f5f\"}},\"ternary\":{\"aaxis\":{\"gridcolor\":\"white\",\"linecolor\":\"white\",\"ticks\":\"\"},\"baxis\":{\"gridcolor\":\"white\",\"linecolor\":\"white\",\"ticks\":\"\"},\"bgcolor\":\"#E5ECF6\",\"caxis\":{\"gridcolor\":\"white\",\"linecolor\":\"white\",\"ticks\":\"\"}},\"title\":{\"x\":0.05},\"xaxis\":{\"automargin\":true,\"gridcolor\":\"white\",\"linecolor\":\"white\",\"ticks\":\"\",\"title\":{\"standoff\":15},\"zerolinecolor\":\"white\",\"zerolinewidth\":2},\"yaxis\":{\"automargin\":true,\"gridcolor\":\"white\",\"linecolor\":\"white\",\"ticks\":\"\",\"title\":{\"standoff\":15},\"zerolinecolor\":\"white\",\"zerolinewidth\":2}}}},                        {\"responsive\": true}                    ).then(function(){\n",
       "                            \n",
       "var gd = document.getElementById('240d6efd-4b78-4985-87fd-438cc359c9ba');\n",
       "var x = new MutationObserver(function (mutations, observer) {{\n",
       "        var display = window.getComputedStyle(gd).display;\n",
       "        if (!display || display === 'none') {{\n",
       "            console.log([gd, 'removed!']);\n",
       "            Plotly.purge(gd);\n",
       "            observer.disconnect();\n",
       "        }}\n",
       "}});\n",
       "\n",
       "// Listen for the removal of the full notebook cells\n",
       "var notebookContainer = gd.closest('#notebook-container');\n",
       "if (notebookContainer) {{\n",
       "    x.observe(notebookContainer, {childList: true});\n",
       "}}\n",
       "\n",
       "// Listen for the clearing of the current output cell\n",
       "var outputEl = gd.closest('.output');\n",
       "if (outputEl) {{\n",
       "    x.observe(outputEl, {childList: true});\n",
       "}}\n",
       "\n",
       "                        })                };                });            </script>        </div>"
      ]
     },
     "metadata": {}
    }
   ],
   "metadata": {}
  },
  {
   "cell_type": "markdown",
   "source": [
    "#### Creator: Shreepad Nade , Github: [Profile](https://github.com/shreepad-nade)\n"
   ],
   "metadata": {}
  }
 ],
 "metadata": {
  "kernelspec": {
   "display_name": "Python 3",
   "language": "python",
   "name": "python3"
  },
  "language_info": {
   "codemirror_mode": {
    "name": "ipython",
    "version": 3
   },
   "file_extension": ".py",
   "mimetype": "text/x-python",
   "name": "python",
   "nbconvert_exporter": "python",
   "pygments_lexer": "ipython3",
   "version": "3.7.4"
  }
 },
 "nbformat": 4,
 "nbformat_minor": 4
}