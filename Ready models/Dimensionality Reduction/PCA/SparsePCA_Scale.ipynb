{
  "nbformat": 4,
  "nbformat_minor": 2,
  "metadata": {
    "colab": {
      "name": "SparsePCA_Scale",
      "provenance": [],
      "collapsed_sections": []
    },
    "interpreter": {
      "hash": "51a9663a131f1b5758c45b97a2d6917c8ae86b33e231c3733631cbc7265cfc89"
    },
    "kernelspec": {
      "display_name": "Python 3.8.5 64-bit ('base': conda)",
      "name": "python3"
    },
    "language_info": {
      "codemirror_mode": {
        "name": "ipython",
        "version": 3
      },
      "file_extension": ".py",
      "mimetype": "text/x-python",
      "name": "python",
      "nbconvert_exporter": "python",
      "pygments_lexer": "ipython3",
      "version": "3.8.5"
    }
  },
  "cells": [
    {
      "cell_type": "markdown",
      "source": [
        "# Sparse PCA with Scale"
      ],
      "metadata": {
        "id": "BU9UnssfV1xx"
      }
    },
    {
      "cell_type": "markdown",
      "source": [
        "This code template is for Sparse Principal Component Analysis(SparsePCA) along with Scale in python for dimensionality reduction technique and Data Rescaling. It is used to decompose a multivariate dataset into a set of successive orthogonal components that explain a maximum amount of the variance, keeping only the most significant singular vectors to project the data to a lower dimensional space."
      ],
      "metadata": {
        "id": "N-aX_sKYV1xz"
      }
    },
    {
      "cell_type": "markdown",
      "source": [
        "### Required Packages"
      ],
      "metadata": {
        "id": "k0truTG9V1x0"
      }
    },
    {
      "cell_type": "code",
      "execution_count": null,
      "source": [
        "!pip install imblearn"
      ],
      "outputs": [],
      "metadata": {
        "id": "C1v6aRtZP-68"
      }
    },
    {
      "cell_type": "code",
      "execution_count": 2,
      "source": [
        "import warnings \r\n",
        "import itertools\r\n",
        "import numpy as np \r\n",
        "import pandas as pd \r\n",
        "import seaborn as se \r\n",
        "import matplotlib.pyplot as plt \r\n",
        "import matplotlib.pyplot as plt\r\n",
        "from mpl_toolkits import mplot3d\r\n",
        "from sklearn.preprocessing import LabelEncoder,scale\r\n",
        "from sklearn.decomposition import SparsePCA\r\n",
        "from numpy.linalg import eigh\r\n",
        "warnings.filterwarnings('ignore')"
      ],
      "outputs": [],
      "metadata": {
        "id": "xfjzlV9cV1x2"
      }
    },
    {
      "cell_type": "markdown",
      "source": [
        "### Initialization\n",
        "\n",
        "Filepath of CSV file"
      ],
      "metadata": {
        "id": "ZjTEeaGXV1x5"
      }
    },
    {
      "cell_type": "code",
      "execution_count": 3,
      "source": [
        "#filepath\r\n",
        "file_path= \"\""
      ],
      "outputs": [],
      "metadata": {
        "id": "gv4LBASdV1x5"
      }
    },
    {
      "cell_type": "markdown",
      "source": [
        "List of features which are  required for model training ."
      ],
      "metadata": {
        "id": "6YpEXUzmV1x6"
      }
    },
    {
      "cell_type": "code",
      "execution_count": 4,
      "source": [
        "#x_values\n",
        "features=[]"
      ],
      "outputs": [],
      "metadata": {
        "id": "e9jVhWy5V1x6"
      }
    },
    {
      "cell_type": "markdown",
      "source": [
        "Target feature for prediction."
      ],
      "metadata": {
        "id": "irUIO56cmIaw"
      }
    },
    {
      "cell_type": "code",
      "execution_count": 5,
      "source": [
        "#y_value\n",
        "target=''"
      ],
      "outputs": [],
      "metadata": {
        "id": "xkz_2V-LmIwm"
      }
    },
    {
      "cell_type": "markdown",
      "source": [
        "### Data Fetching\n",
        "\n",
        "Pandas is an open-source, BSD-licensed library providing high-performance, easy-to-use data manipulation and data analysis tools.\n",
        "\n",
        "We will use panda's library to read the CSV file using its storage path.And we use the head function to display the initial row or entry."
      ],
      "metadata": {
        "id": "xYhOYWMWV1x9"
      }
    },
    {
      "cell_type": "code",
      "execution_count": 6,
      "source": [
        "df=pd.read_csv(file_path)\n",
        "df.head()"
      ],
      "outputs": [
        {
          "output_type": "execute_result",
          "data": {
            "text/html": [
              "<div>\n",
              "<style scoped>\n",
              "    .dataframe tbody tr th:only-of-type {\n",
              "        vertical-align: middle;\n",
              "    }\n",
              "\n",
              "    .dataframe tbody tr th {\n",
              "        vertical-align: top;\n",
              "    }\n",
              "\n",
              "    .dataframe thead th {\n",
              "        text-align: right;\n",
              "    }\n",
              "</style>\n",
              "<table border=\"1\" class=\"dataframe\">\n",
              "  <thead>\n",
              "    <tr style=\"text-align: right;\">\n",
              "      <th></th>\n",
              "      <th>column_a</th>\n",
              "      <th>column_b</th>\n",
              "      <th>column_c</th>\n",
              "      <th>column_d</th>\n",
              "      <th>column_e</th>\n",
              "      <th>column_f</th>\n",
              "      <th>column_g</th>\n",
              "      <th>column_h</th>\n",
              "      <th>column_i</th>\n",
              "      <th>column_j</th>\n",
              "      <th>column_k</th>\n",
              "    </tr>\n",
              "  </thead>\n",
              "  <tbody>\n",
              "    <tr>\n",
              "      <th>0</th>\n",
              "      <td>1</td>\n",
              "      <td>1.52101</td>\n",
              "      <td>13.64</td>\n",
              "      <td>4.49</td>\n",
              "      <td>1.10</td>\n",
              "      <td>71.78</td>\n",
              "      <td>0.06</td>\n",
              "      <td>8.75</td>\n",
              "      <td>0.0</td>\n",
              "      <td>0.0</td>\n",
              "      <td>1</td>\n",
              "    </tr>\n",
              "    <tr>\n",
              "      <th>1</th>\n",
              "      <td>2</td>\n",
              "      <td>1.51761</td>\n",
              "      <td>13.89</td>\n",
              "      <td>3.60</td>\n",
              "      <td>1.36</td>\n",
              "      <td>72.73</td>\n",
              "      <td>0.48</td>\n",
              "      <td>7.83</td>\n",
              "      <td>0.0</td>\n",
              "      <td>0.0</td>\n",
              "      <td>1</td>\n",
              "    </tr>\n",
              "    <tr>\n",
              "      <th>2</th>\n",
              "      <td>3</td>\n",
              "      <td>1.51618</td>\n",
              "      <td>13.53</td>\n",
              "      <td>3.55</td>\n",
              "      <td>1.54</td>\n",
              "      <td>72.99</td>\n",
              "      <td>0.39</td>\n",
              "      <td>7.78</td>\n",
              "      <td>0.0</td>\n",
              "      <td>0.0</td>\n",
              "      <td>1</td>\n",
              "    </tr>\n",
              "    <tr>\n",
              "      <th>3</th>\n",
              "      <td>4</td>\n",
              "      <td>1.51766</td>\n",
              "      <td>13.21</td>\n",
              "      <td>3.69</td>\n",
              "      <td>1.29</td>\n",
              "      <td>72.61</td>\n",
              "      <td>0.57</td>\n",
              "      <td>8.22</td>\n",
              "      <td>0.0</td>\n",
              "      <td>0.0</td>\n",
              "      <td>1</td>\n",
              "    </tr>\n",
              "    <tr>\n",
              "      <th>4</th>\n",
              "      <td>5</td>\n",
              "      <td>1.51742</td>\n",
              "      <td>13.27</td>\n",
              "      <td>3.62</td>\n",
              "      <td>1.24</td>\n",
              "      <td>73.08</td>\n",
              "      <td>0.55</td>\n",
              "      <td>8.07</td>\n",
              "      <td>0.0</td>\n",
              "      <td>0.0</td>\n",
              "      <td>1</td>\n",
              "    </tr>\n",
              "  </tbody>\n",
              "</table>\n",
              "</div>"
            ],
            "text/plain": [
              "   column_a  column_b  column_c  ...  column_i  column_j  column_k\n",
              "0         1   1.52101     13.64  ...       0.0       0.0         1\n",
              "1         2   1.51761     13.89  ...       0.0       0.0         1\n",
              "2         3   1.51618     13.53  ...       0.0       0.0         1\n",
              "3         4   1.51766     13.21  ...       0.0       0.0         1\n",
              "4         5   1.51742     13.27  ...       0.0       0.0         1\n",
              "\n",
              "[5 rows x 11 columns]"
            ]
          },
          "metadata": {},
          "execution_count": 6
        }
      ],
      "metadata": {
        "colab": {
          "base_uri": "https://localhost:8080/",
          "height": 206
        },
        "id": "_L7eV26zV1x9",
        "outputId": "f555147c-69b2-4935-dd51-3f40f760329a"
      }
    },
    {
      "cell_type": "markdown",
      "source": [
        "### Feature Selections\n",
        "\n",
        "It is the process of reducing the number of input variables when developing a predictive model. Used to reduce the number of input variables to both reduce the computational cost of modelling and, in some cases, to improve the performance of the model.\n",
        "\n",
        "We will assign all the required input features to X and target/outcome to Y."
      ],
      "metadata": {
        "id": "3inHNcAtV1x-"
      }
    },
    {
      "cell_type": "code",
      "execution_count": 8,
      "source": [
        "X=df[features]\n",
        "Y = df[target]"
      ],
      "outputs": [],
      "metadata": {
        "id": "zHg0ASjPV1x-"
      }
    },
    {
      "cell_type": "markdown",
      "source": [
        "### Data Preprocessing\n",
        "\n",
        "Since the majority of the machine learning models in the Sklearn library doesn't handle string category data and Null value, we have to explicitly remove or replace null values. The below snippet have functions, which removes the null value if any exists. And convert the string classes data in the datasets by encoding them to integer classes.\n"
      ],
      "metadata": {
        "id": "_ayl8gjzV1x-"
      }
    },
    {
      "cell_type": "code",
      "execution_count": 9,
      "source": [
        "def NullClearner(df):\n",
        "    if(isinstance(df, pd.Series) and (df.dtype in [\"float64\",\"int64\"])):\n",
        "        df.fillna(df.mean(),inplace=True)\n",
        "        return df\n",
        "    elif(isinstance(df, pd.Series)):\n",
        "        df.fillna(df.mode()[0],inplace=True)\n",
        "        return df\n",
        "    else:return df\n",
        "def EncodeX(df):\n",
        "    return pd.get_dummies(df)\n"
      ],
      "outputs": [],
      "metadata": {
        "id": "rwt-mZL9V1yA"
      }
    },
    {
      "cell_type": "markdown",
      "source": [
        "Calling preprocessing functions on the feature and target set.\n"
      ],
      "metadata": {
        "id": "r0TEz9a6V1yA"
      }
    },
    {
      "cell_type": "code",
      "execution_count": 10,
      "source": [
        "x=X.columns.to_list()\n",
        "for i in x:\n",
        "    X[i]=NullClearner(X[i])  \n",
        "X=EncodeX(X)\n",
        "X.head()"
      ],
      "outputs": [
        {
          "output_type": "execute_result",
          "data": {
            "text/html": [
              "<div>\n",
              "<style scoped>\n",
              "    .dataframe tbody tr th:only-of-type {\n",
              "        vertical-align: middle;\n",
              "    }\n",
              "\n",
              "    .dataframe tbody tr th {\n",
              "        vertical-align: top;\n",
              "    }\n",
              "\n",
              "    .dataframe thead th {\n",
              "        text-align: right;\n",
              "    }\n",
              "</style>\n",
              "<table border=\"1\" class=\"dataframe\">\n",
              "  <thead>\n",
              "    <tr style=\"text-align: right;\">\n",
              "      <th></th>\n",
              "      <th>column_a</th>\n",
              "      <th>column_b</th>\n",
              "      <th>column_c</th>\n",
              "      <th>column_d</th>\n",
              "      <th>column_e</th>\n",
              "      <th>column_f</th>\n",
              "      <th>column_g</th>\n",
              "      <th>column_h</th>\n",
              "      <th>column_i</th>\n",
              "      <th>column_j</th>\n",
              "    </tr>\n",
              "  </thead>\n",
              "  <tbody>\n",
              "    <tr>\n",
              "      <th>0</th>\n",
              "      <td>1</td>\n",
              "      <td>1.52101</td>\n",
              "      <td>13.64</td>\n",
              "      <td>4.49</td>\n",
              "      <td>1.10</td>\n",
              "      <td>71.78</td>\n",
              "      <td>0.06</td>\n",
              "      <td>8.75</td>\n",
              "      <td>0.0</td>\n",
              "      <td>0.0</td>\n",
              "    </tr>\n",
              "    <tr>\n",
              "      <th>1</th>\n",
              "      <td>2</td>\n",
              "      <td>1.51761</td>\n",
              "      <td>13.89</td>\n",
              "      <td>3.60</td>\n",
              "      <td>1.36</td>\n",
              "      <td>72.73</td>\n",
              "      <td>0.48</td>\n",
              "      <td>7.83</td>\n",
              "      <td>0.0</td>\n",
              "      <td>0.0</td>\n",
              "    </tr>\n",
              "    <tr>\n",
              "      <th>2</th>\n",
              "      <td>3</td>\n",
              "      <td>1.51618</td>\n",
              "      <td>13.53</td>\n",
              "      <td>3.55</td>\n",
              "      <td>1.54</td>\n",
              "      <td>72.99</td>\n",
              "      <td>0.39</td>\n",
              "      <td>7.78</td>\n",
              "      <td>0.0</td>\n",
              "      <td>0.0</td>\n",
              "    </tr>\n",
              "    <tr>\n",
              "      <th>3</th>\n",
              "      <td>4</td>\n",
              "      <td>1.51766</td>\n",
              "      <td>13.21</td>\n",
              "      <td>3.69</td>\n",
              "      <td>1.29</td>\n",
              "      <td>72.61</td>\n",
              "      <td>0.57</td>\n",
              "      <td>8.22</td>\n",
              "      <td>0.0</td>\n",
              "      <td>0.0</td>\n",
              "    </tr>\n",
              "    <tr>\n",
              "      <th>4</th>\n",
              "      <td>5</td>\n",
              "      <td>1.51742</td>\n",
              "      <td>13.27</td>\n",
              "      <td>3.62</td>\n",
              "      <td>1.24</td>\n",
              "      <td>73.08</td>\n",
              "      <td>0.55</td>\n",
              "      <td>8.07</td>\n",
              "      <td>0.0</td>\n",
              "      <td>0.0</td>\n",
              "    </tr>\n",
              "  </tbody>\n",
              "</table>\n",
              "</div>"
            ],
            "text/plain": [
              "   column_a  column_b  column_c  ...  column_h  column_i  column_j\n",
              "0         1   1.52101     13.64  ...      8.75       0.0       0.0\n",
              "1         2   1.51761     13.89  ...      7.83       0.0       0.0\n",
              "2         3   1.51618     13.53  ...      7.78       0.0       0.0\n",
              "3         4   1.51766     13.21  ...      8.22       0.0       0.0\n",
              "4         5   1.51742     13.27  ...      8.07       0.0       0.0\n",
              "\n",
              "[5 rows x 10 columns]"
            ]
          },
          "metadata": {},
          "execution_count": 10
        }
      ],
      "metadata": {
        "colab": {
          "base_uri": "https://localhost:8080/",
          "height": 206
        },
        "id": "oIPoX7xpV1yB",
        "outputId": "e1103fb8-1d24-4394-a482-fc12ba76a423"
      }
    },
    {
      "cell_type": "markdown",
      "source": [
        "### Correlation Map\n",
        "In order to check the correlation between the features, we will plot a correlation matrix. It is effective in summarizing a large amount of data where the goal is to see patterns.\n"
      ],
      "metadata": {
        "id": "455N6YKxmgIX"
      }
    },
    {
      "cell_type": "code",
      "execution_count": 11,
      "source": [
        "f,ax = plt.subplots(figsize=(18, 18))\n",
        "matrix = np.triu(X.corr())\n",
        "se.heatmap(X.corr(), annot=True, linewidths=.5, fmt= '.1f',ax=ax, mask=matrix)\n",
        "plt.show()"
      ],
      "outputs": [
        {
          "output_type": "display_data",
          "data": {
            "image/png": "[encoded data removed]",
            "text/plain": [
              "<Figure size 1296x1296 with 2 Axes>"
            ]
          },
          "metadata": {
            "needs_background": "light"
          }
        }
      ],
      "metadata": {
        "colab": {
          "base_uri": "https://localhost:8080/",
          "height": 1000
        },
        "id": "n5dc02oymgzO",
        "outputId": "3146ce47-37a1-4e63-9c68-e662c4e37d19"
      }
    },
    {
      "cell_type": "markdown",
      "source": [
        "#### Rescaling technique\n",
        "\n",
        "#### Scale:\n",
        "\n",
        "Standardize a dataset along any axis. Center to the mean and component wise scale to unit variance.\n",
        "\n",
        "For more information [click here](https://scikit-learn.org/stable/modules/generated/sklearn.preprocessing.scale.html)"
      ],
      "metadata": {
        "id": "7WYK1RC6yyDB"
      }
    },
    {
      "cell_type": "code",
      "execution_count": 12,
      "source": [
        "X_Scaled=scale(X)\n",
        "X_Scaled=pd.DataFrame(data = X_Scaled,columns = X.columns)\n",
        "X_Scaled.head()"
      ],
      "outputs": [
        {
          "output_type": "execute_result",
          "data": {
            "text/html": [
              "<div>\n",
              "<style scoped>\n",
              "    .dataframe tbody tr th:only-of-type {\n",
              "        vertical-align: middle;\n",
              "    }\n",
              "\n",
              "    .dataframe tbody tr th {\n",
              "        vertical-align: top;\n",
              "    }\n",
              "\n",
              "    .dataframe thead th {\n",
              "        text-align: right;\n",
              "    }\n",
              "</style>\n",
              "<table border=\"1\" class=\"dataframe\">\n",
              "  <thead>\n",
              "    <tr style=\"text-align: right;\">\n",
              "      <th></th>\n",
              "      <th>column_a</th>\n",
              "      <th>column_b</th>\n",
              "      <th>column_c</th>\n",
              "      <th>column_d</th>\n",
              "      <th>column_e</th>\n",
              "      <th>column_f</th>\n",
              "      <th>column_g</th>\n",
              "      <th>column_h</th>\n",
              "      <th>column_i</th>\n",
              "      <th>column_j</th>\n",
              "    </tr>\n",
              "  </thead>\n",
              "  <tbody>\n",
              "    <tr>\n",
              "      <th>0</th>\n",
              "      <td>-1.723976</td>\n",
              "      <td>0.872868</td>\n",
              "      <td>0.284953</td>\n",
              "      <td>1.254639</td>\n",
              "      <td>-0.692442</td>\n",
              "      <td>-1.127082</td>\n",
              "      <td>-0.671705</td>\n",
              "      <td>-0.145766</td>\n",
              "      <td>-0.352877</td>\n",
              "      <td>-0.586451</td>\n",
              "    </tr>\n",
              "    <tr>\n",
              "      <th>1</th>\n",
              "      <td>-1.707788</td>\n",
              "      <td>-0.249333</td>\n",
              "      <td>0.591817</td>\n",
              "      <td>0.636168</td>\n",
              "      <td>-0.170460</td>\n",
              "      <td>0.102319</td>\n",
              "      <td>-0.026213</td>\n",
              "      <td>-0.793734</td>\n",
              "      <td>-0.352877</td>\n",
              "      <td>-0.586451</td>\n",
              "    </tr>\n",
              "    <tr>\n",
              "      <th>2</th>\n",
              "      <td>-1.691601</td>\n",
              "      <td>-0.721318</td>\n",
              "      <td>0.149933</td>\n",
              "      <td>0.601422</td>\n",
              "      <td>0.190912</td>\n",
              "      <td>0.438787</td>\n",
              "      <td>-0.164533</td>\n",
              "      <td>-0.828949</td>\n",
              "      <td>-0.352877</td>\n",
              "      <td>-0.586451</td>\n",
              "    </tr>\n",
              "    <tr>\n",
              "      <th>3</th>\n",
              "      <td>-1.675413</td>\n",
              "      <td>-0.232831</td>\n",
              "      <td>-0.242853</td>\n",
              "      <td>0.698710</td>\n",
              "      <td>-0.310994</td>\n",
              "      <td>-0.052974</td>\n",
              "      <td>0.112107</td>\n",
              "      <td>-0.519052</td>\n",
              "      <td>-0.352877</td>\n",
              "      <td>-0.586451</td>\n",
              "    </tr>\n",
              "    <tr>\n",
              "      <th>4</th>\n",
              "      <td>-1.659226</td>\n",
              "      <td>-0.312045</td>\n",
              "      <td>-0.169205</td>\n",
              "      <td>0.650066</td>\n",
              "      <td>-0.411375</td>\n",
              "      <td>0.555256</td>\n",
              "      <td>0.081369</td>\n",
              "      <td>-0.624699</td>\n",
              "      <td>-0.352877</td>\n",
              "      <td>-0.586451</td>\n",
              "    </tr>\n",
              "  </tbody>\n",
              "</table>\n",
              "</div>"
            ],
            "text/plain": [
              "   column_a  column_b  column_c  ...  column_h  column_i  column_j\n",
              "0 -1.723976  0.872868  0.284953  ... -0.145766 -0.352877 -0.586451\n",
              "1 -1.707788 -0.249333  0.591817  ... -0.793734 -0.352877 -0.586451\n",
              "2 -1.691601 -0.721318  0.149933  ... -0.828949 -0.352877 -0.586451\n",
              "3 -1.675413 -0.232831 -0.242853  ... -0.519052 -0.352877 -0.586451\n",
              "4 -1.659226 -0.312045 -0.169205  ... -0.624699 -0.352877 -0.586451\n",
              "\n",
              "[5 rows x 10 columns]"
            ]
          },
          "metadata": {},
          "execution_count": 12
        }
      ],
      "metadata": {
        "colab": {
          "base_uri": "https://localhost:8080/",
          "height": 206
        },
        "id": "wdm4ANr_y1jq",
        "outputId": "6484205d-25d2-4743-d832-95786a403dfd"
      }
    },
    {
      "cell_type": "markdown",
      "source": [
        "\n",
        "### Choosing the number of components\n",
        "\n",
        "A vital part of using Sparse PCA in practice is the ability to estimate how many components are needed to describe the data. This can be determined by looking at the cumulative explained variance ratio as a function of the number of components.\n",
        "\n",
        "This curve quantifies how much of the total, dimensional variance is contained within the first N components.\n"
      ],
      "metadata": {
        "id": "PLvC6dgyxry_"
      }
    },
    {
      "cell_type": "markdown",
      "source": [
        "\n",
        "### Explained Variance\n",
        "\n",
        "Explained variance refers to the variance explained by each of the principal components (eigenvectors). It can be represented as a function of ratio of related eigenvalue and sum of eigenvalues of all eigenvectors.\n",
        "\n",
        "The function below returns a list with the values of explained variance and also plots cumulative explained variance\n"
      ],
      "metadata": {
        "id": "luCqrZhNxtYx"
      }
    },
    {
      "cell_type": "code",
      "execution_count": 13,
      "source": [
        "def explained_variance_plot(X):\n",
        "    cov_matrix = np.cov(X, rowvar=False) #this function returns the co-variance matrix for the features \n",
        "    egnvalues, egnvectors = eigh(cov_matrix) #eigen decomposition is done here to fetch eigen-values and eigen-vectos\n",
        "    total_egnvalues = sum(egnvalues)\n",
        "    var_exp = [(i/total_egnvalues) for i in sorted(egnvalues, reverse=True)]\n",
        "    plt.plot(np.cumsum(var_exp))\n",
        "    plt.xlabel('number of components')\n",
        "    plt.ylabel('cumulative explained variance');\n",
        "    return var_exp"
      ],
      "outputs": [],
      "metadata": {
        "id": "W9YP3GZyxxTL"
      }
    },
    {
      "cell_type": "code",
      "execution_count": 14,
      "source": [
        "var_exp=explained_variance_plot(X)"
      ],
      "outputs": [
        {
          "output_type": "display_data",
          "data": {
            "image/png": "[encoded data removed]",
            "text/plain": [
              "<Figure size 432x288 with 1 Axes>"
            ]
          },
          "metadata": {
            "needs_background": "light"
          }
        }
      ],
      "metadata": {
        "colab": {
          "base_uri": "https://localhost:8080/",
          "height": 279
        },
        "id": "I6Mfvi7Sxztw",
        "outputId": "53297bf7-c315-48ab-b977-f10f1d2623c0"
      }
    },
    {
      "cell_type": "markdown",
      "source": [
        "\n",
        "#### Scree plot\n",
        "\n",
        "The scree plot helps you to determine the optimal number of components. The eigenvalue of each component in the initial solution is plotted. Generally, you want to extract the components on the steep slope. The components on the shallow slope contribute little to the solution.\n"
      ],
      "metadata": {
        "id": "tlmLA3-zx25J"
      }
    },
    {
      "cell_type": "code",
      "execution_count": 15,
      "source": [
        "plt.plot(var_exp, 'ro-', linewidth=2)\n",
        "plt.title('Scree Plot')\n",
        "plt.xlabel('Principal Component')\n",
        "plt.ylabel('Proportion of Variance Explained')\n",
        "plt.show()"
      ],
      "outputs": [
        {
          "output_type": "display_data",
          "data": {
            "image/png": "[encoded data removed]",
            "text/plain": [
              "<Figure size 432x288 with 1 Axes>"
            ]
          },
          "metadata": {
            "needs_background": "light"
          }
        }
      ],
      "metadata": {
        "colab": {
          "base_uri": "https://localhost:8080/",
          "height": 295
        },
        "id": "pryC5jSZx4Wx",
        "outputId": "391c0c92-bc25-4120-8e58-a83f60f793ac"
      }
    },
    {
      "cell_type": "markdown",
      "source": [
        "\n",
        "### Model\n",
        "\n",
        "Sparse PCA is used to decompose a multivariate dataset in a set of successive orthogonal components that explain a maximum amount of the variance. In scikit-learn, Sparse PCA finds the set of sparse components that can optimally reconstruct the data. The amount of sparseness is controllable by the coefficient of the L1 penalty, given by the parameter alpha.\n",
        "\n",
        "    #### Tunning parameters reference :\n",
        "\n",
        "[API](https://scikit-learn.org/stable/modules/generated/sklearn.decomposition.SparsePCA.html)\n",
        "\n"
      ],
      "metadata": {
        "id": "xxCm0hYInEnm"
      }
    },
    {
      "cell_type": "code",
      "execution_count": 18,
      "source": [
        "spca = SparsePCA(n_components=6)\n",
        "spcaX = pd.DataFrame(data = spca.fit_transform(X_Scaled))"
      ],
      "outputs": [],
      "metadata": {
        "id": "-CSGg1eHnlCX"
      }
    },
    {
      "cell_type": "markdown",
      "source": [
        "### Output Dataframe"
      ],
      "metadata": {
        "id": "Nu_YufjLyTDR"
      }
    },
    {
      "cell_type": "code",
      "execution_count": 19,
      "source": [
        "finalDf = pd.concat([spcaX, Y], axis = 1)\n",
        "finalDf.head()"
      ],
      "outputs": [
        {
          "output_type": "execute_result",
          "data": {
            "text/html": [
              "<div>\n",
              "<style scoped>\n",
              "    .dataframe tbody tr th:only-of-type {\n",
              "        vertical-align: middle;\n",
              "    }\n",
              "\n",
              "    .dataframe tbody tr th {\n",
              "        vertical-align: top;\n",
              "    }\n",
              "\n",
              "    .dataframe thead th {\n",
              "        text-align: right;\n",
              "    }\n",
              "</style>\n",
              "<table border=\"1\" class=\"dataframe\">\n",
              "  <thead>\n",
              "    <tr style=\"text-align: right;\">\n",
              "      <th></th>\n",
              "      <th>0</th>\n",
              "      <th>1</th>\n",
              "      <th>2</th>\n",
              "      <th>3</th>\n",
              "      <th>4</th>\n",
              "      <th>5</th>\n",
              "      <th>column_k</th>\n",
              "    </tr>\n",
              "  </thead>\n",
              "  <tbody>\n",
              "    <tr>\n",
              "      <th>0</th>\n",
              "      <td>2.025329</td>\n",
              "      <td>0.016080</td>\n",
              "      <td>1.109877</td>\n",
              "      <td>1.389503</td>\n",
              "      <td>0.586988</td>\n",
              "      <td>0.212979</td>\n",
              "      <td>1</td>\n",
              "    </tr>\n",
              "    <tr>\n",
              "      <th>1</th>\n",
              "      <td>1.376483</td>\n",
              "      <td>1.038602</td>\n",
              "      <td>0.317016</td>\n",
              "      <td>0.079004</td>\n",
              "      <td>0.594244</td>\n",
              "      <td>0.164932</td>\n",
              "      <td>1</td>\n",
              "    </tr>\n",
              "    <tr>\n",
              "      <th>2</th>\n",
              "      <td>1.400589</td>\n",
              "      <td>1.124267</td>\n",
              "      <td>0.032486</td>\n",
              "      <td>-0.473331</td>\n",
              "      <td>0.588119</td>\n",
              "      <td>0.071230</td>\n",
              "      <td>1</td>\n",
              "    </tr>\n",
              "    <tr>\n",
              "      <th>3</th>\n",
              "      <td>1.678228</td>\n",
              "      <td>0.542896</td>\n",
              "      <td>-0.076728</td>\n",
              "      <td>0.070438</td>\n",
              "      <td>0.585992</td>\n",
              "      <td>0.224097</td>\n",
              "      <td>1</td>\n",
              "    </tr>\n",
              "    <tr>\n",
              "      <th>4</th>\n",
              "      <td>1.643951</td>\n",
              "      <td>0.604672</td>\n",
              "      <td>0.018479</td>\n",
              "      <td>-0.492229</td>\n",
              "      <td>0.588397</td>\n",
              "      <td>0.254852</td>\n",
              "      <td>1</td>\n",
              "    </tr>\n",
              "  </tbody>\n",
              "</table>\n",
              "</div>"
            ],
            "text/plain": [
              "          0         1         2         3         4         5  column_k\n",
              "0  2.025329  0.016080  1.109877  1.389503  0.586988  0.212979         1\n",
              "1  1.376483  1.038602  0.317016  0.079004  0.594244  0.164932         1\n",
              "2  1.400589  1.124267  0.032486 -0.473331  0.588119  0.071230         1\n",
              "3  1.678228  0.542896 -0.076728  0.070438  0.585992  0.224097         1\n",
              "4  1.643951  0.604672  0.018479 -0.492229  0.588397  0.254852         1"
            ]
          },
          "metadata": {},
          "execution_count": 19
        }
      ],
      "metadata": {
        "colab": {
          "base_uri": "https://localhost:8080/",
          "height": 206
        },
        "id": "EbZAdFBayUSZ",
        "outputId": "78cacfa0-34d5-492a-b3de-2cb65228bbde"
      }
    },
    {
      "cell_type": "markdown",
      "source": [
        "#### Creator: Arpit Somani , Github: [Profile](https://github.com/arpitsomani8)\n"
      ],
      "metadata": {
        "id": "gvZNHfDbV1yF"
      }
    }
  ]
}