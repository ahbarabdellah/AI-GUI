{
 "cells": [
  {
   "cell_type": "markdown",
   "source": [
    "# TruncatedSVD with MaxAbsScaler"
   ],
   "metadata": {}
  },
  {
   "cell_type": "markdown",
   "source": [
    "This code template is for simple TruncatedSVD in python for dimensionality reduction technique with MaxAbsScaler feature scaling. It is used to decompose a multivariate dataset into a set of successive orthogonal components that explain a maximum amount of the variance."
   ],
   "metadata": {}
  },
  {
   "cell_type": "markdown",
   "source": [
    "### Coming Soon"
   ],
   "metadata": {}
  }
 ],
 "metadata": {
  "orig_nbformat": 4,
  "language_info": {
   "name": "python"
  }
 },
 "nbformat": 4,
 "nbformat_minor": 2
}