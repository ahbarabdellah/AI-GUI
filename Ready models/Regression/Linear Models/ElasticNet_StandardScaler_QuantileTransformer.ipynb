{
  "nbformat": 4,
  "nbformat_minor": 0,
  "metadata": {
    "kernelspec": {
      "display_name": "Python 3",
      "language": "python",
      "name": "python3"
    },
    "language_info": {
      "codemirror_mode": {
        "name": "ipython",
        "version": 3
      },
      "file_extension": ".py",
      "mimetype": "text/x-python",
      "name": "python",
      "nbconvert_exporter": "python",
      "pygments_lexer": "ipython3",
      "version": "3.7.6"
    },
    "colab": {
      "name": "ElasticNet_StandardScaler_QuantileTransformer.ipynb",
      "provenance": []
    }
  },
  "cells": [
    {
      "cell_type": "markdown",
      "metadata": {
        "id": "g4fJD15lByco"
      },
      "source": [
        "# ElasticNet with RobustScaler & Quantile Transformer"
      ]
    },
    {
      "cell_type": "markdown",
      "metadata": {
        "id": "N7DfAHQOBycs"
      },
      "source": [
        "This Code template is for the regression analysis using a ElasticNet with feature transformation technique Quantile Transformer and feature rescaling technique Standard Scaler "
      ]
    },
    {
      "cell_type": "markdown",
      "metadata": {
        "id": "Wq5otX7tByct"
      },
      "source": [
        "### Required Packages"
      ]
    },
    {
      "cell_type": "code",
      "metadata": {
        "id": "gU2warhgByct"
      },
      "source": [
        "import warnings\n",
        "import numpy as np \n",
        "import pandas as pd \n",
        "import seaborn as se \n",
        "import matplotlib.pyplot as plt \n",
        "from sklearn.model_selection import train_test_split \n",
        "from sklearn.pipeline import make_pipeline\n",
        "from sklearn.metrics import r2_score, mean_absolute_error, mean_squared_error \n",
        "from sklearn.linear_model import ElasticNet\n",
        "from sklearn.preprocessing import StandardScaler,QuantileTransformer\n",
        "warnings.filterwarnings('ignore')"
      ],
      "execution_count": null,
      "outputs": []
    },
    {
      "cell_type": "markdown",
      "metadata": {
        "id": "p9m_A9OXBycv"
      },
      "source": [
        "### Initialization\n",
        "\n",
        "Filepath of CSV file"
      ]
    },
    {
      "cell_type": "code",
      "metadata": {
        "id": "1IlH8QTpBycv"
      },
      "source": [
        "#filepath\n",
        "file_path= \"\""
      ],
      "execution_count": null,
      "outputs": []
    },
    {
      "cell_type": "markdown",
      "metadata": {
        "id": "CJP0EXGyBycw"
      },
      "source": [
        "List of features which are  required for model training ."
      ]
    },
    {
      "cell_type": "code",
      "metadata": {
        "id": "qQDLQlzWBycw"
      },
      "source": [
        "#x_values\n",
        "features = []"
      ],
      "execution_count": null,
      "outputs": []
    },
    {
      "cell_type": "markdown",
      "metadata": {
        "id": "VbBFixebBycx"
      },
      "source": [
        "Target feature for prediction."
      ]
    },
    {
      "cell_type": "code",
      "metadata": {
        "id": "Qparah1fBycx"
      },
      "source": [
        "#y_value\n",
        "target=\"\""
      ],
      "execution_count": null,
      "outputs": []
    },
    {
      "cell_type": "markdown",
      "metadata": {
        "id": "iQGy8iGaBycy"
      },
      "source": [
        "### Data Fetching\n",
        "\n",
        "Pandas is an open-source, BSD-licensed library providing high-performance, easy-to-use data manipulation and data analysis tools.\n",
        "\n",
        "We will use panda's library to read the CSV file using its storage path.And we use the head function to display the initial row or entry."
      ]
    },
    {
      "cell_type": "code",
      "metadata": {
        "colab": {
          "base_uri": "https://localhost:8080/",
          "height": 203
        },
        "id": "QWV1KDxRBycy",
        "outputId": "e20a56ee-e3d0-4ceb-a79f-d898dc672050"
      },
      "source": [
        "df=pd.read_csv(file_path)\n",
        "df.head()"
      ],
      "execution_count": null,
      "outputs": [
        {
          "output_type": "execute_result",
          "data": {
            "text/html": [
              "<div>\n",
              "<style scoped>\n",
              "    .dataframe tbody tr th:only-of-type {\n",
              "        vertical-align: middle;\n",
              "    }\n",
              "\n",
              "    .dataframe tbody tr th {\n",
              "        vertical-align: top;\n",
              "    }\n",
              "\n",
              "    .dataframe thead th {\n",
              "        text-align: right;\n",
              "    }\n",
              "</style>\n",
              "<table border=\"1\" class=\"dataframe\">\n",
              "  <thead>\n",
              "    <tr style=\"text-align: right;\">\n",
              "      <th></th>\n",
              "      <th>age</th>\n",
              "      <th>sex</th>\n",
              "      <th>bmi</th>\n",
              "      <th>children</th>\n",
              "      <th>smoker</th>\n",
              "      <th>region</th>\n",
              "      <th>charges</th>\n",
              "    </tr>\n",
              "  </thead>\n",
              "  <tbody>\n",
              "    <tr>\n",
              "      <th>0</th>\n",
              "      <td>19</td>\n",
              "      <td>female</td>\n",
              "      <td>27.900</td>\n",
              "      <td>0</td>\n",
              "      <td>yes</td>\n",
              "      <td>southwest</td>\n",
              "      <td>16884.92400</td>\n",
              "    </tr>\n",
              "    <tr>\n",
              "      <th>1</th>\n",
              "      <td>18</td>\n",
              "      <td>male</td>\n",
              "      <td>33.770</td>\n",
              "      <td>1</td>\n",
              "      <td>no</td>\n",
              "      <td>southeast</td>\n",
              "      <td>1725.55230</td>\n",
              "    </tr>\n",
              "    <tr>\n",
              "      <th>2</th>\n",
              "      <td>28</td>\n",
              "      <td>male</td>\n",
              "      <td>33.000</td>\n",
              "      <td>3</td>\n",
              "      <td>no</td>\n",
              "      <td>southeast</td>\n",
              "      <td>4449.46200</td>\n",
              "    </tr>\n",
              "    <tr>\n",
              "      <th>3</th>\n",
              "      <td>33</td>\n",
              "      <td>male</td>\n",
              "      <td>22.705</td>\n",
              "      <td>0</td>\n",
              "      <td>no</td>\n",
              "      <td>northwest</td>\n",
              "      <td>21984.47061</td>\n",
              "    </tr>\n",
              "    <tr>\n",
              "      <th>4</th>\n",
              "      <td>32</td>\n",
              "      <td>male</td>\n",
              "      <td>28.880</td>\n",
              "      <td>0</td>\n",
              "      <td>no</td>\n",
              "      <td>northwest</td>\n",
              "      <td>3866.85520</td>\n",
              "    </tr>\n",
              "  </tbody>\n",
              "</table>\n",
              "</div>"
            ],
            "text/plain": [
              "   age     sex     bmi  children smoker     region      charges\n",
              "0   19  female  27.900         0    yes  southwest  16884.92400\n",
              "1   18    male  33.770         1     no  southeast   1725.55230\n",
              "2   28    male  33.000         3     no  southeast   4449.46200\n",
              "3   33    male  22.705         0     no  northwest  21984.47061\n",
              "4   32    male  28.880         0     no  northwest   3866.85520"
            ]
          },
          "metadata": {},
          "execution_count": 3
        }
      ]
    },
    {
      "cell_type": "markdown",
      "metadata": {
        "id": "FWfm6_J6Bycz"
      },
      "source": [
        "### Feature Selections\n",
        "\n",
        "It is the process of reducing the number of input variables when developing a predictive model. Used to reduce the number of input variables to both reduce the computational cost of modelling and, in some cases, to improve the performance of the model.\n",
        "\n",
        "We will assign all the required input features to X and target/outcome to Y."
      ]
    },
    {
      "cell_type": "code",
      "metadata": {
        "id": "xX3WK7-GByc0"
      },
      "source": [
        "X=df[features]\n",
        "Y=df[target]"
      ],
      "execution_count": null,
      "outputs": []
    },
    {
      "cell_type": "markdown",
      "metadata": {
        "id": "kkyKQTAjByc0"
      },
      "source": [
        "### Data Preprocessing\n",
        "\n",
        "Since the majority of the machine learning models in the Sklearn library doesn't handle string category data and Null value, we have to explicitly remove or replace null values. The below snippet have functions, which removes the null value if any exists. And convert the string classes data in the datasets by encoding them to integer classes.\n"
      ]
    },
    {
      "cell_type": "code",
      "metadata": {
        "id": "l-wC0r2KByc1"
      },
      "source": [
        "def NullClearner(df):\n",
        "    if(isinstance(df, pd.Series) and (df.dtype in [\"float64\",\"int64\"])):\n",
        "        df.fillna(df.mean(),inplace=True)\n",
        "        return df\n",
        "    elif(isinstance(df, pd.Series)):\n",
        "        df.fillna(df.mode()[0],inplace=True)\n",
        "        return df\n",
        "    else:return df\n",
        "def EncodeX(df):\n",
        "    return pd.get_dummies(df)"
      ],
      "execution_count": null,
      "outputs": []
    },
    {
      "cell_type": "markdown",
      "metadata": {
        "id": "-tD8orj3Byc1"
      },
      "source": [
        "Calling preprocessing functions on the feature and target set.\n"
      ]
    },
    {
      "cell_type": "code",
      "metadata": {
        "colab": {
          "base_uri": "https://localhost:8080/",
          "height": 203
        },
        "id": "4RRJq-3yByc1",
        "outputId": "6d6b8b6c-60bc-4b3f-b0df-156682502602"
      },
      "source": [
        "x=X.columns.to_list()\n",
        "for i in x:\n",
        "    X[i]=NullClearner(X[i])\n",
        "X=EncodeX(X)\n",
        "Y=NullClearner(Y)\n",
        "X.head()"
      ],
      "execution_count": null,
      "outputs": [
        {
          "output_type": "execute_result",
          "data": {
            "text/html": [
              "<div>\n",
              "<style scoped>\n",
              "    .dataframe tbody tr th:only-of-type {\n",
              "        vertical-align: middle;\n",
              "    }\n",
              "\n",
              "    .dataframe tbody tr th {\n",
              "        vertical-align: top;\n",
              "    }\n",
              "\n",
              "    .dataframe thead th {\n",
              "        text-align: right;\n",
              "    }\n",
              "</style>\n",
              "<table border=\"1\" class=\"dataframe\">\n",
              "  <thead>\n",
              "    <tr style=\"text-align: right;\">\n",
              "      <th></th>\n",
              "      <th>age</th>\n",
              "      <th>bmi</th>\n",
              "      <th>children</th>\n",
              "      <th>sex_female</th>\n",
              "      <th>sex_male</th>\n",
              "      <th>smoker_no</th>\n",
              "      <th>smoker_yes</th>\n",
              "      <th>region_northeast</th>\n",
              "      <th>region_northwest</th>\n",
              "      <th>region_southeast</th>\n",
              "      <th>region_southwest</th>\n",
              "    </tr>\n",
              "  </thead>\n",
              "  <tbody>\n",
              "    <tr>\n",
              "      <th>0</th>\n",
              "      <td>19</td>\n",
              "      <td>27.900</td>\n",
              "      <td>0</td>\n",
              "      <td>1</td>\n",
              "      <td>0</td>\n",
              "      <td>0</td>\n",
              "      <td>1</td>\n",
              "      <td>0</td>\n",
              "      <td>0</td>\n",
              "      <td>0</td>\n",
              "      <td>1</td>\n",
              "    </tr>\n",
              "    <tr>\n",
              "      <th>1</th>\n",
              "      <td>18</td>\n",
              "      <td>33.770</td>\n",
              "      <td>1</td>\n",
              "      <td>0</td>\n",
              "      <td>1</td>\n",
              "      <td>1</td>\n",
              "      <td>0</td>\n",
              "      <td>0</td>\n",
              "      <td>0</td>\n",
              "      <td>1</td>\n",
              "      <td>0</td>\n",
              "    </tr>\n",
              "    <tr>\n",
              "      <th>2</th>\n",
              "      <td>28</td>\n",
              "      <td>33.000</td>\n",
              "      <td>3</td>\n",
              "      <td>0</td>\n",
              "      <td>1</td>\n",
              "      <td>1</td>\n",
              "      <td>0</td>\n",
              "      <td>0</td>\n",
              "      <td>0</td>\n",
              "      <td>1</td>\n",
              "      <td>0</td>\n",
              "    </tr>\n",
              "    <tr>\n",
              "      <th>3</th>\n",
              "      <td>33</td>\n",
              "      <td>22.705</td>\n",
              "      <td>0</td>\n",
              "      <td>0</td>\n",
              "      <td>1</td>\n",
              "      <td>1</td>\n",
              "      <td>0</td>\n",
              "      <td>0</td>\n",
              "      <td>1</td>\n",
              "      <td>0</td>\n",
              "      <td>0</td>\n",
              "    </tr>\n",
              "    <tr>\n",
              "      <th>4</th>\n",
              "      <td>32</td>\n",
              "      <td>28.880</td>\n",
              "      <td>0</td>\n",
              "      <td>0</td>\n",
              "      <td>1</td>\n",
              "      <td>1</td>\n",
              "      <td>0</td>\n",
              "      <td>0</td>\n",
              "      <td>1</td>\n",
              "      <td>0</td>\n",
              "      <td>0</td>\n",
              "    </tr>\n",
              "  </tbody>\n",
              "</table>\n",
              "</div>"
            ],
            "text/plain": [
              "   age     bmi  children  ...  region_northwest  region_southeast  region_southwest\n",
              "0   19  27.900         0  ...                 0                 0                 1\n",
              "1   18  33.770         1  ...                 0                 1                 0\n",
              "2   28  33.000         3  ...                 0                 1                 0\n",
              "3   33  22.705         0  ...                 1                 0                 0\n",
              "4   32  28.880         0  ...                 1                 0                 0\n",
              "\n",
              "[5 rows x 11 columns]"
            ]
          },
          "metadata": {},
          "execution_count": 13
        }
      ]
    },
    {
      "cell_type": "markdown",
      "metadata": {
        "id": "mIc9t0gmByc2"
      },
      "source": [
        "#### Correlation Map\n",
        "\n",
        "In order to check the correlation between the features, we will plot a correlation matrix. It is effective in summarizing a large amount of data where the goal is to see patterns."
      ]
    },
    {
      "cell_type": "code",
      "metadata": {
        "colab": {
          "base_uri": "https://localhost:8080/",
          "height": 1000
        },
        "id": "yZyH0RL5Byc2",
        "outputId": "b9f99f23-ef23-4844-f8b1-fd7d55389d05"
      },
      "source": [
        "f,ax = plt.subplots(figsize=(18, 18))\n",
        "matrix = np.triu(X.corr())\n",
        "se.heatmap(X.corr(), annot=True, linewidths=.5, fmt= '.1f',ax=ax, mask=matrix)\n",
        "plt.show()"
      ],
      "execution_count": null,
      "outputs": [
        {
          "output_type": "display_data",
          "data": {
            "image/png": "[encoded data removed]",
            "text/plain": [
              "<Figure size 1296x1296 with 2 Axes>"
            ]
          },
          "metadata": {
            "needs_background": "light"
          }
        }
      ]
    },
    {
      "cell_type": "markdown",
      "metadata": {
        "id": "jPa4jZ5iByc3"
      },
      "source": [
        "### Data Splitting\n",
        "\n",
        "The train-test split is a procedure for evaluating the performance of an algorithm. The procedure involves taking a dataset and dividing it into two subsets. The first subset is utilized to fit/train the model. The second subset is used for prediction. The main motive is to estimate the performance of the model on new data."
      ]
    },
    {
      "cell_type": "code",
      "metadata": {
        "id": "B7cL-n1FByc3"
      },
      "source": [
        "x_train,x_test,y_train,y_test=train_test_split(X,Y,test_size=0.2,random_state=123)"
      ],
      "execution_count": null,
      "outputs": []
    },
    {
      "cell_type": "markdown",
      "metadata": {
        "id": "XU76TmZgByc3"
      },
      "source": [
        "### Model\n",
        "\n",
        "Elastic Net first emerged as a result of critique on Lasso, whose variable selection can be too dependent on data and thus unstable. The solution is to combine the penalties of Ridge regression and Lasso to get the best of both worlds."
      ]
    },
    {
      "cell_type": "markdown",
      "metadata": {
        "id": "tk-SgjjFByc3"
      },
      "source": [
        "#### Features of ElasticNet Regression-\n",
        " - It combines the L1 and L2 approaches.\n",
        " - It performs a more efficient regularization process.\n",
        " - It has two parameters to be set, λ and α."
      ]
    },
    {
      "cell_type": "markdown",
      "metadata": {
        "id": "4FZIemS4Byc4"
      },
      "source": [
        "#### Model Tuning Parameters"
      ]
    },
    {
      "cell_type": "markdown",
      "metadata": {
        "id": "gj40djZLByc4"
      },
      "source": [
        "1. alpha : float, default=1.0\n",
        ">Constant that multiplies the penalty terms. Defaults to 1.0. See the notes for the exact mathematical meaning of this   parameter. alpha = 0 is equivalent to an ordinary least square, solved by the LinearRegression object. For numerical reasons, using alpha = 0 with the Lasso object is not advised. Given this, you should use the LinearRegression object.\n",
        "\n",
        "2. l1_ratio : float, default=0.5\n",
        ">The ElasticNet mixing parameter, with 0 <= l1_ratio <= 1. For l1_ratio = 0 the penalty is an L2 penalty. For l1_ratio = 1 it is an L1 penalty. For 0 < l1_ratio < 1, the penalty is a combination of L1 and L2.\n",
        "\n",
        "3. normalize : bool, default=False\n",
        ">This parameter is ignored when fit_intercept is set to False. If True, the regressors X will be normalized before regression by subtracting the mean and dividing by the l2-norm. If you wish to standardize, please use StandardScaler before calling fit on an estimator with normalize=False.\n",
        "\n",
        "4. max_iter : int, default=1000\n",
        ">The maximum number of iterations.\n",
        "\n",
        "5. tol : float, default=1e-4\n",
        ">The tolerance for the optimization: if the updates are smaller than tol, the optimization code checks the dual gap for optimality and continues until it is smaller than tol.\n",
        "\n",
        "6. selection : {‘cyclic’, ‘random’}, default=’cyclic’\n",
        ">If set to ‘random’, a random coefficient is updated every iteration rather than looping over features sequentially by default. This (setting to ‘random’) often leads to significantly faster convergence especially when tol is higher than 1e-4."
      ]
    },
    {
      "cell_type": "markdown",
      "metadata": {
        "id": "VLkHYjJuByc5"
      },
      "source": [
        "#### Feature Rescaling\n",
        "**StandardScaler** "
      ]
    },
    {
      "cell_type": "markdown",
      "metadata": {
        "id": "INJ5TMyKByc5"
      },
      "source": [
        "StandardScaler standardizes features by removing the mean and scaling to unit variance.\n",
        "\n",
        "The standard score of a sample x is calculated as:\n",
        "z = (x - u) / s\n",
        "\n",
        "Refer [API](https://scikit-learn.org/stable/modules/generated/sklearn.preprocessing.StandardScaler.html) for parameters"
      ]
    },
    {
      "cell_type": "markdown",
      "metadata": {
        "id": "zrKT--07Byc5"
      },
      "source": [
        "#### Feature Transformation\n",
        "####  QuantileTransformer"
      ]
    },
    {
      "cell_type": "markdown",
      "metadata": {
        "id": "mHI4ImCsByc5"
      },
      "source": [
        "Transform features using quantiles information.\n",
        "\n",
        "This method transforms the features to follow a uniform or a normal distribution. Therefore, for a given feature, this transformation tends to spread out the most frequent values. It also reduces the impact of (marginal) outliers: this is therefore a robust preprocessing scheme.\n",
        "\n",
        "https://scikit-learn.org/stable/modules/generated/sklearn.preprocessing.QuantileTransformer.html"
      ]
    },
    {
      "cell_type": "code",
      "metadata": {
        "colab": {
          "base_uri": "https://localhost:8080/"
        },
        "id": "AQ1dM7eHByc6",
        "outputId": "efc366ed-4d1b-4f9a-8e5a-793ee0222752"
      },
      "source": [
        "model=make_pipeline(StandardScaler(),QuantileTransformer(),ElasticNet())\n",
        "model.fit(x_train,y_train)"
      ],
      "execution_count": null,
      "outputs": [
        {
          "output_type": "execute_result",
          "data": {
            "text/plain": [
              "Pipeline(memory=None,\n",
              "         steps=[('standardscaler',\n",
              "                 StandardScaler(copy=True, with_mean=True, with_std=True)),\n",
              "                ('quantiletransformer',\n",
              "                 QuantileTransformer(copy=True, ignore_implicit_zeros=False,\n",
              "                                     n_quantiles=1000,\n",
              "                                     output_distribution='uniform',\n",
              "                                     random_state=None, subsample=100000)),\n",
              "                ('elasticnet',\n",
              "                 ElasticNet(alpha=1.0, copy_X=True, fit_intercept=True,\n",
              "                            l1_ratio=0.5, max_iter=1000, normalize=False,\n",
              "                            positive=False, precompute=False, random_state=None,\n",
              "                            selection='cyclic', tol=0.0001,\n",
              "                            warm_start=False))],\n",
              "         verbose=False)"
            ]
          },
          "metadata": {},
          "execution_count": 16
        }
      ]
    },
    {
      "cell_type": "markdown",
      "metadata": {
        "id": "9T1cCYoZByc6"
      },
      "source": [
        "#### Model Accuracy\n",
        "\n",
        "We will use the trained model to make a prediction on the test set.Then use the predicted value for measuring the accuracy of our model.\n",
        "\n",
        "score: The score function returns the coefficient of determination R2 of the prediction.\n"
      ]
    },
    {
      "cell_type": "code",
      "metadata": {
        "colab": {
          "base_uri": "https://localhost:8080/"
        },
        "id": "MnV8rBLpByc6",
        "outputId": "1a15f478-58f8-4d5c-ea76-9f150fafab5c"
      },
      "source": [
        "print(\"Accuracy score {:.2f} %\\n\".format(model.score(x_test,y_test)*100))"
      ],
      "execution_count": null,
      "outputs": [
        {
          "output_type": "stream",
          "name": "stdout",
          "text": [
            "Accuracy score 44.24 %\n",
            "\n"
          ]
        }
      ]
    },
    {
      "cell_type": "markdown",
      "metadata": {
        "id": "dp9i_MEBByc6"
      },
      "source": [
        "> **r2_score**: The **r2_score** function computes the percentage variablility explained by our model, either the fraction or the count of correct predictions.  \n",
        "\n",
        "> **mae**: The **mean abosolute error** function calculates the amount of total error(absolute average distance between the real data and the predicted data) by our model.  \n",
        "\n",
        "> **mse**: The **mean squared error** function squares the error(penalizes the model for large errors) by our model. "
      ]
    },
    {
      "cell_type": "code",
      "metadata": {
        "colab": {
          "base_uri": "https://localhost:8080/"
        },
        "id": "FhR_shG5Byc7",
        "outputId": "d4e8ed58-d79a-46a1-a3f7-3c6342e011e0"
      },
      "source": [
        "y_pred=model.predict(x_test)\n",
        "print(\"R2 Score: {:.2f} %\".format(r2_score(y_test,y_pred)*100))\n",
        "print(\"Mean Absolute Error {:.2f}\".format(mean_absolute_error(y_test,y_pred)))\n",
        "print(\"Mean Squared Error {:.2f}\".format(mean_squared_error(y_test,y_pred)))"
      ],
      "execution_count": null,
      "outputs": [
        {
          "output_type": "stream",
          "name": "stdout",
          "text": [
            "R2 Score: 44.24 %\n",
            "Mean Absolute Error 6656.23\n",
            "Mean Squared Error 85248901.53\n"
          ]
        }
      ]
    },
    {
      "cell_type": "markdown",
      "metadata": {
        "id": "dCTq049MByc7"
      },
      "source": [
        "#### Prediction Plot\n"
      ]
    },
    {
      "cell_type": "code",
      "metadata": {
        "colab": {
          "base_uri": "https://localhost:8080/",
          "height": 295
        },
        "id": "fr-sBsnCByc7",
        "outputId": "4810f0fc-c921-4acd-94bb-b7049722957a"
      },
      "source": [
        "red = plt.scatter(np.arange(0,80,5),y_pred[0:80:5],color = \"red\")\n",
        "green = plt.scatter(np.arange(0,80,5),y_test[0:80:5],color = \"green\")\n",
        "plt.title(\"Comparison of Regression Algorithms\")\n",
        "plt.xlabel(\"Index of Candidate\")\n",
        "plt.ylabel(\"target\")\n",
        "plt.legend((red,green),('ElasticNet', 'REAL'))\n",
        "plt.show()"
      ],
      "execution_count": null,
      "outputs": [
        {
          "output_type": "display_data",
          "data": {
            "image/png": "[encoded data removed]",
            "text/plain": [
              "<Figure size 432x288 with 1 Axes>"
            ]
          },
          "metadata": {
            "needs_background": "light"
          }
        }
      ]
    },
    {
      "cell_type": "markdown",
      "metadata": {
        "id": "DFcUtcFxZiSM"
      },
      "source": [
        "#### Creator: Anu Rithiga B , Github: [Profile - Iamgrootsh7](https://github.com/iamgrootsh7)"
      ]
    }
  ]
}