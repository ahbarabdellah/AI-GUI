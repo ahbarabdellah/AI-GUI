{
 "cells": [
  {
   "cell_type": "markdown",
   "metadata": {},
   "source": [
    "# LGBM Regression using Dataset"
   ]
  },
  {
   "cell_type": "markdown",
   "metadata": {},
   "source": [
    "This Code template is for regression analysis using LGBM along with Dataset.Dataset is an internal data structure that is used by the LGBM framework. It is optimized for both memory efficiency and training speed."
   ]
  },
  {
   "cell_type": "markdown",
   "metadata": {},
   "source": [
    "### Required Packages"
   ]
  },
  {
   "cell_type": "code",
   "execution_count": 75,
   "metadata": {},
   "outputs": [],
   "source": [
    "import warnings\n",
    "import numpy as np \n",
    "import pandas as pd \n",
    "import seaborn as se \n",
    "import matplotlib.pyplot as plt \n",
    "import lightgbm as lgb\n",
    "from sklearn.model_selection import train_test_split\n",
    "from sklearn.metrics import r2_score, mean_absolute_error, mean_squared_error\n",
    "warnings.filterwarnings('ignore')"
   ]
  },
  {
   "cell_type": "markdown",
   "metadata": {},
   "source": [
    "### Initialization\n",
    "\n",
    "Filepath of CSV file"
   ]
  },
  {
   "cell_type": "code",
   "execution_count": 106,
   "metadata": {},
   "outputs": [],
   "source": [
    "#filepath\n",
    "file_path = \"\""
   ]
  },
  {
   "cell_type": "markdown",
   "metadata": {},
   "source": [
    "List of features which are  required for model training ."
   ]
  },
  {
   "cell_type": "code",
   "execution_count": 107,
   "metadata": {},
   "outputs": [],
   "source": [
    "#x_values\n",
    "features = []"
   ]
  },
  {
   "cell_type": "markdown",
   "metadata": {},
   "source": [
    "Target feature for prediction."
   ]
  },
  {
   "cell_type": "code",
   "execution_count": 108,
   "metadata": {},
   "outputs": [],
   "source": [
    "#y_value\n",
    "target = ''"
   ]
  },
  {
   "cell_type": "markdown",
   "metadata": {},
   "source": [
    "### Data Fetching\n",
    "\n",
    "Pandas is an open-source, BSD-licensed library providing high-performance, easy-to-use data manipulation and data analysis tools.\n",
    "\n",
    "We will use panda's library to read the CSV file using its storage path.And we use the head function to display the initial row or entry."
   ]
  },
  {
   "cell_type": "code",
   "execution_count": 109,
   "metadata": {},
   "outputs": [
    {
     "data": {
      "text/html": [
       "<div>\n",
       "<style scoped>\n",
       "    .dataframe tbody tr th:only-of-type {\n",
       "        vertical-align: middle;\n",
       "    }\n",
       "\n",
       "    .dataframe tbody tr th {\n",
       "        vertical-align: top;\n",
       "    }\n",
       "\n",
       "    .dataframe thead th {\n",
       "        text-align: right;\n",
       "    }\n",
       "</style>\n",
       "<table border=\"1\" class=\"dataframe\">\n",
       "  <thead>\n",
       "    <tr style=\"text-align: right;\">\n",
       "      <th></th>\n",
       "      <th>AT</th>\n",
       "      <th>V</th>\n",
       "      <th>AP</th>\n",
       "      <th>RH</th>\n",
       "      <th>PE</th>\n",
       "    </tr>\n",
       "  </thead>\n",
       "  <tbody>\n",
       "    <tr>\n",
       "      <th>0</th>\n",
       "      <td>14.96</td>\n",
       "      <td>41.76</td>\n",
       "      <td>1024.07</td>\n",
       "      <td>73.17</td>\n",
       "      <td>463.26</td>\n",
       "    </tr>\n",
       "    <tr>\n",
       "      <th>1</th>\n",
       "      <td>25.18</td>\n",
       "      <td>62.96</td>\n",
       "      <td>1020.04</td>\n",
       "      <td>59.08</td>\n",
       "      <td>444.37</td>\n",
       "    </tr>\n",
       "    <tr>\n",
       "      <th>2</th>\n",
       "      <td>5.11</td>\n",
       "      <td>39.40</td>\n",
       "      <td>1012.16</td>\n",
       "      <td>92.14</td>\n",
       "      <td>488.56</td>\n",
       "    </tr>\n",
       "    <tr>\n",
       "      <th>3</th>\n",
       "      <td>20.86</td>\n",
       "      <td>57.32</td>\n",
       "      <td>1010.24</td>\n",
       "      <td>76.64</td>\n",
       "      <td>446.48</td>\n",
       "    </tr>\n",
       "    <tr>\n",
       "      <th>4</th>\n",
       "      <td>10.82</td>\n",
       "      <td>37.50</td>\n",
       "      <td>1009.23</td>\n",
       "      <td>96.62</td>\n",
       "      <td>473.90</td>\n",
       "    </tr>\n",
       "  </tbody>\n",
       "</table>\n",
       "</div>"
      ],
      "text/plain": [
       "      AT      V       AP     RH      PE\n",
       "0  14.96  41.76  1024.07  73.17  463.26\n",
       "1  25.18  62.96  1020.04  59.08  444.37\n",
       "2   5.11  39.40  1012.16  92.14  488.56\n",
       "3  20.86  57.32  1010.24  76.64  446.48\n",
       "4  10.82  37.50  1009.23  96.62  473.90"
      ]
     },
     "execution_count": 109,
     "metadata": {},
     "output_type": "execute_result"
    }
   ],
   "source": [
    "df=pd.read_csv(file_path)\n",
    "df.head()"
   ]
  },
  {
   "cell_type": "markdown",
   "metadata": {},
   "source": [
    "### Feature Selections\n",
    "\n",
    "It is the process of reducing the number of input variables when developing a predictive model. Used to reduce the number of input variables to both reduce the computational cost of modelling and, in some cases, to improve the performance of the model.\n",
    "\n",
    "We will assign all the required input features to X and target/outcome to Y."
   ]
  },
  {
   "cell_type": "code",
   "execution_count": 110,
   "metadata": {},
   "outputs": [],
   "source": [
    "X = df[features]\n",
    "Y = df[target]"
   ]
  },
  {
   "cell_type": "markdown",
   "metadata": {},
   "source": [
    "### Data Preprocessing\n",
    "\n",
    "Since the majority of the machine learning models in the Sklearn library doesn't handle string category data and Null value, we have to explicitly remove or replace null values. The below snippet have functions, which removes the null value if any exists. And convert the string classes data in the datasets by encoding them to integer classes.\n"
   ]
  },
  {
   "cell_type": "code",
   "execution_count": 111,
   "metadata": {},
   "outputs": [],
   "source": [
    "def NullClearner(df):\n",
    "    if(isinstance(df, pd.Series) and (df.dtype in [\"float64\",\"int64\"])):\n",
    "        df.fillna(df.mean(),inplace=True)\n",
    "        return df\n",
    "    elif(isinstance(df, pd.Series)):\n",
    "        df.fillna(df.mode()[0],inplace=True)\n",
    "        return df\n",
    "    else:return df\n",
    "def EncodeX(df):\n",
    "    return pd.get_dummies(df)"
   ]
  },
  {
   "cell_type": "markdown",
   "metadata": {},
   "source": [
    "Calling preprocessing functions on the feature and target set."
   ]
  },
  {
   "cell_type": "code",
   "execution_count": 112,
   "metadata": {},
   "outputs": [
    {
     "data": {
      "text/html": [
       "<div>\n",
       "<style scoped>\n",
       "    .dataframe tbody tr th:only-of-type {\n",
       "        vertical-align: middle;\n",
       "    }\n",
       "\n",
       "    .dataframe tbody tr th {\n",
       "        vertical-align: top;\n",
       "    }\n",
       "\n",
       "    .dataframe thead th {\n",
       "        text-align: right;\n",
       "    }\n",
       "</style>\n",
       "<table border=\"1\" class=\"dataframe\">\n",
       "  <thead>\n",
       "    <tr style=\"text-align: right;\">\n",
       "      <th></th>\n",
       "      <th>AT</th>\n",
       "      <th>V</th>\n",
       "      <th>AP</th>\n",
       "      <th>RH</th>\n",
       "    </tr>\n",
       "  </thead>\n",
       "  <tbody>\n",
       "    <tr>\n",
       "      <th>0</th>\n",
       "      <td>14.96</td>\n",
       "      <td>41.76</td>\n",
       "      <td>1024.07</td>\n",
       "      <td>73.17</td>\n",
       "    </tr>\n",
       "    <tr>\n",
       "      <th>1</th>\n",
       "      <td>25.18</td>\n",
       "      <td>62.96</td>\n",
       "      <td>1020.04</td>\n",
       "      <td>59.08</td>\n",
       "    </tr>\n",
       "    <tr>\n",
       "      <th>2</th>\n",
       "      <td>5.11</td>\n",
       "      <td>39.40</td>\n",
       "      <td>1012.16</td>\n",
       "      <td>92.14</td>\n",
       "    </tr>\n",
       "    <tr>\n",
       "      <th>3</th>\n",
       "      <td>20.86</td>\n",
       "      <td>57.32</td>\n",
       "      <td>1010.24</td>\n",
       "      <td>76.64</td>\n",
       "    </tr>\n",
       "    <tr>\n",
       "      <th>4</th>\n",
       "      <td>10.82</td>\n",
       "      <td>37.50</td>\n",
       "      <td>1009.23</td>\n",
       "      <td>96.62</td>\n",
       "    </tr>\n",
       "  </tbody>\n",
       "</table>\n",
       "</div>"
      ],
      "text/plain": [
       "      AT      V       AP     RH\n",
       "0  14.96  41.76  1024.07  73.17\n",
       "1  25.18  62.96  1020.04  59.08\n",
       "2   5.11  39.40  1012.16  92.14\n",
       "3  20.86  57.32  1010.24  76.64\n",
       "4  10.82  37.50  1009.23  96.62"
      ]
     },
     "execution_count": 112,
     "metadata": {},
     "output_type": "execute_result"
    }
   ],
   "source": [
    "x=X.columns.to_list()\n",
    "for i in x:\n",
    "    X[i]=NullClearner(X[i])\n",
    "X=EncodeX(X)\n",
    "Y=NullClearner(Y)\n",
    "X.head()"
   ]
  },
  {
   "cell_type": "markdown",
   "metadata": {},
   "source": [
    "#### Correlation Map\n",
    "\n",
    "In order to check the correlation between the features, we will plot a correlation matrix. It is effective in summarizing a large amount of data where the goal is to see patterns."
   ]
  },
  {
   "cell_type": "code",
   "execution_count": 113,
   "metadata": {},
   "outputs": [
    {
     "data": {
      "image/png": "[encoded data removed]",
      "text/plain": [
       "<Figure size 1296x1296 with 2 Axes>"
      ]
     },
     "metadata": {
      "needs_background": "light"
     },
     "output_type": "display_data"
    }
   ],
   "source": [
    "f,ax = plt.subplots(figsize=(18, 18))\n",
    "matrix = np.triu(X.corr())\n",
    "se.heatmap(X.corr(), annot=True, linewidths=.5, fmt= '.1f',ax=ax, mask=matrix)\n",
    "plt.show()"
   ]
  },
  {
   "cell_type": "markdown",
   "metadata": {},
   "source": [
    "### Data Splitting\n",
    "\n",
    "The train-test split is a procedure for evaluating the performance of an algorithm. The procedure involves taking a dataset and dividing it into two subsets. The first subset is utilized to fit/train the model. The second subset is used for prediction. The main motive is to estimate the performance of the model on new data."
   ]
  },
  {
   "cell_type": "code",
   "execution_count": 114,
   "metadata": {},
   "outputs": [],
   "source": [
    "X_train, X_test, y_train, y_test = train_test_split(X, Y, test_size = 0.2, random_state = 123)"
   ]
  },
  {
   "cell_type": "markdown",
   "metadata": {},
   "source": [
    "#### Core Data Structure\n",
    "We use Dataset which is a core and optimized data structure that LGBM supports and is optimized for both memory efficiency and training speed. \n",
    "\n",
    "##### For more information on Dataset [click here](https://lightgbm.readthedocs.io/en/latest/pythonapi/lightgbm.Dataset.html)"
   ]
  },
  {
   "cell_type": "code",
   "execution_count": 115,
   "metadata": {},
   "outputs": [],
   "source": [
    "dtrain = lgb.Dataset(X_train, label=y_train)\n",
    "dtest = lgb.Dataset(X_test, label=y_test)"
   ]
  },
  {
   "cell_type": "markdown",
   "metadata": {},
   "source": [
    "### Model\n",
    "LGBM is a gradient boosting framework that uses tree based learning algorithms.LGBM can handle the large size of tabular data(Regression & Classification) and takes lower memory to run.It is so popular because it focuses on accuracy of results and also supports GPU learning and thus data scientists are widely using LGBM for data science application development\n",
    "\n",
    "Refer [API](https://lightgbm.readthedocs.io/en/latest/pythonapi/lightgbm.LGBMRegressor.html) "
   ]
  },
  {
   "cell_type": "code",
   "execution_count": 116,
   "metadata": {
    "scrolled": true
   },
   "outputs": [
    {
     "name": "stdout",
     "output_type": "stream",
     "text": [
      "[1]\tvalid_0's rmse: 15.4292\n",
      "Training until validation scores don't improve for 100 rounds\n",
      "[2]\tvalid_0's rmse: 14.0131\n",
      "[3]\tvalid_0's rmse: 12.7493\n",
      "[4]\tvalid_0's rmse: 11.6339\n",
      "[5]\tvalid_0's rmse: 10.6399\n",
      "[6]\tvalid_0's rmse: 9.75197\n",
      "[7]\tvalid_0's rmse: 8.97256\n",
      "[8]\tvalid_0's rmse: 8.27904\n",
      "[9]\tvalid_0's rmse: 7.66718\n",
      "[10]\tvalid_0's rmse: 7.13705\n",
      "[11]\tvalid_0's rmse: 6.66902\n",
      "[12]\tvalid_0's rmse: 6.2607\n",
      "[13]\tvalid_0's rmse: 5.90817\n",
      "[14]\tvalid_0's rmse: 5.60413\n",
      "[15]\tvalid_0's rmse: 5.34074\n",
      "[16]\tvalid_0's rmse: 5.11637\n",
      "[17]\tvalid_0's rmse: 4.92066\n",
      "[18]\tvalid_0's rmse: 4.75801\n",
      "[19]\tvalid_0's rmse: 4.62109\n",
      "[20]\tvalid_0's rmse: 4.50344\n",
      "[21]\tvalid_0's rmse: 4.40503\n",
      "[22]\tvalid_0's rmse: 4.3235\n",
      "[23]\tvalid_0's rmse: 4.24385\n",
      "[24]\tvalid_0's rmse: 4.18627\n",
      "[25]\tvalid_0's rmse: 4.13761\n",
      "[26]\tvalid_0's rmse: 4.08373\n",
      "[27]\tvalid_0's rmse: 4.04551\n",
      "[28]\tvalid_0's rmse: 4.01419\n",
      "[29]\tvalid_0's rmse: 3.98904\n",
      "[30]\tvalid_0's rmse: 3.96053\n",
      "[31]\tvalid_0's rmse: 3.92968\n",
      "[32]\tvalid_0's rmse: 3.90615\n",
      "[33]\tvalid_0's rmse: 3.8856\n",
      "[34]\tvalid_0's rmse: 3.8655\n",
      "[35]\tvalid_0's rmse: 3.85005\n",
      "[36]\tvalid_0's rmse: 3.83321\n",
      "[37]\tvalid_0's rmse: 3.81169\n",
      "[38]\tvalid_0's rmse: 3.79383\n",
      "[39]\tvalid_0's rmse: 3.77858\n",
      "[40]\tvalid_0's rmse: 3.76942\n",
      "[41]\tvalid_0's rmse: 3.74911\n",
      "[42]\tvalid_0's rmse: 3.73414\n",
      "[43]\tvalid_0's rmse: 3.72194\n",
      "[44]\tvalid_0's rmse: 3.71063\n",
      "[45]\tvalid_0's rmse: 3.70361\n",
      "[46]\tvalid_0's rmse: 3.69473\n",
      "[47]\tvalid_0's rmse: 3.6915\n",
      "[48]\tvalid_0's rmse: 3.68336\n",
      "[49]\tvalid_0's rmse: 3.67572\n",
      "[50]\tvalid_0's rmse: 3.66538\n",
      "[51]\tvalid_0's rmse: 3.6587\n",
      "[52]\tvalid_0's rmse: 3.65353\n",
      "[53]\tvalid_0's rmse: 3.64756\n",
      "[54]\tvalid_0's rmse: 3.6362\n",
      "[55]\tvalid_0's rmse: 3.6278\n",
      "[56]\tvalid_0's rmse: 3.62315\n",
      "[57]\tvalid_0's rmse: 3.61645\n",
      "[58]\tvalid_0's rmse: 3.60842\n",
      "[59]\tvalid_0's rmse: 3.60538\n",
      "[60]\tvalid_0's rmse: 3.59903\n",
      "[61]\tvalid_0's rmse: 3.5897\n",
      "[62]\tvalid_0's rmse: 3.58356\n",
      "[63]\tvalid_0's rmse: 3.58099\n",
      "[64]\tvalid_0's rmse: 3.57689\n",
      "[65]\tvalid_0's rmse: 3.57242\n",
      "[66]\tvalid_0's rmse: 3.56863\n",
      "[67]\tvalid_0's rmse: 3.56375\n",
      "[68]\tvalid_0's rmse: 3.55995\n",
      "[69]\tvalid_0's rmse: 3.55499\n",
      "[70]\tvalid_0's rmse: 3.55298\n",
      "[71]\tvalid_0's rmse: 3.54913\n",
      "[72]\tvalid_0's rmse: 3.54487\n",
      "[73]\tvalid_0's rmse: 3.54451\n",
      "[74]\tvalid_0's rmse: 3.54149\n",
      "[75]\tvalid_0's rmse: 3.53356\n",
      "[76]\tvalid_0's rmse: 3.53203\n",
      "[77]\tvalid_0's rmse: 3.52863\n",
      "[78]\tvalid_0's rmse: 3.5275\n",
      "[79]\tvalid_0's rmse: 3.52448\n",
      "[80]\tvalid_0's rmse: 3.52268\n",
      "[81]\tvalid_0's rmse: 3.52208\n",
      "[82]\tvalid_0's rmse: 3.51803\n",
      "[83]\tvalid_0's rmse: 3.51606\n",
      "[84]\tvalid_0's rmse: 3.51178\n",
      "[85]\tvalid_0's rmse: 3.51221\n",
      "[86]\tvalid_0's rmse: 3.51029\n",
      "[87]\tvalid_0's rmse: 3.50538\n",
      "[88]\tvalid_0's rmse: 3.50049\n",
      "[89]\tvalid_0's rmse: 3.49841\n",
      "[90]\tvalid_0's rmse: 3.48807\n",
      "[91]\tvalid_0's rmse: 3.48382\n",
      "[92]\tvalid_0's rmse: 3.48106\n",
      "[93]\tvalid_0's rmse: 3.47765\n",
      "[94]\tvalid_0's rmse: 3.47069\n",
      "[95]\tvalid_0's rmse: 3.46705\n",
      "[96]\tvalid_0's rmse: 3.46502\n",
      "[97]\tvalid_0's rmse: 3.4623\n",
      "[98]\tvalid_0's rmse: 3.45721\n",
      "[99]\tvalid_0's rmse: 3.44949\n",
      "[100]\tvalid_0's rmse: 3.44661\n",
      "Did not meet early stopping. Best iteration is:\n",
      "[100]\tvalid_0's rmse: 3.44661\n"
     ]
    }
   ],
   "source": [
    "params = {\"metric\": \"rmse\",\"learning_rate\": 0.1,\"verbosity\": -1}\n",
    "model = lgb.train(params, dtrain, valid_sets=dtest, early_stopping_rounds=100)"
   ]
  },
  {
   "cell_type": "markdown",
   "metadata": {},
   "source": [
    "#### Model Accuracy\n",
    "\n",
    "We will use the trained model to make a prediction on the test set.Then use the predicted value for measuring the accuracy of our model.\n",
    "\n",
    "> **r2_score**: The **r2_score** function computes the percentage variablility explained by our model, either the fraction or the count of correct predictions. \n",
    "\n",
    "> **mae**: The **mean abosolute error** function calculates the amount of total error(absolute average distance between the real data and the predicted data) by our model. \n",
    "\n",
    "> **mse**: The **mean squared error** function squares the error(penalizes the model for large errors) by our model. "
   ]
  },
  {
   "cell_type": "code",
   "execution_count": 117,
   "metadata": {},
   "outputs": [
    {
     "name": "stdout",
     "output_type": "stream",
     "text": [
      "Accuracy score 95.90 %\n",
      "\n",
      "Mean Absolute Error 2.49\n",
      "Mean Squared Error 11.88\n"
     ]
    }
   ],
   "source": [
    "y_pred = model.predict(X_test, num_iteration=model.best_iteration)\n",
    "print(\"Accuracy score {:.2f} %\\n\".format(r2_score(y_test, y_pred)*100))\n",
    "print(\"Mean Absolute Error {:.2f}\".format(mean_absolute_error(y_test,y_pred)))\n",
    "print(\"Mean Squared Error {:.2f}\".format(mean_squared_error(y_test,y_pred)))"
   ]
  },
  {
   "cell_type": "markdown",
   "metadata": {},
   "source": [
    "#### Prediction Plot\n",
    "\n",
    "First, we make use of a plot to plot the actual observations, with x_train on the x-axis and y_train on the y-axis.\n",
    "For the regression line, we will use x_train on the x-axis and then the predictions of the x_train observations on the y-axis."
   ]
  },
  {
   "cell_type": "code",
   "execution_count": 118,
   "metadata": {},
   "outputs": [
    {
     "data": {
      "image/png": "[encoded data removed]",
      "text/plain": [
       "<Figure size 1008x720 with 1 Axes>"
      ]
     },
     "metadata": {
      "needs_background": "light"
     },
     "output_type": "display_data"
    }
   ],
   "source": [
    "n=len(X_test) if len(X_test)<20 else 20\n",
    "plt.figure(figsize=(14,10))\n",
    "plt.plot(range(n),y_test[0:n], color = \"green\")\n",
    "plt.plot(range(n),y_pred[0:n], color = \"red\")\n",
    "plt.legend([\"Actual\",\"prediction\"]) \n",
    "plt.title(\"Predicted vs True Value\")\n",
    "plt.xlabel(\"Record number\")\n",
    "plt.ylabel(target)\n",
    "plt.show()"
   ]
  },
  {
   "cell_type": "markdown",
   "metadata": {},
   "source": [
    "#### Creator: Aishwarya Guntoju , Github: [Profile](https://github.com/DSAishwaryaG)"
   ]
  }
 ],
 "metadata": {
  "interpreter": {
   "hash": "51a9663a131f1b5758c45b97a2d6917c8ae86b33e231c3733631cbc7265cfc89"
  },
  "kernelspec": {
   "display_name": "Python 3",
   "language": "python",
   "name": "python3"
  },
  "language_info": {
   "codemirror_mode": {
    "name": "ipython",
    "version": 3
   },
   "file_extension": ".py",
   "mimetype": "text/x-python",
   "name": "python",
   "nbconvert_exporter": "python",
   "pygments_lexer": "ipython3",
   "version": "3.7.6"
  }
 },
 "nbformat": 4,
 "nbformat_minor": 4
}
