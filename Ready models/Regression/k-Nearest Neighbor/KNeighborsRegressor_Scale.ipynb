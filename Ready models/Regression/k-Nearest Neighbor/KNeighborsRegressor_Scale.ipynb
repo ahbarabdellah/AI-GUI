{
  "nbformat": 4,
  "nbformat_minor": 2,
  "metadata": {
    "kernelspec": {
      "name": "python3",
      "display_name": "Python 3.8.5 64-bit ('base': conda)"
    },
    "language_info": {
      "codemirror_mode": {
        "name": "ipython",
        "version": 3
      },
      "file_extension": ".py",
      "mimetype": "text/x-python",
      "name": "python",
      "nbconvert_exporter": "python",
      "pygments_lexer": "ipython3",
      "version": "3.8.5"
    },
    "interpreter": {
      "hash": "51a9663a131f1b5758c45b97a2d6917c8ae86b33e231c3733631cbc7265cfc89"
    },
    "colab": {
      "name": "KNeighborsRegressor_Scale.ipynb",
      "provenance": []
    }
  },
  "cells": [
    {
      "cell_type": "markdown",
      "source": [
        "# K-Nearest Neighbor Regressor with Scale"
      ],
      "metadata": {
        "id": "biW4aD_ebUEN"
      }
    },
    {
      "cell_type": "markdown",
      "source": [
        "This Code template is for the regression analysis using a simple KNeighborsRegressor based on the K-Nearest Neighbors algorithm  using feature scaling via Scale."
      ],
      "metadata": {
        "id": "DPFVRVtZbUEt"
      }
    },
    {
      "cell_type": "markdown",
      "source": [
        "### Required Packages"
      ],
      "metadata": {
        "id": "Df9M2408bUE1"
      }
    },
    {
      "cell_type": "code",
      "execution_count": 1,
      "source": [
        "import warnings\r\n",
        "import numpy as np \r\n",
        "import pandas as pd \r\n",
        "import seaborn as se \r\n",
        "import matplotlib.pyplot as plt \r\n",
        "from sklearn.pipeline import Pipeline\r\n",
        "from sklearn.preprocessing import scale\r\n",
        "from sklearn.model_selection import train_test_split \r\n",
        "from sklearn.metrics import r2_score, mean_absolute_error, mean_squared_error \r\n",
        "from sklearn.neighbors import KNeighborsRegressor\r\n",
        "warnings.filterwarnings('ignore')"
      ],
      "outputs": [],
      "metadata": {
        "id": "CBYu5U_LbUE9"
      }
    },
    {
      "cell_type": "markdown",
      "source": [
        "### Initialization\n",
        "\n",
        "Filepath of CSV file"
      ],
      "metadata": {
        "id": "yIG8WiZkbUFH"
      }
    },
    {
      "cell_type": "code",
      "execution_count": 2,
      "source": [
        "#filepath\r\n",
        "file_path= \"\""
      ],
      "outputs": [],
      "metadata": {
        "id": "fGdWpXKObUFL"
      }
    },
    {
      "cell_type": "markdown",
      "source": [
        "List of features which are  required for model training ."
      ],
      "metadata": {
        "id": "o8aCi9kgbUFO"
      }
    },
    {
      "cell_type": "code",
      "execution_count": 3,
      "source": [
        "#x_values\r\n",
        "features=[]"
      ],
      "outputs": [],
      "metadata": {
        "id": "RHHRCoT_bUGA"
      }
    },
    {
      "cell_type": "markdown",
      "source": [
        "Target feature for prediction."
      ],
      "metadata": {
        "id": "0DyhD6M1bUGR"
      }
    },
    {
      "cell_type": "code",
      "execution_count": 4,
      "source": [
        "#y_value\n",
        "target=''"
      ],
      "outputs": [],
      "metadata": {
        "id": "cRq4d8YlbUGs"
      }
    },
    {
      "cell_type": "markdown",
      "source": [
        "### Data Fetching\n",
        "\n",
        "Pandas is an open-source, BSD-licensed library providing high-performance, easy-to-use data manipulation and data analysis tools.\n",
        "\n",
        "We will use panda's library to read the CSV file using its storage path.And we use the head function to display the initial row or entry."
      ],
      "metadata": {
        "id": "UX06_A7TbUGz"
      }
    },
    {
      "cell_type": "code",
      "execution_count": 5,
      "source": [
        "df=pd.read_csv(file_path)\n",
        "df.head()"
      ],
      "outputs": [
        {
          "output_type": "execute_result",
          "data": {
            "text/html": [
              "<div>\n",
              "<style scoped>\n",
              "    .dataframe tbody tr th:only-of-type {\n",
              "        vertical-align: middle;\n",
              "    }\n",
              "\n",
              "    .dataframe tbody tr th {\n",
              "        vertical-align: top;\n",
              "    }\n",
              "\n",
              "    .dataframe thead th {\n",
              "        text-align: right;\n",
              "    }\n",
              "</style>\n",
              "<table border=\"1\" class=\"dataframe\">\n",
              "  <thead>\n",
              "    <tr style=\"text-align: right;\">\n",
              "      <th></th>\n",
              "      <th>longitude</th>\n",
              "      <th>latitude</th>\n",
              "      <th>housing_median_age</th>\n",
              "      <th>total_rooms</th>\n",
              "      <th>total_bedrooms</th>\n",
              "      <th>population</th>\n",
              "      <th>households</th>\n",
              "      <th>median_income</th>\n",
              "      <th>median_house_value</th>\n",
              "      <th>ocean_proximity</th>\n",
              "    </tr>\n",
              "  </thead>\n",
              "  <tbody>\n",
              "    <tr>\n",
              "      <th>0</th>\n",
              "      <td>-122.23</td>\n",
              "      <td>37.88</td>\n",
              "      <td>41.0</td>\n",
              "      <td>880.0</td>\n",
              "      <td>129.0</td>\n",
              "      <td>322.0</td>\n",
              "      <td>126.0</td>\n",
              "      <td>8.3252</td>\n",
              "      <td>452600.0</td>\n",
              "      <td>NEAR BAY</td>\n",
              "    </tr>\n",
              "    <tr>\n",
              "      <th>1</th>\n",
              "      <td>-122.22</td>\n",
              "      <td>37.86</td>\n",
              "      <td>21.0</td>\n",
              "      <td>7099.0</td>\n",
              "      <td>1106.0</td>\n",
              "      <td>2401.0</td>\n",
              "      <td>1138.0</td>\n",
              "      <td>8.3014</td>\n",
              "      <td>358500.0</td>\n",
              "      <td>NEAR BAY</td>\n",
              "    </tr>\n",
              "    <tr>\n",
              "      <th>2</th>\n",
              "      <td>-122.24</td>\n",
              "      <td>37.85</td>\n",
              "      <td>52.0</td>\n",
              "      <td>1467.0</td>\n",
              "      <td>190.0</td>\n",
              "      <td>496.0</td>\n",
              "      <td>177.0</td>\n",
              "      <td>7.2574</td>\n",
              "      <td>352100.0</td>\n",
              "      <td>NEAR BAY</td>\n",
              "    </tr>\n",
              "    <tr>\n",
              "      <th>3</th>\n",
              "      <td>-122.25</td>\n",
              "      <td>37.85</td>\n",
              "      <td>52.0</td>\n",
              "      <td>1274.0</td>\n",
              "      <td>235.0</td>\n",
              "      <td>558.0</td>\n",
              "      <td>219.0</td>\n",
              "      <td>5.6431</td>\n",
              "      <td>341300.0</td>\n",
              "      <td>NEAR BAY</td>\n",
              "    </tr>\n",
              "    <tr>\n",
              "      <th>4</th>\n",
              "      <td>-122.25</td>\n",
              "      <td>37.85</td>\n",
              "      <td>52.0</td>\n",
              "      <td>1627.0</td>\n",
              "      <td>280.0</td>\n",
              "      <td>565.0</td>\n",
              "      <td>259.0</td>\n",
              "      <td>3.8462</td>\n",
              "      <td>342200.0</td>\n",
              "      <td>NEAR BAY</td>\n",
              "    </tr>\n",
              "  </tbody>\n",
              "</table>\n",
              "</div>"
            ],
            "text/plain": [
              "   longitude  latitude  ...  median_house_value  ocean_proximity\n",
              "0    -122.23     37.88  ...            452600.0         NEAR BAY\n",
              "1    -122.22     37.86  ...            358500.0         NEAR BAY\n",
              "2    -122.24     37.85  ...            352100.0         NEAR BAY\n",
              "3    -122.25     37.85  ...            341300.0         NEAR BAY\n",
              "4    -122.25     37.85  ...            342200.0         NEAR BAY\n",
              "\n",
              "[5 rows x 10 columns]"
            ]
          },
          "metadata": {
            "tags": []
          },
          "execution_count": 5
        }
      ],
      "metadata": {
        "colab": {
          "base_uri": "https://localhost:8080/",
          "height": 226
        },
        "id": "Pdqo3-i2bUG-",
        "outputId": "e64e77c5-3da0-42e3-dbc0-b4ac2db63d80"
      }
    },
    {
      "cell_type": "markdown",
      "source": [
        "### Feature Selections\n",
        "\n",
        "It is the process of reducing the number of input variables when developing a predictive model. Used to reduce the number of input variables to both reduce the computational cost of modelling and, in some cases, to improve the performance of the model.\n",
        "\n",
        "We will assign all the required input features to X and target/outcome to Y."
      ],
      "metadata": {
        "id": "9fCVe2j1bUHN"
      }
    },
    {
      "cell_type": "code",
      "execution_count": 6,
      "source": [
        "X=df[features]\n",
        "Y=df[target]"
      ],
      "outputs": [],
      "metadata": {
        "id": "0RQNPgHWbUHT"
      }
    },
    {
      "cell_type": "markdown",
      "source": [
        "### Data Preprocessing\n",
        "\n",
        "Since the majority of the machine learning models in the Sklearn library doesn't handle string category data and Null value, we have to explicitly remove or replace null values. The below snippet have functions, which removes the null value if any exists. And convert the string classes data in the datasets by encoding them to integer classes.\n"
      ],
      "metadata": {
        "id": "BF_F5WzLbUHW"
      }
    },
    {
      "cell_type": "code",
      "execution_count": 7,
      "source": [
        "def NullClearner(df):\n",
        "    if(isinstance(df, pd.Series) and (df.dtype in [\"float64\",\"int64\"])):\n",
        "        df.fillna(df.mean(),inplace=True)\n",
        "        return df\n",
        "    elif(isinstance(df, pd.Series)):\n",
        "        df.fillna(df.mode()[0],inplace=True)\n",
        "        return df\n",
        "    else:return df\n",
        "def EncodeX(df):\n",
        "    return pd.get_dummies(df)"
      ],
      "outputs": [],
      "metadata": {
        "id": "SuLVfIJmbUHg"
      }
    },
    {
      "cell_type": "markdown",
      "source": [
        "Calling preprocessing functions on the feature and target set.\n"
      ],
      "metadata": {
        "id": "UPXsphQibUHj"
      }
    },
    {
      "cell_type": "code",
      "execution_count": 8,
      "source": [
        "x=X.columns.to_list()\n",
        "for i in x:\n",
        "    X[i]=NullClearner(X[i])\n",
        "X=EncodeX(X)\n",
        "Y=NullClearner(Y)\n",
        "X.head()"
      ],
      "outputs": [
        {
          "output_type": "execute_result",
          "data": {
            "text/html": [
              "<div>\n",
              "<style scoped>\n",
              "    .dataframe tbody tr th:only-of-type {\n",
              "        vertical-align: middle;\n",
              "    }\n",
              "\n",
              "    .dataframe tbody tr th {\n",
              "        vertical-align: top;\n",
              "    }\n",
              "\n",
              "    .dataframe thead th {\n",
              "        text-align: right;\n",
              "    }\n",
              "</style>\n",
              "<table border=\"1\" class=\"dataframe\">\n",
              "  <thead>\n",
              "    <tr style=\"text-align: right;\">\n",
              "      <th></th>\n",
              "      <th>longitude</th>\n",
              "      <th>latitude</th>\n",
              "      <th>housing_median_age</th>\n",
              "      <th>total_rooms</th>\n",
              "      <th>total_bedrooms</th>\n",
              "      <th>population</th>\n",
              "      <th>households</th>\n",
              "      <th>median_income</th>\n",
              "    </tr>\n",
              "  </thead>\n",
              "  <tbody>\n",
              "    <tr>\n",
              "      <th>0</th>\n",
              "      <td>-122.23</td>\n",
              "      <td>37.88</td>\n",
              "      <td>41.0</td>\n",
              "      <td>880.0</td>\n",
              "      <td>129.0</td>\n",
              "      <td>322.0</td>\n",
              "      <td>126.0</td>\n",
              "      <td>8.3252</td>\n",
              "    </tr>\n",
              "    <tr>\n",
              "      <th>1</th>\n",
              "      <td>-122.22</td>\n",
              "      <td>37.86</td>\n",
              "      <td>21.0</td>\n",
              "      <td>7099.0</td>\n",
              "      <td>1106.0</td>\n",
              "      <td>2401.0</td>\n",
              "      <td>1138.0</td>\n",
              "      <td>8.3014</td>\n",
              "    </tr>\n",
              "    <tr>\n",
              "      <th>2</th>\n",
              "      <td>-122.24</td>\n",
              "      <td>37.85</td>\n",
              "      <td>52.0</td>\n",
              "      <td>1467.0</td>\n",
              "      <td>190.0</td>\n",
              "      <td>496.0</td>\n",
              "      <td>177.0</td>\n",
              "      <td>7.2574</td>\n",
              "    </tr>\n",
              "    <tr>\n",
              "      <th>3</th>\n",
              "      <td>-122.25</td>\n",
              "      <td>37.85</td>\n",
              "      <td>52.0</td>\n",
              "      <td>1274.0</td>\n",
              "      <td>235.0</td>\n",
              "      <td>558.0</td>\n",
              "      <td>219.0</td>\n",
              "      <td>5.6431</td>\n",
              "    </tr>\n",
              "    <tr>\n",
              "      <th>4</th>\n",
              "      <td>-122.25</td>\n",
              "      <td>37.85</td>\n",
              "      <td>52.0</td>\n",
              "      <td>1627.0</td>\n",
              "      <td>280.0</td>\n",
              "      <td>565.0</td>\n",
              "      <td>259.0</td>\n",
              "      <td>3.8462</td>\n",
              "    </tr>\n",
              "  </tbody>\n",
              "</table>\n",
              "</div>"
            ],
            "text/plain": [
              "   longitude  latitude  ...  households  median_income\n",
              "0    -122.23     37.88  ...       126.0         8.3252\n",
              "1    -122.22     37.86  ...      1138.0         8.3014\n",
              "2    -122.24     37.85  ...       177.0         7.2574\n",
              "3    -122.25     37.85  ...       219.0         5.6431\n",
              "4    -122.25     37.85  ...       259.0         3.8462\n",
              "\n",
              "[5 rows x 8 columns]"
            ]
          },
          "metadata": {
            "tags": []
          },
          "execution_count": 8
        }
      ],
      "metadata": {
        "colab": {
          "base_uri": "https://localhost:8080/",
          "height": 226
        },
        "id": "Rx6JLB6ibUHl",
        "outputId": "8ae2b82e-57ba-4a9d-ee6e-74448d3ef001"
      }
    },
    {
      "cell_type": "markdown",
      "source": [
        "#### Correlation Map\n",
        "\n",
        "In order to check the correlation between the features, we will plot a correlation matrix. It is effective in summarizing a large amount of data where the goal is to see patterns."
      ],
      "metadata": {
        "id": "cQIzYI7LbUHn"
      }
    },
    {
      "cell_type": "code",
      "execution_count": 9,
      "source": [
        "f,ax = plt.subplots(figsize=(18, 18))\n",
        "matrix = np.triu(X.corr())\n",
        "se.heatmap(X.corr(), annot=True, linewidths=.5, fmt= '.1f',ax=ax, mask=matrix)\n",
        "plt.show()"
      ],
      "outputs": [
        {
          "output_type": "display_data",
          "data": {
            "image/png": "[encoded data removed]",
            "text/plain": [
              "<Figure size 1296x1296 with 2 Axes>"
            ]
          },
          "metadata": {
            "tags": [],
            "needs_background": "light"
          }
        }
      ],
      "metadata": {
        "colab": {
          "base_uri": "https://localhost:8080/",
          "height": 833
        },
        "id": "ZRZtvve3bUHv",
        "outputId": "2b5b856d-a310-4610-abd3-db21ece2bc4c"
      }
    },
    {
      "cell_type": "markdown",
      "source": [
        "### Data Splitting\n",
        "\n",
        "The train-test split is a procedure for evaluating the performance of an algorithm. The procedure involves taking a dataset and dividing it into two subsets. The first subset is utilized to fit/train the model. The second subset is used for prediction. The main motive is to estimate the performance of the model on new data."
      ],
      "metadata": {
        "id": "NedtavSebUHz"
      }
    },
    {
      "cell_type": "code",
      "execution_count": 10,
      "source": [
        "x_train,x_test,y_train,y_test=train_test_split(X,Y,test_size=0.2,random_state=123)"
      ],
      "outputs": [],
      "metadata": {
        "id": "h2KzfLd8bUH1"
      }
    },
    {
      "cell_type": "markdown",
      "source": [
        "### Data Rescaling\n",
        "\n",
        "scale standardizes a dataset along any axis. It standardizes features by removing the mean and scaling to unit variance.\n",
        "\n",
        "scale is similar to StandardScaler in terms of feature transformation, but unlike StandardScaler, it lacks Transformer API i.e., it does not have fit_transform, transform and other related methods"
      ],
      "metadata": {
        "id": "OmC6g2Q5veUf"
      }
    },
    {
      "cell_type": "code",
      "execution_count": 11,
      "source": [
        "#learn on train set\n",
        "x_train = scale(x_train)\n",
        "#transform test set based on values learned from train set\n",
        "x_test = scale(x_test)"
      ],
      "outputs": [],
      "metadata": {
        "id": "xmflPwKBv9iE"
      }
    },
    {
      "cell_type": "markdown",
      "source": [
        "### Model\n",
        "\n",
        "KNN is one of the easiest Machine Learning algorithms based on Supervised Machine Learning technique. The algorithm stores all the available data and preditts a new data point based on the similarity. It assumes the similarity between the new data and data and put the new case into the category that is most similar to the available categories.KNN algorithm at the training phase just stores the dataset and when it gets new data, then it predict that data into a average range that is much similar to the available data.\n",
        "#### Model Tuning Parameters\n",
        "\n",
        "   > - n_neighbors -> Number of neighbors to use by default for kneighbors queries.\n",
        "\n",
        "   > - weights -> weight function used in prediction. {**uniform,distance**}\n",
        "\n",
        "   > - algorithm -> Algorithm used to compute the nearest neighbors. {**‘auto’, ‘ball_tree’, ‘kd_tree’, ‘brute’**}\n",
        "\n",
        "   > - p -> Power parameter for the Minkowski metric. When p = 1, this is equivalent to using manhattan_distance (l1), and euclidean_distance (l2) for p = 2. For arbitrary p, minkowski_distance (l_p) is used.\n",
        "    \n",
        "   > - leaf_size -> Leaf size passed to BallTree or KDTree. This can affect the speed of the construction and query, as well as the memory required to store the tree. The optimal value depends on the nature of the problem."
      ],
      "metadata": {
        "id": "IUngg9lRbUH2"
      }
    },
    {
      "cell_type": "code",
      "execution_count": 12,
      "source": [
        "#Instantiate Model\n",
        "model = KNeighborsRegressor()\n",
        "#Fit model on train set\n",
        "model.fit(x_train,y_train)"
      ],
      "outputs": [
        {
          "output_type": "execute_result",
          "data": {
            "text/plain": [
              "KNeighborsRegressor(algorithm='auto', leaf_size=30, metric='minkowski',\n",
              "                    metric_params=None, n_jobs=None, n_neighbors=5, p=2,\n",
              "                    weights='uniform')"
            ]
          },
          "metadata": {
            "tags": []
          },
          "execution_count": 12
        }
      ],
      "metadata": {
        "colab": {
          "base_uri": "https://localhost:8080/"
        },
        "id": "9rWSCtG_bUH7",
        "outputId": "d54af064-61f7-4b47-f9a5-4cc565cfb3d9"
      }
    },
    {
      "cell_type": "markdown",
      "source": [
        "#### Model Accuracy\n",
        "\n",
        "We will use the trained model to make a prediction on the test set.Then use the predicted value for measuring the accuracy of our model.\n",
        "\n"
      ],
      "metadata": {
        "id": "ib6ElwEjbUH9"
      }
    },
    {
      "cell_type": "code",
      "execution_count": 13,
      "source": [
        "print(\"Accuracy score {:.2f} %\\n\".format(model.score(x_test,y_test)*100))"
      ],
      "outputs": [
        {
          "output_type": "stream",
          "name": "stdout",
          "text": [
            "Accuracy score 72.50 %\n",
            "\n"
          ]
        }
      ],
      "metadata": {
        "colab": {
          "base_uri": "https://localhost:8080/"
        },
        "id": "duDm1HiCbUH-",
        "outputId": "80acb8c1-17c9-45f7-9226-236db09bfce2"
      }
    },
    {
      "cell_type": "markdown",
      "source": [
        "> **r2_score**: The **r2_score** function computes the percentage variablility explained by our model, either the fraction or the count of correct predictions.  \n",
        "\n",
        "> **mae**: The **mean abosolute error** function calculates the amount of total error(absolute average distance between the real data and the predicted data) by our model.  \n",
        "\n",
        "> **mse**: The **mean squared error** function squares the error(penalizes the model for large errors) by our model. "
      ],
      "metadata": {
        "id": "ncfYtj6BbUIA"
      }
    },
    {
      "cell_type": "code",
      "execution_count": 14,
      "source": [
        "y_pred=model.predict(x_test)\n",
        "print(\"R2 Score: {:.2f} %\".format(r2_score(y_test,y_pred)*100))\n",
        "print(\"Mean Absolute Error {:.2f}\".format(mean_absolute_error(y_test,y_pred)))\n",
        "print(\"Mean Squared Error {:.2f}\".format(mean_squared_error(y_test,y_pred)))"
      ],
      "outputs": [
        {
          "output_type": "stream",
          "name": "stdout",
          "text": [
            "R2 Score: 72.50 %\n",
            "Mean Absolute Error 40910.62\n",
            "Mean Squared Error 3656507047.63\n"
          ]
        }
      ],
      "metadata": {
        "colab": {
          "base_uri": "https://localhost:8080/"
        },
        "id": "TvDI50xXbUIB",
        "outputId": "5f1d59f0-0981-41a0-bcdb-053ad224e5e3"
      }
    },
    {
      "cell_type": "markdown",
      "source": [
        "#### Prediction Plot\n",
        "\n",
        "First, we make use of a plot to plot the actual observations, with x_train on the x-axis and y_train on the y-axis.\n",
        "For the regression line, we will use x_train on the x-axis and then the predictions of the x_train observations on the y-axis."
      ],
      "metadata": {
        "id": "Y4acLdCrbUID"
      }
    },
    {
      "cell_type": "code",
      "execution_count": 15,
      "source": [
        "plt.figure(figsize=(14,10))\n",
        "plt.plot(range(20),y_test[0:20], color = \"green\")\n",
        "plt.plot(range(20),model.predict(x_test[0:20]), color = \"red\")\n",
        "plt.legend([\"Actual\",\"prediction\"]) \n",
        "plt.title(\"Predicted vs True Value\")\n",
        "plt.xlabel(\"Record number\")\n",
        "plt.ylabel(target)\n",
        "plt.show()"
      ],
      "outputs": [
        {
          "output_type": "display_data",
          "data": {
            "image/png": "[encoded data removed]",
            "text/plain": [
              "<Figure size 1008x720 with 1 Axes>"
            ]
          },
          "metadata": {
            "tags": [],
            "needs_background": "light"
          }
        }
      ],
      "metadata": {
        "colab": {
          "base_uri": "https://localhost:8080/",
          "height": 572
        },
        "id": "O_AGjhUnbUIE",
        "outputId": "6794c926-5a9f-4ad0-cf49-bbf688c2a1d1"
      }
    },
    {
      "cell_type": "markdown",
      "source": [
        "#### Creator: Vikas Mishra , Github: [Profile](https://github.com/Vikaas08)\n"
      ],
      "metadata": {
        "id": "kXuLlHwJbUIG"
      }
    }
  ]
}