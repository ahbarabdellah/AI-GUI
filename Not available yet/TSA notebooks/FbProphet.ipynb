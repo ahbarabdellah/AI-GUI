{
  "nbformat": 4,
  "nbformat_minor": 5,
  "metadata": {
    "kernelspec": {
      "display_name": "Python 3",
      "language": "python",
      "name": "python3"
    },
    "language_info": {
      "codemirror_mode": {
        "name": "ipython",
        "version": 3
      },
      "file_extension": ".py",
      "mimetype": "text/x-python",
      "name": "python",
      "nbconvert_exporter": "python",
      "pygments_lexer": "ipython3",
      "version": "3.8.8"
    },
    "colab": {
      "name": "Untitled.ipynb",
      "provenance": [],
      "collapsed_sections": []
    },
    "widgets": {
      "application/vnd.jupyter.widget-state+json": {
        "9e264aa8237f4dff838f13c3614f8e67": {
          "model_module": "@jupyter-widgets/controls",
          "model_name": "HBoxModel",
          "model_module_version": "1.5.0",
          "state": {
            "_view_name": "HBoxView",
            "_dom_classes": [],
            "_model_name": "HBoxModel",
            "_view_module": "@jupyter-widgets/controls",
            "_model_module_version": "1.5.0",
            "_view_count": null,
            "_view_module_version": "1.5.0",
            "box_style": "",
            "layout": "IPY_MODEL_aa438224edac4b10aa2a3668c9a45b6c",
            "_model_module": "@jupyter-widgets/controls",
            "children": [
              "IPY_MODEL_c90b5d7c553c47b789e32c2a12348fd9",
              "IPY_MODEL_6b87171a07cd4f10be18e56c7498f9bd",
              "IPY_MODEL_37410707499a4f2aa06e221edbf0acf0"
            ]
          }
        },
        "aa438224edac4b10aa2a3668c9a45b6c": {
          "model_module": "@jupyter-widgets/base",
          "model_name": "LayoutModel",
          "model_module_version": "1.2.0",
          "state": {
            "_view_name": "LayoutView",
            "grid_template_rows": null,
            "right": null,
            "justify_content": null,
            "_view_module": "@jupyter-widgets/base",
            "overflow": null,
            "_model_module_version": "1.2.0",
            "_view_count": null,
            "flex_flow": null,
            "width": null,
            "min_width": null,
            "border": null,
            "align_items": null,
            "bottom": null,
            "_model_module": "@jupyter-widgets/base",
            "top": null,
            "grid_column": null,
            "overflow_y": null,
            "overflow_x": null,
            "grid_auto_flow": null,
            "grid_area": null,
            "grid_template_columns": null,
            "flex": null,
            "_model_name": "LayoutModel",
            "justify_items": null,
            "grid_row": null,
            "max_height": null,
            "align_content": null,
            "visibility": null,
            "align_self": null,
            "height": null,
            "min_height": null,
            "padding": null,
            "grid_auto_rows": null,
            "grid_gap": null,
            "max_width": null,
            "order": null,
            "_view_module_version": "1.2.0",
            "grid_template_areas": null,
            "object_position": null,
            "object_fit": null,
            "grid_auto_columns": null,
            "margin": null,
            "display": null,
            "left": null
          }
        },
        "c90b5d7c553c47b789e32c2a12348fd9": {
          "model_module": "@jupyter-widgets/controls",
          "model_name": "HTMLModel",
          "model_module_version": "1.5.0",
          "state": {
            "_view_name": "HTMLView",
            "style": "IPY_MODEL_384a1411c6494cd38cbe71768156b37c",
            "_dom_classes": [],
            "description": "",
            "_model_name": "HTMLModel",
            "placeholder": "​",
            "_view_module": "@jupyter-widgets/controls",
            "_model_module_version": "1.5.0",
            "value": "100%",
            "_view_count": null,
            "_view_module_version": "1.5.0",
            "description_tooltip": null,
            "_model_module": "@jupyter-widgets/controls",
            "layout": "IPY_MODEL_82c59b70709d4f89a7eb4a203b46dcaf"
          }
        },
        "6b87171a07cd4f10be18e56c7498f9bd": {
          "model_module": "@jupyter-widgets/controls",
          "model_name": "FloatProgressModel",
          "model_module_version": "1.5.0",
          "state": {
            "_view_name": "ProgressView",
            "style": "IPY_MODEL_dff38a4f8e96419a8357d4c97a62f56e",
            "_dom_classes": [],
            "description": "",
            "_model_name": "FloatProgressModel",
            "bar_style": "success",
            "max": 61,
            "_view_module": "@jupyter-widgets/controls",
            "_model_module_version": "1.5.0",
            "value": 61,
            "_view_count": null,
            "_view_module_version": "1.5.0",
            "orientation": "horizontal",
            "min": 0,
            "description_tooltip": null,
            "_model_module": "@jupyter-widgets/controls",
            "layout": "IPY_MODEL_aa51a5dc3e604202bdf8f4cd3dc2f319"
          }
        },
        "37410707499a4f2aa06e221edbf0acf0": {
          "model_module": "@jupyter-widgets/controls",
          "model_name": "HTMLModel",
          "model_module_version": "1.5.0",
          "state": {
            "_view_name": "HTMLView",
            "style": "IPY_MODEL_c225f21e9ddd435888896882385f052b",
            "_dom_classes": [],
            "description": "",
            "_model_name": "HTMLModel",
            "placeholder": "​",
            "_view_module": "@jupyter-widgets/controls",
            "_model_module_version": "1.5.0",
            "value": " 61/61 [02:21&lt;00:00,  2.04s/it]",
            "_view_count": null,
            "_view_module_version": "1.5.0",
            "description_tooltip": null,
            "_model_module": "@jupyter-widgets/controls",
            "layout": "IPY_MODEL_f9a7a91728bd465f97601ea9416e69c0"
          }
        },
        "384a1411c6494cd38cbe71768156b37c": {
          "model_module": "@jupyter-widgets/controls",
          "model_name": "DescriptionStyleModel",
          "model_module_version": "1.5.0",
          "state": {
            "_view_name": "StyleView",
            "_model_name": "DescriptionStyleModel",
            "description_width": "",
            "_view_module": "@jupyter-widgets/base",
            "_model_module_version": "1.5.0",
            "_view_count": null,
            "_view_module_version": "1.2.0",
            "_model_module": "@jupyter-widgets/controls"
          }
        },
        "82c59b70709d4f89a7eb4a203b46dcaf": {
          "model_module": "@jupyter-widgets/base",
          "model_name": "LayoutModel",
          "model_module_version": "1.2.0",
          "state": {
            "_view_name": "LayoutView",
            "grid_template_rows": null,
            "right": null,
            "justify_content": null,
            "_view_module": "@jupyter-widgets/base",
            "overflow": null,
            "_model_module_version": "1.2.0",
            "_view_count": null,
            "flex_flow": null,
            "width": null,
            "min_width": null,
            "border": null,
            "align_items": null,
            "bottom": null,
            "_model_module": "@jupyter-widgets/base",
            "top": null,
            "grid_column": null,
            "overflow_y": null,
            "overflow_x": null,
            "grid_auto_flow": null,
            "grid_area": null,
            "grid_template_columns": null,
            "flex": null,
            "_model_name": "LayoutModel",
            "justify_items": null,
            "grid_row": null,
            "max_height": null,
            "align_content": null,
            "visibility": null,
            "align_self": null,
            "height": null,
            "min_height": null,
            "padding": null,
            "grid_auto_rows": null,
            "grid_gap": null,
            "max_width": null,
            "order": null,
            "_view_module_version": "1.2.0",
            "grid_template_areas": null,
            "object_position": null,
            "object_fit": null,
            "grid_auto_columns": null,
            "margin": null,
            "display": null,
            "left": null
          }
        },
        "dff38a4f8e96419a8357d4c97a62f56e": {
          "model_module": "@jupyter-widgets/controls",
          "model_name": "ProgressStyleModel",
          "model_module_version": "1.5.0",
          "state": {
            "_view_name": "StyleView",
            "_model_name": "ProgressStyleModel",
            "description_width": "",
            "_view_module": "@jupyter-widgets/base",
            "_model_module_version": "1.5.0",
            "_view_count": null,
            "_view_module_version": "1.2.0",
            "bar_color": null,
            "_model_module": "@jupyter-widgets/controls"
          }
        },
        "aa51a5dc3e604202bdf8f4cd3dc2f319": {
          "model_module": "@jupyter-widgets/base",
          "model_name": "LayoutModel",
          "model_module_version": "1.2.0",
          "state": {
            "_view_name": "LayoutView",
            "grid_template_rows": null,
            "right": null,
            "justify_content": null,
            "_view_module": "@jupyter-widgets/base",
            "overflow": null,
            "_model_module_version": "1.2.0",
            "_view_count": null,
            "flex_flow": null,
            "width": null,
            "min_width": null,
            "border": null,
            "align_items": null,
            "bottom": null,
            "_model_module": "@jupyter-widgets/base",
            "top": null,
            "grid_column": null,
            "overflow_y": null,
            "overflow_x": null,
            "grid_auto_flow": null,
            "grid_area": null,
            "grid_template_columns": null,
            "flex": null,
            "_model_name": "LayoutModel",
            "justify_items": null,
            "grid_row": null,
            "max_height": null,
            "align_content": null,
            "visibility": null,
            "align_self": null,
            "height": null,
            "min_height": null,
            "padding": null,
            "grid_auto_rows": null,
            "grid_gap": null,
            "max_width": null,
            "order": null,
            "_view_module_version": "1.2.0",
            "grid_template_areas": null,
            "object_position": null,
            "object_fit": null,
            "grid_auto_columns": null,
            "margin": null,
            "display": null,
            "left": null
          }
        },
        "c225f21e9ddd435888896882385f052b": {
          "model_module": "@jupyter-widgets/controls",
          "model_name": "DescriptionStyleModel",
          "model_module_version": "1.5.0",
          "state": {
            "_view_name": "StyleView",
            "_model_name": "DescriptionStyleModel",
            "description_width": "",
            "_view_module": "@jupyter-widgets/base",
            "_model_module_version": "1.5.0",
            "_view_count": null,
            "_view_module_version": "1.2.0",
            "_model_module": "@jupyter-widgets/controls"
          }
        },
        "f9a7a91728bd465f97601ea9416e69c0": {
          "model_module": "@jupyter-widgets/base",
          "model_name": "LayoutModel",
          "model_module_version": "1.2.0",
          "state": {
            "_view_name": "LayoutView",
            "grid_template_rows": null,
            "right": null,
            "justify_content": null,
            "_view_module": "@jupyter-widgets/base",
            "overflow": null,
            "_model_module_version": "1.2.0",
            "_view_count": null,
            "flex_flow": null,
            "width": null,
            "min_width": null,
            "border": null,
            "align_items": null,
            "bottom": null,
            "_model_module": "@jupyter-widgets/base",
            "top": null,
            "grid_column": null,
            "overflow_y": null,
            "overflow_x": null,
            "grid_auto_flow": null,
            "grid_area": null,
            "grid_template_columns": null,
            "flex": null,
            "_model_name": "LayoutModel",
            "justify_items": null,
            "grid_row": null,
            "max_height": null,
            "align_content": null,
            "visibility": null,
            "align_self": null,
            "height": null,
            "min_height": null,
            "padding": null,
            "grid_auto_rows": null,
            "grid_gap": null,
            "max_width": null,
            "order": null,
            "_view_module_version": "1.2.0",
            "grid_template_areas": null,
            "object_position": null,
            "object_fit": null,
            "grid_auto_columns": null,
            "margin": null,
            "display": null,
            "left": null
          }
        }
      }
    }
  },
  "cells": [
    {
      "cell_type": "markdown",
      "source": [
        "# Simple FbProphet"
      ],
      "metadata": {
        "id": "kkVmFVjCGyW9"
      }
    },
    {
      "cell_type": "markdown",
      "source": [
        "This code template is for Time Series Analysis and Forecasting to make scientific predictions based on historical time stamped data with the help of FbProphet algorithm"
      ],
      "metadata": {
        "id": "EZdD--0MGyXE"
      }
    },
    {
      "cell_type": "markdown",
      "source": [
        "### Required Packages"
      ],
      "metadata": {
        "id": "_9I__wiNGyXF"
      }
    },
    {
      "cell_type": "code",
      "execution_count": null,
      "source": [
        "!pip install fbprophet"
      ],
      "outputs": [],
      "metadata": {}
    },
    {
      "cell_type": "code",
      "execution_count": 181,
      "source": [
        "import warnings \r\n",
        "import numpy as np\r\n",
        "import pandas as pd \r\n",
        "import seaborn as se \r\n",
        "import matplotlib.pyplot as plt \r\n",
        "from statsmodels.tsa.stattools import adfuller\r\n",
        "from statsmodels.graphics.tsaplots import plot_acf, plot_pacf\r\n",
        "from statsmodels.tsa.statespace.sarimax import SARIMAX\r\n",
        "from sklearn.metrics import mean_absolute_error, mean_squared_error \r\n",
        "from fbprophet import Prophet\r\n",
        "from fbprophet.diagnostics import cross_validation\r\n",
        "from fbprophet.plot import plot_cross_validation_metric\r\n",
        "from fbprophet.diagnostics import performance_metrics\r\n",
        "\r\n",
        "warnings.filterwarnings(\"ignore\")\r\n"
      ],
      "outputs": [],
      "metadata": {
        "id": "RpuLoB5GGyXG"
      }
    },
    {
      "cell_type": "markdown",
      "source": [
        "### Initialization\n",
        "\n",
        "Filepath of CSV file"
      ],
      "metadata": {
        "id": "1pAyGlPKGyXI"
      }
    },
    {
      "cell_type": "code",
      "execution_count": 182,
      "source": [
        "file_path = \"\""
      ],
      "outputs": [],
      "metadata": {
        "id": "SjRmAdZXGyXI"
      }
    },
    {
      "cell_type": "markdown",
      "source": [
        "Variable containing the date time column name of the Time Series data"
      ],
      "metadata": {
        "id": "ryBvAX-xGyXJ"
      }
    },
    {
      "cell_type": "code",
      "execution_count": 183,
      "source": [
        "date = \"\""
      ],
      "outputs": [],
      "metadata": {
        "id": "y2lBnYTgGyXJ"
      }
    },
    {
      "cell_type": "markdown",
      "source": [
        "Target feature for prediction."
      ],
      "metadata": {
        "id": "INYzMHxmGyXJ"
      }
    },
    {
      "cell_type": "code",
      "execution_count": 184,
      "source": [
        "target = \"\""
      ],
      "outputs": [],
      "metadata": {
        "id": "U1pY9Uv0GyXK"
      }
    },
    {
      "cell_type": "markdown",
      "source": [
        "### Data Fetching\n",
        "\n",
        "Pandas is an open-source, BSD-licensed library providing high-performance, easy-to-use data manipulation and data analysis tools.\n",
        "\n",
        "We will use panda's library to read the CSV file using its storage path.And we use the head function to display the initial row or entry."
      ],
      "metadata": {
        "id": "b5RlhwNuGyXK"
      }
    },
    {
      "cell_type": "code",
      "execution_count": 196,
      "source": [
        "df = pd.read_csv(file_path)\n",
        "df.head()"
      ],
      "outputs": [
        {
          "output_type": "execute_result",
          "data": {
            "text/html": [
              "<div>\n",
              "<style scoped>\n",
              "    .dataframe tbody tr th:only-of-type {\n",
              "        vertical-align: middle;\n",
              "    }\n",
              "\n",
              "    .dataframe tbody tr th {\n",
              "        vertical-align: top;\n",
              "    }\n",
              "\n",
              "    .dataframe thead th {\n",
              "        text-align: right;\n",
              "    }\n",
              "</style>\n",
              "<table border=\"1\" class=\"dataframe\">\n",
              "  <thead>\n",
              "    <tr style=\"text-align: right;\">\n",
              "      <th></th>\n",
              "      <th>DATE</th>\n",
              "      <th>IPG2211A2N</th>\n",
              "    </tr>\n",
              "  </thead>\n",
              "  <tbody>\n",
              "    <tr>\n",
              "      <th>0</th>\n",
              "      <td>1/1/1985</td>\n",
              "      <td>72.5052</td>\n",
              "    </tr>\n",
              "    <tr>\n",
              "      <th>1</th>\n",
              "      <td>2/1/1985</td>\n",
              "      <td>70.6720</td>\n",
              "    </tr>\n",
              "    <tr>\n",
              "      <th>2</th>\n",
              "      <td>3/1/1985</td>\n",
              "      <td>62.4502</td>\n",
              "    </tr>\n",
              "    <tr>\n",
              "      <th>3</th>\n",
              "      <td>4/1/1985</td>\n",
              "      <td>57.4714</td>\n",
              "    </tr>\n",
              "    <tr>\n",
              "      <th>4</th>\n",
              "      <td>5/1/1985</td>\n",
              "      <td>55.3151</td>\n",
              "    </tr>\n",
              "  </tbody>\n",
              "</table>\n",
              "</div>"
            ],
            "text/plain": [
              "       DATE  IPG2211A2N\n",
              "0  1/1/1985     72.5052\n",
              "1  2/1/1985     70.6720\n",
              "2  3/1/1985     62.4502\n",
              "3  4/1/1985     57.4714\n",
              "4  5/1/1985     55.3151"
            ]
          },
          "metadata": {},
          "execution_count": 196
        }
      ],
      "metadata": {
        "colab": {
          "base_uri": "https://localhost:8080/",
          "height": 204
        },
        "id": "ZJy31w3uGyXL",
        "outputId": "3bfa09f9-dfa4-45a5-d295-6e7f4b570cb5"
      }
    },
    {
      "cell_type": "markdown",
      "source": [
        "### Data Preprocessing\n",
        "\n",
        "Since the majority of the machine learning models for Time Series Forecasting doesn't handle string category data and Null value, we have to explicitly remove or replace null values. The below snippets have functions, which removes the rows containing null value if any exists. And convert the string classes date column in the datasets to proper Date-time classes.\n",
        "\n",
        "After the proper date conversions are done and null values are dropped, we set the Date column as the index value.\n"
      ],
      "metadata": {
        "id": "61TxeVDZGyXM"
      }
    },
    {
      "cell_type": "code",
      "execution_count": 197,
      "source": [
        "def data_preprocess(df, target, date):\n",
        "    df = df.dropna(axis=0, how = 'any')\n",
        "    df[date] = pd.to_datetime(df[date])\n",
        "    df = df.set_index(date)\n",
        "    return df"
      ],
      "outputs": [],
      "metadata": {
        "id": "eEzl_CeFGyXM"
      }
    },
    {
      "cell_type": "code",
      "execution_count": 198,
      "source": [
        "df = data_preprocess(df,target,date)\n",
        "df.head()"
      ],
      "outputs": [
        {
          "output_type": "execute_result",
          "data": {
            "text/html": [
              "<div>\n",
              "<style scoped>\n",
              "    .dataframe tbody tr th:only-of-type {\n",
              "        vertical-align: middle;\n",
              "    }\n",
              "\n",
              "    .dataframe tbody tr th {\n",
              "        vertical-align: top;\n",
              "    }\n",
              "\n",
              "    .dataframe thead th {\n",
              "        text-align: right;\n",
              "    }\n",
              "</style>\n",
              "<table border=\"1\" class=\"dataframe\">\n",
              "  <thead>\n",
              "    <tr style=\"text-align: right;\">\n",
              "      <th></th>\n",
              "      <th>IPG2211A2N</th>\n",
              "    </tr>\n",
              "    <tr>\n",
              "      <th>DATE</th>\n",
              "      <th></th>\n",
              "    </tr>\n",
              "  </thead>\n",
              "  <tbody>\n",
              "    <tr>\n",
              "      <th>1985-01-01</th>\n",
              "      <td>72.5052</td>\n",
              "    </tr>\n",
              "    <tr>\n",
              "      <th>1985-02-01</th>\n",
              "      <td>70.6720</td>\n",
              "    </tr>\n",
              "    <tr>\n",
              "      <th>1985-03-01</th>\n",
              "      <td>62.4502</td>\n",
              "    </tr>\n",
              "    <tr>\n",
              "      <th>1985-04-01</th>\n",
              "      <td>57.4714</td>\n",
              "    </tr>\n",
              "    <tr>\n",
              "      <th>1985-05-01</th>\n",
              "      <td>55.3151</td>\n",
              "    </tr>\n",
              "  </tbody>\n",
              "</table>\n",
              "</div>"
            ],
            "text/plain": [
              "            IPG2211A2N\n",
              "DATE                  \n",
              "1985-01-01     72.5052\n",
              "1985-02-01     70.6720\n",
              "1985-03-01     62.4502\n",
              "1985-04-01     57.4714\n",
              "1985-05-01     55.3151"
            ]
          },
          "metadata": {},
          "execution_count": 198
        }
      ],
      "metadata": {
        "colab": {
          "base_uri": "https://localhost:8080/",
          "height": 235
        },
        "id": "k9PIlXsMGyXN",
        "outputId": "587197ed-4146-40b4-917d-2546c1aaf7d6"
      }
    },
    {
      "cell_type": "code",
      "execution_count": 199,
      "source": [
        "df.plot(figsize = (15,8))\n",
        "plt.show()"
      ],
      "outputs": [
        {
          "output_type": "display_data",
          "data": {
            "image/png": "[encoded data removed]",
            "text/plain": [
              "<Figure size 1080x576 with 1 Axes>"
            ]
          },
          "metadata": {
            "needs_background": "light"
          }
        }
      ],
      "metadata": {
        "colab": {
          "base_uri": "https://localhost:8080/",
          "height": 417
        },
        "id": "liI6lB3cGyXO",
        "outputId": "42ce6d41-5ea1-4444-85c2-ea6244fdd90b"
      }
    },
    {
      "cell_type": "markdown",
      "source": [
        "# Converting Data in Appropriate form"
      ],
      "metadata": {
        "id": "NZWPRufpOEW1"
      }
    },
    {
      "cell_type": "code",
      "execution_count": 200,
      "source": [
        "def convert_index(df):\n",
        "  df = df.reset_index()\n",
        "  df.columns = [\"ds\",\"y\"]\n",
        "  return df"
      ],
      "outputs": [],
      "metadata": {
        "id": "kcr3xyHeOBqI"
      }
    },
    {
      "cell_type": "markdown",
      "source": [
        "### Autocorrelation Plot\n",
        "\n",
        "\n",
        "We can calculate the correlation for time series observations with observations with previous time steps, called lags. Because the correlation of the time series observations is calculated with values of the same series at previous times, this is called a serial correlation, or an autocorrelation.\n",
        "A plot of the autocorrelation of a time series by lag is called the AutoCorrelation Function, or the acronym ACF. \n",
        "\n",
        "An autocorrelation plot shows whether the elements of a time series are positively correlated, negatively correlated, or independent of each other. \n",
        "The plot shows the value of the autocorrelation function (acf) on the vertical axis ranging from –1 to 1.\n",
        "There are vertical lines (a “spike”) corresponding to each lag and the height of each spike shows the value of the autocorrelation function for the lag.\n",
        "\n",
        "[API](https://www.statsmodels.org/stable/generated/statsmodels.graphics.tsaplots.plot_acf.html)"
      ],
      "metadata": {
        "id": "-b-NdAGiGyXR"
      }
    },
    {
      "cell_type": "code",
      "execution_count": 201,
      "source": [
        "x = plot_acf(df, lags=40)\n",
        "x.set_size_inches(15, 10, forward=True)\n",
        "plt.show()"
      ],
      "outputs": [
        {
          "output_type": "display_data",
          "data": {
            "image/png": "[encoded data removed]",
            "text/plain": [
              "<Figure size 1080x720 with 1 Axes>"
            ]
          },
          "metadata": {
            "needs_background": "light"
          }
        }
      ],
      "metadata": {
        "colab": {
          "base_uri": "https://localhost:8080/",
          "height": 506
        },
        "id": "Tbs84nbpGyXS",
        "outputId": "42313171-9a42-45fe-fc48-f6cac3d9ddca"
      }
    },
    {
      "cell_type": "markdown",
      "source": [
        "### Partial Autocorrelation Plot\n",
        "\n",
        "A partial autocorrelation is a summary of the relationship between an observation in a time series with observations at prior time steps with the relationships of intervening observations removed.\n",
        "\n",
        "The partial autocorrelation at lag k is the correlation that results after removing the effect of any correlations due to the terms at shorter lags. By examining the spikes at each lag we can determine whether they are significant or not. A significant spike will extend beyond the significant limits, which indicates that the correlation for that lag doesn't equal zero.\n",
        "\n",
        "[API](https://www.statsmodels.org/stable/generated/statsmodels.graphics.tsaplots.plot_pacf.html)\n"
      ],
      "metadata": {
        "id": "uHeRYU9pGyXS"
      }
    },
    {
      "cell_type": "code",
      "execution_count": 202,
      "source": [
        "y = plot_pacf(df, lags=40)\n",
        "y.set_size_inches(15, 10, forward=True)\n",
        "plt.show()"
      ],
      "outputs": [
        {
          "output_type": "display_data",
          "data": {
            "image/png": "[encoded data removed]",
            "text/plain": [
              "<Figure size 1080x720 with 1 Axes>"
            ]
          },
          "metadata": {
            "needs_background": "light"
          }
        }
      ],
      "metadata": {
        "colab": {
          "base_uri": "https://localhost:8080/",
          "height": 506
        },
        "id": "iE-ZWJj3GyXT",
        "outputId": "47b87658-9506-439b-ac15-db598ee5ae0e"
      }
    },
    {
      "cell_type": "code",
      "execution_count": 203,
      "source": [
        "df = convert_index(df)\n",
        "df.head()"
      ],
      "outputs": [
        {
          "output_type": "execute_result",
          "data": {
            "text/html": [
              "<div>\n",
              "<style scoped>\n",
              "    .dataframe tbody tr th:only-of-type {\n",
              "        vertical-align: middle;\n",
              "    }\n",
              "\n",
              "    .dataframe tbody tr th {\n",
              "        vertical-align: top;\n",
              "    }\n",
              "\n",
              "    .dataframe thead th {\n",
              "        text-align: right;\n",
              "    }\n",
              "</style>\n",
              "<table border=\"1\" class=\"dataframe\">\n",
              "  <thead>\n",
              "    <tr style=\"text-align: right;\">\n",
              "      <th></th>\n",
              "      <th>ds</th>\n",
              "      <th>y</th>\n",
              "    </tr>\n",
              "  </thead>\n",
              "  <tbody>\n",
              "    <tr>\n",
              "      <th>0</th>\n",
              "      <td>1985-01-01</td>\n",
              "      <td>72.5052</td>\n",
              "    </tr>\n",
              "    <tr>\n",
              "      <th>1</th>\n",
              "      <td>1985-02-01</td>\n",
              "      <td>70.6720</td>\n",
              "    </tr>\n",
              "    <tr>\n",
              "      <th>2</th>\n",
              "      <td>1985-03-01</td>\n",
              "      <td>62.4502</td>\n",
              "    </tr>\n",
              "    <tr>\n",
              "      <th>3</th>\n",
              "      <td>1985-04-01</td>\n",
              "      <td>57.4714</td>\n",
              "    </tr>\n",
              "    <tr>\n",
              "      <th>4</th>\n",
              "      <td>1985-05-01</td>\n",
              "      <td>55.3151</td>\n",
              "    </tr>\n",
              "  </tbody>\n",
              "</table>\n",
              "</div>"
            ],
            "text/plain": [
              "          ds        y\n",
              "0 1985-01-01  72.5052\n",
              "1 1985-02-01  70.6720\n",
              "2 1985-03-01  62.4502\n",
              "3 1985-04-01  57.4714\n",
              "4 1985-05-01  55.3151"
            ]
          },
          "metadata": {},
          "execution_count": 203
        }
      ],
      "metadata": {
        "colab": {
          "base_uri": "https://localhost:8080/",
          "height": 204
        },
        "id": "sHoSKuq6OZoa",
        "outputId": "51e0e1a9-c4da-4256-85ce-b09c94dc29af"
      }
    },
    {
      "cell_type": "markdown",
      "source": [
        "### Data Splitting\n",
        "\n",
        "Since we are using a univariate dataset, we can directly split our data into training and testing subsets. The first subset is utilized to fit/train the model. The second subset is used for prediction. The main motive is to estimate the performance of the model on new data."
      ],
      "metadata": {
        "id": "_p9zIMH9GyXT"
      }
    },
    {
      "cell_type": "code",
      "execution_count": 204,
      "source": [
        "size = int(len(df)*0.9)\n",
        "df_train, df_test = df.iloc[:size], df.iloc[size:]"
      ],
      "outputs": [],
      "metadata": {
        "id": "l6-1BIHDGyXU"
      }
    },
    {
      "cell_type": "markdown",
      "source": [
        "### Model\n",
        "\n",
        "Prophet follows the sklearn model API. We create an instance of the Prophet class and then call its fit and predict methods.\n",
        "\n",
        "The input to Prophet is always a dataframe with two columns: ds and y. The ds (datestamp) column should be of a format expected by Pandas, ideally YYYY-MM-DD for a date or YYYY-MM-DD HH:MM:SS for a timestamp. The y column must be numeric, and represents the measurement we wish to forecast.\n",
        "\n",
        "\n",
        "[For More Reference](https://www.statsmodels.org/dev/generated/statsmodels.tsa.statespace.sarimax.SARIMAX.html) "
      ],
      "metadata": {
        "id": "TWMYaXpRGyXU"
      }
    },
    {
      "cell_type": "code",
      "execution_count": 205,
      "source": [
        "model = Prophet()\n",
        "result = model.fit(df)"
      ],
      "outputs": [
        {
          "output_type": "stream",
          "name": "stderr",
          "text": [
            "INFO:fbprophet:Disabling weekly seasonality. Run prophet with weekly_seasonality=True to override this.\n",
            "INFO:fbprophet:Disabling daily seasonality. Run prophet with daily_seasonality=True to override this.\n"
          ]
        }
      ],
      "metadata": {
        "colab": {
          "base_uri": "https://localhost:8080/"
        },
        "id": "gEGuWgqBGyXU",
        "outputId": "f11584fe-c848-4d6a-9a87-2b76a4122eca"
      }
    },
    {
      "cell_type": "markdown",
      "source": [
        "# Finding future dates using Model"
      ],
      "metadata": {
        "id": "UsgVq98VMed2"
      }
    },
    {
      "cell_type": "code",
      "execution_count": 206,
      "source": [
        "future_dates = model.make_future_dataframe(periods=365)\n",
        "future_dates"
      ],
      "outputs": [
        {
          "output_type": "execute_result",
          "data": {
            "text/html": [
              "<div>\n",
              "<style scoped>\n",
              "    .dataframe tbody tr th:only-of-type {\n",
              "        vertical-align: middle;\n",
              "    }\n",
              "\n",
              "    .dataframe tbody tr th {\n",
              "        vertical-align: top;\n",
              "    }\n",
              "\n",
              "    .dataframe thead th {\n",
              "        text-align: right;\n",
              "    }\n",
              "</style>\n",
              "<table border=\"1\" class=\"dataframe\">\n",
              "  <thead>\n",
              "    <tr style=\"text-align: right;\">\n",
              "      <th></th>\n",
              "      <th>ds</th>\n",
              "    </tr>\n",
              "  </thead>\n",
              "  <tbody>\n",
              "    <tr>\n",
              "      <th>0</th>\n",
              "      <td>1985-01-01</td>\n",
              "    </tr>\n",
              "    <tr>\n",
              "      <th>1</th>\n",
              "      <td>1985-02-01</td>\n",
              "    </tr>\n",
              "    <tr>\n",
              "      <th>2</th>\n",
              "      <td>1985-03-01</td>\n",
              "    </tr>\n",
              "    <tr>\n",
              "      <th>3</th>\n",
              "      <td>1985-04-01</td>\n",
              "    </tr>\n",
              "    <tr>\n",
              "      <th>4</th>\n",
              "      <td>1985-05-01</td>\n",
              "    </tr>\n",
              "    <tr>\n",
              "      <th>...</th>\n",
              "      <td>...</td>\n",
              "    </tr>\n",
              "    <tr>\n",
              "      <th>757</th>\n",
              "      <td>2018-12-28</td>\n",
              "    </tr>\n",
              "    <tr>\n",
              "      <th>758</th>\n",
              "      <td>2018-12-29</td>\n",
              "    </tr>\n",
              "    <tr>\n",
              "      <th>759</th>\n",
              "      <td>2018-12-30</td>\n",
              "    </tr>\n",
              "    <tr>\n",
              "      <th>760</th>\n",
              "      <td>2018-12-31</td>\n",
              "    </tr>\n",
              "    <tr>\n",
              "      <th>761</th>\n",
              "      <td>2019-01-01</td>\n",
              "    </tr>\n",
              "  </tbody>\n",
              "</table>\n",
              "<p>762 rows × 1 columns</p>\n",
              "</div>"
            ],
            "text/plain": [
              "            ds\n",
              "0   1985-01-01\n",
              "1   1985-02-01\n",
              "2   1985-03-01\n",
              "3   1985-04-01\n",
              "4   1985-05-01\n",
              "..         ...\n",
              "757 2018-12-28\n",
              "758 2018-12-29\n",
              "759 2018-12-30\n",
              "760 2018-12-31\n",
              "761 2019-01-01\n",
              "\n",
              "[762 rows x 1 columns]"
            ]
          },
          "metadata": {},
          "execution_count": 206
        }
      ],
      "metadata": {
        "colab": {
          "base_uri": "https://localhost:8080/",
          "height": 418
        },
        "id": "_lwclNERMU1f",
        "outputId": "7b9e3c5a-417d-4318-e7f1-dd1527476116"
      }
    },
    {
      "cell_type": "markdown",
      "source": [
        "#### Simple Forecasting"
      ],
      "metadata": {
        "id": "8TUBG5O7GyXW"
      }
    },
    {
      "cell_type": "code",
      "execution_count": 152,
      "source": [
        "df_train.tail()"
      ],
      "outputs": [
        {
          "output_type": "execute_result",
          "data": {
            "text/html": [
              "<div>\n",
              "<style scoped>\n",
              "    .dataframe tbody tr th:only-of-type {\n",
              "        vertical-align: middle;\n",
              "    }\n",
              "\n",
              "    .dataframe tbody tr th {\n",
              "        vertical-align: top;\n",
              "    }\n",
              "\n",
              "    .dataframe thead th {\n",
              "        text-align: right;\n",
              "    }\n",
              "</style>\n",
              "<table border=\"1\" class=\"dataframe\">\n",
              "  <thead>\n",
              "    <tr style=\"text-align: right;\">\n",
              "      <th></th>\n",
              "      <th>ds</th>\n",
              "      <th>y</th>\n",
              "    </tr>\n",
              "  </thead>\n",
              "  <tbody>\n",
              "    <tr>\n",
              "      <th>352</th>\n",
              "      <td>2014-05-01</td>\n",
              "      <td>92.1340</td>\n",
              "    </tr>\n",
              "    <tr>\n",
              "      <th>353</th>\n",
              "      <td>2014-06-01</td>\n",
              "      <td>101.8780</td>\n",
              "    </tr>\n",
              "    <tr>\n",
              "      <th>354</th>\n",
              "      <td>2014-07-01</td>\n",
              "      <td>108.5497</td>\n",
              "    </tr>\n",
              "    <tr>\n",
              "      <th>355</th>\n",
              "      <td>2014-08-01</td>\n",
              "      <td>108.1940</td>\n",
              "    </tr>\n",
              "    <tr>\n",
              "      <th>356</th>\n",
              "      <td>2014-09-01</td>\n",
              "      <td>100.4172</td>\n",
              "    </tr>\n",
              "  </tbody>\n",
              "</table>\n",
              "</div>"
            ],
            "text/plain": [
              "            ds         y\n",
              "352 2014-05-01   92.1340\n",
              "353 2014-06-01  101.8780\n",
              "354 2014-07-01  108.5497\n",
              "355 2014-08-01  108.1940\n",
              "356 2014-09-01  100.4172"
            ]
          },
          "metadata": {},
          "execution_count": 152
        }
      ],
      "metadata": {
        "colab": {
          "base_uri": "https://localhost:8080/",
          "height": 204
        },
        "id": "8ohvs0daGyXW",
        "outputId": "1a30a4da-7f69-4b3f-e813-86e7ff061e5f"
      }
    },
    {
      "cell_type": "markdown",
      "source": [
        "### Predictions\n",
        "\n",
        "By specifying the start and end time for our predictions, we can easily predict the future points in our time series with the help of our model."
      ],
      "metadata": {
        "id": "nLMnuZsTGyXX"
      }
    },
    {
      "cell_type": "code",
      "execution_count": 170,
      "source": [
        "predicted = result.predict(df_test)\n",
        "predicted"
      ],
      "outputs": [
        {
          "output_type": "execute_result",
          "data": {
            "text/html": [
              "<div>\n",
              "<style scoped>\n",
              "    .dataframe tbody tr th:only-of-type {\n",
              "        vertical-align: middle;\n",
              "    }\n",
              "\n",
              "    .dataframe tbody tr th {\n",
              "        vertical-align: top;\n",
              "    }\n",
              "\n",
              "    .dataframe thead th {\n",
              "        text-align: right;\n",
              "    }\n",
              "</style>\n",
              "<table border=\"1\" class=\"dataframe\">\n",
              "  <thead>\n",
              "    <tr style=\"text-align: right;\">\n",
              "      <th></th>\n",
              "      <th>ds</th>\n",
              "      <th>trend</th>\n",
              "      <th>yhat_lower</th>\n",
              "      <th>yhat_upper</th>\n",
              "      <th>trend_lower</th>\n",
              "      <th>trend_upper</th>\n",
              "      <th>additive_terms</th>\n",
              "      <th>additive_terms_lower</th>\n",
              "      <th>additive_terms_upper</th>\n",
              "      <th>yearly</th>\n",
              "      <th>yearly_lower</th>\n",
              "      <th>yearly_upper</th>\n",
              "      <th>multiplicative_terms</th>\n",
              "      <th>multiplicative_terms_lower</th>\n",
              "      <th>multiplicative_terms_upper</th>\n",
              "      <th>yhat</th>\n",
              "    </tr>\n",
              "  </thead>\n",
              "  <tbody>\n",
              "    <tr>\n",
              "      <th>0</th>\n",
              "      <td>2014-10-01</td>\n",
              "      <td>102.929419</td>\n",
              "      <td>90.336095</td>\n",
              "      <td>97.305383</td>\n",
              "      <td>102.929419</td>\n",
              "      <td>102.929419</td>\n",
              "      <td>-9.201588</td>\n",
              "      <td>-9.201588</td>\n",
              "      <td>-9.201588</td>\n",
              "      <td>-9.201588</td>\n",
              "      <td>-9.201588</td>\n",
              "      <td>-9.201588</td>\n",
              "      <td>0.0</td>\n",
              "      <td>0.0</td>\n",
              "      <td>0.0</td>\n",
              "      <td>93.727831</td>\n",
              "    </tr>\n",
              "    <tr>\n",
              "      <th>1</th>\n",
              "      <td>2014-11-01</td>\n",
              "      <td>102.953351</td>\n",
              "      <td>92.900282</td>\n",
              "      <td>99.847474</td>\n",
              "      <td>102.953351</td>\n",
              "      <td>102.953351</td>\n",
              "      <td>-6.453816</td>\n",
              "      <td>-6.453816</td>\n",
              "      <td>-6.453816</td>\n",
              "      <td>-6.453816</td>\n",
              "      <td>-6.453816</td>\n",
              "      <td>-6.453816</td>\n",
              "      <td>0.0</td>\n",
              "      <td>0.0</td>\n",
              "      <td>0.0</td>\n",
              "      <td>96.499535</td>\n",
              "    </tr>\n",
              "    <tr>\n",
              "      <th>2</th>\n",
              "      <td>2014-12-01</td>\n",
              "      <td>102.976511</td>\n",
              "      <td>104.862400</td>\n",
              "      <td>112.195486</td>\n",
              "      <td>102.976511</td>\n",
              "      <td>102.976511</td>\n",
              "      <td>5.620359</td>\n",
              "      <td>5.620359</td>\n",
              "      <td>5.620359</td>\n",
              "      <td>5.620359</td>\n",
              "      <td>5.620359</td>\n",
              "      <td>5.620359</td>\n",
              "      <td>0.0</td>\n",
              "      <td>0.0</td>\n",
              "      <td>0.0</td>\n",
              "      <td>108.596870</td>\n",
              "    </tr>\n",
              "    <tr>\n",
              "      <th>3</th>\n",
              "      <td>2015-01-01</td>\n",
              "      <td>103.000443</td>\n",
              "      <td>112.590936</td>\n",
              "      <td>119.874107</td>\n",
              "      <td>103.000443</td>\n",
              "      <td>103.000443</td>\n",
              "      <td>13.229066</td>\n",
              "      <td>13.229066</td>\n",
              "      <td>13.229066</td>\n",
              "      <td>13.229066</td>\n",
              "      <td>13.229066</td>\n",
              "      <td>13.229066</td>\n",
              "      <td>0.0</td>\n",
              "      <td>0.0</td>\n",
              "      <td>0.0</td>\n",
              "      <td>116.229509</td>\n",
              "    </tr>\n",
              "    <tr>\n",
              "      <th>4</th>\n",
              "      <td>2015-02-01</td>\n",
              "      <td>103.024375</td>\n",
              "      <td>105.051172</td>\n",
              "      <td>112.443666</td>\n",
              "      <td>103.024375</td>\n",
              "      <td>103.024375</td>\n",
              "      <td>5.844670</td>\n",
              "      <td>5.844670</td>\n",
              "      <td>5.844670</td>\n",
              "      <td>5.844670</td>\n",
              "      <td>5.844670</td>\n",
              "      <td>5.844670</td>\n",
              "      <td>0.0</td>\n",
              "      <td>0.0</td>\n",
              "      <td>0.0</td>\n",
              "      <td>108.869045</td>\n",
              "    </tr>\n",
              "    <tr>\n",
              "      <th>5</th>\n",
              "      <td>2015-03-01</td>\n",
              "      <td>103.045991</td>\n",
              "      <td>99.256461</td>\n",
              "      <td>106.345532</td>\n",
              "      <td>103.045991</td>\n",
              "      <td>103.045991</td>\n",
              "      <td>-0.300608</td>\n",
              "      <td>-0.300608</td>\n",
              "      <td>-0.300608</td>\n",
              "      <td>-0.300608</td>\n",
              "      <td>-0.300608</td>\n",
              "      <td>-0.300608</td>\n",
              "      <td>0.0</td>\n",
              "      <td>0.0</td>\n",
              "      <td>0.0</td>\n",
              "      <td>102.745383</td>\n",
              "    </tr>\n",
              "    <tr>\n",
              "      <th>6</th>\n",
              "      <td>2015-04-01</td>\n",
              "      <td>103.069923</td>\n",
              "      <td>89.626408</td>\n",
              "      <td>96.772079</td>\n",
              "      <td>103.069923</td>\n",
              "      <td>103.069923</td>\n",
              "      <td>-10.037631</td>\n",
              "      <td>-10.037631</td>\n",
              "      <td>-10.037631</td>\n",
              "      <td>-10.037631</td>\n",
              "      <td>-10.037631</td>\n",
              "      <td>-10.037631</td>\n",
              "      <td>0.0</td>\n",
              "      <td>0.0</td>\n",
              "      <td>0.0</td>\n",
              "      <td>93.032292</td>\n",
              "    </tr>\n",
              "    <tr>\n",
              "      <th>7</th>\n",
              "      <td>2015-05-01</td>\n",
              "      <td>103.093083</td>\n",
              "      <td>89.372942</td>\n",
              "      <td>96.984276</td>\n",
              "      <td>103.093083</td>\n",
              "      <td>103.093083</td>\n",
              "      <td>-10.041733</td>\n",
              "      <td>-10.041733</td>\n",
              "      <td>-10.041733</td>\n",
              "      <td>-10.041733</td>\n",
              "      <td>-10.041733</td>\n",
              "      <td>-10.041733</td>\n",
              "      <td>0.0</td>\n",
              "      <td>0.0</td>\n",
              "      <td>0.0</td>\n",
              "      <td>93.051350</td>\n",
              "    </tr>\n",
              "    <tr>\n",
              "      <th>8</th>\n",
              "      <td>2015-06-01</td>\n",
              "      <td>103.117014</td>\n",
              "      <td>97.496244</td>\n",
              "      <td>104.709841</td>\n",
              "      <td>103.117014</td>\n",
              "      <td>103.117014</td>\n",
              "      <td>-2.036272</td>\n",
              "      <td>-2.036272</td>\n",
              "      <td>-2.036272</td>\n",
              "      <td>-2.036272</td>\n",
              "      <td>-2.036272</td>\n",
              "      <td>-2.036272</td>\n",
              "      <td>0.0</td>\n",
              "      <td>0.0</td>\n",
              "      <td>0.0</td>\n",
              "      <td>101.080743</td>\n",
              "    </tr>\n",
              "    <tr>\n",
              "      <th>9</th>\n",
              "      <td>2015-07-01</td>\n",
              "      <td>103.140174</td>\n",
              "      <td>105.031678</td>\n",
              "      <td>112.550204</td>\n",
              "      <td>103.140174</td>\n",
              "      <td>103.140174</td>\n",
              "      <td>5.905987</td>\n",
              "      <td>5.905987</td>\n",
              "      <td>5.905987</td>\n",
              "      <td>5.905987</td>\n",
              "      <td>5.905987</td>\n",
              "      <td>5.905987</td>\n",
              "      <td>0.0</td>\n",
              "      <td>0.0</td>\n",
              "      <td>0.0</td>\n",
              "      <td>109.046162</td>\n",
              "    </tr>\n",
              "    <tr>\n",
              "      <th>10</th>\n",
              "      <td>2015-08-01</td>\n",
              "      <td>103.164106</td>\n",
              "      <td>105.794145</td>\n",
              "      <td>113.453200</td>\n",
              "      <td>103.164106</td>\n",
              "      <td>103.164106</td>\n",
              "      <td>6.622468</td>\n",
              "      <td>6.622468</td>\n",
              "      <td>6.622468</td>\n",
              "      <td>6.622468</td>\n",
              "      <td>6.622468</td>\n",
              "      <td>6.622468</td>\n",
              "      <td>0.0</td>\n",
              "      <td>0.0</td>\n",
              "      <td>0.0</td>\n",
              "      <td>109.786574</td>\n",
              "    </tr>\n",
              "    <tr>\n",
              "      <th>11</th>\n",
              "      <td>2015-09-01</td>\n",
              "      <td>103.188038</td>\n",
              "      <td>97.022975</td>\n",
              "      <td>104.573163</td>\n",
              "      <td>103.188038</td>\n",
              "      <td>103.188038</td>\n",
              "      <td>-2.544853</td>\n",
              "      <td>-2.544853</td>\n",
              "      <td>-2.544853</td>\n",
              "      <td>-2.544853</td>\n",
              "      <td>-2.544853</td>\n",
              "      <td>-2.544853</td>\n",
              "      <td>0.0</td>\n",
              "      <td>0.0</td>\n",
              "      <td>0.0</td>\n",
              "      <td>100.643185</td>\n",
              "    </tr>\n",
              "    <tr>\n",
              "      <th>12</th>\n",
              "      <td>2015-10-01</td>\n",
              "      <td>103.211198</td>\n",
              "      <td>90.274697</td>\n",
              "      <td>97.645171</td>\n",
              "      <td>103.211198</td>\n",
              "      <td>103.211198</td>\n",
              "      <td>-9.152164</td>\n",
              "      <td>-9.152164</td>\n",
              "      <td>-9.152164</td>\n",
              "      <td>-9.152164</td>\n",
              "      <td>-9.152164</td>\n",
              "      <td>-9.152164</td>\n",
              "      <td>0.0</td>\n",
              "      <td>0.0</td>\n",
              "      <td>0.0</td>\n",
              "      <td>94.059034</td>\n",
              "    </tr>\n",
              "    <tr>\n",
              "      <th>13</th>\n",
              "      <td>2015-11-01</td>\n",
              "      <td>103.235130</td>\n",
              "      <td>93.045576</td>\n",
              "      <td>100.394861</td>\n",
              "      <td>103.235130</td>\n",
              "      <td>103.235130</td>\n",
              "      <td>-6.550145</td>\n",
              "      <td>-6.550145</td>\n",
              "      <td>-6.550145</td>\n",
              "      <td>-6.550145</td>\n",
              "      <td>-6.550145</td>\n",
              "      <td>-6.550145</td>\n",
              "      <td>0.0</td>\n",
              "      <td>0.0</td>\n",
              "      <td>0.0</td>\n",
              "      <td>96.684985</td>\n",
              "    </tr>\n",
              "    <tr>\n",
              "      <th>14</th>\n",
              "      <td>2015-12-01</td>\n",
              "      <td>103.258290</td>\n",
              "      <td>104.538093</td>\n",
              "      <td>111.890059</td>\n",
              "      <td>103.258290</td>\n",
              "      <td>103.258290</td>\n",
              "      <td>4.695509</td>\n",
              "      <td>4.695509</td>\n",
              "      <td>4.695509</td>\n",
              "      <td>4.695509</td>\n",
              "      <td>4.695509</td>\n",
              "      <td>4.695509</td>\n",
              "      <td>0.0</td>\n",
              "      <td>0.0</td>\n",
              "      <td>0.0</td>\n",
              "      <td>107.953798</td>\n",
              "    </tr>\n",
              "    <tr>\n",
              "      <th>15</th>\n",
              "      <td>2016-01-01</td>\n",
              "      <td>103.282222</td>\n",
              "      <td>112.909935</td>\n",
              "      <td>120.091291</td>\n",
              "      <td>103.282222</td>\n",
              "      <td>103.282222</td>\n",
              "      <td>13.367881</td>\n",
              "      <td>13.367881</td>\n",
              "      <td>13.367881</td>\n",
              "      <td>13.367881</td>\n",
              "      <td>13.367881</td>\n",
              "      <td>13.367881</td>\n",
              "      <td>0.0</td>\n",
              "      <td>0.0</td>\n",
              "      <td>0.0</td>\n",
              "      <td>116.650103</td>\n",
              "    </tr>\n",
              "    <tr>\n",
              "      <th>16</th>\n",
              "      <td>2016-02-01</td>\n",
              "      <td>103.306154</td>\n",
              "      <td>106.354379</td>\n",
              "      <td>113.697268</td>\n",
              "      <td>103.306154</td>\n",
              "      <td>103.306154</td>\n",
              "      <td>6.478395</td>\n",
              "      <td>6.478395</td>\n",
              "      <td>6.478395</td>\n",
              "      <td>6.478395</td>\n",
              "      <td>6.478395</td>\n",
              "      <td>6.478395</td>\n",
              "      <td>0.0</td>\n",
              "      <td>0.0</td>\n",
              "      <td>0.0</td>\n",
              "      <td>109.784548</td>\n",
              "    </tr>\n",
              "    <tr>\n",
              "      <th>17</th>\n",
              "      <td>2016-03-01</td>\n",
              "      <td>103.328541</td>\n",
              "      <td>98.550495</td>\n",
              "      <td>105.674269</td>\n",
              "      <td>103.328541</td>\n",
              "      <td>103.328541</td>\n",
              "      <td>-1.277412</td>\n",
              "      <td>-1.277412</td>\n",
              "      <td>-1.277412</td>\n",
              "      <td>-1.277412</td>\n",
              "      <td>-1.277412</td>\n",
              "      <td>-1.277412</td>\n",
              "      <td>0.0</td>\n",
              "      <td>0.0</td>\n",
              "      <td>0.0</td>\n",
              "      <td>102.051130</td>\n",
              "    </tr>\n",
              "    <tr>\n",
              "      <th>18</th>\n",
              "      <td>2016-04-01</td>\n",
              "      <td>103.352473</td>\n",
              "      <td>90.176656</td>\n",
              "      <td>97.587014</td>\n",
              "      <td>103.352473</td>\n",
              "      <td>103.352473</td>\n",
              "      <td>-9.308962</td>\n",
              "      <td>-9.308962</td>\n",
              "      <td>-9.308962</td>\n",
              "      <td>-9.308962</td>\n",
              "      <td>-9.308962</td>\n",
              "      <td>-9.308962</td>\n",
              "      <td>0.0</td>\n",
              "      <td>0.0</td>\n",
              "      <td>0.0</td>\n",
              "      <td>94.043511</td>\n",
              "    </tr>\n",
              "    <tr>\n",
              "      <th>19</th>\n",
              "      <td>2016-05-01</td>\n",
              "      <td>103.375633</td>\n",
              "      <td>90.692158</td>\n",
              "      <td>98.154761</td>\n",
              "      <td>103.375633</td>\n",
              "      <td>103.375633</td>\n",
              "      <td>-8.948452</td>\n",
              "      <td>-8.948452</td>\n",
              "      <td>-8.948452</td>\n",
              "      <td>-8.948452</td>\n",
              "      <td>-8.948452</td>\n",
              "      <td>-8.948452</td>\n",
              "      <td>0.0</td>\n",
              "      <td>0.0</td>\n",
              "      <td>0.0</td>\n",
              "      <td>94.427181</td>\n",
              "    </tr>\n",
              "    <tr>\n",
              "      <th>20</th>\n",
              "      <td>2016-06-01</td>\n",
              "      <td>103.399565</td>\n",
              "      <td>98.769960</td>\n",
              "      <td>105.892160</td>\n",
              "      <td>103.399565</td>\n",
              "      <td>103.399565</td>\n",
              "      <td>-1.158460</td>\n",
              "      <td>-1.158460</td>\n",
              "      <td>-1.158460</td>\n",
              "      <td>-1.158460</td>\n",
              "      <td>-1.158460</td>\n",
              "      <td>-1.158460</td>\n",
              "      <td>0.0</td>\n",
              "      <td>0.0</td>\n",
              "      <td>0.0</td>\n",
              "      <td>102.241106</td>\n",
              "    </tr>\n",
              "    <tr>\n",
              "      <th>21</th>\n",
              "      <td>2016-07-01</td>\n",
              "      <td>103.422725</td>\n",
              "      <td>105.386659</td>\n",
              "      <td>113.062618</td>\n",
              "      <td>103.422725</td>\n",
              "      <td>103.422725</td>\n",
              "      <td>5.756680</td>\n",
              "      <td>5.756680</td>\n",
              "      <td>5.756680</td>\n",
              "      <td>5.756680</td>\n",
              "      <td>5.756680</td>\n",
              "      <td>5.756680</td>\n",
              "      <td>0.0</td>\n",
              "      <td>0.0</td>\n",
              "      <td>0.0</td>\n",
              "      <td>109.179405</td>\n",
              "    </tr>\n",
              "    <tr>\n",
              "      <th>22</th>\n",
              "      <td>2016-08-01</td>\n",
              "      <td>103.446657</td>\n",
              "      <td>104.994050</td>\n",
              "      <td>112.557728</td>\n",
              "      <td>103.446657</td>\n",
              "      <td>103.446657</td>\n",
              "      <td>5.274515</td>\n",
              "      <td>5.274515</td>\n",
              "      <td>5.274515</td>\n",
              "      <td>5.274515</td>\n",
              "      <td>5.274515</td>\n",
              "      <td>5.274515</td>\n",
              "      <td>0.0</td>\n",
              "      <td>0.0</td>\n",
              "      <td>0.0</td>\n",
              "      <td>108.721172</td>\n",
              "    </tr>\n",
              "    <tr>\n",
              "      <th>23</th>\n",
              "      <td>2016-09-01</td>\n",
              "      <td>103.470589</td>\n",
              "      <td>96.533179</td>\n",
              "      <td>104.086907</td>\n",
              "      <td>103.470589</td>\n",
              "      <td>103.470589</td>\n",
              "      <td>-3.163698</td>\n",
              "      <td>-3.163698</td>\n",
              "      <td>-3.163698</td>\n",
              "      <td>-3.163698</td>\n",
              "      <td>-3.163698</td>\n",
              "      <td>-3.163698</td>\n",
              "      <td>0.0</td>\n",
              "      <td>0.0</td>\n",
              "      <td>0.0</td>\n",
              "      <td>100.306891</td>\n",
              "    </tr>\n",
              "    <tr>\n",
              "      <th>24</th>\n",
              "      <td>2016-10-01</td>\n",
              "      <td>103.493749</td>\n",
              "      <td>90.695143</td>\n",
              "      <td>97.817869</td>\n",
              "      <td>103.493749</td>\n",
              "      <td>103.493749</td>\n",
              "      <td>-9.323719</td>\n",
              "      <td>-9.323719</td>\n",
              "      <td>-9.323719</td>\n",
              "      <td>-9.323719</td>\n",
              "      <td>-9.323719</td>\n",
              "      <td>-9.323719</td>\n",
              "      <td>0.0</td>\n",
              "      <td>0.0</td>\n",
              "      <td>0.0</td>\n",
              "      <td>94.170030</td>\n",
              "    </tr>\n",
              "    <tr>\n",
              "      <th>25</th>\n",
              "      <td>2016-11-01</td>\n",
              "      <td>103.517681</td>\n",
              "      <td>93.583321</td>\n",
              "      <td>100.848111</td>\n",
              "      <td>103.517681</td>\n",
              "      <td>103.517681</td>\n",
              "      <td>-6.296270</td>\n",
              "      <td>-6.296270</td>\n",
              "      <td>-6.296270</td>\n",
              "      <td>-6.296270</td>\n",
              "      <td>-6.296270</td>\n",
              "      <td>-6.296270</td>\n",
              "      <td>0.0</td>\n",
              "      <td>0.0</td>\n",
              "      <td>0.0</td>\n",
              "      <td>97.221411</td>\n",
              "    </tr>\n",
              "    <tr>\n",
              "      <th>26</th>\n",
              "      <td>2016-12-01</td>\n",
              "      <td>103.540840</td>\n",
              "      <td>107.047596</td>\n",
              "      <td>114.724422</td>\n",
              "      <td>103.540840</td>\n",
              "      <td>103.540840</td>\n",
              "      <td>7.487154</td>\n",
              "      <td>7.487154</td>\n",
              "      <td>7.487154</td>\n",
              "      <td>7.487154</td>\n",
              "      <td>7.487154</td>\n",
              "      <td>7.487154</td>\n",
              "      <td>0.0</td>\n",
              "      <td>0.0</td>\n",
              "      <td>0.0</td>\n",
              "      <td>111.027994</td>\n",
              "    </tr>\n",
              "    <tr>\n",
              "      <th>27</th>\n",
              "      <td>2017-01-01</td>\n",
              "      <td>103.564772</td>\n",
              "      <td>113.087948</td>\n",
              "      <td>120.493219</td>\n",
              "      <td>103.564772</td>\n",
              "      <td>103.564772</td>\n",
              "      <td>13.014980</td>\n",
              "      <td>13.014980</td>\n",
              "      <td>13.014980</td>\n",
              "      <td>13.014980</td>\n",
              "      <td>13.014980</td>\n",
              "      <td>13.014980</td>\n",
              "      <td>0.0</td>\n",
              "      <td>0.0</td>\n",
              "      <td>0.0</td>\n",
              "      <td>116.579752</td>\n",
              "    </tr>\n",
              "    <tr>\n",
              "      <th>28</th>\n",
              "      <td>2017-02-01</td>\n",
              "      <td>103.588704</td>\n",
              "      <td>104.441278</td>\n",
              "      <td>111.805721</td>\n",
              "      <td>103.588704</td>\n",
              "      <td>103.588704</td>\n",
              "      <td>4.599947</td>\n",
              "      <td>4.599947</td>\n",
              "      <td>4.599947</td>\n",
              "      <td>4.599947</td>\n",
              "      <td>4.599947</td>\n",
              "      <td>4.599947</td>\n",
              "      <td>0.0</td>\n",
              "      <td>0.0</td>\n",
              "      <td>0.0</td>\n",
              "      <td>108.188651</td>\n",
              "    </tr>\n",
              "    <tr>\n",
              "      <th>29</th>\n",
              "      <td>2017-03-01</td>\n",
              "      <td>103.610320</td>\n",
              "      <td>99.074319</td>\n",
              "      <td>106.130747</td>\n",
              "      <td>103.610320</td>\n",
              "      <td>103.610320</td>\n",
              "      <td>-0.936657</td>\n",
              "      <td>-0.936657</td>\n",
              "      <td>-0.936657</td>\n",
              "      <td>-0.936657</td>\n",
              "      <td>-0.936657</td>\n",
              "      <td>-0.936657</td>\n",
              "      <td>0.0</td>\n",
              "      <td>0.0</td>\n",
              "      <td>0.0</td>\n",
              "      <td>102.673663</td>\n",
              "    </tr>\n",
              "    <tr>\n",
              "      <th>30</th>\n",
              "      <td>2017-04-01</td>\n",
              "      <td>103.634252</td>\n",
              "      <td>90.525363</td>\n",
              "      <td>97.791106</td>\n",
              "      <td>103.634252</td>\n",
              "      <td>103.634252</td>\n",
              "      <td>-9.539575</td>\n",
              "      <td>-9.539575</td>\n",
              "      <td>-9.539575</td>\n",
              "      <td>-9.539575</td>\n",
              "      <td>-9.539575</td>\n",
              "      <td>-9.539575</td>\n",
              "      <td>0.0</td>\n",
              "      <td>0.0</td>\n",
              "      <td>0.0</td>\n",
              "      <td>94.094677</td>\n",
              "    </tr>\n",
              "    <tr>\n",
              "      <th>31</th>\n",
              "      <td>2017-05-01</td>\n",
              "      <td>103.657412</td>\n",
              "      <td>90.702122</td>\n",
              "      <td>97.947245</td>\n",
              "      <td>103.657412</td>\n",
              "      <td>103.657412</td>\n",
              "      <td>-9.313611</td>\n",
              "      <td>-9.313611</td>\n",
              "      <td>-9.313611</td>\n",
              "      <td>-9.313611</td>\n",
              "      <td>-9.313611</td>\n",
              "      <td>-9.313611</td>\n",
              "      <td>0.0</td>\n",
              "      <td>0.0</td>\n",
              "      <td>0.0</td>\n",
              "      <td>94.343801</td>\n",
              "    </tr>\n",
              "    <tr>\n",
              "      <th>32</th>\n",
              "      <td>2017-06-01</td>\n",
              "      <td>103.681344</td>\n",
              "      <td>98.469803</td>\n",
              "      <td>106.039654</td>\n",
              "      <td>103.681344</td>\n",
              "      <td>103.681344</td>\n",
              "      <td>-1.460028</td>\n",
              "      <td>-1.460028</td>\n",
              "      <td>-1.460028</td>\n",
              "      <td>-1.460028</td>\n",
              "      <td>-1.460028</td>\n",
              "      <td>-1.460028</td>\n",
              "      <td>0.0</td>\n",
              "      <td>0.0</td>\n",
              "      <td>0.0</td>\n",
              "      <td>102.221316</td>\n",
              "    </tr>\n",
              "    <tr>\n",
              "      <th>33</th>\n",
              "      <td>2017-07-01</td>\n",
              "      <td>103.704504</td>\n",
              "      <td>105.840680</td>\n",
              "      <td>113.228478</td>\n",
              "      <td>103.704504</td>\n",
              "      <td>103.704504</td>\n",
              "      <td>5.794950</td>\n",
              "      <td>5.794950</td>\n",
              "      <td>5.794950</td>\n",
              "      <td>5.794950</td>\n",
              "      <td>5.794950</td>\n",
              "      <td>5.794950</td>\n",
              "      <td>0.0</td>\n",
              "      <td>0.0</td>\n",
              "      <td>0.0</td>\n",
              "      <td>109.499453</td>\n",
              "    </tr>\n",
              "    <tr>\n",
              "      <th>34</th>\n",
              "      <td>2017-08-01</td>\n",
              "      <td>103.728436</td>\n",
              "      <td>105.953480</td>\n",
              "      <td>113.242126</td>\n",
              "      <td>103.728436</td>\n",
              "      <td>103.728436</td>\n",
              "      <td>5.721992</td>\n",
              "      <td>5.721992</td>\n",
              "      <td>5.721992</td>\n",
              "      <td>5.721992</td>\n",
              "      <td>5.721992</td>\n",
              "      <td>5.721992</td>\n",
              "      <td>0.0</td>\n",
              "      <td>0.0</td>\n",
              "      <td>0.0</td>\n",
              "      <td>109.450427</td>\n",
              "    </tr>\n",
              "    <tr>\n",
              "      <th>35</th>\n",
              "      <td>2017-09-01</td>\n",
              "      <td>103.752367</td>\n",
              "      <td>97.193175</td>\n",
              "      <td>104.306337</td>\n",
              "      <td>103.752367</td>\n",
              "      <td>103.752367</td>\n",
              "      <td>-2.951149</td>\n",
              "      <td>-2.951149</td>\n",
              "      <td>-2.951149</td>\n",
              "      <td>-2.951149</td>\n",
              "      <td>-2.951149</td>\n",
              "      <td>-2.951149</td>\n",
              "      <td>0.0</td>\n",
              "      <td>0.0</td>\n",
              "      <td>0.0</td>\n",
              "      <td>100.801218</td>\n",
              "    </tr>\n",
              "    <tr>\n",
              "      <th>36</th>\n",
              "      <td>2017-10-01</td>\n",
              "      <td>103.775527</td>\n",
              "      <td>90.861477</td>\n",
              "      <td>98.052317</td>\n",
              "      <td>103.775527</td>\n",
              "      <td>103.775527</td>\n",
              "      <td>-9.258791</td>\n",
              "      <td>-9.258791</td>\n",
              "      <td>-9.258791</td>\n",
              "      <td>-9.258791</td>\n",
              "      <td>-9.258791</td>\n",
              "      <td>-9.258791</td>\n",
              "      <td>0.0</td>\n",
              "      <td>0.0</td>\n",
              "      <td>0.0</td>\n",
              "      <td>94.516737</td>\n",
              "    </tr>\n",
              "    <tr>\n",
              "      <th>37</th>\n",
              "      <td>2017-11-01</td>\n",
              "      <td>103.799459</td>\n",
              "      <td>93.791582</td>\n",
              "      <td>100.965022</td>\n",
              "      <td>103.799459</td>\n",
              "      <td>103.799459</td>\n",
              "      <td>-6.369105</td>\n",
              "      <td>-6.369105</td>\n",
              "      <td>-6.369105</td>\n",
              "      <td>-6.369105</td>\n",
              "      <td>-6.369105</td>\n",
              "      <td>-6.369105</td>\n",
              "      <td>0.0</td>\n",
              "      <td>0.0</td>\n",
              "      <td>0.0</td>\n",
              "      <td>97.430354</td>\n",
              "    </tr>\n",
              "    <tr>\n",
              "      <th>38</th>\n",
              "      <td>2017-12-01</td>\n",
              "      <td>103.822619</td>\n",
              "      <td>106.658575</td>\n",
              "      <td>113.963568</td>\n",
              "      <td>103.822619</td>\n",
              "      <td>103.822619</td>\n",
              "      <td>6.551233</td>\n",
              "      <td>6.551233</td>\n",
              "      <td>6.551233</td>\n",
              "      <td>6.551233</td>\n",
              "      <td>6.551233</td>\n",
              "      <td>6.551233</td>\n",
              "      <td>0.0</td>\n",
              "      <td>0.0</td>\n",
              "      <td>0.0</td>\n",
              "      <td>110.373852</td>\n",
              "    </tr>\n",
              "    <tr>\n",
              "      <th>39</th>\n",
              "      <td>2018-01-01</td>\n",
              "      <td>103.846551</td>\n",
              "      <td>113.218858</td>\n",
              "      <td>120.581277</td>\n",
              "      <td>103.846551</td>\n",
              "      <td>103.846551</td>\n",
              "      <td>13.111414</td>\n",
              "      <td>13.111414</td>\n",
              "      <td>13.111414</td>\n",
              "      <td>13.111414</td>\n",
              "      <td>13.111414</td>\n",
              "      <td>13.111414</td>\n",
              "      <td>0.0</td>\n",
              "      <td>0.0</td>\n",
              "      <td>0.0</td>\n",
              "      <td>116.957965</td>\n",
              "    </tr>\n",
              "  </tbody>\n",
              "</table>\n",
              "</div>"
            ],
            "text/plain": [
              "           ds       trend  ...  multiplicative_terms_upper        yhat\n",
              "0  2014-10-01  102.929419  ...                         0.0   93.727831\n",
              "1  2014-11-01  102.953351  ...                         0.0   96.499535\n",
              "2  2014-12-01  102.976511  ...                         0.0  108.596870\n",
              "3  2015-01-01  103.000443  ...                         0.0  116.229509\n",
              "4  2015-02-01  103.024375  ...                         0.0  108.869045\n",
              "5  2015-03-01  103.045991  ...                         0.0  102.745383\n",
              "6  2015-04-01  103.069923  ...                         0.0   93.032292\n",
              "7  2015-05-01  103.093083  ...                         0.0   93.051350\n",
              "8  2015-06-01  103.117014  ...                         0.0  101.080743\n",
              "9  2015-07-01  103.140174  ...                         0.0  109.046162\n",
              "10 2015-08-01  103.164106  ...                         0.0  109.786574\n",
              "11 2015-09-01  103.188038  ...                         0.0  100.643185\n",
              "12 2015-10-01  103.211198  ...                         0.0   94.059034\n",
              "13 2015-11-01  103.235130  ...                         0.0   96.684985\n",
              "14 2015-12-01  103.258290  ...                         0.0  107.953798\n",
              "15 2016-01-01  103.282222  ...                         0.0  116.650103\n",
              "16 2016-02-01  103.306154  ...                         0.0  109.784548\n",
              "17 2016-03-01  103.328541  ...                         0.0  102.051130\n",
              "18 2016-04-01  103.352473  ...                         0.0   94.043511\n",
              "19 2016-05-01  103.375633  ...                         0.0   94.427181\n",
              "20 2016-06-01  103.399565  ...                         0.0  102.241106\n",
              "21 2016-07-01  103.422725  ...                         0.0  109.179405\n",
              "22 2016-08-01  103.446657  ...                         0.0  108.721172\n",
              "23 2016-09-01  103.470589  ...                         0.0  100.306891\n",
              "24 2016-10-01  103.493749  ...                         0.0   94.170030\n",
              "25 2016-11-01  103.517681  ...                         0.0   97.221411\n",
              "26 2016-12-01  103.540840  ...                         0.0  111.027994\n",
              "27 2017-01-01  103.564772  ...                         0.0  116.579752\n",
              "28 2017-02-01  103.588704  ...                         0.0  108.188651\n",
              "29 2017-03-01  103.610320  ...                         0.0  102.673663\n",
              "30 2017-04-01  103.634252  ...                         0.0   94.094677\n",
              "31 2017-05-01  103.657412  ...                         0.0   94.343801\n",
              "32 2017-06-01  103.681344  ...                         0.0  102.221316\n",
              "33 2017-07-01  103.704504  ...                         0.0  109.499453\n",
              "34 2017-08-01  103.728436  ...                         0.0  109.450427\n",
              "35 2017-09-01  103.752367  ...                         0.0  100.801218\n",
              "36 2017-10-01  103.775527  ...                         0.0   94.516737\n",
              "37 2017-11-01  103.799459  ...                         0.0   97.430354\n",
              "38 2017-12-01  103.822619  ...                         0.0  110.373852\n",
              "39 2018-01-01  103.846551  ...                         0.0  116.957965\n",
              "\n",
              "[40 rows x 16 columns]"
            ]
          },
          "metadata": {},
          "execution_count": 170
        }
      ],
      "metadata": {
        "colab": {
          "base_uri": "https://localhost:8080/",
          "height": 1000
        },
        "id": "umV3deVkGyXX",
        "outputId": "8fa803f1-b16d-4ede-c05b-5df1e14224d8"
      }
    },
    {
      "cell_type": "markdown",
      "source": [
        "## Predictions Plot\n",
        "\n",
        "First we make use of plot to plot the predicted values returned by our model based on the test data.\n",
        "After that we plot the actual test data to compare our predictions."
      ],
      "metadata": {
        "id": "JBBKrzadGyXY"
      }
    },
    {
      "cell_type": "code",
      "execution_count": 173,
      "source": [
        "plt.figure(figsize=(18,5))\n",
        "result.plot(predicted)\n",
        "\n",
        "plt.show()"
      ],
      "outputs": [
        {
          "output_type": "display_data",
          "data": {
            "text/plain": [
              "<Figure size 1296x360 with 0 Axes>"
            ]
          },
          "metadata": {}
        },
        {
          "output_type": "display_data",
          "data": {
            "image/png": "[encoded data removed]",
            "text/plain": [
              "<Figure size 720x432 with 1 Axes>"
            ]
          },
          "metadata": {}
        }
      ],
      "metadata": {
        "colab": {
          "base_uri": "https://localhost:8080/",
          "height": 459
        },
        "id": "kTBMOUTyGyXY",
        "outputId": "9b48603e-3b6c-4256-b232-d949bf6bb836"
      }
    },
    {
      "cell_type": "markdown",
      "source": [
        "# Model Components plot"
      ],
      "metadata": {
        "id": "0c_EorKIRr14"
      }
    },
    {
      "cell_type": "code",
      "execution_count": 174,
      "source": [
        "result.plot_components(predicted)"
      ],
      "outputs": [
        {
          "output_type": "execute_result",
          "data": {
            "image/png": "[encoded data removed]",
            "text/plain": [
              "<Figure size 648x432 with 2 Axes>"
            ]
          },
          "metadata": {},
          "execution_count": 174
        },
        {
          "output_type": "display_data",
          "data": {
            "image/png": "[encoded data removed]",
            "text/plain": [
              "<Figure size 648x432 with 2 Axes>"
            ]
          },
          "metadata": {}
        }
      ],
      "metadata": {
        "colab": {
          "base_uri": "https://localhost:8080/",
          "height": 865
        },
        "id": "CmMRqyRqRxc5",
        "outputId": "67e5794b-d8ac-49a9-b7d6-668f71fbe19b"
      }
    },
    {
      "cell_type": "code",
      "execution_count": 176,
      "source": [
        "df_cv = cross_validation(model,initial = '730 days',period = '180 days',horizon = '365 days')\n",
        "df_cv.head()"
      ],
      "outputs": [
        {
          "output_type": "stream",
          "name": "stderr",
          "text": [
            "INFO:fbprophet:Making 61 forecasts with cutoffs between 1987-06-08 00:00:00 and 2017-01-01 00:00:00\n"
          ]
        },
        {
          "output_type": "display_data",
          "data": {
            "application/vnd.jupyter.widget-view+json": {
              "model_id": "9e264aa8237f4dff838f13c3614f8e67",
              "version_minor": 0,
              "version_major": 2
            },
            "text/plain": [
              "  0%|          | 0/61 [00:00<?, ?it/s]"
            ]
          },
          "metadata": {}
        },
        {
          "output_type": "stream",
          "name": "stderr",
          "text": [
            "INFO:fbprophet:n_changepoints greater than number of observations. Using 23.\n"
          ]
        },
        {
          "output_type": "execute_result",
          "data": {
            "text/html": [
              "<div>\n",
              "<style scoped>\n",
              "    .dataframe tbody tr th:only-of-type {\n",
              "        vertical-align: middle;\n",
              "    }\n",
              "\n",
              "    .dataframe tbody tr th {\n",
              "        vertical-align: top;\n",
              "    }\n",
              "\n",
              "    .dataframe thead th {\n",
              "        text-align: right;\n",
              "    }\n",
              "</style>\n",
              "<table border=\"1\" class=\"dataframe\">\n",
              "  <thead>\n",
              "    <tr style=\"text-align: right;\">\n",
              "      <th></th>\n",
              "      <th>ds</th>\n",
              "      <th>yhat</th>\n",
              "      <th>yhat_lower</th>\n",
              "      <th>yhat_upper</th>\n",
              "      <th>y</th>\n",
              "      <th>cutoff</th>\n",
              "    </tr>\n",
              "  </thead>\n",
              "  <tbody>\n",
              "    <tr>\n",
              "      <th>0</th>\n",
              "      <td>1987-07-01</td>\n",
              "      <td>71.549952</td>\n",
              "      <td>71.149868</td>\n",
              "      <td>71.931671</td>\n",
              "      <td>68.8694</td>\n",
              "      <td>1987-06-08</td>\n",
              "    </tr>\n",
              "    <tr>\n",
              "      <th>1</th>\n",
              "      <td>1987-08-01</td>\n",
              "      <td>69.357483</td>\n",
              "      <td>68.919266</td>\n",
              "      <td>69.757024</td>\n",
              "      <td>70.0669</td>\n",
              "      <td>1987-06-08</td>\n",
              "    </tr>\n",
              "    <tr>\n",
              "      <th>2</th>\n",
              "      <td>1987-09-01</td>\n",
              "      <td>66.187622</td>\n",
              "      <td>65.708786</td>\n",
              "      <td>66.662070</td>\n",
              "      <td>64.1151</td>\n",
              "      <td>1987-06-08</td>\n",
              "    </tr>\n",
              "    <tr>\n",
              "      <th>3</th>\n",
              "      <td>1987-10-01</td>\n",
              "      <td>64.659649</td>\n",
              "      <td>64.043603</td>\n",
              "      <td>65.252695</td>\n",
              "      <td>60.3789</td>\n",
              "      <td>1987-06-08</td>\n",
              "    </tr>\n",
              "    <tr>\n",
              "      <th>4</th>\n",
              "      <td>1987-11-01</td>\n",
              "      <td>67.700860</td>\n",
              "      <td>66.948685</td>\n",
              "      <td>68.414542</td>\n",
              "      <td>62.4643</td>\n",
              "      <td>1987-06-08</td>\n",
              "    </tr>\n",
              "  </tbody>\n",
              "</table>\n",
              "</div>"
            ],
            "text/plain": [
              "          ds       yhat  yhat_lower  yhat_upper        y     cutoff\n",
              "0 1987-07-01  71.549952   71.149868   71.931671  68.8694 1987-06-08\n",
              "1 1987-08-01  69.357483   68.919266   69.757024  70.0669 1987-06-08\n",
              "2 1987-09-01  66.187622   65.708786   66.662070  64.1151 1987-06-08\n",
              "3 1987-10-01  64.659649   64.043603   65.252695  60.3789 1987-06-08\n",
              "4 1987-11-01  67.700860   66.948685   68.414542  62.4643 1987-06-08"
            ]
          },
          "metadata": {},
          "execution_count": 176
        }
      ],
      "metadata": {
        "colab": {
          "base_uri": "https://localhost:8080/",
          "height": 291,
          "referenced_widgets": [
            "9e264aa8237f4dff838f13c3614f8e67",
            "aa438224edac4b10aa2a3668c9a45b6c",
            "c90b5d7c553c47b789e32c2a12348fd9",
            "6b87171a07cd4f10be18e56c7498f9bd",
            "37410707499a4f2aa06e221edbf0acf0",
            "384a1411c6494cd38cbe71768156b37c",
            "82c59b70709d4f89a7eb4a203b46dcaf",
            "dff38a4f8e96419a8357d4c97a62f56e",
            "aa51a5dc3e604202bdf8f4cd3dc2f319",
            "c225f21e9ddd435888896882385f052b",
            "f9a7a91728bd465f97601ea9416e69c0"
          ]
        },
        "id": "9dUC1xtUR8XH",
        "outputId": "493c014d-5aea-4eb1-974c-59a0aedb9d1f"
      }
    },
    {
      "cell_type": "markdown",
      "source": [
        "# Performance Metrics\n",
        "In this, various error are computed across the data points to check the predicted result"
      ],
      "metadata": {
        "id": "0G-q8VTzS3KX"
      }
    },
    {
      "cell_type": "code",
      "execution_count": 180,
      "source": [
        "df_p = performance_metrics(df_cv)\n",
        "df_p.head()"
      ],
      "outputs": [
        {
          "output_type": "execute_result",
          "data": {
            "text/html": [
              "<div>\n",
              "<style scoped>\n",
              "    .dataframe tbody tr th:only-of-type {\n",
              "        vertical-align: middle;\n",
              "    }\n",
              "\n",
              "    .dataframe tbody tr th {\n",
              "        vertical-align: top;\n",
              "    }\n",
              "\n",
              "    .dataframe thead th {\n",
              "        text-align: right;\n",
              "    }\n",
              "</style>\n",
              "<table border=\"1\" class=\"dataframe\">\n",
              "  <thead>\n",
              "    <tr style=\"text-align: right;\">\n",
              "      <th></th>\n",
              "      <th>horizon</th>\n",
              "      <th>mse</th>\n",
              "      <th>rmse</th>\n",
              "      <th>mae</th>\n",
              "      <th>mape</th>\n",
              "      <th>mdape</th>\n",
              "      <th>coverage</th>\n",
              "    </tr>\n",
              "  </thead>\n",
              "  <tbody>\n",
              "    <tr>\n",
              "      <th>0</th>\n",
              "      <td>37 days</td>\n",
              "      <td>11.336738</td>\n",
              "      <td>3.367007</td>\n",
              "      <td>2.545309</td>\n",
              "      <td>0.028151</td>\n",
              "      <td>0.026345</td>\n",
              "      <td>0.561644</td>\n",
              "    </tr>\n",
              "    <tr>\n",
              "      <th>1</th>\n",
              "      <td>38 days</td>\n",
              "      <td>11.211366</td>\n",
              "      <td>3.348338</td>\n",
              "      <td>2.524928</td>\n",
              "      <td>0.027723</td>\n",
              "      <td>0.024723</td>\n",
              "      <td>0.561644</td>\n",
              "    </tr>\n",
              "    <tr>\n",
              "      <th>2</th>\n",
              "      <td>39 days</td>\n",
              "      <td>11.210532</td>\n",
              "      <td>3.348213</td>\n",
              "      <td>2.523622</td>\n",
              "      <td>0.027704</td>\n",
              "      <td>0.024723</td>\n",
              "      <td>0.561644</td>\n",
              "    </tr>\n",
              "    <tr>\n",
              "      <th>3</th>\n",
              "      <td>40 days</td>\n",
              "      <td>11.537820</td>\n",
              "      <td>3.396737</td>\n",
              "      <td>2.574640</td>\n",
              "      <td>0.028402</td>\n",
              "      <td>0.026345</td>\n",
              "      <td>0.554795</td>\n",
              "    </tr>\n",
              "    <tr>\n",
              "      <th>4</th>\n",
              "      <td>41 days</td>\n",
              "      <td>11.226375</td>\n",
              "      <td>3.350578</td>\n",
              "      <td>2.528437</td>\n",
              "      <td>0.027947</td>\n",
              "      <td>0.024723</td>\n",
              "      <td>0.561644</td>\n",
              "    </tr>\n",
              "  </tbody>\n",
              "</table>\n",
              "</div>"
            ],
            "text/plain": [
              "  horizon        mse      rmse       mae      mape     mdape  coverage\n",
              "0 37 days  11.336738  3.367007  2.545309  0.028151  0.026345  0.561644\n",
              "1 38 days  11.211366  3.348338  2.524928  0.027723  0.024723  0.561644\n",
              "2 39 days  11.210532  3.348213  2.523622  0.027704  0.024723  0.561644\n",
              "3 40 days  11.537820  3.396737  2.574640  0.028402  0.026345  0.554795\n",
              "4 41 days  11.226375  3.350578  2.528437  0.027947  0.024723  0.561644"
            ]
          },
          "metadata": {},
          "execution_count": 180
        }
      ],
      "metadata": {
        "colab": {
          "base_uri": "https://localhost:8080/",
          "height": 204
        },
        "id": "JuAr9FE-S2RQ",
        "outputId": "dcf04bbc-3a05-4f27-eb37-a1e5532f9706"
      }
    },
    {
      "cell_type": "markdown",
      "source": [
        "# Cross validation metric plot"
      ],
      "metadata": {
        "id": "DvKLJjXJSfew"
      }
    },
    {
      "cell_type": "code",
      "execution_count": 179,
      "source": [
        "fig = plot_cross_validation_metric(df_cv,metric = 'rmse')"
      ],
      "outputs": [
        {
          "output_type": "display_data",
          "data": {
            "image/png": "[encoded data removed]",
            "text/plain": [
              "<Figure size 720x432 with 1 Axes>"
            ]
          },
          "metadata": {}
        }
      ],
      "metadata": {
        "colab": {
          "base_uri": "https://localhost:8080/",
          "height": 388
        },
        "id": "QF0z7ustSJnF",
        "outputId": "760e03d8-6f0c-4e86-84db-26f0c50ec06d"
      }
    },
    {
      "cell_type": "markdown",
      "source": [
        "\n",
        "\n",
        "#### Creator: Jay Shimpi, Github: [Profile](https://github.com/JayShimpi22)"
      ],
      "metadata": {
        "id": "LGtmcjByGyXZ"
      }
    }
  ]
}