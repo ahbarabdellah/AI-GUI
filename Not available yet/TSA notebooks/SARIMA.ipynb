{
 "cells": [
  {
   "cell_type": "markdown",
   "metadata": {
    "id": "f67c7899"
   },
   "source": [
    "# Simple SARIMA"
   ]
  },
  {
   "cell_type": "markdown",
   "metadata": {},
   "source": [
    "This code template is for Time Series Analysis and Forecasting to make scientific predictions based on historical time stamped data with the help of SARIMA algorithm"
   ]
  },
  {
   "cell_type": "markdown",
   "metadata": {},
   "source": [
    "### Required Packages"
   ]
  },
  {
   "cell_type": "code",
   "execution_count": 30,
   "metadata": {
    "colab": {
     "base_uri": "https://localhost:8080/"
    },
    "id": "49643f97",
    "outputId": "789a60b5-b0b4-4bd0-ed8b-021bd40f566d"
   },
   "outputs": [],
   "source": [
    "import warnings \n",
    "import numpy as np\n",
    "import pandas as pd \n",
    "import seaborn as se \n",
    "import matplotlib.pyplot as plt \n",
    "from statsmodels.tsa.stattools import adfuller\n",
    "from statsmodels.graphics.tsaplots import plot_acf, plot_pacf\n",
    "from statsmodels.tsa.statespace.sarimax import SARIMAX\n",
    "from sklearn.metrics import mean_absolute_error, mean_squared_error \n",
    "\n",
    "warnings.filterwarnings(\"ignore\")\n"
   ]
  },
  {
   "cell_type": "markdown",
   "metadata": {
    "id": "e99df75f"
   },
   "source": [
    "### Initialization\n",
    "\n",
    "Filepath of CSV file"
   ]
  },
  {
   "cell_type": "code",
   "execution_count": 31,
   "metadata": {
    "id": "8eaa3ecd"
   },
   "outputs": [],
   "source": [
    "file_path = \"\""
   ]
  },
  {
   "cell_type": "markdown",
   "metadata": {
    "id": "62178777"
   },
   "source": [
    "Variable containing the date time column name of the Time Series data"
   ]
  },
  {
   "cell_type": "code",
   "execution_count": 32,
   "metadata": {
    "id": "48c94d24"
   },
   "outputs": [],
   "source": [
    "date = \"\""
   ]
  },
  {
   "cell_type": "markdown",
   "metadata": {
    "id": "0820f9b3"
   },
   "source": [
    "Target feature for prediction."
   ]
  },
  {
   "cell_type": "code",
   "execution_count": 33,
   "metadata": {
    "id": "603ad365"
   },
   "outputs": [],
   "source": [
    "target = \"\""
   ]
  },
  {
   "cell_type": "markdown",
   "metadata": {
    "id": "0b0d35f4"
   },
   "source": [
    "### Data Fetching\n",
    "\n",
    "Pandas is an open-source, BSD-licensed library providing high-performance, easy-to-use data manipulation and data analysis tools.\n",
    "\n",
    "We will use panda's library to read the CSV file using its storage path.And we use the head function to display the initial row or entry."
   ]
  },
  {
   "cell_type": "code",
   "execution_count": 34,
   "metadata": {
    "colab": {
     "base_uri": "https://localhost:8080/",
     "height": 203
    },
    "id": "72e93414",
    "outputId": "2b300a72-c673-4734-f5df-18c24c7f80da"
   },
   "outputs": [
    {
     "data": {
      "text/html": [
       "<div>\n",
       "<style scoped>\n",
       "    .dataframe tbody tr th:only-of-type {\n",
       "        vertical-align: middle;\n",
       "    }\n",
       "\n",
       "    .dataframe tbody tr th {\n",
       "        vertical-align: top;\n",
       "    }\n",
       "\n",
       "    .dataframe thead th {\n",
       "        text-align: right;\n",
       "    }\n",
       "</style>\n",
       "<table border=\"1\" class=\"dataframe\">\n",
       "  <thead>\n",
       "    <tr style=\"text-align: right;\">\n",
       "      <th></th>\n",
       "      <th>date</th>\n",
       "      <th>sales</th>\n",
       "    </tr>\n",
       "  </thead>\n",
       "  <tbody>\n",
       "    <tr>\n",
       "      <th>0</th>\n",
       "      <td>01-01-2013</td>\n",
       "      <td>14236.90</td>\n",
       "    </tr>\n",
       "    <tr>\n",
       "      <th>1</th>\n",
       "      <td>01-02-2013</td>\n",
       "      <td>4519.89</td>\n",
       "    </tr>\n",
       "    <tr>\n",
       "      <th>2</th>\n",
       "      <td>01-03-2013</td>\n",
       "      <td>55691.01</td>\n",
       "    </tr>\n",
       "    <tr>\n",
       "      <th>3</th>\n",
       "      <td>01-04-2013</td>\n",
       "      <td>28295.35</td>\n",
       "    </tr>\n",
       "    <tr>\n",
       "      <th>4</th>\n",
       "      <td>01-05-2013</td>\n",
       "      <td>23648.29</td>\n",
       "    </tr>\n",
       "  </tbody>\n",
       "</table>\n",
       "</div>"
      ],
      "text/plain": [
       "         date     sales\n",
       "0  01-01-2013  14236.90\n",
       "1  01-02-2013   4519.89\n",
       "2  01-03-2013  55691.01\n",
       "3  01-04-2013  28295.35\n",
       "4  01-05-2013  23648.29"
      ]
     },
     "execution_count": 34,
     "metadata": {},
     "output_type": "execute_result"
    }
   ],
   "source": [
    "df = pd.read_csv(file_path)\n",
    "df.head()"
   ]
  },
  {
   "cell_type": "markdown",
   "metadata": {
    "id": "9155d998"
   },
   "source": [
    "### Data Preprocessing\n",
    "\n",
    "Since the majority of the machine learning models for Time Series Forecasting doesn't handle string category data and Null value, we have to explicitly remove or replace null values. The below snippets have functions, which removes the rows containing null value if any exists. And convert the string classes date column in the datasets to proper Date-time classes.\n",
    "\n",
    "After the proper date conversions are done and null values are dropped, we set the Date column as the index value.\n"
   ]
  },
  {
   "cell_type": "code",
   "execution_count": 35,
   "metadata": {
    "id": "b99e81f3"
   },
   "outputs": [],
   "source": [
    "def data_preprocess(df, target, date):\n",
    "    df = df.dropna(axis=0, how = 'any')\n",
    "    df[date] = pd.to_datetime(df[date])\n",
    "    df = df.set_index(date)\n",
    "    return df"
   ]
  },
  {
   "cell_type": "code",
   "execution_count": 36,
   "metadata": {
    "colab": {
     "base_uri": "https://localhost:8080/",
     "height": 234
    },
    "id": "13af1ab3",
    "outputId": "ccd02f6a-a256-45d0-b854-ddf33a36b9b8"
   },
   "outputs": [
    {
     "data": {
      "text/html": [
       "<div>\n",
       "<style scoped>\n",
       "    .dataframe tbody tr th:only-of-type {\n",
       "        vertical-align: middle;\n",
       "    }\n",
       "\n",
       "    .dataframe tbody tr th {\n",
       "        vertical-align: top;\n",
       "    }\n",
       "\n",
       "    .dataframe thead th {\n",
       "        text-align: right;\n",
       "    }\n",
       "</style>\n",
       "<table border=\"1\" class=\"dataframe\">\n",
       "  <thead>\n",
       "    <tr style=\"text-align: right;\">\n",
       "      <th></th>\n",
       "      <th>sales</th>\n",
       "    </tr>\n",
       "    <tr>\n",
       "      <th>date</th>\n",
       "      <th></th>\n",
       "    </tr>\n",
       "  </thead>\n",
       "  <tbody>\n",
       "    <tr>\n",
       "      <th>2013-01-01</th>\n",
       "      <td>14236.90</td>\n",
       "    </tr>\n",
       "    <tr>\n",
       "      <th>2013-01-02</th>\n",
       "      <td>4519.89</td>\n",
       "    </tr>\n",
       "    <tr>\n",
       "      <th>2013-01-03</th>\n",
       "      <td>55691.01</td>\n",
       "    </tr>\n",
       "    <tr>\n",
       "      <th>2013-01-04</th>\n",
       "      <td>28295.35</td>\n",
       "    </tr>\n",
       "    <tr>\n",
       "      <th>2013-01-05</th>\n",
       "      <td>23648.29</td>\n",
       "    </tr>\n",
       "  </tbody>\n",
       "</table>\n",
       "</div>"
      ],
      "text/plain": [
       "               sales\n",
       "date                \n",
       "2013-01-01  14236.90\n",
       "2013-01-02   4519.89\n",
       "2013-01-03  55691.01\n",
       "2013-01-04  28295.35\n",
       "2013-01-05  23648.29"
      ]
     },
     "execution_count": 36,
     "metadata": {},
     "output_type": "execute_result"
    }
   ],
   "source": [
    "df = data_preprocess(df,target,date)\n",
    "df.head()"
   ]
  },
  {
   "cell_type": "code",
   "execution_count": 37,
   "metadata": {
    "colab": {
     "base_uri": "https://localhost:8080/",
     "height": 465
    },
    "id": "ec7c4afc",
    "outputId": "7e9ec954-6c82-47a1-a1ce-1c9779ff6b33"
   },
   "outputs": [
    {
     "data": {
      "image/png": "[encoded data removed]",
      "text/plain": [
       "<Figure size 1080x576 with 1 Axes>"
      ]
     },
     "metadata": {
      "needs_background": "light"
     },
     "output_type": "display_data"
    }
   ],
   "source": [
    "df.plot(figsize = (15,8))\n",
    "plt.show()"
   ]
  },
  {
   "cell_type": "markdown",
   "metadata": {
    "id": "260a3ce9"
   },
   "source": [
    "### Seasonality decomposition"
   ]
  },
  {
   "cell_type": "markdown",
   "metadata": {
    "id": "23e08157"
   },
   "source": [
    "Since Simple ARIMAX for non-seasonal data, we need to check for any seasonality in our time series and decompose it.\n",
    "\n",
    "We use the Dickey Fuller Test for testing the seasonality and if the ADF Statistic value is positive, it means that the data has seasonality.\n",
    "\n",
    "#### Dickey Fuller Test\n",
    "The Dickey Fuller test is a common statistical test used to test whether a given Time series is stationary or not. The Augmented Dickey Fuller (ADF) test expands the Dickey-Fuller test equation to include high order regressive process in the model. We can implement the ADF test via the **adfuller()** function. It returns the following outputs:\n",
    "\n",
    "    1. adf : float\n",
    "> The test statistic.\n",
    "\n",
    "    2. pvalue : float\n",
    "> MacKinnon's approximate p-value based on MacKinnon(1994, 2010). It is used alongwith the test statistic to reject or accept the null hypothesis.\n",
    "\n",
    "    3. usedlag : int\n",
    "> Number of lags considered for the test\n",
    "\n",
    "    4. critical values : dict\n",
    "> Critical values for the test statistic at the 1 %, 5 %, and 10 % levels. Based on MacKinnon (2010).\n",
    "\n",
    "For more information on the adfuller() function [click here](https://www.statsmodels.org/stable/generated/statsmodels.tsa.stattools.adfuller.html)"
   ]
  },
  {
   "cell_type": "code",
   "execution_count": 38,
   "metadata": {
    "id": "2d43786b"
   },
   "outputs": [],
   "source": [
    "def dickeyFuller(df,target):\n",
    "    \n",
    "    # Applying Dickey Fuller Test\n",
    "    X = df.values\n",
    "    result = adfuller(X)\n",
    "    print('ADF Statistic: %f' % result[0])\n",
    "    print('p-value: %f' % result[1])\n",
    "    print('Number of lags used: %d' % result[2])\n",
    "    print('Critical Values:')\n",
    "    for key, value in result[4].items():\n",
    "           print('\\t%s: %.3f' % (key, value))    \n",
    "    return df"
   ]
  },
  {
   "cell_type": "code",
   "execution_count": 39,
   "metadata": {
    "colab": {
     "base_uri": "https://localhost:8080/",
     "height": 303
    },
    "id": "523f38b4",
    "outputId": "ca2853fa-52c2-4e0f-e1ee-e41c76675de6"
   },
   "outputs": [
    {
     "name": "stdout",
     "output_type": "stream",
     "text": [
      "ADF Statistic: -4.481467\n",
      "p-value: 0.000212\n",
      "Number of lags used: 0\n",
      "Critical Values:\n",
      "\t1%: -3.578\n",
      "\t5%: -2.925\n",
      "\t10%: -2.601\n"
     ]
    }
   ],
   "source": [
    "df = dickeyFuller(df,target)"
   ]
  },
  {
   "cell_type": "markdown",
   "metadata": {
    "id": "4c281272"
   },
   "source": [
    "### Autocorrelation Plot\n",
    "\n",
    "\n",
    "We can calculate the correlation for time series observations with observations with previous time steps, called lags. Because the correlation of the time series observations is calculated with values of the same series at previous times, this is called a serial correlation, or an autocorrelation.\n",
    "A plot of the autocorrelation of a time series by lag is called the AutoCorrelation Function, or the acronym ACF. \n",
    "\n",
    "An autocorrelation plot shows whether the elements of a time series are positively correlated, negatively correlated, or independent of each other. \n",
    "The plot shows the value of the autocorrelation function (acf) on the vertical axis ranging from –1 to 1.\n",
    "There are vertical lines (a “spike”) corresponding to each lag and the height of each spike shows the value of the autocorrelation function for the lag.\n",
    "\n",
    "[API](https://www.statsmodels.org/stable/generated/statsmodels.graphics.tsaplots.plot_acf.html)"
   ]
  },
  {
   "cell_type": "code",
   "execution_count": 40,
   "metadata": {
    "id": "9f47112b"
   },
   "outputs": [
    {
     "data": {
      "image/png": "[encoded data removed]",
      "text/plain": [
       "<Figure size 1080x720 with 1 Axes>"
      ]
     },
     "metadata": {
      "needs_background": "light"
     },
     "output_type": "display_data"
    }
   ],
   "source": [
    "x = plot_acf(df, lags=20)\n",
    "x.set_size_inches(15, 10, forward=True)\n",
    "plt.show()"
   ]
  },
  {
   "cell_type": "markdown",
   "metadata": {
    "id": "3e387c28"
   },
   "source": [
    "### Partial Autocorrelation Plot\n",
    "\n",
    "A partial autocorrelation is a summary of the relationship between an observation in a time series with observations at prior time steps with the relationships of intervening observations removed.\n",
    "\n",
    "The partial autocorrelation at lag k is the correlation that results after removing the effect of any correlations due to the terms at shorter lags. By examining the spikes at each lag we can determine whether they are significant or not. A significant spike will extend beyond the significant limits, which indicates that the correlation for that lag doesn't equal zero.\n",
    "\n",
    "[API](https://www.statsmodels.org/stable/generated/statsmodels.graphics.tsaplots.plot_pacf.html)\n"
   ]
  },
  {
   "cell_type": "code",
   "execution_count": 41,
   "metadata": {
    "id": "3b357dc1"
   },
   "outputs": [
    {
     "data": {
      "image/png": "[encoded data removed]",
      "text/plain": [
       "<Figure size 1080x720 with 1 Axes>"
      ]
     },
     "metadata": {
      "needs_background": "light"
     },
     "output_type": "display_data"
    }
   ],
   "source": [
    "y = plot_pacf(df, lags=20)\n",
    "y.set_size_inches(15, 10, forward=True)\n",
    "plt.show()"
   ]
  },
  {
   "cell_type": "markdown",
   "metadata": {
    "id": "44b62dfd"
   },
   "source": [
    "### Data Splitting\n",
    "\n",
    "Since we are using a univariate dataset, we can directly split our data into training and testing subsets. The first subset is utilized to fit/train the model. The second subset is used for prediction. The main motive is to estimate the performance of the model on new data."
   ]
  },
  {
   "cell_type": "code",
   "execution_count": 42,
   "metadata": {
    "id": "0cf3d5b1"
   },
   "outputs": [],
   "source": [
    "size = int(len(df)*0.9)\n",
    "df_train, df_test = df.iloc[:size], df.iloc[size:]"
   ]
  },
  {
   "cell_type": "markdown",
   "metadata": {
    "id": "30804b53"
   },
   "source": [
    "### Model\n",
    "## SARIMA\n",
    "SARIMA(Seasonal Auto-Regressive Integrated Moving Average) method is used for time series forecasting with univariate data containing trends and seasonality.\n",
    "#### Model Tuning Parameters\n",
    "\n",
    "    1. endog: array_like\n",
    ">The observed time-series process \n",
    "\n",
    "    2. exog: array_like, optional\n",
    ">Array of exogenous regressors, shaped nobs x k.\n",
    "\n",
    "    3. order: iterable or iterable of iterables, optional\n",
    ">The (p,d,q) order of the model for the number of AR parameters, differences, and MA parameters. d must be an integer indicating the integration order of the process, while p and q may either be an integers indicating the AR and MA orders (so that all lags up to those orders are included) or else iterables giving specific AR and / or MA lags to include. Default is an AR(1) model: (1,0,0).\n",
    "\n",
    "    4. seasonal_order: iterable, optional\n",
    ">The (P,D,Q,s) order of the seasonal component of the model for the AR parameters, differences, MA parameters, and periodicity. D must be an integer indicating the integration order of the process, while P and Q may either be an integers indicating the AR and MA orders (so that all lags up to those orders are included) or else iterables giving specific AR and / or MA lags to include. s is an integer giving the periodicity (number of periods in season), often it is 4 for quarterly data or 12 for monthly data. Default is no seasonal effect.\n",
    "\n",
    "    5. trend: str{‘n’,’c’,’t’,’ct’} or iterable, optional\n",
    ">Parameter controlling the deterministic trend polynomial . Can be specified as a string where ‘c’ indicates a constant (i.e. a degree zero component of the trend polynomial), ‘t’ indicates a linear trend with time, and ‘ct’ is both. Can also be specified as an iterable defining the non-zero polynomial exponents to include, in increasing order. For example, [1,1,0,1] denotes \n",
    ". Default is to not include a trend component.\n",
    "\n",
    "    6. measurement_error: bool, optional\n",
    ">Whether or not to assume the endogenous observations endog were measured with error. Default is False.\n",
    "\n",
    "    7. time_varying_regression: bool, optional\n",
    ">Used when an explanatory variables, exog, are provided provided to select whether or not coefficients on the exogenous regressors are allowed to vary over time. Default is False.\n",
    "\n",
    "    8. mle_regression: bool, optional\n",
    ">Whether or not to use estimate the regression coefficients for the exogenous variables as part of maximum likelihood estimation or through the Kalman filter (i.e. recursive least squares). If time_varying_regression is True, this must be set to False. Default is True.\n",
    "\n",
    "Refer to the official documentation at [statsmodels](https://www.statsmodels.org/dev/generated/statsmodels.tsa.statespace.sarimax.SARIMAX.html) for more parameters and information"
   ]
  },
  {
   "cell_type": "code",
   "execution_count": 43,
   "metadata": {
    "id": "486e4dfa"
   },
   "outputs": [],
   "source": [
    "model=SARIMAX(df[target],order=(1, 0, 0),seasonal_order=(1,1,1,12))\n",
    "result=model.fit()"
   ]
  },
  {
   "cell_type": "markdown",
   "metadata": {
    "id": "34478cdd"
   },
   "source": [
    "### Model Summary\n",
    "\n",
    "After fitting the training data into our ARIMAX and training it, we can take a look at a brief summary of our model by using the **summary()** function. The followings aspects are included in our model summary:\n",
    "\n",
    "1. Basic Model Details: The first column of our summary table contains the basic details regarding our model such as: \n",
    "    \n",
    "        a. Name of dependent variable    \n",
    "        b. Model used along with parameters    \n",
    "        c. Date and time of model deployment    \n",
    "        d. Time Series sample used to train the model\n",
    "    \n",
    "        \n",
    "2. Probablistic Statistical Measures: The second column gives the values of the probablistic measures obtained by our model:\n",
    "    \n",
    "       a. Number of observations\n",
    "   \n",
    "       b. Log-likelihood, which comes from Maximum Likelihood Estimation, a technique for finding or optimizing the\n",
    "       parameters of a model in response to a training dataset.\n",
    "   \n",
    "       c. Standard Deviation of the innovations\n",
    "   \n",
    "       d. Akaike Information Criterion (AIC), which is derived from frequentist probability.\n",
    "   \n",
    "       e. Bayesian Information Criterion (BIC), which is derived from Bayesian probability.\n",
    "   \n",
    "       f. Hannan-Quinn Information Criterion (HQIC), which is an alternative to AIC and is derived using the log-likelihood and \n",
    "       the number of observartions.\n",
    "   \n",
    "   \n",
    "   \n",
    "3. Statistical Measures and Roots: The summary table also consists of certain other statistical measures such as z-value, standard error as well as the information on the characteristic roots of the model."
   ]
  },
  {
   "cell_type": "code",
   "execution_count": 44,
   "metadata": {
    "id": "15ce4a0e"
   },
   "outputs": [
    {
     "data": {
      "text/html": [
       "<table class=\"simpletable\">\n",
       "<caption>SARIMAX Results</caption>\n",
       "<tr>\n",
       "  <th>Dep. Variable:</th>                 <td>sales</td>              <th>  No. Observations:  </th>    <td>48</td>   \n",
       "</tr>\n",
       "<tr>\n",
       "  <th>Model:</th>           <td>SARIMAX(1, 0, 0)x(1, 1, [1], 12)</td> <th>  Log Likelihood     </th> <td>-393.598</td>\n",
       "</tr>\n",
       "<tr>\n",
       "  <th>Date:</th>                    <td>Thu, 30 Sep 2021</td>         <th>  AIC                </th>  <td>795.195</td>\n",
       "</tr>\n",
       "<tr>\n",
       "  <th>Time:</th>                        <td>20:17:12</td>             <th>  BIC                </th>  <td>801.529</td>\n",
       "</tr>\n",
       "<tr>\n",
       "  <th>Sample:</th>                          <td>0</td>                <th>  HQIC               </th>  <td>797.406</td>\n",
       "</tr>\n",
       "<tr>\n",
       "  <th></th>                               <td> - 48</td>              <th>                     </th>     <td> </td>   \n",
       "</tr>\n",
       "<tr>\n",
       "  <th>Covariance Type:</th>                <td>opg</td>               <th>                     </th>     <td> </td>   \n",
       "</tr>\n",
       "</table>\n",
       "<table class=\"simpletable\">\n",
       "<tr>\n",
       "      <td></td>        <th>coef</th>     <th>std err</th>      <th>z</th>      <th>P>|z|</th>  <th>[0.025</th>    <th>0.975]</th>  \n",
       "</tr>\n",
       "<tr>\n",
       "  <th>ar.L1</th>    <td>    0.3035</td> <td>    0.128</td> <td>    2.379</td> <td> 0.017</td> <td>    0.053</td> <td>    0.554</td>\n",
       "</tr>\n",
       "<tr>\n",
       "  <th>ar.S.L12</th> <td>   -0.3027</td> <td>    0.820</td> <td>   -0.369</td> <td> 0.712</td> <td>   -1.909</td> <td>    1.304</td>\n",
       "</tr>\n",
       "<tr>\n",
       "  <th>ma.S.L12</th> <td>    0.1499</td> <td>    0.831</td> <td>    0.180</td> <td> 0.857</td> <td>   -1.478</td> <td>    1.778</td>\n",
       "</tr>\n",
       "<tr>\n",
       "  <th>sigma2</th>   <td> 1.948e+08</td> <td> 9.25e-10</td> <td> 2.11e+17</td> <td> 0.000</td> <td> 1.95e+08</td> <td> 1.95e+08</td>\n",
       "</tr>\n",
       "</table>\n",
       "<table class=\"simpletable\">\n",
       "<tr>\n",
       "  <th>Ljung-Box (L1) (Q):</th>     <td>1.87</td> <th>  Jarque-Bera (JB):  </th> <td>0.58</td> \n",
       "</tr>\n",
       "<tr>\n",
       "  <th>Prob(Q):</th>                <td>0.17</td> <th>  Prob(JB):          </th> <td>0.75</td> \n",
       "</tr>\n",
       "<tr>\n",
       "  <th>Heteroskedasticity (H):</th> <td>3.04</td> <th>  Skew:              </th> <td>-0.01</td>\n",
       "</tr>\n",
       "<tr>\n",
       "  <th>Prob(H) (two-sided):</th>    <td>0.07</td> <th>  Kurtosis:          </th> <td>2.38</td> \n",
       "</tr>\n",
       "</table><br/><br/>Warnings:<br/>[1] Covariance matrix calculated using the outer product of gradients (complex-step).<br/>[2] Covariance matrix is singular or near-singular, with condition number 2.75e+34. Standard errors may be unstable."
      ],
      "text/plain": [
       "<class 'statsmodels.iolib.summary.Summary'>\n",
       "\"\"\"\n",
       "                                      SARIMAX Results                                       \n",
       "============================================================================================\n",
       "Dep. Variable:                                sales   No. Observations:                   48\n",
       "Model:             SARIMAX(1, 0, 0)x(1, 1, [1], 12)   Log Likelihood                -393.598\n",
       "Date:                              Thu, 30 Sep 2021   AIC                            795.195\n",
       "Time:                                      20:17:12   BIC                            801.529\n",
       "Sample:                                           0   HQIC                           797.406\n",
       "                                               - 48                                         \n",
       "Covariance Type:                                opg                                         \n",
       "==============================================================================\n",
       "                 coef    std err          z      P>|z|      [0.025      0.975]\n",
       "------------------------------------------------------------------------------\n",
       "ar.L1          0.3035      0.128      2.379      0.017       0.053       0.554\n",
       "ar.S.L12      -0.3027      0.820     -0.369      0.712      -1.909       1.304\n",
       "ma.S.L12       0.1499      0.831      0.180      0.857      -1.478       1.778\n",
       "sigma2      1.948e+08   9.25e-10   2.11e+17      0.000    1.95e+08    1.95e+08\n",
       "===================================================================================\n",
       "Ljung-Box (L1) (Q):                   1.87   Jarque-Bera (JB):                 0.58\n",
       "Prob(Q):                              0.17   Prob(JB):                         0.75\n",
       "Heteroskedasticity (H):               3.04   Skew:                            -0.01\n",
       "Prob(H) (two-sided):                  0.07   Kurtosis:                         2.38\n",
       "===================================================================================\n",
       "\n",
       "Warnings:\n",
       "[1] Covariance matrix calculated using the outer product of gradients (complex-step).\n",
       "[2] Covariance matrix is singular or near-singular, with condition number 2.75e+34. Standard errors may be unstable.\n",
       "\"\"\""
      ]
     },
     "execution_count": 44,
     "metadata": {},
     "output_type": "execute_result"
    }
   ],
   "source": [
    "result.summary()"
   ]
  },
  {
   "cell_type": "markdown",
   "metadata": {
    "id": "f4c84b61"
   },
   "source": [
    "#### Simple Forecasting"
   ]
  },
  {
   "cell_type": "code",
   "execution_count": 45,
   "metadata": {
    "id": "d4d8f264"
   },
   "outputs": [
    {
     "data": {
      "text/html": [
       "<div>\n",
       "<style scoped>\n",
       "    .dataframe tbody tr th:only-of-type {\n",
       "        vertical-align: middle;\n",
       "    }\n",
       "\n",
       "    .dataframe tbody tr th {\n",
       "        vertical-align: top;\n",
       "    }\n",
       "\n",
       "    .dataframe thead th {\n",
       "        text-align: right;\n",
       "    }\n",
       "</style>\n",
       "<table border=\"1\" class=\"dataframe\">\n",
       "  <thead>\n",
       "    <tr style=\"text-align: right;\">\n",
       "      <th></th>\n",
       "      <th>sales</th>\n",
       "    </tr>\n",
       "    <tr>\n",
       "      <th>date</th>\n",
       "      <th></th>\n",
       "    </tr>\n",
       "  </thead>\n",
       "  <tbody>\n",
       "    <tr>\n",
       "      <th>2016-01-03</th>\n",
       "      <td>58872.35</td>\n",
       "    </tr>\n",
       "    <tr>\n",
       "      <th>2016-01-04</th>\n",
       "      <td>36521.54</td>\n",
       "    </tr>\n",
       "    <tr>\n",
       "      <th>2016-01-05</th>\n",
       "      <td>44261.11</td>\n",
       "    </tr>\n",
       "    <tr>\n",
       "      <th>2016-01-06</th>\n",
       "      <td>52981.73</td>\n",
       "    </tr>\n",
       "    <tr>\n",
       "      <th>2016-01-07</th>\n",
       "      <td>45264.42</td>\n",
       "    </tr>\n",
       "  </tbody>\n",
       "</table>\n",
       "</div>"
      ],
      "text/plain": [
       "               sales\n",
       "date                \n",
       "2016-01-03  58872.35\n",
       "2016-01-04  36521.54\n",
       "2016-01-05  44261.11\n",
       "2016-01-06  52981.73\n",
       "2016-01-07  45264.42"
      ]
     },
     "execution_count": 45,
     "metadata": {},
     "output_type": "execute_result"
    }
   ],
   "source": [
    "df_train.tail()"
   ]
  },
  {
   "cell_type": "markdown",
   "metadata": {
    "id": "d4e59efc"
   },
   "source": [
    "### Predictions\n",
    "\n",
    "By specifying the start and end time for our predictions, we can easily predict the future points in our time series with the help of our model."
   ]
  },
  {
   "cell_type": "code",
   "execution_count": 46,
   "metadata": {
    "id": "d2128efc"
   },
   "outputs": [
    {
     "data": {
      "text/plain": [
       "date\n",
       "2016-01-08     36520.138664\n",
       "2016-01-09     79819.153401\n",
       "2016-01-10     57655.898549\n",
       "2016-01-11     88571.530034\n",
       "2016-01-12    105104.996909\n",
       "Name: predicted_mean, dtype: float64"
      ]
     },
     "execution_count": 46,
     "metadata": {},
     "output_type": "execute_result"
    }
   ],
   "source": [
    "d = df.drop([target], axis = 1)\n",
    "\n",
    "start_date = d.iloc[size].name\n",
    "end_date = d.iloc[len(df)-1].name\n",
    "\n",
    "df_pred = result.predict(start = start_date, end = end_date)\n",
    "df_pred.head()"
   ]
  },
  {
   "cell_type": "markdown",
   "metadata": {
    "id": "61d8b203"
   },
   "source": [
    "## Model Accuracy\n",
    "\n",
    "We will use the three most popular metrics for model evaluation: Mean absolute error (MAE), Mean squared error (MSE), or Root mean squared error (RMSE)."
   ]
  },
  {
   "cell_type": "code",
   "execution_count": 47,
   "metadata": {
    "id": "751d6c83"
   },
   "outputs": [
    {
     "name": "stdout",
     "output_type": "stream",
     "text": [
      "Mean Absolute Error 21184.25\n",
      "Mean Squared Error 504493081.00\n",
      "Root Mean Squared Error 22460.92\n"
     ]
    }
   ],
   "source": [
    "test = df_test[target]\n",
    "print(\"Mean Absolute Error {:.2f}\".format(mean_absolute_error(test,df_pred)))\n",
    "print(\"Mean Squared Error {:.2f}\".format(mean_squared_error(test,df_pred)))\n",
    "print(\"Root Mean Squared Error {:.2f}\".format(np.sqrt(mean_squared_error(test,df_pred))))"
   ]
  },
  {
   "cell_type": "markdown",
   "metadata": {
    "id": "41a94b8b"
   },
   "source": [
    "## Predictions Plot\n",
    "\n",
    "First we make use of plot to plot the predicted values returned by our model based on the test data.\n",
    "After that we plot the actual test data to compare our predictions."
   ]
  },
  {
   "cell_type": "code",
   "execution_count": 48,
   "metadata": {
    "id": "bdd916b8"
   },
   "outputs": [
    {
     "data": {
      "image/png": "[encoded data removed]",
      "text/plain": [
       "<Figure size 1296x360 with 1 Axes>"
      ]
     },
     "metadata": {
      "needs_background": "light"
     },
     "output_type": "display_data"
    }
   ],
   "source": [
    "plt.figure(figsize=(18,5))\n",
    "plt.plot(df_pred[start_date:end_date], color = \"red\")\n",
    "plt.plot(df_test, color = \"blue\")\n",
    "plt.title(\"Predictions vs Actual\", size = 24)\n",
    "plt.plot(fontsize=\"x-large\")\n",
    "\n",
    "plt.show()"
   ]
  },
  {
   "cell_type": "markdown",
   "metadata": {
    "id": "926fc1d0"
   },
   "source": [
    "#### Creator: Akshar Nerkar, Github: [Profile](https://github.com/Akshar777)"
   ]
  }
 ],
 "metadata": {
  "colab": {
   "name": "SARIMAX.ipynb",
   "provenance": []
  },
  "kernelspec": {
   "display_name": "Python 3",
   "language": "python",
   "name": "python3"
  },
  "language_info": {
   "codemirror_mode": {
    "name": "ipython",
    "version": 3
   },
   "file_extension": ".py",
   "mimetype": "text/x-python",
   "name": "python",
   "nbconvert_exporter": "python",
   "pygments_lexer": "ipython3",
   "version": "3.8.3"
  }
 },
 "nbformat": 4,
 "nbformat_minor": 5
}
