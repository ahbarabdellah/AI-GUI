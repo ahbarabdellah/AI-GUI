{
  "nbformat": 4,
  "nbformat_minor": 0,
  "metadata": {
    "kernelspec": {
      "name": "python3",
      "display_name": "Python 3.8.5 64-bit ('base': conda)"
    },
    "language_info": {
      "codemirror_mode": {
        "name": "ipython",
        "version": 3
      },
      "file_extension": ".py",
      "mimetype": "text/x-python",
      "name": "python",
      "nbconvert_exporter": "python",
      "pygments_lexer": "ipython3",
      "version": "3.8.5"
    },
    "interpreter": {
      "hash": "51a9663a131f1b5758c45b97a2d6917c8ae86b33e231c3733631cbc7265cfc89"
    },
    "colab": {
      "name": "PoissonRegressor_scale.ipynb",
      "provenance": [],
      "collapsed_sections": []
    }
  },
  "cells": [
    {
      "cell_type": "markdown",
      "metadata": {
        "id": "2iTy9x4uZ4TR"
      },
      "source": [
        "# Poisson Regression with scale"
      ]
    },
    {
      "cell_type": "markdown",
      "metadata": {
        "id": "ZaEqZDpwJu9f"
      },
      "source": [
        "This Code template is for the regression analysis using a Poisson Regression and the feature rescaling technique simple Scaling method along with a pipeline. "
      ]
    },
    {
      "cell_type": "markdown",
      "metadata": {
        "id": "2sQ8GseacOXG"
      },
      "source": [
        "### Required Packages\n"
      ]
    },
    {
      "cell_type": "code",
      "metadata": {
        "id": "X_WhY477Z4TY"
      },
      "source": [
        "import warnings\n",
        "import numpy as np \n",
        "import pandas as pd \n",
        "import seaborn as se \n",
        "import matplotlib.pyplot as plt \n",
        "from sklearn.pipeline import make_pipeline\n",
        "from sklearn.preprocessing import scale\n",
        "from sklearn.model_selection import train_test_split \n",
        "from sklearn.metrics import r2_score, mean_absolute_error, mean_squared_error\n",
        "from sklearn.linear_model import PoissonRegressor\n",
        "warnings.filterwarnings('ignore')"
      ],
      "execution_count": 1,
      "outputs": []
    },
    {
      "cell_type": "markdown",
      "metadata": {
        "id": "CTP1s7vmZ4Ta"
      },
      "source": [
        "### Initialization"
      ]
    },
    {
      "cell_type": "markdown",
      "metadata": {
        "id": "yKoqlzTnv-zT"
      },
      "source": [
        "Filepath of CSV file\n"
      ]
    },
    {
      "cell_type": "code",
      "metadata": {
        "id": "g-z2DECmZ4Tb"
      },
      "source": [
        "#filepath\n",
        "file_path= \"\""
      ],
      "execution_count": 2,
      "outputs": []
    },
    {
      "cell_type": "markdown",
      "metadata": {
        "id": "Ao7EadxnZ4Tb"
      },
      "source": [
        "List of features which are  required for model training ."
      ]
    },
    {
      "cell_type": "code",
      "metadata": {
        "id": "qxuNPbs8Z4Tc"
      },
      "source": [
        "#x_values\n",
        "features=[]"
      ],
      "execution_count": 3,
      "outputs": []
    },
    {
      "cell_type": "markdown",
      "metadata": {
        "id": "gm5G-DqjZ4Td"
      },
      "source": [
        "Target feature for prediction."
      ]
    },
    {
      "cell_type": "code",
      "metadata": {
        "id": "6NLdKTBaZ4Te"
      },
      "source": [
        "#y_value\n",
        "target=''"
      ],
      "execution_count": 4,
      "outputs": []
    },
    {
      "cell_type": "markdown",
      "metadata": {
        "id": "27iGGDeQwCSL"
      },
      "source": [
        "### Data Fetching\n"
      ]
    },
    {
      "cell_type": "markdown",
      "metadata": {
        "id": "keyeNsdZZ4Tf"
      },
      "source": [
        "\n",
        "Pandas is an open-source, BSD-licensed library providing high-performance, easy-to-use data manipulation and data analysis tools.\n",
        "\n",
        "We will use panda's library to read the CSV file using its storage path.And we use the head function to display the initial row or entry."
      ]
    },
    {
      "cell_type": "code",
      "metadata": {
        "id": "72-tqq_RZ4Tg",
        "colab": {
          "base_uri": "https://localhost:8080/",
          "height": 204
        },
        "outputId": "4a3b5097-02e5-4609-eed7-41c3c014afba"
      },
      "source": [
        "df=pd.read_csv(file_path)\n",
        "df.head()"
      ],
      "execution_count": 5,
      "outputs": [
        {
          "output_type": "execute_result",
          "data": {
            "text/html": [
              "<div>\n",
              "<style scoped>\n",
              "    .dataframe tbody tr th:only-of-type {\n",
              "        vertical-align: middle;\n",
              "    }\n",
              "\n",
              "    .dataframe tbody tr th {\n",
              "        vertical-align: top;\n",
              "    }\n",
              "\n",
              "    .dataframe thead th {\n",
              "        text-align: right;\n",
              "    }\n",
              "</style>\n",
              "<table border=\"1\" class=\"dataframe\">\n",
              "  <thead>\n",
              "    <tr style=\"text-align: right;\">\n",
              "      <th></th>\n",
              "      <th>AT</th>\n",
              "      <th>V</th>\n",
              "      <th>AP</th>\n",
              "      <th>RH</th>\n",
              "      <th>PE</th>\n",
              "    </tr>\n",
              "  </thead>\n",
              "  <tbody>\n",
              "    <tr>\n",
              "      <th>0</th>\n",
              "      <td>14.96</td>\n",
              "      <td>41.76</td>\n",
              "      <td>1024.07</td>\n",
              "      <td>73.17</td>\n",
              "      <td>463.27</td>\n",
              "    </tr>\n",
              "    <tr>\n",
              "      <th>1</th>\n",
              "      <td>25.18</td>\n",
              "      <td>62.96</td>\n",
              "      <td>1020.04</td>\n",
              "      <td>59.08</td>\n",
              "      <td>444.37</td>\n",
              "    </tr>\n",
              "    <tr>\n",
              "      <th>2</th>\n",
              "      <td>5.11</td>\n",
              "      <td>39.40</td>\n",
              "      <td>1012.16</td>\n",
              "      <td>92.14</td>\n",
              "      <td>488.56</td>\n",
              "    </tr>\n",
              "    <tr>\n",
              "      <th>3</th>\n",
              "      <td>20.86</td>\n",
              "      <td>57.32</td>\n",
              "      <td>1010.24</td>\n",
              "      <td>76.64</td>\n",
              "      <td>446.48</td>\n",
              "    </tr>\n",
              "    <tr>\n",
              "      <th>4</th>\n",
              "      <td>10.82</td>\n",
              "      <td>37.50</td>\n",
              "      <td>1009.23</td>\n",
              "      <td>96.62</td>\n",
              "      <td>473.90</td>\n",
              "    </tr>\n",
              "  </tbody>\n",
              "</table>\n",
              "</div>"
            ],
            "text/plain": [
              "      AT      V       AP     RH      PE\n",
              "0  14.96  41.76  1024.07  73.17  463.27\n",
              "1  25.18  62.96  1020.04  59.08  444.37\n",
              "2   5.11  39.40  1012.16  92.14  488.56\n",
              "3  20.86  57.32  1010.24  76.64  446.48\n",
              "4  10.82  37.50  1009.23  96.62  473.90"
            ]
          },
          "metadata": {
            "tags": []
          },
          "execution_count": 5
        }
      ]
    },
    {
      "cell_type": "markdown",
      "metadata": {
        "id": "APbgwOfwwFdX"
      },
      "source": [
        "### Feature Selections\n"
      ]
    },
    {
      "cell_type": "markdown",
      "metadata": {
        "id": "tOeUMc0OZ4Tj"
      },
      "source": [
        "\n",
        "It is the process of reducing the number of input variables when developing a predictive model. Used to reduce the number of input variables to both reduce the computational cost of modelling and, in some cases, to improve the performance of the model.\n",
        "\n",
        "We will assign all the required input features to X and target/outcome to Y."
      ]
    },
    {
      "cell_type": "code",
      "metadata": {
        "id": "hXJA7xjDZ4Tk"
      },
      "source": [
        "X=df[features]\n",
        "Y=df[target]"
      ],
      "execution_count": 6,
      "outputs": []
    },
    {
      "cell_type": "markdown",
      "metadata": {
        "id": "rNCqmwRJwIfF"
      },
      "source": [
        "### Data Preprocessing\n"
      ]
    },
    {
      "cell_type": "markdown",
      "metadata": {
        "id": "MCjDcCBzZ4Tl"
      },
      "source": [
        "\n",
        "Since the majority of the machine learning models in the Sklearn library doesn't handle string category data and Null value, we have to explicitly remove or replace null values. The below snippet have functions, which removes the null value if any exists. And convert the string classes data in the datasets by encoding them to integer classes.\n"
      ]
    },
    {
      "cell_type": "code",
      "metadata": {
        "id": "7wNf7jdgZ4Tm"
      },
      "source": [
        "def NullClearner(df):\n",
        "    if(isinstance(df, pd.Series) and (df.dtype in [\"float64\",\"int64\"])):\n",
        "        df.fillna(df.mean(),inplace=True)\n",
        "        return df\n",
        "    elif(isinstance(df, pd.Series)):\n",
        "        df.fillna(df.mode()[0],inplace=True)\n",
        "        return df\n",
        "    else:return df\n",
        "def EncodeX(df):\n",
        "    return pd.get_dummies(df)"
      ],
      "execution_count": 7,
      "outputs": []
    },
    {
      "cell_type": "markdown",
      "metadata": {
        "id": "c_ZCzdjOZ4Tn"
      },
      "source": [
        "Calling preprocessing functions on the feature and target set.\n"
      ]
    },
    {
      "cell_type": "code",
      "metadata": {
        "id": "efOSxT9cZ4To",
        "colab": {
          "base_uri": "https://localhost:8080/",
          "height": 204
        },
        "outputId": "772b0f41-fbc2-4450-b60f-b50b4811e2d9"
      },
      "source": [
        "x=X.columns.to_list()\n",
        "for i in x:\n",
        "    X[i]=NullClearner(X[i])\n",
        "X=EncodeX(X)\n",
        "Y=NullClearner(Y)\n",
        "X.head()"
      ],
      "execution_count": 8,
      "outputs": [
        {
          "output_type": "execute_result",
          "data": {
            "text/html": [
              "<div>\n",
              "<style scoped>\n",
              "    .dataframe tbody tr th:only-of-type {\n",
              "        vertical-align: middle;\n",
              "    }\n",
              "\n",
              "    .dataframe tbody tr th {\n",
              "        vertical-align: top;\n",
              "    }\n",
              "\n",
              "    .dataframe thead th {\n",
              "        text-align: right;\n",
              "    }\n",
              "</style>\n",
              "<table border=\"1\" class=\"dataframe\">\n",
              "  <thead>\n",
              "    <tr style=\"text-align: right;\">\n",
              "      <th></th>\n",
              "      <th>AT</th>\n",
              "      <th>V</th>\n",
              "      <th>AP</th>\n",
              "      <th>RH</th>\n",
              "    </tr>\n",
              "  </thead>\n",
              "  <tbody>\n",
              "    <tr>\n",
              "      <th>0</th>\n",
              "      <td>14.96</td>\n",
              "      <td>41.76</td>\n",
              "      <td>1024.07</td>\n",
              "      <td>73.17</td>\n",
              "    </tr>\n",
              "    <tr>\n",
              "      <th>1</th>\n",
              "      <td>25.18</td>\n",
              "      <td>62.96</td>\n",
              "      <td>1020.04</td>\n",
              "      <td>59.08</td>\n",
              "    </tr>\n",
              "    <tr>\n",
              "      <th>2</th>\n",
              "      <td>5.11</td>\n",
              "      <td>39.40</td>\n",
              "      <td>1012.16</td>\n",
              "      <td>92.14</td>\n",
              "    </tr>\n",
              "    <tr>\n",
              "      <th>3</th>\n",
              "      <td>20.86</td>\n",
              "      <td>57.32</td>\n",
              "      <td>1010.24</td>\n",
              "      <td>76.64</td>\n",
              "    </tr>\n",
              "    <tr>\n",
              "      <th>4</th>\n",
              "      <td>10.82</td>\n",
              "      <td>37.50</td>\n",
              "      <td>1009.23</td>\n",
              "      <td>96.62</td>\n",
              "    </tr>\n",
              "  </tbody>\n",
              "</table>\n",
              "</div>"
            ],
            "text/plain": [
              "      AT      V       AP     RH\n",
              "0  14.96  41.76  1024.07  73.17\n",
              "1  25.18  62.96  1020.04  59.08\n",
              "2   5.11  39.40  1012.16  92.14\n",
              "3  20.86  57.32  1010.24  76.64\n",
              "4  10.82  37.50  1009.23  96.62"
            ]
          },
          "metadata": {
            "tags": []
          },
          "execution_count": 8
        }
      ]
    },
    {
      "cell_type": "markdown",
      "metadata": {
        "id": "OqCGCbxMwMfx"
      },
      "source": [
        "#### Correlation Map\n"
      ]
    },
    {
      "cell_type": "markdown",
      "metadata": {
        "id": "tAtn1bk3Z4Tp"
      },
      "source": [
        "\n",
        "In order to check the correlation between the features, we will plot a correlation matrix. It is effective in summarizing a large amount of data where the goal is to see patterns."
      ]
    },
    {
      "cell_type": "code",
      "metadata": {
        "id": "dxiiBbiFZ4Tp",
        "colab": {
          "base_uri": "https://localhost:8080/",
          "height": 1000
        },
        "outputId": "56770180-4477-43be-8d3a-f61df24d619d"
      },
      "source": [
        "f,ax = plt.subplots(figsize=(18, 18))\n",
        "matrix = np.triu(X.corr())\n",
        "se.heatmap(X.corr(), annot=True, linewidths=.5, fmt= '.1f',ax=ax, mask=matrix)\n",
        "plt.show()"
      ],
      "execution_count": 9,
      "outputs": [
        {
          "output_type": "display_data",
          "data": {
            "image/png": "[encoded data removed]",
            "text/plain": [
              "<Figure size 1296x1296 with 2 Axes>"
            ]
          },
          "metadata": {
            "tags": [],
            "needs_background": "light"
          }
        }
      ]
    },
    {
      "cell_type": "markdown",
      "metadata": {
        "id": "M8rhL5e2ukyI"
      },
      "source": [
        "### Data Rescaling\n"
      ]
    },
    {
      "cell_type": "markdown",
      "metadata": {
        "id": "jgokMbG5uhCX"
      },
      "source": [
        "\n",
        "Sklearn Scale standardized datasets across any axis. Center to the mean and component-wise scale to unit variance.\n",
        "\n",
        "[Scale](https://scikit-learn.org/stable/modules/generated/sklearn.preprocessing.scale.html)"
      ]
    },
    {
      "cell_type": "code",
      "metadata": {
        "colab": {
          "base_uri": "https://localhost:8080/",
          "height": 204
        },
        "id": "Z0mw5FZ2sDQR",
        "outputId": "fb2bbb04-87c5-4ea9-c211-cad3eff33190"
      },
      "source": [
        "\n",
        "X_scale=scale(X)\n",
        "X_scale=pd.DataFrame(data = X_scale,columns = X.columns)\n",
        "X_scale.head()\n"
      ],
      "execution_count": 10,
      "outputs": [
        {
          "output_type": "execute_result",
          "data": {
            "text/html": [
              "<div>\n",
              "<style scoped>\n",
              "    .dataframe tbody tr th:only-of-type {\n",
              "        vertical-align: middle;\n",
              "    }\n",
              "\n",
              "    .dataframe tbody tr th {\n",
              "        vertical-align: top;\n",
              "    }\n",
              "\n",
              "    .dataframe thead th {\n",
              "        text-align: right;\n",
              "    }\n",
              "</style>\n",
              "<table border=\"1\" class=\"dataframe\">\n",
              "  <thead>\n",
              "    <tr style=\"text-align: right;\">\n",
              "      <th></th>\n",
              "      <th>AT</th>\n",
              "      <th>V</th>\n",
              "      <th>AP</th>\n",
              "      <th>RH</th>\n",
              "    </tr>\n",
              "  </thead>\n",
              "  <tbody>\n",
              "    <tr>\n",
              "      <th>0</th>\n",
              "      <td>-0.629519</td>\n",
              "      <td>-0.987297</td>\n",
              "      <td>1.820488</td>\n",
              "      <td>-0.009519</td>\n",
              "    </tr>\n",
              "    <tr>\n",
              "      <th>1</th>\n",
              "      <td>0.741909</td>\n",
              "      <td>0.681045</td>\n",
              "      <td>1.141863</td>\n",
              "      <td>-0.974621</td>\n",
              "    </tr>\n",
              "    <tr>\n",
              "      <th>2</th>\n",
              "      <td>-1.951297</td>\n",
              "      <td>-1.173018</td>\n",
              "      <td>-0.185078</td>\n",
              "      <td>1.289840</td>\n",
              "    </tr>\n",
              "    <tr>\n",
              "      <th>3</th>\n",
              "      <td>0.162205</td>\n",
              "      <td>0.237203</td>\n",
              "      <td>-0.508393</td>\n",
              "      <td>0.228160</td>\n",
              "    </tr>\n",
              "    <tr>\n",
              "      <th>4</th>\n",
              "      <td>-1.185069</td>\n",
              "      <td>-1.322539</td>\n",
              "      <td>-0.678470</td>\n",
              "      <td>1.596699</td>\n",
              "    </tr>\n",
              "  </tbody>\n",
              "</table>\n",
              "</div>"
            ],
            "text/plain": [
              "         AT         V        AP        RH\n",
              "0 -0.629519 -0.987297  1.820488 -0.009519\n",
              "1  0.741909  0.681045  1.141863 -0.974621\n",
              "2 -1.951297 -1.173018 -0.185078  1.289840\n",
              "3  0.162205  0.237203 -0.508393  0.228160\n",
              "4 -1.185069 -1.322539 -0.678470  1.596699"
            ]
          },
          "metadata": {
            "tags": []
          },
          "execution_count": 10
        }
      ]
    },
    {
      "cell_type": "markdown",
      "metadata": {
        "id": "LUF0z7oIwRaR"
      },
      "source": [
        "### Data Splitting\n"
      ]
    },
    {
      "cell_type": "markdown",
      "metadata": {
        "id": "pqqVRZcqZ4Tq"
      },
      "source": [
        "\n",
        "The train-test split is a procedure for evaluating the performance of an algorithm. The procedure involves taking a dataset and dividing it into two subsets. The first subset is utilized to fit/train the model. The second subset is used for prediction. The main motive is to estimate the performance of the model on new data."
      ]
    },
    {
      "cell_type": "code",
      "metadata": {
        "id": "JQ-Ih_9rZ4Tr"
      },
      "source": [
        "x_train,x_test,y_train,y_test=train_test_split(X_scale,Y,test_size=0.2,random_state=123)"
      ],
      "execution_count": 11,
      "outputs": []
    },
    {
      "cell_type": "markdown",
      "metadata": {
        "id": "IgXO77OuwTBZ"
      },
      "source": [
        "### Model\n"
      ]
    },
    {
      "cell_type": "markdown",
      "metadata": {
        "id": "ozCY6dUQZ4Tr"
      },
      "source": [
        "\n",
        "Poisson regression is a generalized linear model form of regression used to model count data and contingency tables. It assumes the response variable or target variable Y has a Poisson distribution, and assumes the logarithm of its expected value can be modeled by a linear combination of unknown parameters. It is sometimes known as a log-linear model, especially when used to model contingency tables.\n",
        "\n",
        "- #### Model Tuning Parameters\n",
        "> **alpha**  -> Constant that multiplies the penalty term and thus determines the regularization strength. alpha = 0 is equivalent to unpenalized GLMs.\n",
        "\n",
        "> **tol**  -> Stopping criterion.\n",
        "\n",
        "> **max_iter** -> The maximal number of iterations for the solver."
      ]
    },
    {
      "cell_type": "code",
      "metadata": {
        "id": "uOrVv1o6Z4Tt",
        "colab": {
          "base_uri": "https://localhost:8080/"
        },
        "outputId": "b73a551b-d31e-44f3-ccaf-ee0c740ff15c"
      },
      "source": [
        "model = make_pipeline(PoissonRegressor())\n",
        "model.fit(x_train,y_train)"
      ],
      "execution_count": 12,
      "outputs": [
        {
          "output_type": "execute_result",
          "data": {
            "text/plain": [
              "Pipeline(steps=[('poissonregressor', PoissonRegressor())])"
            ]
          },
          "metadata": {
            "tags": []
          },
          "execution_count": 12
        }
      ]
    },
    {
      "cell_type": "markdown",
      "metadata": {
        "id": "KHi93aOWwhZj"
      },
      "source": [
        "#### Model Accuracy\n"
      ]
    },
    {
      "cell_type": "markdown",
      "metadata": {
        "id": "SmcF3NTwZ4Tt"
      },
      "source": [
        "We will use the trained model to make a prediction on the test set.Then use the predicted value for measuring the accuracy of our model.\n",
        "\n",
        "score: The score function returns the coefficient of determination R2 of the prediction.\n",
        "\n"
      ]
    },
    {
      "cell_type": "code",
      "metadata": {
        "id": "_v0C9MGQZ4Tu",
        "colab": {
          "base_uri": "https://localhost:8080/"
        },
        "outputId": "64b53b91-a14e-407d-9625-787e9e8a2cf8"
      },
      "source": [
        "print(\"Accuracy score {:.2f} %\\n\".format(model.score(x_test,y_test)*100))"
      ],
      "execution_count": 13,
      "outputs": [
        {
          "output_type": "stream",
          "text": [
            "Accuracy score 92.53 %\n",
            "\n"
          ],
          "name": "stdout"
        }
      ]
    },
    {
      "cell_type": "markdown",
      "metadata": {
        "id": "BW4ln_vTZ4Tv"
      },
      "source": [
        "> **r2_score**: The **r2_score** function computes the percentage variablility explained by our model, either the fraction or the count of correct predictions.  \n",
        "\n",
        "> **mae**: The **mean abosolute error** function calculates the amount of total error(absolute average distance between the real data and the predicted data) by our model.  \n",
        "\n",
        "> **mse**: The **mean squared error** function squares the error(penalizes the model for large errors) by our model. "
      ]
    },
    {
      "cell_type": "code",
      "metadata": {
        "id": "qJ-_hYS5Z4Tw",
        "colab": {
          "base_uri": "https://localhost:8080/"
        },
        "outputId": "2f43e3fa-df94-48b1-9c01-c14ed39e6b3b"
      },
      "source": [
        "y_pred=model.predict(x_test)\n",
        "print(\"R2 Score: {:.2f} %\".format(r2_score(y_test,y_pred)*100))\n",
        "print(\"Mean Absolute Error {:.2f}\".format(mean_absolute_error(y_test,y_pred)))\n",
        "print(\"Mean Squared Error {:.2f}\".format(mean_squared_error(y_test,y_pred)))"
      ],
      "execution_count": 14,
      "outputs": [
        {
          "output_type": "stream",
          "text": [
            "R2 Score: 92.58 %\n",
            "Mean Absolute Error 3.69\n",
            "Mean Squared Error 21.47\n"
          ],
          "name": "stdout"
        }
      ]
    },
    {
      "cell_type": "markdown",
      "metadata": {
        "id": "InC6tG1Dwk4C"
      },
      "source": [
        "#### Prediction Plot\n"
      ]
    },
    {
      "cell_type": "markdown",
      "metadata": {
        "id": "sPb6aapxZ4Ty"
      },
      "source": [
        "\n",
        "First, we make use of a plot to plot the actual observations, with x_train on the x-axis and y_train on the y-axis.\n",
        "For the regression line, we will use x_train on the x-axis and then the predictions of the x_train observations on the y-axis."
      ]
    },
    {
      "cell_type": "code",
      "metadata": {
        "scrolled": false,
        "id": "odWcNQ4RZ4Tz",
        "colab": {
          "base_uri": "https://localhost:8080/",
          "height": 621
        },
        "outputId": "64cafe39-6ec0-4fa2-a4d2-2e352e29db59"
      },
      "source": [
        "plt.figure(figsize=(14,10))\n",
        "plt.plot(range(20),y_test[0:20], color = \"green\")\n",
        "plt.plot(range(20),model.predict(x_test[0:20]), color = \"red\")\n",
        "plt.legend([\"Actual\",\"prediction\"]) \n",
        "plt.title(\"Predicted vs True Value\")\n",
        "plt.xlabel(\"Record number\")\n",
        "plt.ylabel('target')\n",
        "plt.show()"
      ],
      "execution_count": 15,
      "outputs": [
        {
          "output_type": "display_data",
          "data": {
            "image/png": "[encoded data removed]",
            "text/plain": [
              "<Figure size 1008x720 with 1 Axes>"
            ]
          },
          "metadata": {
            "tags": [],
            "needs_background": "light"
          }
        }
      ]
    },
    {
      "cell_type": "markdown",
      "metadata": {
        "id": "l1Wu5fomgmu0"
      },
      "source": [
        "**creator: Virat Chowdary, GitHub: [profile](https://github.com/viratchowdary21)**\n"
      ]
    }
  ]
}