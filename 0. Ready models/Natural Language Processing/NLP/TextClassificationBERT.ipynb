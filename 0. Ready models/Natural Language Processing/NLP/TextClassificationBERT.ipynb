{
 "cells": [
  {
   "cell_type": "markdown",
   "source": [
    "# Text Classification using BERT"
   ],
   "metadata": {}
  },
  {
   "cell_type": "markdown",
   "source": [
    "This Code Template is for Text Classification task using Transformer model BERT.\r\n",
    "\r\n",
    "<img src=\"https://cdn.blobcity.com/assets/gpu_required.png\"  height=\"25\" style=\"margin-bottom:-15px\" />"
   ],
   "metadata": {}
  },
  {
   "cell_type": "markdown",
   "source": [
    "## Coming Soon"
   ],
   "metadata": {}
  }
 ],
 "metadata": {
  "orig_nbformat": 4,
  "language_info": {
   "name": "python"
  }
 },
 "nbformat": 4,
 "nbformat_minor": 2
}