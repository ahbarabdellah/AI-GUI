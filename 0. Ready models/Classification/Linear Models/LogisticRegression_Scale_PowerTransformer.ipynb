{
  "nbformat": 4,
  "nbformat_minor": 2,
  "metadata": {
    "interpreter": {
      "hash": "51a9663a131f1b5758c45b97a2d6917c8ae86b33e231c3733631cbc7265cfc89"
    },
    "kernelspec": {
      "display_name": "Python 3",
      "language": "python",
      "name": "python3"
    },
    "language_info": {
      "codemirror_mode": {
        "name": "ipython",
        "version": 3
      },
      "file_extension": ".py",
      "mimetype": "text/x-python",
      "name": "python",
      "nbconvert_exporter": "python",
      "pygments_lexer": "ipython3",
      "version": "3.8.6"
    },
    "colab": {
      "name": "LogisticRegression_Scale_PowerTransformer.ipynb",
      "provenance": [],
      "collapsed_sections": []
    }
  },
  "cells": [
    {
      "cell_type": "markdown",
      "source": [
        "# LogisticRegression with Scale & Power Transformer"
      ],
      "metadata": {
        "id": "qw-3zVyjI8c1"
      }
    },
    {
      "cell_type": "markdown",
      "source": [
        "This Code template is for the Classificaiton task using a simple LogisticRegression where separate rescaling is done using Scale and feature transformation is done using Power Transformer in a pipeline."
      ],
      "metadata": {
        "id": "jAxm5M3NOwLL"
      }
    },
    {
      "cell_type": "markdown",
      "source": [
        "### Required Packages"
      ],
      "metadata": {
        "id": "VU9LuzqMPGMw"
      }
    },
    {
      "cell_type": "code",
      "execution_count": null,
      "source": [
        "!pip install imblearn"
      ],
      "outputs": [],
      "metadata": {
        "id": "Qcx1qZZA36PB"
      }
    },
    {
      "cell_type": "code",
      "execution_count": null,
      "source": [
        "import warnings as wr\r\n",
        "import numpy as np\r\n",
        "import pandas as pd\r\n",
        "import seaborn as sns\r\n",
        "import matplotlib.pyplot as plt\r\n",
        "from sklearn import preprocessing\r\n",
        "from sklearn.pipeline import make_pipeline\r\n",
        "from sklearn.preprocessing import PowerTransformer,LabelEncoder\r\n",
        "from sklearn.model_selection import train_test_split\r\n",
        "from sklearn.linear_model import LogisticRegression\r\n",
        "from imblearn.over_sampling import RandomOverSampler\r\n",
        "from sklearn.metrics import classification_report,confusion_matrix\r\n",
        "from sklearn.model_selection import train_test_split\r\n",
        "wr.filterwarnings('ignore')"
      ],
      "outputs": [],
      "metadata": {
        "id": "Cf2KNVaWI8c8"
      }
    },
    {
      "cell_type": "markdown",
      "source": [
        "### Initialization\n",
        "Filepath of CSV file"
      ],
      "metadata": {
        "id": "lFykDmJII8c9"
      }
    },
    {
      "cell_type": "code",
      "execution_count": null,
      "source": [
        "#filepath\r\n",
        "file_path= \"\""
      ],
      "outputs": [],
      "metadata": {
        "id": "tO2uUlukI8c-"
      }
    },
    {
      "cell_type": "markdown",
      "source": [
        "List of features which are  required for model training."
      ],
      "metadata": {
        "id": "XAJDKzqXI8c_"
      }
    },
    {
      "cell_type": "code",
      "execution_count": 4,
      "source": [
        "#x_values\r\n",
        "features=[]"
      ],
      "outputs": [],
      "metadata": {
        "id": "-jzGscQhI8c_"
      }
    },
    {
      "cell_type": "markdown",
      "source": [
        "Target feature for prediction."
      ],
      "metadata": {
        "id": "6DFzqbb3I8dA"
      }
    },
    {
      "cell_type": "code",
      "execution_count": 5,
      "source": [
        "#y_value\r\n",
        "target=''"
      ],
      "outputs": [],
      "metadata": {
        "id": "bqjRo4AWI8dB"
      }
    },
    {
      "cell_type": "markdown",
      "source": [
        "### Data Fetching\n",
        "\n",
        "Pandas is an open-source, BSD-licensed library providing high-performance, easy-to-use data manipulation and data analysis tools.\n",
        "\n",
        "We will use panda's library to read the CSV file using its storage path.And we use the head function to display the initial row or entry."
      ],
      "metadata": {
        "id": "fqv7RkeKI8dC"
      }
    },
    {
      "cell_type": "code",
      "execution_count": 6,
      "source": [
        "df=pd.read_csv(file_path) #reading file\r\n",
        "df.head()#displaying initial entries"
      ],
      "outputs": [
        {
          "output_type": "execute_result",
          "data": {
            "text/html": [
              "<div>\n",
              "<style scoped>\n",
              "    .dataframe tbody tr th:only-of-type {\n",
              "        vertical-align: middle;\n",
              "    }\n",
              "\n",
              "    .dataframe tbody tr th {\n",
              "        vertical-align: top;\n",
              "    }\n",
              "\n",
              "    .dataframe thead th {\n",
              "        text-align: right;\n",
              "    }\n",
              "</style>\n",
              "<table border=\"1\" class=\"dataframe\">\n",
              "  <thead>\n",
              "    <tr style=\"text-align: right;\">\n",
              "      <th></th>\n",
              "      <th>User ID</th>\n",
              "      <th>Gender</th>\n",
              "      <th>Age</th>\n",
              "      <th>EstimatedSalary</th>\n",
              "      <th>Purchased</th>\n",
              "    </tr>\n",
              "  </thead>\n",
              "  <tbody>\n",
              "    <tr>\n",
              "      <th>0</th>\n",
              "      <td>15624510</td>\n",
              "      <td>Male</td>\n",
              "      <td>19</td>\n",
              "      <td>19000</td>\n",
              "      <td>0</td>\n",
              "    </tr>\n",
              "    <tr>\n",
              "      <th>1</th>\n",
              "      <td>15810944</td>\n",
              "      <td>Male</td>\n",
              "      <td>35</td>\n",
              "      <td>20000</td>\n",
              "      <td>0</td>\n",
              "    </tr>\n",
              "    <tr>\n",
              "      <th>2</th>\n",
              "      <td>15668575</td>\n",
              "      <td>Female</td>\n",
              "      <td>26</td>\n",
              "      <td>43000</td>\n",
              "      <td>0</td>\n",
              "    </tr>\n",
              "    <tr>\n",
              "      <th>3</th>\n",
              "      <td>15603246</td>\n",
              "      <td>Female</td>\n",
              "      <td>27</td>\n",
              "      <td>57000</td>\n",
              "      <td>0</td>\n",
              "    </tr>\n",
              "    <tr>\n",
              "      <th>4</th>\n",
              "      <td>15804002</td>\n",
              "      <td>Male</td>\n",
              "      <td>19</td>\n",
              "      <td>76000</td>\n",
              "      <td>0</td>\n",
              "    </tr>\n",
              "  </tbody>\n",
              "</table>\n",
              "</div>"
            ],
            "text/plain": [
              "    User ID  Gender  Age  EstimatedSalary  Purchased\n",
              "0  15624510    Male   19            19000          0\n",
              "1  15810944    Male   35            20000          0\n",
              "2  15668575  Female   26            43000          0\n",
              "3  15603246  Female   27            57000          0\n",
              "4  15804002    Male   19            76000          0"
            ]
          },
          "metadata": {},
          "execution_count": 6
        }
      ],
      "metadata": {
        "id": "sDuo2DzBI8dD",
        "colab": {
          "base_uri": "https://localhost:8080/",
          "height": 203
        },
        "outputId": "6b1991af-64eb-44bc-fddc-1442f1ae89d7"
      }
    },
    {
      "cell_type": "markdown",
      "source": [
        "### Feature Selections\n",
        "\n",
        "It is the process of reducing the number of input variables when developing a predictive model. Used to reduce the number of input variables to both reduce the computational cost of modelling and, in some cases, to improve the performance of the model.\n",
        "\n",
        "We will assign all the required input features to X and target/outcome to Y."
      ],
      "metadata": {
        "id": "MXsFAFHWI8dF"
      }
    },
    {
      "cell_type": "code",
      "execution_count": 7,
      "source": [
        "X=df[features]\r\n",
        "Y=df[target]"
      ],
      "outputs": [],
      "metadata": {
        "id": "arW9ZJsGI8dG"
      }
    },
    {
      "cell_type": "markdown",
      "source": [
        "### Data Preprocessing\n",
        "\n",
        "Since the majority of the machine learning models in the Sklearn library doesn't handle string category data and Null value, we have to explicitly remove or replace null values. The below snippet have functions, which removes the null value if any exists. And convert the string classes data in the datasets by encoding them to integer classes.\n"
      ],
      "metadata": {
        "id": "Nd5lLS_gI8dG"
      }
    },
    {
      "cell_type": "code",
      "execution_count": 8,
      "source": [
        "def NullClearner(df):\r\n",
        "    if(isinstance(df, pd.Series) and (df.dtype in [\"float64\",\"int64\"])):\r\n",
        "        df.fillna(df.mean(),inplace=True)\r\n",
        "        return df\r\n",
        "    elif(isinstance(df, pd.Series)):\r\n",
        "        df.fillna(df.mode()[0],inplace=True)\r\n",
        "        return df\r\n",
        "    else:return df\r\n",
        "def EncodeX(df):\r\n",
        "    return pd.get_dummies(df)\r\n",
        "def EncodeY(df):\r\n",
        "    if len(df.unique())<=2:\r\n",
        "        return df\r\n",
        "    else:\r\n",
        "        un_EncodedT=np.sort(pd.unique(df), axis=-1, kind='mergesort')\r\n",
        "        df=LabelEncoder().fit_transform(df)\r\n",
        "        EncodedT=[xi for xi in range(len(un_EncodedT))]\r\n",
        "        print(\"Encoded Target: {} to {}\".format(un_EncodedT,EncodedT))\r\n",
        "        return df"
      ],
      "outputs": [],
      "metadata": {
        "id": "baDl1Fx8I8dH"
      }
    },
    {
      "cell_type": "markdown",
      "source": [
        "Calling preprocessing functions on the feature and target set.\n"
      ],
      "metadata": {
        "id": "6WPtP4w1I8dH"
      }
    },
    {
      "cell_type": "code",
      "execution_count": 9,
      "source": [
        "x=X.columns.to_list()\r\n",
        "for i in x:\r\n",
        "    X[i]=NullClearner(X[i])  \r\n",
        "X=EncodeX(X)\r\n",
        "Y=EncodeY(NullClearner(Y))\r\n",
        "X.head()"
      ],
      "outputs": [
        {
          "output_type": "execute_result",
          "data": {
            "text/html": [
              "<div>\n",
              "<style scoped>\n",
              "    .dataframe tbody tr th:only-of-type {\n",
              "        vertical-align: middle;\n",
              "    }\n",
              "\n",
              "    .dataframe tbody tr th {\n",
              "        vertical-align: top;\n",
              "    }\n",
              "\n",
              "    .dataframe thead th {\n",
              "        text-align: right;\n",
              "    }\n",
              "</style>\n",
              "<table border=\"1\" class=\"dataframe\">\n",
              "  <thead>\n",
              "    <tr style=\"text-align: right;\">\n",
              "      <th></th>\n",
              "      <th>Age</th>\n",
              "      <th>EstimatedSalary</th>\n",
              "      <th>Gender_Female</th>\n",
              "      <th>Gender_Male</th>\n",
              "    </tr>\n",
              "  </thead>\n",
              "  <tbody>\n",
              "    <tr>\n",
              "      <th>0</th>\n",
              "      <td>19</td>\n",
              "      <td>19000</td>\n",
              "      <td>0</td>\n",
              "      <td>1</td>\n",
              "    </tr>\n",
              "    <tr>\n",
              "      <th>1</th>\n",
              "      <td>35</td>\n",
              "      <td>20000</td>\n",
              "      <td>0</td>\n",
              "      <td>1</td>\n",
              "    </tr>\n",
              "    <tr>\n",
              "      <th>2</th>\n",
              "      <td>26</td>\n",
              "      <td>43000</td>\n",
              "      <td>1</td>\n",
              "      <td>0</td>\n",
              "    </tr>\n",
              "    <tr>\n",
              "      <th>3</th>\n",
              "      <td>27</td>\n",
              "      <td>57000</td>\n",
              "      <td>1</td>\n",
              "      <td>0</td>\n",
              "    </tr>\n",
              "    <tr>\n",
              "      <th>4</th>\n",
              "      <td>19</td>\n",
              "      <td>76000</td>\n",
              "      <td>0</td>\n",
              "      <td>1</td>\n",
              "    </tr>\n",
              "  </tbody>\n",
              "</table>\n",
              "</div>"
            ],
            "text/plain": [
              "   Age  EstimatedSalary  Gender_Female  Gender_Male\n",
              "0   19            19000              0            1\n",
              "1   35            20000              0            1\n",
              "2   26            43000              1            0\n",
              "3   27            57000              1            0\n",
              "4   19            76000              0            1"
            ]
          },
          "metadata": {},
          "execution_count": 9
        }
      ],
      "metadata": {
        "id": "qR1kiLwoI8dI",
        "colab": {
          "base_uri": "https://localhost:8080/",
          "height": 203
        },
        "outputId": "5833c617-1bb6-48b5-b2da-158dbc756180"
      }
    },
    {
      "cell_type": "markdown",
      "source": [
        "#### Correlation Map\n",
        "\n",
        "In order to check the correlation between the features, we will plot a correlation matrix. It is effective in summarizing a large amount of data where the goal is to see patterns."
      ],
      "metadata": {
        "id": "lSMfmgUiI8dJ"
      }
    },
    {
      "cell_type": "code",
      "execution_count": 12,
      "source": [
        "f,ax = plt.subplots(figsize=(18, 18))\r\n",
        "matrix = np.triu(X.corr())\r\n",
        "sns.heatmap(X.corr(), annot=True, linewidths=.5, fmt= '.1f',ax=ax, mask=matrix)\r\n",
        "plt.show()"
      ],
      "outputs": [
        {
          "output_type": "display_data",
          "data": {
            "image/png": "[encoded data removed]",
            "text/plain": [
              "<Figure size 1296x1296 with 2 Axes>"
            ]
          },
          "metadata": {
            "needs_background": "light"
          }
        }
      ],
      "metadata": {
        "id": "N3MzDudTI8dJ",
        "colab": {
          "base_uri": "https://localhost:8080/",
          "height": 1000
        },
        "outputId": "4f6c97f1-d9f5-433c-95a4-db74925b6c15"
      }
    },
    {
      "cell_type": "markdown",
      "source": [
        "### Data Splitting\n",
        "\n",
        "The train-test split is a procedure for evaluating the performance of an algorithm. The procedure involves taking a dataset and dividing it into two subsets. The first subset is utilized to fit/train the model. The second subset is used for prediction. The main motive is to estimate the performance of the model on new data."
      ],
      "metadata": {
        "id": "BCzPWpndI8dK"
      }
    },
    {
      "cell_type": "code",
      "execution_count": 13,
      "source": [
        "x_train,x_test,y_train,y_test=train_test_split(X,Y,test_size=0.2,random_state=123)"
      ],
      "outputs": [],
      "metadata": {
        "id": "sDBwqB_iI8dL"
      }
    },
    {
      "cell_type": "markdown",
      "source": [
        "###Handling Target Imbalance\n",
        "The challenge of working with imbalanced datasets is that most machine learning techniques will ignore, and in turn have poor performance on, the minority class, although typically it is performance on the minority class that is most important.\n",
        "\n",
        "One approach to addressing imbalanced datasets is to oversample the minority class. The simplest approach involves duplicating examples in the minority class.We will perform overspampling using imblearn library."
      ],
      "metadata": {
        "id": "WK7QxtTi_Idj"
      }
    },
    {
      "cell_type": "code",
      "execution_count": 14,
      "source": [
        "x_train,y_train = RandomOverSampler(random_state=123).fit_resample(x_train, y_train)"
      ],
      "outputs": [],
      "metadata": {
        "id": "KQfDWmFE_MGB"
      }
    },
    {
      "cell_type": "markdown",
      "source": [
        "###Data Rescaling\n",
        "####Scale\n",
        "\n",
        "It is a step of Data Pre Processing which is applied to independent variables or features of data. It basically helps to normalise the data within a particular range. Sometimes, it also helps in speeding up the calculations in an algorithm."
      ],
      "metadata": {
        "id": "D2d3b-lSG4Om"
      }
    },
    {
      "cell_type": "code",
      "execution_count": 16,
      "source": [
        "x_train = preprocessing.scale(x_train)\r\n",
        "x_test = preprocessing.scale(x_test)"
      ],
      "outputs": [],
      "metadata": {
        "id": "gHkWAQiTHH6y"
      }
    },
    {
      "cell_type": "markdown",
      "source": [
        "### Model\n",
        "\n",
        "Logistic regression is a statistical model that in its basic form uses a logistic function to model a binary dependent variable, although many more complex extensions exist. In regression analysis, logistic regression (or logit regression) is estimating the parameters of a logistic model (a form of binary regression). This can be extended to model several classes of events.\n",
        "\n",
        "Model Tuning Parameters\n",
        "1. **penalty : {‘l1’, ‘l2’, ‘elasticnet’, ‘none’}, default=’l2’** ->\n",
        "Used to specify the norm used in the penalization. The ‘newton-cg’, ‘sag’ and ‘lbfgs’ solvers support only l2 penalties. ‘elasticnet’ is only supported by the ‘saga’ solver. If ‘none’ (not supported by the liblinear solver), no regularization is applied.\n",
        "\n",
        "2. **C : float, default=1.0** ->\n",
        "Inverse of regularization strength; must be a positive float. Like in support vector machines, smaller values specify stronger regularization.\n",
        "\n",
        "3. **tol : float, default=1e-4** ->\n",
        "Tolerance for stopping criteria.\n",
        "\n",
        "4. **solver : {‘newton-cg’, ‘lbfgs’, ‘liblinear’, ‘sag’, ‘saga’}, default=’lbfgs’** ->\n",
        "Algorithm to use in the optimization problem.\n",
        "For small datasets, ‘liblinear’ is a good choice, whereas ‘sag’ and ‘saga’ are faster for large ones.\n",
        "For multiclass problems, only ‘newton-cg’, ‘sag’, ‘saga’ and ‘lbfgs’ handle multinomial loss; ‘liblinear’ is limited to one-versus-rest schemes.\n",
        "\n",
        "5. **random_state : int, RandomState instance, default=None** ->\n",
        "Used when solver == ‘sag’, ‘saga’ or ‘liblinear’ to shuffle the data.\n",
        "\n",
        "6. **max_iter : int, default=100** ->\n",
        "Maximum number of iterations taken for the solvers to converge.\n",
        "\n",
        "7. **multi_class : {‘auto’, ‘ovr’, ‘multinomial’}, default=’auto’** ->\n",
        "If the option chosen is ‘ovr’, then a binary problem is fit for each label. For ‘multinomial’ the loss minimised is the multinomial loss fit across the entire probability distribution, even when the data is binary. ‘multinomial’ is unavailable when solver=’liblinear’. ‘auto’ selects ‘ovr’ if the data is binary, or if solver=’liblinear’, and otherwise selects ‘multinomial’.\n",
        "\n",
        "8. **verbose : int, default=0** ->\n",
        "For the liblinear and lbfgs solvers set verbose to any positive number for verbosity.\n",
        "\n",
        "9. **n_jobs : int, default=None** ->\n",
        "Number of CPU cores used when parallelizing over classes if multi_class=’ovr’”. This parameter is ignored when the solver is set to ‘liblinear’ regardless of whether ‘multi_class’ is specified or not. None means 1 unless in a joblib.parallel_backend context. -1 means using all processors"
      ],
      "metadata": {
        "id": "lGYlVXGTI8dL"
      }
    },
    {
      "cell_type": "markdown",
      "source": [
        "### Power Transformer\n",
        "\n",
        "Apply a power transform featurewise to make data more Gaussian-like.\n",
        "\n",
        "Power transforms are a family of parametric, monotonic transformations that are applied to make data more Gaussian-like. This is useful for modeling issues related to heteroscedasticity (non-constant variance), or other situations where normality is desired."
      ],
      "metadata": {
        "id": "fa37UUYW6M6O"
      }
    },
    {
      "cell_type": "code",
      "execution_count": 20,
      "source": [
        "model=make_pipeline(PowerTransformer(), LogisticRegression(random_state=42))\n",
        "model.fit(x_train,y_train)"
      ],
      "outputs": [
        {
          "output_type": "execute_result",
          "data": {
            "text/plain": [
              "Pipeline(memory=None,\n",
              "         steps=[('powertransformer',\n",
              "                 PowerTransformer(copy=True, method='yeo-johnson',\n",
              "                                  standardize=True)),\n",
              "                ('logisticregression',\n",
              "                 LogisticRegression(C=1.0, class_weight=None, dual=False,\n",
              "                                    fit_intercept=True, intercept_scaling=1,\n",
              "                                    l1_ratio=None, max_iter=100,\n",
              "                                    multi_class='auto', n_jobs=None,\n",
              "                                    penalty='l2', random_state=42,\n",
              "                                    solver='lbfgs', tol=0.0001, verbose=0,\n",
              "                                    warm_start=False))],\n",
              "         verbose=False)"
            ]
          },
          "metadata": {},
          "execution_count": 20
        }
      ],
      "metadata": {
        "colab": {
          "base_uri": "https://localhost:8080/"
        },
        "id": "vjQa0UjOulBw",
        "outputId": "5bf6bf8c-e174-4039-aeb4-a4de3f3df006"
      }
    },
    {
      "cell_type": "markdown",
      "source": [
        "#### Model Accuracy\n",
        "\n",
        "We will use the trained model to make a prediction on the test set.Then use the predicted value for measuring the accuracy of our model.\n",
        "\n",
        "score: The score function returns the coefficient of determination R2 of the prediction.\n",
        "\n"
      ],
      "metadata": {
        "id": "IF1ERs_jI8dN"
      }
    },
    {
      "cell_type": "code",
      "execution_count": 21,
      "source": [
        "print(\"Accuracy score {:.2f} %\\n\".format(model.score(x_test,y_test)*100))"
      ],
      "outputs": [
        {
          "output_type": "stream",
          "name": "stdout",
          "text": [
            "Accuracy score 82.50 %\n",
            "\n"
          ]
        }
      ],
      "metadata": {
        "id": "2EVdoyqyI8dN",
        "colab": {
          "base_uri": "https://localhost:8080/"
        },
        "outputId": "1721599c-7ad6-4e2a-b7e6-7cd96838428e"
      }
    },
    {
      "cell_type": "code",
      "execution_count": 25,
      "source": [
        "#prediction on testing set\n",
        "prediction=model.predict(x_test)"
      ],
      "outputs": [],
      "metadata": {
        "id": "efy9wFqOH035"
      }
    },
    {
      "cell_type": "markdown",
      "source": [
        "###Confusion Matrix\n",
        "A confusion matrix is utilized to understand the performance of the classification model or algorithm in machine learning for a given test set where results are known."
      ],
      "metadata": {
        "id": "Tq4WUuhpI8dN"
      }
    },
    {
      "cell_type": "code",
      "execution_count": 26,
      "source": [
        "cf_matrix=confusion_matrix(y_test,prediction)\n",
        "plt.figure(figsize=(7,6))\n",
        "sns.heatmap(cf_matrix,annot=True,fmt=\"d\")"
      ],
      "outputs": [
        {
          "output_type": "execute_result",
          "data": {
            "text/plain": [
              "<matplotlib.axes._subplots.AxesSubplot at 0x7f45796395d0>"
            ]
          },
          "metadata": {},
          "execution_count": 26
        },
        {
          "output_type": "display_data",
          "data": {
            "image/png": "[encoded data removed]",
            "text/plain": [
              "<Figure size 504x432 with 2 Axes>"
            ]
          },
          "metadata": {
            "needs_background": "light"
          }
        }
      ],
      "metadata": {
        "id": "6bcfLtmvI8dO",
        "colab": {
          "base_uri": "https://localhost:8080/",
          "height": 391
        },
        "outputId": "bc21ab29-7dd9-461d-dfd6-158e7fbd9a5d"
      }
    },
    {
      "cell_type": "markdown",
      "source": [
        "###Classification Report\n",
        "A Classification report is used to measure the quality of predictions from a classification algorithm. How many predictions are True, how many are False.\n",
        "#####where:\n",
        "#####Precision:- Accuracy of positive predictions.\n",
        "#####Recall:- Fraction of positives that were correctly identified.\n",
        "#####f1-score:- percent of positive predictions were correct\n",
        "#####support:- Support is the number of actual occurrences of the class in the specified dataset."
      ],
      "metadata": {
        "id": "UJ2XyLgoI8dO"
      }
    },
    {
      "cell_type": "code",
      "execution_count": 27,
      "source": [
        "print(classification_report(y_test,model.predict(x_test)))"
      ],
      "outputs": [
        {
          "output_type": "stream",
          "name": "stdout",
          "text": [
            "              precision    recall  f1-score   support\n",
            "\n",
            "           0       0.93      0.78      0.85        50\n",
            "           1       0.71      0.90      0.79        30\n",
            "\n",
            "    accuracy                           0.82        80\n",
            "   macro avg       0.82      0.84      0.82        80\n",
            "weighted avg       0.85      0.82      0.83        80\n",
            "\n"
          ]
        }
      ],
      "metadata": {
        "id": "MYStajl_I8dO",
        "colab": {
          "base_uri": "https://localhost:8080/"
        },
        "outputId": "8827499a-9cc6-4193-c651-2f0cd2ab9ed3"
      }
    },
    {
      "cell_type": "markdown",
      "source": [
        "#### Creator: Ayush Gupta , Github: [Profile](https://github.com/guptayush179)"
      ],
      "metadata": {
        "id": "eLjzoA50I8dP"
      }
    }
  ]
}