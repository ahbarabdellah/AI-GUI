{
  "nbformat": 4,
  "nbformat_minor": 2,
  "metadata": {
    "interpreter": {
      "hash": "51a9663a131f1b5758c45b97a2d6917c8ae86b33e231c3733631cbc7265cfc89"
    },
    "kernelspec": {
      "display_name": "Python 3",
      "language": "python",
      "name": "python3"
    },
    "language_info": {
      "codemirror_mode": {
        "name": "ipython",
        "version": 3
      },
      "file_extension": ".py",
      "mimetype": "text/x-python",
      "name": "python",
      "nbconvert_exporter": "python",
      "pygments_lexer": "ipython3",
      "version": "3.7.6"
    },
    "colab": {
      "name": "RidgeClassifier_Normalize_QuantileTransformer.ipynb",
      "provenance": []
    }
  },
  "cells": [
    {
      "cell_type": "markdown",
      "source": [
        "# RidgeClassifier with Normalize & Quantile Transformer"
      ],
      "metadata": {
        "id": "vQWoNbylOBAn"
      }
    },
    {
      "cell_type": "markdown",
      "source": [
        "This Code template is for the Classification tasks using the simple RidgeClassifier where separate rescaling is done using Normalize and feature transformation is done using Quantile Transformer in a pipeline."
      ],
      "metadata": {
        "id": "nJZbH876OBAq"
      }
    },
    {
      "cell_type": "markdown",
      "source": [
        "### Required Packages"
      ],
      "metadata": {
        "id": "T8iq7UiYOBAr"
      }
    },
    {
      "cell_type": "code",
      "execution_count": null,
      "source": [
        "!pip install imblearn"
      ],
      "outputs": [],
      "metadata": {
        "id": "2DqRL98EOBAr"
      }
    },
    {
      "cell_type": "code",
      "execution_count": null,
      "source": [
        "import warnings \r\n",
        "import numpy as np \r\n",
        "import pandas as pd \r\n",
        "import matplotlib.pyplot as plt \r\n",
        "import seaborn as se \r\n",
        "from imblearn.over_sampling import RandomOverSampler\r\n",
        "from sklearn.preprocessing import LabelEncoder\r\n",
        "from sklearn.model_selection import train_test_split \r\n",
        "from sklearn.linear_model import RidgeClassifier\r\n",
        "from sklearn.model_selection import train_test_split \r\n",
        "from sklearn.pipeline import make_pipeline\r\n",
        "from sklearn.metrics import classification_report,plot_confusion_matrix\r\n",
        "from sklearn.preprocessing import Normalizer,QuantileTransformer\r\n",
        "warnings.filterwarnings('ignore')"
      ],
      "outputs": [],
      "metadata": {
        "id": "sBUuVWI_OBAs"
      }
    },
    {
      "cell_type": "markdown",
      "source": [
        "### Initialization\n",
        "\n",
        "Filepath of CSV file"
      ],
      "metadata": {
        "id": "8PpyyU8POBAt"
      }
    },
    {
      "cell_type": "code",
      "execution_count": 3,
      "source": [
        "#filepath\r\n",
        "file_path= \" \""
      ],
      "outputs": [],
      "metadata": {
        "id": "eRQMnnNROBAt"
      }
    },
    {
      "cell_type": "markdown",
      "source": [
        "List of features which are  required for model training ."
      ],
      "metadata": {
        "id": "jf8TAWj6OBAu"
      }
    },
    {
      "cell_type": "code",
      "execution_count": 4,
      "source": [
        "#x_values\n",
        "features=[ ]"
      ],
      "outputs": [],
      "metadata": {
        "id": "BBtYMGqQOBAv"
      }
    },
    {
      "cell_type": "markdown",
      "source": [
        "Target feature for prediction."
      ],
      "metadata": {
        "id": "oxfDnvCiOBAw"
      }
    },
    {
      "cell_type": "code",
      "execution_count": 5,
      "source": [
        "#y_value\n",
        "target=' '"
      ],
      "outputs": [],
      "metadata": {
        "id": "JRxzIlQpOBAw"
      }
    },
    {
      "cell_type": "markdown",
      "source": [
        "### Data Fetching\n",
        "\n",
        "Pandas is an open-source, BSD-licensed library providing high-performance, easy-to-use data manipulation and data analysis tools.\n",
        "\n",
        "We will use panda's library to read the CSV file using its storage path.And we use the head function to display the initial row or entry."
      ],
      "metadata": {
        "id": "lU4kvLDPOBAx"
      }
    },
    {
      "cell_type": "code",
      "execution_count": 6,
      "source": [
        "df=pd.read_csv(file_path)\n",
        "df.head()"
      ],
      "outputs": [
        {
          "output_type": "execute_result",
          "data": {
            "text/html": [
              "<div>\n",
              "<style scoped>\n",
              "    .dataframe tbody tr th:only-of-type {\n",
              "        vertical-align: middle;\n",
              "    }\n",
              "\n",
              "    .dataframe tbody tr th {\n",
              "        vertical-align: top;\n",
              "    }\n",
              "\n",
              "    .dataframe thead th {\n",
              "        text-align: right;\n",
              "    }\n",
              "</style>\n",
              "<table border=\"1\" class=\"dataframe\">\n",
              "  <thead>\n",
              "    <tr style=\"text-align: right;\">\n",
              "      <th></th>\n",
              "      <th>Id</th>\n",
              "      <th>SepalLengthCm</th>\n",
              "      <th>SepalWidthCm</th>\n",
              "      <th>PetalLengthCm</th>\n",
              "      <th>PetalWidthCm</th>\n",
              "      <th>Species</th>\n",
              "    </tr>\n",
              "  </thead>\n",
              "  <tbody>\n",
              "    <tr>\n",
              "      <th>0</th>\n",
              "      <td>1</td>\n",
              "      <td>5.1</td>\n",
              "      <td>3.5</td>\n",
              "      <td>1.4</td>\n",
              "      <td>0.2</td>\n",
              "      <td>Iris-setosa</td>\n",
              "    </tr>\n",
              "    <tr>\n",
              "      <th>1</th>\n",
              "      <td>2</td>\n",
              "      <td>4.9</td>\n",
              "      <td>3.0</td>\n",
              "      <td>1.4</td>\n",
              "      <td>0.2</td>\n",
              "      <td>Iris-setosa</td>\n",
              "    </tr>\n",
              "    <tr>\n",
              "      <th>2</th>\n",
              "      <td>3</td>\n",
              "      <td>4.7</td>\n",
              "      <td>3.2</td>\n",
              "      <td>1.3</td>\n",
              "      <td>0.2</td>\n",
              "      <td>Iris-setosa</td>\n",
              "    </tr>\n",
              "    <tr>\n",
              "      <th>3</th>\n",
              "      <td>4</td>\n",
              "      <td>4.6</td>\n",
              "      <td>3.1</td>\n",
              "      <td>1.5</td>\n",
              "      <td>0.2</td>\n",
              "      <td>Iris-setosa</td>\n",
              "    </tr>\n",
              "    <tr>\n",
              "      <th>4</th>\n",
              "      <td>5</td>\n",
              "      <td>5.0</td>\n",
              "      <td>3.6</td>\n",
              "      <td>1.4</td>\n",
              "      <td>0.2</td>\n",
              "      <td>Iris-setosa</td>\n",
              "    </tr>\n",
              "  </tbody>\n",
              "</table>\n",
              "</div>"
            ],
            "text/plain": [
              "   Id  SepalLengthCm  SepalWidthCm  PetalLengthCm  PetalWidthCm      Species\n",
              "0   1            5.1           3.5            1.4           0.2  Iris-setosa\n",
              "1   2            4.9           3.0            1.4           0.2  Iris-setosa\n",
              "2   3            4.7           3.2            1.3           0.2  Iris-setosa\n",
              "3   4            4.6           3.1            1.5           0.2  Iris-setosa\n",
              "4   5            5.0           3.6            1.4           0.2  Iris-setosa"
            ]
          },
          "metadata": {},
          "execution_count": 6
        }
      ],
      "metadata": {
        "colab": {
          "base_uri": "https://localhost:8080/",
          "height": 203
        },
        "id": "1JGI38BiOBAx",
        "outputId": "d4ffc70f-fad5-4adf-a17e-27981701043b"
      }
    },
    {
      "cell_type": "markdown",
      "source": [
        "### Feature Selections\n",
        "\n",
        "It is the process of reducing the number of input variables when developing a predictive model. Used to reduce the number of input variables to both reduce the computational cost of modelling and, in some cases, to improve the performance of the model.\n",
        "\n",
        "We will assign all the required input features to X and target/outcome to Y."
      ],
      "metadata": {
        "id": "ml8CBm4FOBAy"
      }
    },
    {
      "cell_type": "code",
      "execution_count": 7,
      "source": [
        "X = df[features]\n",
        "Y = df[target]"
      ],
      "outputs": [],
      "metadata": {
        "id": "UFKJt5yyOBAy"
      }
    },
    {
      "cell_type": "markdown",
      "source": [
        "### Data Preprocessing\n",
        "\n",
        "Since the majority of the machine learning models in the Sklearn library doesn't handle string category data and Null value, we have to explicitly remove or replace null values. The below snippet have functions, which removes the null value if any exists. And convert the string classes data in the datasets by encoding them to integer classes.\n"
      ],
      "metadata": {
        "id": "KB5PUx6FOBAz"
      }
    },
    {
      "cell_type": "code",
      "execution_count": 8,
      "source": [
        "def NullClearner(df):\n",
        "    if(isinstance(df, pd.Series) and (df.dtype in [\"float64\",\"int64\"])):\n",
        "        df.fillna(df.mean(),inplace=True)\n",
        "        return df\n",
        "    elif(isinstance(df, pd.Series)):\n",
        "        df.fillna(df.mode()[0],inplace=True)\n",
        "        return df\n",
        "    else:return df\n",
        "def EncodeX(df):\n",
        "    return pd.get_dummies(df)\n",
        "def EncodeY(df):\n",
        "    if len(df.unique())<=2:\n",
        "        return df\n",
        "    else:\n",
        "        un_EncodedT=np.sort(pd.unique(df), axis=-1, kind='mergesort')\n",
        "        df=LabelEncoder().fit_transform(df)\n",
        "        EncodedT=[xi for xi in range(len(un_EncodedT))]\n",
        "        print(\"Encoded Target: {} to {}\".format(un_EncodedT,EncodedT))\n",
        "        return df"
      ],
      "outputs": [],
      "metadata": {
        "id": "uwpdMpCCOBAz"
      }
    },
    {
      "cell_type": "code",
      "execution_count": 9,
      "source": [
        "x=X.columns.to_list()\n",
        "for i in x:\n",
        "    X[i]=NullClearner(X[i])  \n",
        "X=EncodeX(X)\n",
        "Y=EncodeY(NullClearner(Y))\n",
        "X.head()"
      ],
      "outputs": [
        {
          "output_type": "stream",
          "name": "stdout",
          "text": [
            "Encoded Target: ['Iris-setosa' 'Iris-versicolor' 'Iris-virginica'] to [0, 1, 2]\n"
          ]
        },
        {
          "output_type": "execute_result",
          "data": {
            "text/html": [
              "<div>\n",
              "<style scoped>\n",
              "    .dataframe tbody tr th:only-of-type {\n",
              "        vertical-align: middle;\n",
              "    }\n",
              "\n",
              "    .dataframe tbody tr th {\n",
              "        vertical-align: top;\n",
              "    }\n",
              "\n",
              "    .dataframe thead th {\n",
              "        text-align: right;\n",
              "    }\n",
              "</style>\n",
              "<table border=\"1\" class=\"dataframe\">\n",
              "  <thead>\n",
              "    <tr style=\"text-align: right;\">\n",
              "      <th></th>\n",
              "      <th>SepalLengthCm</th>\n",
              "      <th>SepalWidthCm</th>\n",
              "      <th>PetalLengthCm</th>\n",
              "      <th>PetalWidthCm</th>\n",
              "    </tr>\n",
              "  </thead>\n",
              "  <tbody>\n",
              "    <tr>\n",
              "      <th>0</th>\n",
              "      <td>5.1</td>\n",
              "      <td>3.5</td>\n",
              "      <td>1.4</td>\n",
              "      <td>0.2</td>\n",
              "    </tr>\n",
              "    <tr>\n",
              "      <th>1</th>\n",
              "      <td>4.9</td>\n",
              "      <td>3.0</td>\n",
              "      <td>1.4</td>\n",
              "      <td>0.2</td>\n",
              "    </tr>\n",
              "    <tr>\n",
              "      <th>2</th>\n",
              "      <td>4.7</td>\n",
              "      <td>3.2</td>\n",
              "      <td>1.3</td>\n",
              "      <td>0.2</td>\n",
              "    </tr>\n",
              "    <tr>\n",
              "      <th>3</th>\n",
              "      <td>4.6</td>\n",
              "      <td>3.1</td>\n",
              "      <td>1.5</td>\n",
              "      <td>0.2</td>\n",
              "    </tr>\n",
              "    <tr>\n",
              "      <th>4</th>\n",
              "      <td>5.0</td>\n",
              "      <td>3.6</td>\n",
              "      <td>1.4</td>\n",
              "      <td>0.2</td>\n",
              "    </tr>\n",
              "  </tbody>\n",
              "</table>\n",
              "</div>"
            ],
            "text/plain": [
              "   SepalLengthCm  SepalWidthCm  PetalLengthCm  PetalWidthCm\n",
              "0            5.1           3.5            1.4           0.2\n",
              "1            4.9           3.0            1.4           0.2\n",
              "2            4.7           3.2            1.3           0.2\n",
              "3            4.6           3.1            1.5           0.2\n",
              "4            5.0           3.6            1.4           0.2"
            ]
          },
          "metadata": {},
          "execution_count": 9
        }
      ],
      "metadata": {
        "colab": {
          "base_uri": "https://localhost:8080/",
          "height": 220
        },
        "id": "vXJaULfXOBAz",
        "outputId": "d6cacd9e-8b96-4a6e-8373-57ee7a76fac2"
      }
    },
    {
      "cell_type": "markdown",
      "source": [
        "#### Correlation Map\n",
        "\n",
        "In order to check the correlation between the features, we will plot a correlation matrix. It is effective in summarizing a large amount of data where the goal is to see patterns."
      ],
      "metadata": {
        "id": "oXg4NgLcOBAz"
      }
    },
    {
      "cell_type": "code",
      "execution_count": 10,
      "source": [
        "f,ax = plt.subplots(figsize=(18, 18))\n",
        "matrix = np.triu(X.corr())\n",
        "se.heatmap(X.corr(), annot=True, linewidths=.5, fmt= '.1f',ax=ax, mask=matrix)\n",
        "plt.show()"
      ],
      "outputs": [
        {
          "output_type": "display_data",
          "data": {
            "image/png": "[encoded data removed]",
            "text/plain": [
              "<Figure size 1296x1296 with 2 Axes>"
            ]
          },
          "metadata": {
            "needs_background": "light"
          }
        }
      ],
      "metadata": {
        "colab": {
          "base_uri": "https://localhost:8080/",
          "height": 1000
        },
        "id": "B2XNPKjROBA0",
        "outputId": "c0082b7b-087d-4f3d-de3e-f35f7655b0b3"
      }
    },
    {
      "cell_type": "markdown",
      "source": [
        "#### Distribution Of Target Variable"
      ],
      "metadata": {
        "id": "mr1VkrfvOBA0"
      }
    },
    {
      "cell_type": "code",
      "execution_count": 11,
      "source": [
        "plt.figure(figsize = (10,6))\n",
        "se.countplot(Y)"
      ],
      "outputs": [
        {
          "output_type": "execute_result",
          "data": {
            "text/plain": [
              "<matplotlib.axes._subplots.AxesSubplot at 0x7fe3830dd110>"
            ]
          },
          "metadata": {},
          "execution_count": 11
        },
        {
          "output_type": "display_data",
          "data": {
            "image/png": "[encoded data removed]",
            "text/plain": [
              "<Figure size 720x432 with 1 Axes>"
            ]
          },
          "metadata": {
            "needs_background": "light"
          }
        }
      ],
      "metadata": {
        "colab": {
          "base_uri": "https://localhost:8080/",
          "height": 391
        },
        "id": "2Fd1affeOBA0",
        "outputId": "3ff0ac51-63b0-42c6-8a71-96b27e00131d"
      }
    },
    {
      "cell_type": "markdown",
      "source": [
        "### Data Splitting\n",
        "\n",
        "The train-test split is a procedure for evaluating the performance of an algorithm. The procedure involves taking a dataset and dividing it into two subsets. The first subset is utilized to fit/train the model. The second subset is used for prediction. The main motive is to estimate the performance of the model on new data."
      ],
      "metadata": {
        "id": "7QyIlvlzOBA0"
      }
    },
    {
      "cell_type": "code",
      "execution_count": 12,
      "source": [
        "x_train,x_test,y_train,y_test=train_test_split(X,Y,test_size=0.2,random_state=123)"
      ],
      "outputs": [],
      "metadata": {
        "id": "XmVuuRPXOBA1"
      }
    },
    {
      "cell_type": "markdown",
      "source": [
        "### Data Rescaling"
      ],
      "metadata": {
        "id": "y1qZka1xOBA1"
      }
    },
    {
      "cell_type": "markdown",
      "source": [
        "For rescaling the data Normalizer function of Sklearn is used.\n",
        "\n",
        "Normalize samples individually to unit norm. Each sample (i.e. each row of the data matrix) with at least one non zero component is rescaled independently of other samples so that its norm (l1, l2 or inf) equals one"
      ],
      "metadata": {
        "id": "Z2tXKydTOBA1"
      }
    },
    {
      "cell_type": "markdown",
      "source": [
        "#### Normalizer function"
      ],
      "metadata": {
        "id": "I0jLvpxGOBA1"
      }
    },
    {
      "cell_type": "markdown",
      "source": [
        "Reference URL to Normalizer API :\n",
        "\n",
        "https://scikit-learn.org/stable/modules/generated/sklearn.preprocessing.Normalizer.html#sklearn.preprocessing.Normalizer"
      ],
      "metadata": {
        "id": "jTLjaPikOBA1"
      }
    },
    {
      "cell_type": "code",
      "execution_count": 13,
      "source": [
        "normalize=Normalizer()\n",
        "x_train = normalize.fit_transform(x_train)\n",
        "x_test = normalize.transform(x_test)"
      ],
      "outputs": [],
      "metadata": {
        "id": "h1NmdrZgOBA1"
      }
    },
    {
      "cell_type": "markdown",
      "source": [
        "#### Handling Target Imbalance\n",
        "\n",
        "The challenge of working with imbalanced datasets is that most machine learning techniques will ignore, and in turn have poor performance on, the minority class, although typically it is performance on the minority class that is most important.\n",
        "\n",
        "One approach to addressing imbalanced datasets is to oversample the minority class. The simplest approach involves duplicating examples in the minority class.We will perform overspampling using imblearn library. "
      ],
      "metadata": {
        "id": "vRhyN457OBA2"
      }
    },
    {
      "cell_type": "code",
      "execution_count": 14,
      "source": [
        "x_train,y_train = RandomOverSampler(random_state=123).fit_resample(x_train, y_train)"
      ],
      "outputs": [],
      "metadata": {
        "id": "Ns3MnlrzOBA2"
      }
    },
    {
      "cell_type": "markdown",
      "source": [
        "### Model\n",
        "\n",
        "Classifier using Ridge regression.\n",
        "\n",
        "This classifier first converts the target values into {-1, 1} and then treats the problem as a regression task (multi-output regression in the multiclass case).\n",
        "\n",
        "#### Model Tuning Parameters\n",
        "\n",
        "> **alpha** -> Regularization strength; must be a positive float. Regularization improves the conditioning of the problem and reduces the variance of the estimates. Larger values specify stronger regularization.\n",
        "\n",
        "> **solver** -> Solver to use in the computational routines {‘auto’, ‘svd’, ‘cholesky’, ‘lsqr’, ‘sparse_cg’, ‘sag’, ‘saga’}\n",
        "\n",
        "> **tol** -> Precision of the solution.\n"
      ],
      "metadata": {
        "id": "3kd3YSW1OBA2"
      }
    },
    {
      "cell_type": "markdown",
      "source": [
        "### Feature Transformation"
      ],
      "metadata": {
        "id": "jh7LGlENOBA2"
      }
    },
    {
      "cell_type": "markdown",
      "source": [
        "This method transforms the features to follow a uniform or a normal distribution. Therefore, for a given feature, this transformation tends to spread out the most frequent values. It also reduces the impact of (marginal) outliers: this is therefore a robust preprocessing scheme.\n",
        "\n"
      ],
      "metadata": {
        "id": "diDh-HH5OBA3"
      }
    },
    {
      "cell_type": "code",
      "execution_count": 15,
      "source": [
        "# Build Model here\n",
        "model=make_pipeline(QuantileTransformer(),RidgeClassifier())\n",
        "model.fit(x_train,y_train)"
      ],
      "outputs": [
        {
          "output_type": "execute_result",
          "data": {
            "text/plain": [
              "Pipeline(memory=None,\n",
              "         steps=[('quantiletransformer',\n",
              "                 QuantileTransformer(copy=True, ignore_implicit_zeros=False,\n",
              "                                     n_quantiles=1000,\n",
              "                                     output_distribution='uniform',\n",
              "                                     random_state=None, subsample=100000)),\n",
              "                ('ridgeclassifier',\n",
              "                 RidgeClassifier(alpha=1.0, class_weight=None, copy_X=True,\n",
              "                                 fit_intercept=True, max_iter=None,\n",
              "                                 normalize=False, random_state=None,\n",
              "                                 solver='auto', tol=0.001))],\n",
              "         verbose=False)"
            ]
          },
          "metadata": {},
          "execution_count": 15
        }
      ],
      "metadata": {
        "colab": {
          "base_uri": "https://localhost:8080/"
        },
        "id": "Vhjayo68OBA3",
        "outputId": "6895c6f1-ce53-4a55-b3c6-94d79be37784"
      }
    },
    {
      "cell_type": "markdown",
      "source": [
        "#### Model Accuracy\n",
        "\n",
        "score() method return the mean accuracy on the given test data and labels.\n",
        "\n",
        "In multi-label classification, this is the subset accuracy which is a harsh metric since you require for each sample that each label set be correctly predicted."
      ],
      "metadata": {
        "id": "4OeLvbp7OBA3"
      }
    },
    {
      "cell_type": "code",
      "execution_count": 16,
      "source": [
        "print(\"Accuracy score {:.2f} %\\n\".format(model.score(x_test,y_test)*100))"
      ],
      "outputs": [
        {
          "output_type": "stream",
          "name": "stdout",
          "text": [
            "Accuracy score 83.33 %\n",
            "\n"
          ]
        }
      ],
      "metadata": {
        "colab": {
          "base_uri": "https://localhost:8080/"
        },
        "id": "dKmUmefwOBA3",
        "outputId": "84c307f9-0546-42a7-ac7d-031545b47742"
      }
    },
    {
      "cell_type": "markdown",
      "source": [
        "#### Confusion Matrix\n",
        "\n",
        "A confusion matrix is utilized to understand the performance of the classification model or algorithm in machine learning for a given test set where results are known."
      ],
      "metadata": {
        "id": "5Anmlr-hOBA3"
      }
    },
    {
      "cell_type": "code",
      "execution_count": 17,
      "source": [
        "plot_confusion_matrix(model,x_test,y_test,cmap=plt.cm.Blues)"
      ],
      "outputs": [
        {
          "output_type": "execute_result",
          "data": {
            "text/plain": [
              "<sklearn.metrics._plot.confusion_matrix.ConfusionMatrixDisplay at 0x7fe376838d10>"
            ]
          },
          "metadata": {},
          "execution_count": 17
        },
        {
          "output_type": "display_data",
          "data": {
            "image/png": "[encoded data removed]",
            "text/plain": [
              "<Figure size 432x288 with 2 Axes>"
            ]
          },
          "metadata": {
            "needs_background": "light"
          }
        }
      ],
      "metadata": {
        "colab": {
          "base_uri": "https://localhost:8080/",
          "height": 296
        },
        "id": "OGvAT-7qOBA3",
        "outputId": "5efcd69c-a250-4cde-d1af-7861cfae8db2"
      }
    },
    {
      "cell_type": "markdown",
      "source": [
        "#### Classification Report\n",
        "A Classification report is used to measure the quality of predictions from a classification algorithm. How many predictions are True, how many are False.\n",
        "\n",
        "* **where**:\n",
        "    - Precision:- Accuracy of positive predictions.\n",
        "    - Recall:- Fraction of positives that were correctly identified.\n",
        "    - f1-score:-  percent of positive predictions were correct\n",
        "    - support:- Support is the number of actual occurrences of the class in the specified dataset."
      ],
      "metadata": {
        "id": "UsE2kI2BOBA4"
      }
    },
    {
      "cell_type": "code",
      "execution_count": 18,
      "source": [
        "print(classification_report(y_test,model.predict(x_test)))"
      ],
      "outputs": [
        {
          "output_type": "stream",
          "name": "stdout",
          "text": [
            "              precision    recall  f1-score   support\n",
            "\n",
            "           0       1.00      1.00      1.00        13\n",
            "           1       1.00      0.17      0.29         6\n",
            "           2       0.69      1.00      0.81        11\n",
            "\n",
            "    accuracy                           0.83        30\n",
            "   macro avg       0.90      0.72      0.70        30\n",
            "weighted avg       0.89      0.83      0.79        30\n",
            "\n"
          ]
        }
      ],
      "metadata": {
        "colab": {
          "base_uri": "https://localhost:8080/"
        },
        "id": "bUTwykHVOBA4",
        "outputId": "1fe09b9a-d791-4b85-96a7-10d61c8eff0d"
      }
    },
    {
      "cell_type": "markdown",
      "source": [
        "#### Creator: Ageer Harikrishna, Github: [Profile](https://github.com/ageerHarikrishna)\n"
      ],
      "metadata": {
        "id": "ZCbJDo0COBA4"
      }
    }
  ]
}