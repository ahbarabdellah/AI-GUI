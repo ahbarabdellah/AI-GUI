{
  "nbformat": 4,
  "nbformat_minor": 2,
  "metadata": {
    "interpreter": {
      "hash": "51a9663a131f1b5758c45b97a2d6917c8ae86b33e231c3733631cbc7265cfc89"
    },
    "kernelspec": {
      "display_name": "Python 3",
      "language": "python",
      "name": "python3"
    },
    "language_info": {
      "codemirror_mode": {
        "name": "ipython",
        "version": 3
      },
      "file_extension": ".py",
      "mimetype": "text/x-python",
      "name": "python",
      "nbconvert_exporter": "python",
      "pygments_lexer": "ipython3",
      "version": "3.8.5"
    },
    "colab": {
      "name": "NearestCentroidClassifier_MinMaxScaler.ipynb",
      "provenance": [],
      "collapsed_sections": []
    }
  },
  "cells": [
    {
      "cell_type": "markdown",
      "source": [
        "# Nearest Centroid Classification with MinMaxScaler"
      ],
      "metadata": {
        "id": "cwBW_wX_wXTZ"
      }
    },
    {
      "cell_type": "markdown",
      "source": [
        "This Code template is for the Classification task using a simple NearestCentroid and data rescaling technique MinMaxScaler in a pipeline. The NearestCentroid classifier is a simple algorithm that represents each class by the centroid of its members. "
      ],
      "metadata": {
        "id": "SKJ-G7_nwXTe"
      }
    },
    {
      "cell_type": "markdown",
      "source": [
        "### Required Packages"
      ],
      "metadata": {
        "id": "vJNHM9xPwXTg"
      }
    },
    {
      "cell_type": "code",
      "execution_count": null,
      "source": [
        "!pip install imblearn"
      ],
      "outputs": [],
      "metadata": {
        "id": "SgCexw-QwXTh"
      }
    },
    {
      "cell_type": "code",
      "execution_count": 18,
      "source": [
        "import warnings \r\n",
        "import numpy as np \r\n",
        "import pandas as pd \r\n",
        "import matplotlib.pyplot as plt \r\n",
        "import seaborn as se \r\n",
        "from imblearn.over_sampling import RandomOverSampler\r\n",
        "from sklearn.preprocessing import LabelEncoder, MinMaxScaler \r\n",
        "from sklearn.model_selection import train_test_split \r\n",
        "from sklearn.neighbors import NearestCentroid\r\n",
        "from sklearn.pipeline import make_pipeline\r\n",
        "from sklearn.metrics import classification_report,plot_confusion_matrix\r\n",
        "warnings.filterwarnings('ignore')"
      ],
      "outputs": [],
      "metadata": {
        "id": "O54giuS7wXTi"
      }
    },
    {
      "cell_type": "markdown",
      "source": [
        "### Initialization\n"
      ],
      "metadata": {
        "id": "mhfcLttgy_ky"
      }
    },
    {
      "cell_type": "markdown",
      "source": [
        "\n",
        "Filepath of CSV file"
      ],
      "metadata": {
        "id": "XyHamUbcwXTj"
      }
    },
    {
      "cell_type": "code",
      "execution_count": 19,
      "source": [
        "#filepath\r\n",
        "file_path= \"\""
      ],
      "outputs": [],
      "metadata": {
        "id": "RxmE6IV1wXTk"
      }
    },
    {
      "cell_type": "markdown",
      "source": [
        "List of features which are  required for model training ."
      ],
      "metadata": {
        "id": "gssj5DVFwXTm"
      }
    },
    {
      "cell_type": "code",
      "execution_count": 20,
      "source": [
        "#x_values\n",
        "features=[]"
      ],
      "outputs": [],
      "metadata": {
        "id": "30_-SgcHwXTn"
      }
    },
    {
      "cell_type": "markdown",
      "source": [
        "Target feature for prediction."
      ],
      "metadata": {
        "id": "5yDIbpL0wXTq"
      }
    },
    {
      "cell_type": "code",
      "execution_count": 21,
      "source": [
        "#y_value\n",
        "target=''"
      ],
      "outputs": [],
      "metadata": {
        "id": "l0w_vGwgwXTs"
      }
    },
    {
      "cell_type": "markdown",
      "source": [
        "### Data Fetching\n"
      ],
      "metadata": {
        "id": "W7nUual6zB_z"
      }
    },
    {
      "cell_type": "markdown",
      "source": [
        "\n",
        "Pandas is an open-source, BSD-licensed library providing high-performance, easy-to-use data manipulation and data analysis tools.\n",
        "\n",
        "We will use panda's library to read the CSV file using its storage path.And we use the head function to display the initial row or entry."
      ],
      "metadata": {
        "id": "953VNDg3wXTt"
      }
    },
    {
      "cell_type": "code",
      "execution_count": 22,
      "source": [
        "df=pd.read_csv(file_path)\n",
        "df.head()"
      ],
      "outputs": [
        {
          "output_type": "execute_result",
          "data": {
            "text/html": [
              "<div>\n",
              "<style scoped>\n",
              "    .dataframe tbody tr th:only-of-type {\n",
              "        vertical-align: middle;\n",
              "    }\n",
              "\n",
              "    .dataframe tbody tr th {\n",
              "        vertical-align: top;\n",
              "    }\n",
              "\n",
              "    .dataframe thead th {\n",
              "        text-align: right;\n",
              "    }\n",
              "</style>\n",
              "<table border=\"1\" class=\"dataframe\">\n",
              "  <thead>\n",
              "    <tr style=\"text-align: right;\">\n",
              "      <th></th>\n",
              "      <th>preg</th>\n",
              "      <th>plas</th>\n",
              "      <th>pres</th>\n",
              "      <th>skin</th>\n",
              "      <th>insu</th>\n",
              "      <th>mass</th>\n",
              "      <th>pedi</th>\n",
              "      <th>age</th>\n",
              "      <th>class</th>\n",
              "    </tr>\n",
              "  </thead>\n",
              "  <tbody>\n",
              "    <tr>\n",
              "      <th>0</th>\n",
              "      <td>6</td>\n",
              "      <td>148</td>\n",
              "      <td>72</td>\n",
              "      <td>35</td>\n",
              "      <td>0</td>\n",
              "      <td>33.6</td>\n",
              "      <td>0.627</td>\n",
              "      <td>50</td>\n",
              "      <td>tested_positive</td>\n",
              "    </tr>\n",
              "    <tr>\n",
              "      <th>1</th>\n",
              "      <td>1</td>\n",
              "      <td>85</td>\n",
              "      <td>66</td>\n",
              "      <td>29</td>\n",
              "      <td>0</td>\n",
              "      <td>26.6</td>\n",
              "      <td>0.351</td>\n",
              "      <td>31</td>\n",
              "      <td>tested_negative</td>\n",
              "    </tr>\n",
              "    <tr>\n",
              "      <th>2</th>\n",
              "      <td>8</td>\n",
              "      <td>183</td>\n",
              "      <td>64</td>\n",
              "      <td>0</td>\n",
              "      <td>0</td>\n",
              "      <td>23.3</td>\n",
              "      <td>0.672</td>\n",
              "      <td>32</td>\n",
              "      <td>tested_positive</td>\n",
              "    </tr>\n",
              "    <tr>\n",
              "      <th>3</th>\n",
              "      <td>1</td>\n",
              "      <td>89</td>\n",
              "      <td>66</td>\n",
              "      <td>23</td>\n",
              "      <td>94</td>\n",
              "      <td>28.1</td>\n",
              "      <td>0.167</td>\n",
              "      <td>21</td>\n",
              "      <td>tested_negative</td>\n",
              "    </tr>\n",
              "    <tr>\n",
              "      <th>4</th>\n",
              "      <td>0</td>\n",
              "      <td>137</td>\n",
              "      <td>40</td>\n",
              "      <td>35</td>\n",
              "      <td>168</td>\n",
              "      <td>43.1</td>\n",
              "      <td>2.288</td>\n",
              "      <td>33</td>\n",
              "      <td>tested_positive</td>\n",
              "    </tr>\n",
              "  </tbody>\n",
              "</table>\n",
              "</div>"
            ],
            "text/plain": [
              "   preg  plas  pres  skin  insu  mass   pedi  age            class\n",
              "0     6   148    72    35     0  33.6  0.627   50  tested_positive\n",
              "1     1    85    66    29     0  26.6  0.351   31  tested_negative\n",
              "2     8   183    64     0     0  23.3  0.672   32  tested_positive\n",
              "3     1    89    66    23    94  28.1  0.167   21  tested_negative\n",
              "4     0   137    40    35   168  43.1  2.288   33  tested_positive"
            ]
          },
          "metadata": {
            "tags": []
          },
          "execution_count": 22
        }
      ],
      "metadata": {
        "colab": {
          "base_uri": "https://localhost:8080/",
          "height": 204
        },
        "id": "i-uXcXMKwXTu",
        "outputId": "2064320e-438c-4343-f8cf-0d9dffb0eadc"
      }
    },
    {
      "cell_type": "markdown",
      "source": [
        "### Feature Selections\n"
      ],
      "metadata": {
        "id": "wY_Xj0cRzE_S"
      }
    },
    {
      "cell_type": "markdown",
      "source": [
        "\n",
        "It is the process of reducing the number of input variables when developing a predictive model. Used to reduce the number of input variables to both reduce the computational cost of modelling and, in some cases, to improve the performance of the model.\n",
        "\n",
        "We will assign all the required input features to X and target/outcome to Y."
      ],
      "metadata": {
        "id": "dBgQ_IsqwXTw"
      }
    },
    {
      "cell_type": "code",
      "execution_count": 23,
      "source": [
        "X = df[features]\n",
        "Y = df[target]"
      ],
      "outputs": [],
      "metadata": {
        "id": "sSb_CGCzwXTw"
      }
    },
    {
      "cell_type": "markdown",
      "source": [
        "### Data Preprocessing\n"
      ],
      "metadata": {
        "id": "wYBGLhowzG1z"
      }
    },
    {
      "cell_type": "markdown",
      "source": [
        "\n",
        "Since the majority of the machine learning models in the Sklearn library doesn't handle string category data and Null value, we have to explicitly remove or replace null values. The below snippet have functions, which removes the null value if any exists. And convert the string classes data in the datasets by encoding them to integer classes.\n"
      ],
      "metadata": {
        "id": "Az4ASIUTwXTx"
      }
    },
    {
      "cell_type": "code",
      "execution_count": 24,
      "source": [
        "def NullClearner(df):\n",
        "    if(isinstance(df, pd.Series) and (df.dtype in [\"float64\",\"int64\"])):\n",
        "        df.fillna(df.mean(),inplace=True)\n",
        "        return df\n",
        "    elif(isinstance(df, pd.Series)):\n",
        "        df.fillna(df.mode()[0],inplace=True)\n",
        "        return df\n",
        "    else:return df\n",
        "def EncodeX(df):\n",
        "    return pd.get_dummies(df)\n",
        "def EncodeY(df):\n",
        "    if len(df.unique())<=2:\n",
        "        return df\n",
        "    else:\n",
        "        un_EncodedT=np.sort(pd.unique(df), axis=-1, kind='mergesort')\n",
        "        df=LabelEncoder().fit_transform(df)\n",
        "        EncodedT=[xi for xi in range(len(un_EncodedT))]\n",
        "        print(\"Encoded Target: {} to {}\".format(un_EncodedT,EncodedT))\n",
        "        return df"
      ],
      "outputs": [],
      "metadata": {
        "id": "zss0d-H_wXTx"
      }
    },
    {
      "cell_type": "code",
      "execution_count": 25,
      "source": [
        "x=X.columns.to_list()\n",
        "for i in x:\n",
        "    X[i]=NullClearner(X[i])  \n",
        "X=EncodeX(X)\n",
        "Y=EncodeY(NullClearner(Y))\n",
        "X.head()"
      ],
      "outputs": [
        {
          "output_type": "execute_result",
          "data": {
            "text/html": [
              "<div>\n",
              "<style scoped>\n",
              "    .dataframe tbody tr th:only-of-type {\n",
              "        vertical-align: middle;\n",
              "    }\n",
              "\n",
              "    .dataframe tbody tr th {\n",
              "        vertical-align: top;\n",
              "    }\n",
              "\n",
              "    .dataframe thead th {\n",
              "        text-align: right;\n",
              "    }\n",
              "</style>\n",
              "<table border=\"1\" class=\"dataframe\">\n",
              "  <thead>\n",
              "    <tr style=\"text-align: right;\">\n",
              "      <th></th>\n",
              "      <th>preg</th>\n",
              "      <th>plas</th>\n",
              "      <th>pres</th>\n",
              "      <th>skin</th>\n",
              "      <th>insu</th>\n",
              "      <th>mass</th>\n",
              "      <th>pedi</th>\n",
              "      <th>age</th>\n",
              "    </tr>\n",
              "  </thead>\n",
              "  <tbody>\n",
              "    <tr>\n",
              "      <th>0</th>\n",
              "      <td>6</td>\n",
              "      <td>148</td>\n",
              "      <td>72</td>\n",
              "      <td>35</td>\n",
              "      <td>0</td>\n",
              "      <td>33.6</td>\n",
              "      <td>0.627</td>\n",
              "      <td>50</td>\n",
              "    </tr>\n",
              "    <tr>\n",
              "      <th>1</th>\n",
              "      <td>1</td>\n",
              "      <td>85</td>\n",
              "      <td>66</td>\n",
              "      <td>29</td>\n",
              "      <td>0</td>\n",
              "      <td>26.6</td>\n",
              "      <td>0.351</td>\n",
              "      <td>31</td>\n",
              "    </tr>\n",
              "    <tr>\n",
              "      <th>2</th>\n",
              "      <td>8</td>\n",
              "      <td>183</td>\n",
              "      <td>64</td>\n",
              "      <td>0</td>\n",
              "      <td>0</td>\n",
              "      <td>23.3</td>\n",
              "      <td>0.672</td>\n",
              "      <td>32</td>\n",
              "    </tr>\n",
              "    <tr>\n",
              "      <th>3</th>\n",
              "      <td>1</td>\n",
              "      <td>89</td>\n",
              "      <td>66</td>\n",
              "      <td>23</td>\n",
              "      <td>94</td>\n",
              "      <td>28.1</td>\n",
              "      <td>0.167</td>\n",
              "      <td>21</td>\n",
              "    </tr>\n",
              "    <tr>\n",
              "      <th>4</th>\n",
              "      <td>0</td>\n",
              "      <td>137</td>\n",
              "      <td>40</td>\n",
              "      <td>35</td>\n",
              "      <td>168</td>\n",
              "      <td>43.1</td>\n",
              "      <td>2.288</td>\n",
              "      <td>33</td>\n",
              "    </tr>\n",
              "  </tbody>\n",
              "</table>\n",
              "</div>"
            ],
            "text/plain": [
              "   preg  plas  pres  skin  insu  mass   pedi  age\n",
              "0     6   148    72    35     0  33.6  0.627   50\n",
              "1     1    85    66    29     0  26.6  0.351   31\n",
              "2     8   183    64     0     0  23.3  0.672   32\n",
              "3     1    89    66    23    94  28.1  0.167   21\n",
              "4     0   137    40    35   168  43.1  2.288   33"
            ]
          },
          "metadata": {
            "tags": []
          },
          "execution_count": 25
        }
      ],
      "metadata": {
        "colab": {
          "base_uri": "https://localhost:8080/",
          "height": 204
        },
        "id": "PQC_KahhwXTy",
        "outputId": "14945ac8-7974-47d0-c8fd-dab7fc811977"
      }
    },
    {
      "cell_type": "markdown",
      "source": [
        "#### Correlation Map\n"
      ],
      "metadata": {
        "id": "KdJsZGFszJct"
      }
    },
    {
      "cell_type": "markdown",
      "source": [
        "\n",
        "In order to check the correlation between the features, we will plot a correlation matrix. It is effective in summarizing a large amount of data where the goal is to see patterns."
      ],
      "metadata": {
        "id": "bfK-yGvlwXTy"
      }
    },
    {
      "cell_type": "code",
      "execution_count": 26,
      "source": [
        "f,ax = plt.subplots(figsize=(18, 18))\n",
        "matrix = np.triu(X.corr())\n",
        "se.heatmap(X.corr(), annot=True, linewidths=.5, fmt= '.1f',ax=ax, mask=matrix)\n",
        "plt.show()"
      ],
      "outputs": [
        {
          "output_type": "display_data",
          "data": {
            "image/png": "[encoded data removed]",
            "text/plain": [
              "<Figure size 1296x1296 with 2 Axes>"
            ]
          },
          "metadata": {
            "tags": [],
            "needs_background": "light"
          }
        }
      ],
      "metadata": {
        "colab": {
          "base_uri": "https://localhost:8080/",
          "height": 1000
        },
        "id": "D_X9KMQRwXTz",
        "outputId": "2df1c9e2-cf89-4853-86c9-f1f101e1376d"
      }
    },
    {
      "cell_type": "markdown",
      "source": [
        "#### Distribution Of Target Variable"
      ],
      "metadata": {
        "id": "WD0XT5_BwXTz"
      }
    },
    {
      "cell_type": "code",
      "execution_count": 27,
      "source": [
        "plt.figure(figsize = (10,6))\n",
        "se.countplot(Y)"
      ],
      "outputs": [
        {
          "output_type": "execute_result",
          "data": {
            "text/plain": [
              "<matplotlib.axes._subplots.AxesSubplot at 0x7f27174919d0>"
            ]
          },
          "metadata": {
            "tags": []
          },
          "execution_count": 27
        },
        {
          "output_type": "display_data",
          "data": {
            "image/png": "[encoded data removed]",
            "text/plain": [
              "<Figure size 720x432 with 1 Axes>"
            ]
          },
          "metadata": {
            "tags": [],
            "needs_background": "light"
          }
        }
      ],
      "metadata": {
        "colab": {
          "base_uri": "https://localhost:8080/",
          "height": 406
        },
        "id": "isHazeidwXT0",
        "outputId": "7909c1b7-5328-4e9f-9b6f-9979883aea4f"
      }
    },
    {
      "cell_type": "markdown",
      "source": [
        "### Data Splitting\n"
      ],
      "metadata": {
        "id": "SklcpLx-zMsv"
      }
    },
    {
      "cell_type": "markdown",
      "source": [
        "\n",
        "The train-test split is a procedure for evaluating the performance of an algorithm. The procedure involves taking a dataset and dividing it into two subsets. The first subset is utilized to fit/train the model. The second subset is used for prediction. The main motive is to estimate the performance of the model on new data."
      ],
      "metadata": {
        "id": "EJopgojswXT3"
      }
    },
    {
      "cell_type": "code",
      "execution_count": 28,
      "source": [
        "x_train,x_test,y_train,y_test=train_test_split(X,Y,test_size=0.2,random_state=123)"
      ],
      "outputs": [],
      "metadata": {
        "id": "GZhAW1nfwXT4"
      }
    },
    {
      "cell_type": "markdown",
      "source": [
        "### Handling Target Imbalance\n"
      ],
      "metadata": {
        "id": "m07lkL5uzOku"
      }
    },
    {
      "cell_type": "markdown",
      "source": [
        "\n",
        "The challenge of working with imbalanced datasets is that most machine learning techniques will ignore, and in turn have poor performance on, the minority class, although typically it is performance on the minority class that is most important.\n",
        "\n",
        "One approach to addressing imbalanced datasets is to oversample the minority class. The simplest approach involves duplicating examples in the minority class.We will perform overspampling using imblearn library. "
      ],
      "metadata": {
        "id": "rBcl78nswXT4"
      }
    },
    {
      "cell_type": "code",
      "execution_count": 29,
      "source": [
        "x_train,y_train = RandomOverSampler(random_state=123).fit_resample(x_train, y_train)"
      ],
      "outputs": [],
      "metadata": {
        "id": "XXbo_cGrwXT4"
      }
    },
    {
      "cell_type": "markdown",
      "source": [
        "### Data Rescaling:\n",
        "In MinMaxScaler, each feature is translated and scaled individually to be within the specified range on the training set, e.g. between zero and one. The unit variance scaling option is often used in place of zero mean scalings.\n",
        "\n",
        "[MinMaxScaler](https://scikit-learn.org/stable/modules/generated/sklearn.preprocessing.MinMaxScaler.html)\n",
        "\n",
        "### Model\n",
        "\n",
        "The NearestCentroid classifier is a simple algorithm that represents each class by the centroid of its members. In effect, this makes it similar to the label updating phase of the KMeans algorithm. It also has no parameters to choose, making it a good baseline classifier. It does, however, suffer on non-convex classes, as well as when classes have drastically different variances, as equal variance in all dimensions is assumed.\n",
        "\n",
        "#### Tuning Parameter\n",
        "\n",
        "> **metric** : The metric to use when calculating distance between instances in a feature array. If metric is a string or callable, it must be one of the options allowed by metrics.pairwise.pairwise_distances for its metric parameter. The centroids for the samples corresponding to each class is the point from which the sum of the distances of all samples that belong to that particular class are minimized. If the “manhattan” metric is provided, this centroid is the median and for all other metrics, the centroid is now set to be the mean.\n",
        "\n",
        "> **shrink_threshold** :Threshold for shrinking centroids to remove features."
      ],
      "metadata": {
        "id": "51xoQaAfyu_s"
      }
    },
    {
      "cell_type": "code",
      "execution_count": 30,
      "source": [
        "# Build Model here\n",
        "model = make_pipeline(MinMaxScaler(),NearestCentroid())\n",
        "model.fit(x_train, y_train)"
      ],
      "outputs": [
        {
          "output_type": "execute_result",
          "data": {
            "text/plain": [
              "Pipeline(memory=None,\n",
              "         steps=[('minmaxscaler', MinMaxScaler(copy=True, feature_range=(0, 1))),\n",
              "                ('nearestcentroid',\n",
              "                 NearestCentroid(metric='euclidean', shrink_threshold=None))],\n",
              "         verbose=False)"
            ]
          },
          "metadata": {
            "tags": []
          },
          "execution_count": 30
        }
      ],
      "metadata": {
        "colab": {
          "base_uri": "https://localhost:8080/"
        },
        "id": "mmaQ_YZPwXT6",
        "outputId": "0730771e-7087-4ac3-b674-6e4773c31568"
      }
    },
    {
      "cell_type": "markdown",
      "source": [
        "#### Model Accuracy\n"
      ],
      "metadata": {
        "id": "4yEdSVvNzSkU"
      }
    },
    {
      "cell_type": "markdown",
      "source": [
        "\n",
        "score() method return the mean accuracy on the given test data and labels.\n",
        "\n",
        "In multi-label classification, this is the subset accuracy which is a harsh metric since you require for each sample that each label set be correctly predicted."
      ],
      "metadata": {
        "id": "u2wSSHciwXT6"
      }
    },
    {
      "cell_type": "code",
      "execution_count": 31,
      "source": [
        "print(\"Accuracy score {:.2f} %\\n\".format(model.score(x_test,y_test)*100))"
      ],
      "outputs": [
        {
          "output_type": "stream",
          "name": "stdout",
          "text": [
            "Accuracy score 73.38 %\n",
            "\n"
          ]
        }
      ],
      "metadata": {
        "colab": {
          "base_uri": "https://localhost:8080/"
        },
        "id": "RJtyn_1JwXT7",
        "outputId": "35fbabdd-c5f8-4311-ec34-9b0a5ebd9545"
      }
    },
    {
      "cell_type": "markdown",
      "source": [
        "#### Confusion Matrix\n"
      ],
      "metadata": {
        "id": "-IjUy8NazU1S"
      }
    },
    {
      "cell_type": "markdown",
      "source": [
        "\n",
        "A confusion matrix is utilized to understand the performance of the classification model or algorithm in machine learning for a given test set where results are known."
      ],
      "metadata": {
        "id": "j3TFkiq4wXT7"
      }
    },
    {
      "cell_type": "code",
      "execution_count": 32,
      "source": [
        "plot_confusion_matrix(model,x_test,y_test,cmap=plt.cm.Blues)"
      ],
      "outputs": [
        {
          "output_type": "execute_result",
          "data": {
            "text/plain": [
              "<sklearn.metrics._plot.confusion_matrix.ConfusionMatrixDisplay at 0x7f2717357bd0>"
            ]
          },
          "metadata": {
            "tags": []
          },
          "execution_count": 32
        },
        {
          "output_type": "display_data",
          "data": {
            "image/png": "[encoded data removed]",
            "text/plain": [
              "<Figure size 432x288 with 2 Axes>"
            ]
          },
          "metadata": {
            "tags": [],
            "needs_background": "light"
          }
        }
      ],
      "metadata": {
        "colab": {
          "base_uri": "https://localhost:8080/",
          "height": 297
        },
        "id": "dtEDnkCTwXT8",
        "outputId": "c5f1b8e0-ba49-478f-f60a-f78bee79b25e"
      }
    },
    {
      "cell_type": "markdown",
      "source": [
        "#### Classification Report\n"
      ],
      "metadata": {
        "id": "EvHTSAbezXyB"
      }
    },
    {
      "cell_type": "markdown",
      "source": [
        "A Classification report is used to measure the quality of predictions from a classification algorithm. How many predictions are True, how many are False.\n",
        "\n",
        "* **where**:\n",
        "    - Precision:- Accuracy of positive predictions.\n",
        "    - Recall:- Fraction of positives that were correctly identified.\n",
        "    - f1-score:-  percent of positive predictions were correct\n",
        "    - support:- Support is the number of actual occurrences of the class in the specified dataset."
      ],
      "metadata": {
        "id": "5EmHA6AQwXT8"
      }
    },
    {
      "cell_type": "code",
      "execution_count": 33,
      "source": [
        "print(classification_report(y_test,model.predict(x_test)))"
      ],
      "outputs": [
        {
          "output_type": "stream",
          "name": "stdout",
          "text": [
            "                 precision    recall  f1-score   support\n",
            "\n",
            "tested_negative       0.82      0.74      0.78        96\n",
            "tested_positive       0.63      0.72      0.67        58\n",
            "\n",
            "       accuracy                           0.73       154\n",
            "      macro avg       0.72      0.73      0.72       154\n",
            "   weighted avg       0.74      0.73      0.74       154\n",
            "\n"
          ]
        }
      ],
      "metadata": {
        "colab": {
          "base_uri": "https://localhost:8080/"
        },
        "id": "U3kbKQZ6wXT9",
        "outputId": "f9efabcd-1086-4488-c45f-3f5192742969"
      }
    },
    {
      "cell_type": "markdown",
      "source": [
        "**creator: Virat Chowdary, GitHub: [profile](https://github.com/viratchowdary21)**"
      ],
      "metadata": {
        "id": "ePwLIsIbuudy"
      }
    }
  ]
}