{
 "cells": [
  {
   "cell_type": "markdown",
   "source": [
    "# DecisionTreeRegressor with StandardScaler\r\n",
    "## Coming Soon"
   ],
   "metadata": {}
  }
 ],
 "metadata": {
  "orig_nbformat": 4,
  "language_info": {
   "name": "python"
  }
 },
 "nbformat": 4,
 "nbformat_minor": 2
}