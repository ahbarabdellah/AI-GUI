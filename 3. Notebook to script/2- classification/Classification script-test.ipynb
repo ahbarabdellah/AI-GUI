{
 "cells": [
  {
   "cell_type": "markdown",
   "metadata": {},
   "source": [
    "# 0. Utelities : "
   ]
  },
  {
   "cell_type": "code",
   "execution_count": 46,
   "metadata": {},
   "outputs": [],
   "source": [
    "# !pip install imblearn\n",
    "# !pip install seaborn"
   ]
  },
  {
   "cell_type": "code",
   "execution_count": 47,
   "metadata": {},
   "outputs": [],
   "source": [
    "import numpy as np \n",
    "import pandas as pd \n",
    "from sklearn.preprocessing import LabelEncoder \n",
    "\n",
    "def NullClearner(df):\n",
    "    if(isinstance(df, pd.Series) and (df.dtype in [\"float64\",\"int64\"])):\n",
    "        df.fillna(df.mean(),inplace=True)\n",
    "        return df\n",
    "    elif(isinstance(df, pd.Series)):\n",
    "        df.fillna(df.mode()[0],inplace=True)\n",
    "        return df\n",
    "    else:return df\n",
    "    \n",
    "    \n",
    "def EncodeX(df):\n",
    "    return pd.get_dummies(df)\n",
    "\n",
    "    \n",
    "def EncodeY(df):\n",
    "    if len(df.unique())<=2:\n",
    "        return df\n",
    "    else:\n",
    "        un_EncodedT=np.sort(pd.unique(df), axis=-1, kind='mergesort')\n",
    "        df=LabelEncoder().fit_transform(df)\n",
    "        EncodedT=[xi for xi in range(len(un_EncodedT))]\n",
    "        # print(\"Encoded Target: {} to {}\".format(un_EncodedT,EncodedT))\n",
    "        return df"
   ]
  },
  {
   "cell_type": "markdown",
   "metadata": {},
   "source": [
    "# 1. Logistique Regression :"
   ]
  },
  {
   "cell_type": "code",
   "execution_count": 48,
   "metadata": {},
   "outputs": [],
   "source": [
    "import warnings \n",
    "import numpy as np \n",
    "import pandas as pd \n",
    "import matplotlib.pyplot as plt \n",
    "import seaborn as se \n",
    "from imblearn.over_sampling import RandomOverSampler\n",
    "from sklearn.preprocessing import LabelEncoder \n",
    "from sklearn.model_selection import train_test_split \n",
    "from sklearn.linear_model import LogisticRegression\n",
    "from sklearn.metrics import classification_report,plot_confusion_matrix\n",
    "warnings.filterwarnings('ignore')\n",
    "\n",
    "def logisticregression(path,features,target):\n",
    "    file_path=path\n",
    "    df=pd.read_csv(file_path)\n",
    "    #df.index= df.columns.to_list()\n",
    "    X = df[features]\n",
    "    Y = df[target]\n",
    "    x=X.columns.to_list()\n",
    "    for i in x:\n",
    "        X[i]=NullClearner(X[i])  \n",
    "    X=EncodeX(X)\n",
    "    Y=EncodeY(NullClearner(Y))\n",
    "    x_train,x_test,y_train,y_test=train_test_split(X,Y,test_size=0.2,random_state=123)\n",
    "    x_train,y_train = RandomOverSampler(random_state=123).fit_resample(x_train, y_train)\n",
    "        # Build Model here\n",
    "    model = LogisticRegression(random_state = 123,n_jobs = -1)\n",
    "    model.fit(x_train, y_train)\n",
    "    return model,x_train,x_test,y_train,y_test\n"
   ]
  },
  {
   "cell_type": "markdown",
   "metadata": {},
   "source": [
    "# 2. KNN (KNeighborsClassifier) :"
   ]
  },
  {
   "cell_type": "code",
   "execution_count": 49,
   "metadata": {},
   "outputs": [],
   "source": [
    "import warnings\n",
    "import numpy as np\n",
    "import pandas as pd\n",
    "import seaborn as se\n",
    "import matplotlib.pyplot as plt\n",
    "from sklearn.model_selection import train_test_split\n",
    "from sklearn.neighbors import KNeighborsClassifier\n",
    "from imblearn.over_sampling import RandomOverSampler\n",
    "from sklearn.preprocessing import LabelEncoder\n",
    "from sklearn.metrics import classification_report,plot_confusion_matrix\n",
    "warnings.filterwarnings('ignore')\n",
    "\n",
    "def KNN(file_path,features ,target   ):\n",
    "    df=pd.read_csv(file_path)\n",
    "\n",
    "    X=df[features]\n",
    "    Y=df[target]\n",
    "    x=X.columns.to_list()\n",
    "    for i in x:\n",
    "        X[i]=NullClearner(X[i])\n",
    "    X=EncodeX(X)\n",
    "    Y=EncodeY(NullClearner(Y))\n",
    "    x_train,x_test,y_train,y_test=train_test_split(X,Y,test_size=0.2,random_state=123)\n",
    "    x_train,y_train = RandomOverSampler(random_state=123).fit_resample(x_train, y_train)\n",
    "    model=KNeighborsClassifier(n_jobs=-1)\n",
    "    model.fit(x_train,y_train)\n",
    "    return model,x_train,x_test,y_train,y_test"
   ]
  },
  {
   "cell_type": "markdown",
   "metadata": {},
   "source": [
    "# 3. Decision Tree :"
   ]
  },
  {
   "cell_type": "code",
   "execution_count": null,
   "metadata": {},
   "outputs": [],
   "source": []
  },
  {
   "cell_type": "markdown",
   "metadata": {},
   "source": [
    "# Test Model :"
   ]
  },
  {
   "cell_type": "code",
   "execution_count": 51,
   "metadata": {},
   "outputs": [
    {
     "name": "stdout",
     "output_type": "stream",
     "text": [
      "logisticregression :  53.20121951219512\n",
      "KNN                :  50.15243902439024\n",
      "Decision Tree      :  53.20121951219512\n",
      "Perceptron         :  53.20121951219512\n",
      "SVC                :  53.20121951219512\n",
      "Liniar SVC         :  53.20121951219512\n",
      "Random forest Clas :  53.20121951219512\n"
     ]
    }
   ],
   "source": [
    "path = r'C:\\Users\\AHBAR ABDELLAH\\Documents\\AI GUI\\4. Test Data\\Classification\\water_potability.csv'\n",
    "features = ['ph','Hardness','Solids','Chloramines','Conductivity','Organic_carbon','Trihalomethanes','Turbidity']\n",
    "target   = 'Potability'\n",
    "\n",
    "model,x_train,x_test,y_train,y_test = logisticregression(path,features,target)\n",
    "print('logisticregression : ',model.score(x_test,y_test)*100)\n",
    "\n",
    "model,x_train,x_test,y_train,y_test = KNN(path,features,target)\n",
    "print('KNN                : ',model.score(x_test,y_test)*100)\n",
    "\n",
    "model,x_train,x_test,y_train,y_test = logisticregression(path,features,target)\n",
    "print('Decision Tree      : ',model.score(x_test,y_test)*100)\n",
    "\n",
    "model,x_train,x_test,y_train,y_test = logisticregression(path,features,target)\n",
    "print('Perceptron         : ',model.score(x_test,y_test)*100)\n",
    "\n",
    "model,x_train,x_test,y_train,y_test = logisticregression(path,features,target)\n",
    "print('SVC                : ',model.score(x_test,y_test)*100)\n",
    "\n",
    "model,x_train,x_test,y_train,y_test = logisticregression(path,features,target)\n",
    "print('Liniar SVC         : ',model.score(x_test,y_test)*100)\n",
    "\n",
    "model,x_train,x_test,y_train,y_test = logisticregression(path,features,target)\n",
    "print('Random forest Clas : ',model.score(x_test,y_test)*100)"
   ]
  },
  {
   "cell_type": "code",
   "execution_count": 52,
   "metadata": {},
   "outputs": [
    {
     "name": "stdout",
     "output_type": "stream",
     "text": [
      "logisticregression :  33.4375\n",
      "KNN                :  40.9375\n",
      "Decision Tree      :  33.4375\n",
      "Perceptron         :  33.4375\n",
      "SVC                :  33.4375\n",
      "Liniar SVC         :  33.4375\n",
      "Random forest Clas :  33.4375\n"
     ]
    }
   ],
   "source": [
    "path = r'C:\\Users\\AHBAR ABDELLAH\\Documents\\AI GUI\\4. Test Data\\Classification\\winequality-red.csv'\n",
    "features = ['fixed acidity','volatile acidity','citric acid','residual sugar','chlorides','free sulfur dioxide','total sulfur dioxide','density','pH','sulphates','alcohol']\n",
    "target   = 'quality'\n",
    "\n",
    "model,x_train,x_test,y_train,y_test = logisticregression(path,features,target)\n",
    "print('logisticregression : ',model.score(x_test,y_test)*100)\n",
    "\n",
    "model,x_train,x_test,y_train,y_test = KNN(path,features,target)\n",
    "print('KNN                : ',model.score(x_test,y_test)*100)\n",
    "\n",
    "model,x_train,x_test,y_train,y_test = logisticregression(path,features,target)\n",
    "print('Decision Tree      : ',model.score(x_test,y_test)*100)\n",
    "\n",
    "model,x_train,x_test,y_train,y_test = logisticregression(path,features,target)\n",
    "print('Perceptron         : ',model.score(x_test,y_test)*100)\n",
    "\n",
    "model,x_train,x_test,y_train,y_test = logisticregression(path,features,target)\n",
    "print('SVC                : ',model.score(x_test,y_test)*100)\n",
    "\n",
    "model,x_train,x_test,y_train,y_test = logisticregression(path,features,target)\n",
    "print('Liniar SVC         : ',model.score(x_test,y_test)*100)\n",
    "\n",
    "model,x_train,x_test,y_train,y_test = logisticregression(path,features,target)\n",
    "print('Random forest Clas : ',model.score(x_test,y_test)*100)"
   ]
  },
  {
   "cell_type": "code",
   "execution_count": 53,
   "metadata": {},
   "outputs": [
    {
     "name": "stdout",
     "output_type": "stream",
     "text": [
      "logisticregression :  78.77094972067039\n",
      "KNN                :  78.77094972067039\n",
      "Decision Tree      :  78.77094972067039\n",
      "Perceptron         :  78.77094972067039\n",
      "SVC                :  78.77094972067039\n",
      "Liniar SVC         :  78.77094972067039\n",
      "Random forest Clas :  78.77094972067039\n"
     ]
    }
   ],
   "source": [
    "path = r'C:\\Users\\AHBAR ABDELLAH\\Documents\\AI GUI\\4. Test Data\\Classification\\titanic dataset.csv'\n",
    "features = ['Age','Pclass','Sex']\n",
    "target   = 'Survived'\n",
    "\n",
    "\n",
    "model,x_train,x_test,y_train,y_test = logisticregression(path,features,target)\n",
    "print('logisticregression : ',model.score(x_test,y_test)*100)\n",
    "\n",
    "model,x_train,x_test,y_train,y_test = KNN(path,features,target)\n",
    "print('KNN                : ',model.score(x_test,y_test)*100)\n",
    "\n",
    "model,x_train,x_test,y_train,y_test = logisticregression(path,features,target)\n",
    "print('Decision Tree      : ',model.score(x_test,y_test)*100)\n",
    "\n",
    "model,x_train,x_test,y_train,y_test = logisticregression(path,features,target)\n",
    "print('Perceptron         : ',model.score(x_test,y_test)*100)\n",
    "\n",
    "model,x_train,x_test,y_train,y_test = logisticregression(path,features,target)\n",
    "print('SVC                : ',model.score(x_test,y_test)*100)\n",
    "\n",
    "model,x_train,x_test,y_train,y_test = logisticregression(path,features,target)\n",
    "print('Liniar SVC         : ',model.score(x_test,y_test)*100)\n",
    "\n",
    "model,x_train,x_test,y_train,y_test = logisticregression(path,features,target)\n",
    "print('Random forest Clas : ',model.score(x_test,y_test)*100)"
   ]
  }
 ],
 "metadata": {
  "interpreter": {
   "hash": "389ffd08cd8f67d7583e8484d8aab18b6325c22913e45a1a941e1ef893cccb95"
  },
  "kernelspec": {
   "display_name": "Python 3.9.6 64-bit",
   "language": "python",
   "name": "python3"
  },
  "language_info": {
   "codemirror_mode": {
    "name": "ipython",
    "version": 3
   },
   "file_extension": ".py",
   "mimetype": "text/x-python",
   "name": "python",
   "nbconvert_exporter": "python",
   "pygments_lexer": "ipython3",
   "version": "3.10.1"
  },
  "orig_nbformat": 4
 },
 "nbformat": 4,
 "nbformat_minor": 2
}
