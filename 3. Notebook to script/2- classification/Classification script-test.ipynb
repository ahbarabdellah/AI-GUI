{
 "cells": [
  {
   "cell_type": "markdown",
   "metadata": {},
   "source": [
    "# 0. Utelities : "
   ]
  },
  {
   "cell_type": "code",
   "execution_count": 114,
   "metadata": {},
   "outputs": [],
   "source": [
    "# !pip install imblearn\n",
    "# !pip install seaborn"
   ]
  },
  {
   "cell_type": "code",
   "execution_count": 115,
   "metadata": {},
   "outputs": [],
   "source": [
    "import numpy as np \n",
    "import pandas as pd \n",
    "from sklearn.preprocessing import LabelEncoder \n",
    "\n",
    "def NullClearner(df):\n",
    "    if(isinstance(df, pd.Series) and (df.dtype in [\"float64\",\"int64\"])):\n",
    "        df.fillna(df.mean(),inplace=True)\n",
    "        return df\n",
    "    elif(isinstance(df, pd.Series)):\n",
    "        df.fillna(df.mode()[0],inplace=True)\n",
    "        return df\n",
    "    else:return df\n",
    "    \n",
    "    \n",
    "def EncodeX(df):\n",
    "    return pd.get_dummies(df)\n",
    "\n",
    "    \n",
    "def EncodeY(df):\n",
    "    if len(df.unique())<=2:\n",
    "        return df\n",
    "    else:\n",
    "        un_EncodedT=np.sort(pd.unique(df), axis=-1, kind='mergesort')\n",
    "        df=LabelEncoder().fit_transform(df)\n",
    "        EncodedT=[xi for xi in range(len(un_EncodedT))]\n",
    "        # print(\"Encoded Target: {} to {}\".format(un_EncodedT,EncodedT))\n",
    "        return df"
   ]
  },
  {
   "cell_type": "markdown",
   "metadata": {},
   "source": [
    "# 1. Logistique Regression :"
   ]
  },
  {
   "cell_type": "code",
   "execution_count": 116,
   "metadata": {},
   "outputs": [],
   "source": [
    "import warnings \n",
    "import numpy as np \n",
    "import pandas as pd \n",
    "import matplotlib.pyplot as plt \n",
    "import seaborn as se \n",
    "from imblearn.over_sampling import RandomOverSampler\n",
    "from sklearn.preprocessing import LabelEncoder \n",
    "from sklearn.model_selection import train_test_split \n",
    "from sklearn.linear_model import LogisticRegression\n",
    "from sklearn.metrics import classification_report,plot_confusion_matrix\n",
    "warnings.filterwarnings('ignore')\n",
    "\n",
    "def logisticregression(path,features,target):\n",
    "    file_path=path\n",
    "    df=pd.read_csv(file_path)\n",
    "    #df.index= df.columns.to_list()\n",
    "    X = df[features]\n",
    "    Y = df[target]\n",
    "    x=X.columns.to_list()\n",
    "    for i in x:\n",
    "        X[i]=NullClearner(X[i])  \n",
    "    X=EncodeX(X)\n",
    "    Y=EncodeY(NullClearner(Y))\n",
    "    x_train,x_test,y_train,y_test=train_test_split(X,Y,test_size=0.2,random_state=123)\n",
    "    x_train,y_train = RandomOverSampler(random_state=123).fit_resample(x_train, y_train)\n",
    "        # Build Model here\n",
    "    model = LogisticRegression(random_state = 123,n_jobs = -1)\n",
    "    model.fit(x_train, y_train)\n",
    "    return model,x_train,x_test,y_train,y_test\n"
   ]
  },
  {
   "cell_type": "markdown",
   "metadata": {},
   "source": [
    "# 2. KNN (KNeighborsClassifier) :"
   ]
  },
  {
   "cell_type": "code",
   "execution_count": 117,
   "metadata": {},
   "outputs": [],
   "source": [
    "import warnings\n",
    "import numpy as np\n",
    "import pandas as pd\n",
    "import seaborn as se\n",
    "import matplotlib.pyplot as plt\n",
    "from sklearn.model_selection import train_test_split\n",
    "from sklearn.neighbors import KNeighborsClassifier\n",
    "from imblearn.over_sampling import RandomOverSampler\n",
    "from sklearn.preprocessing import LabelEncoder\n",
    "from sklearn.metrics import classification_report,plot_confusion_matrix\n",
    "warnings.filterwarnings('ignore')\n",
    "\n",
    "def KNN(file_path,features ,target   ):\n",
    "    df=pd.read_csv(file_path)\n",
    "    X=df[features]\n",
    "    Y=df[target]\n",
    "    x=X.columns.to_list()\n",
    "    for i in x:\n",
    "        X[i]=NullClearner(X[i])\n",
    "    X=EncodeX(X)\n",
    "    Y=EncodeY(NullClearner(Y))\n",
    "    x_train,x_test,y_train,y_test=train_test_split(X,Y,test_size=0.2,random_state=123)\n",
    "    x_train,y_train = RandomOverSampler(random_state=123).fit_resample(x_train, y_train)\n",
    "    model=KNeighborsClassifier(n_jobs=-1)\n",
    "    model.fit(x_train,y_train)\n",
    "    return model,x_train,x_test,y_train,y_test"
   ]
  },
  {
   "cell_type": "markdown",
   "metadata": {},
   "source": [
    "# 3. Decision Tree :"
   ]
  },
  {
   "cell_type": "code",
   "execution_count": 118,
   "metadata": {},
   "outputs": [],
   "source": [
    "import numpy as np\n",
    "import pandas as pd\n",
    "import seaborn as se\n",
    "import warnings\n",
    "import matplotlib.pyplot as plt\n",
    "from sklearn.model_selection import train_test_split\n",
    "from imblearn.over_sampling import RandomOverSampler\n",
    "from sklearn.tree import DecisionTreeClassifier,plot_tree\n",
    "from sklearn.preprocessing import LabelEncoder\n",
    "from sklearn.metrics import classification_report,plot_confusion_matrix\n",
    "warnings.filterwarnings('ignore')\n",
    "def DecisionTree(file_path,features,target):\n",
    "    df=pd.read_csv(file_path)\n",
    "    X=df[features]\n",
    "    Y=df[target]\n",
    "    x=X.columns.to_list()\n",
    "    for i in x:\n",
    "        X[i]=NullClearner(X[i])  \n",
    "    X=EncodeX(X)\n",
    "    Y=EncodeY(NullClearner(Y))\n",
    "    x_train,x_test,y_train,y_test=train_test_split(X,Y,test_size=0.2,random_state=123)\n",
    "    x_train,y_train = RandomOverSampler(random_state=123).fit_resample(x_train, y_train)\n",
    "    model = DecisionTreeClassifier(random_state=123)\n",
    "    model.fit(x_train,y_train)\n",
    "    return model,x_train,x_test,y_train,y_test"
   ]
  },
  {
   "cell_type": "markdown",
   "metadata": {},
   "source": [
    "# 4. Perceptron :"
   ]
  },
  {
   "cell_type": "code",
   "execution_count": 119,
   "metadata": {},
   "outputs": [],
   "source": [
    "import warnings \n",
    "import numpy as np\n",
    "import pandas as pd \n",
    "import matplotlib.pyplot as plt \n",
    "import seaborn as se \n",
    "from imblearn.over_sampling import RandomOverSampler\n",
    "from sklearn.preprocessing import LabelEncoder \n",
    "from sklearn.model_selection import train_test_split \n",
    "from sklearn.linear_model import Perceptron\n",
    "from sklearn.metrics import classification_report,plot_confusion_matrix\n",
    "warnings.filterwarnings('ignore')\n",
    "\n",
    "def perseptron(path,features,target):\n",
    "    df=pd.read_csv(path)\n",
    "    X = df[features]\n",
    "    Y = df[target]\n",
    "    x=X.columns.to_list()\n",
    "    for i in x:\n",
    "        X[i]=NullClearner(X[i])  \n",
    "    X=EncodeX(X)\n",
    "    Y=EncodeY(NullClearner(Y))\n",
    "    x_train,x_test,y_train,y_test=train_test_split(X,Y,test_size=0.2,random_state=123)\n",
    "    x_train,y_train = RandomOverSampler(random_state=123).fit_resample(x_train, y_train)\n",
    "    model = Perceptron(random_state=123)\n",
    "    model.fit(x_train, y_train)\n",
    "    return model,x_train,x_test,y_train,y_test"
   ]
  },
  {
   "cell_type": "markdown",
   "metadata": {},
   "source": [
    "# 5. SVC :"
   ]
  },
  {
   "cell_type": "code",
   "execution_count": 120,
   "metadata": {},
   "outputs": [],
   "source": [
    "import warnings\n",
    "import numpy as np\n",
    "import pandas as pd\n",
    "import seaborn as se\n",
    "import matplotlib.pyplot as plt\n",
    "from sklearn.svm import SVC\n",
    "from sklearn.model_selection import train_test_split\n",
    "from imblearn.over_sampling import RandomOverSampler\n",
    "from sklearn.preprocessing import LabelEncoder\n",
    "from sklearn.metrics import classification_report,plot_confusion_matrix\n",
    "warnings.filterwarnings('ignore')\n",
    "\n",
    "def scv(path,features,target):\n",
    "    df = pd.read_csv(path)\n",
    "    X = df[features]\n",
    "    Y = df[target]\n",
    "    x = X.columns.to_list()\n",
    "    for i in x :\n",
    "        X[i] = NullClearner(X[i])\n",
    "    X = EncodeX(X)\n",
    "    Y = EncodeY(NullClearner(Y))\n",
    "    x_train,x_test,y_train,y_test = train_test_split(X,Y,test_size=0.20,random_state=123)\n",
    "    x_train,y_train = RandomOverSampler(random_state=123).fit_resample(x_train,y_train)\n",
    "    model = SVC(random_state = 123)\n",
    "    model.fit(x_train,y_train)\n",
    "    return model, x_train,x_test,y_train,y_test"
   ]
  },
  {
   "cell_type": "markdown",
   "metadata": {},
   "source": [
    "# 6. Liniar SVC:"
   ]
  },
  {
   "cell_type": "code",
   "execution_count": 121,
   "metadata": {},
   "outputs": [],
   "source": [
    "import numpy as np\n",
    "import pandas as pd\n",
    "import matplotlib.pyplot as plt\n",
    "import seaborn as se\n",
    "import warnings\n",
    "from sklearn.model_selection import train_test_split\n",
    "from imblearn.over_sampling import RandomOverSampler\n",
    "from sklearn.svm import LinearSVC\n",
    "from sklearn.preprocessing import LabelEncoder\n",
    "from sklearn.metrics import classification_report,plot_confusion_matrix\n",
    "warnings.filterwarnings('ignore')\n",
    "\n",
    "def LiniarSvc(path,features,target):\n",
    "    df = pd.read_csv(path)\n",
    "    X = df[features]\n",
    "    Y = df[target]\n",
    "    x=X.columns.to_list()\n",
    "    for i in x:\n",
    "        X[i]=NullClearner(X[i])\n",
    "    X=EncodeX(X)\n",
    "    Y=EncodeY(NullClearner(Y))\n",
    "    x_train,x_test,y_train,y_test=train_test_split(X,Y,test_size=0.2,random_state=123)\n",
    "    x_train,y_train = RandomOverSampler(random_state=123).fit_resample(x_train, y_train)\n",
    "    model=LinearSVC(random_state=123)\n",
    "    model.fit(x_train,y_train)\n",
    "    return model,x_train,x_test,y_train,y_test"
   ]
  },
  {
   "cell_type": "markdown",
   "metadata": {},
   "source": [
    "# 7. Random forest Classifier :"
   ]
  },
  {
   "cell_type": "code",
   "execution_count": 122,
   "metadata": {},
   "outputs": [],
   "source": [
    "import warnings\n",
    "import numpy as np \n",
    "import pandas as pd \n",
    "import seaborn as se \n",
    "import matplotlib.pyplot as plt \n",
    "from sklearn.preprocessing import LabelEncoder\n",
    "from sklearn.model_selection import train_test_split \n",
    "from sklearn.ensemble import RandomForestClassifier \n",
    "from sklearn.metrics import classification_report,plot_confusion_matrix\n",
    "warnings.filterwarnings('ignore')\n",
    "\n",
    "def rfc(path , features, target):\n",
    "    df = pd.read_csv(path)\n",
    "    X = df[features]\n",
    "    Y = df[target]\n",
    "    x=X.columns.to_list()\n",
    "    for i in x:\n",
    "        X[i]=NullClearner(X[i])\n",
    "    X=EncodeX(X)\n",
    "    Y=EncodeY(NullClearner(Y))\n",
    "    X_train, X_test, y_train, y_test = train_test_split(X, Y, test_size = 0.2, random_state = 123)#performing datasplitting\n",
    "    # Build Model here\n",
    "    model = RandomForestClassifier(n_jobs = -1,random_state = 123)\n",
    "    model.fit(X_train, y_train)\n",
    "    return model,x_train,x_test,y_train,y_test\n"
   ]
  },
  {
   "cell_type": "markdown",
   "metadata": {},
   "source": [
    "# Test Model :"
   ]
  },
  {
   "cell_type": "code",
   "execution_count": 123,
   "metadata": {},
   "outputs": [
    {
     "name": "stdout",
     "output_type": "stream",
     "text": [
      "logisticregression :  53.20121951219512\n",
      "KNN                :  50.15243902439024\n",
      "Decision Tree      :  53.65853658536586\n",
      "Perceptron         :  39.9390243902439\n",
      "SVC                :  56.25\n",
      "Liniar SVC         :  41.46341463414634\n",
      "Random forest Clas :  62.80487804878049\n"
     ]
    }
   ],
   "source": [
    "path = r'C:\\Users\\AHBAR ABDELLAH\\Documents\\AI GUI\\4. Test Data\\Classification\\water_potability.csv'\n",
    "features = ['ph','Hardness','Solids','Chloramines','Conductivity','Organic_carbon','Trihalomethanes','Turbidity']\n",
    "target   = 'Potability'\n",
    "\n",
    "model,x_train,x_test,y_train,y_test = logisticregression(path,features,target)\n",
    "print('logisticregression : ',model.score(x_test,y_test)*100)\n",
    "\n",
    "model,x_train,x_test,y_train,y_test = KNN(path,features,target)\n",
    "print('KNN                : ',model.score(x_test,y_test)*100)\n",
    "\n",
    "model,x_train,x_test,y_train,y_test = DecisionTree(path,features,target)\n",
    "print('Decision Tree      : ',model.score(x_test,y_test)*100)\n",
    "\n",
    "model,x_train,x_test,y_train,y_test = perseptron(path,features,target)\n",
    "print('Perceptron         : ',model.score(x_test,y_test)*100)\n",
    "\n",
    "model,x_train,x_test,y_train,y_test = scv(path,features,target)\n",
    "print('SVC                : ',model.score(x_test,y_test)*100)\n",
    "\n",
    "model,x_train,x_test,y_train,y_test = LiniarSvc(path,features,target)\n",
    "print('Liniar SVC         : ',model.score(x_test,y_test)*100)\n",
    "\n",
    "model,x_train,x_test,y_train,y_test = rfc(path,features,target)\n",
    "print('Random forest Clas : ',model.score(x_test,y_test)*100)"
   ]
  },
  {
   "cell_type": "code",
   "execution_count": 124,
   "metadata": {},
   "outputs": [
    {
     "name": "stdout",
     "output_type": "stream",
     "text": [
      "logisticregression :  33.4375\n",
      "KNN                :  40.9375\n",
      "Decision Tree      :  57.1875\n",
      "Perceptron         :  7.187499999999999\n",
      "SVC                :  30.312499999999996\n",
      "Liniar SVC         :  11.25\n",
      "Random forest Clas :  65.9375\n"
     ]
    }
   ],
   "source": [
    "path = r'C:\\Users\\AHBAR ABDELLAH\\Documents\\AI GUI\\4. Test Data\\Classification\\winequality-red.csv'\n",
    "features = ['fixed acidity','volatile acidity','citric acid','residual sugar','chlorides','free sulfur dioxide','total sulfur dioxide','density','pH','sulphates','alcohol']\n",
    "target   = 'quality'\n",
    "\n",
    "model,x_train,x_test,y_train,y_test = logisticregression(path,features,target)\n",
    "print('logisticregression : ',model.score(x_test,y_test)*100)\n",
    "\n",
    "model,x_train,x_test,y_train,y_test = KNN(path,features,target)\n",
    "print('KNN                : ',model.score(x_test,y_test)*100)\n",
    "\n",
    "model,x_train,x_test,y_train,y_test = DecisionTree(path,features,target)\n",
    "print('Decision Tree      : ',model.score(x_test,y_test)*100)\n",
    "\n",
    "model,x_train,x_test,y_train,y_test = perseptron(path,features,target)\n",
    "print('Perceptron         : ',model.score(x_test,y_test)*100)\n",
    "\n",
    "model,x_train,x_test,y_train,y_test = scv(path,features,target)\n",
    "print('SVC                : ',model.score(x_test,y_test)*100)\n",
    "\n",
    "model,x_train,x_test,y_train,y_test = LiniarSvc(path,features,target)\n",
    "print('Liniar SVC         : ',model.score(x_test,y_test)*100)\n",
    "\n",
    "model,x_train,x_test,y_train,y_test = rfc(path,features,target)\n",
    "print('Random forest Clas : ',model.score(x_test,y_test)*100)"
   ]
  },
  {
   "cell_type": "code",
   "execution_count": 125,
   "metadata": {},
   "outputs": [
    {
     "name": "stdout",
     "output_type": "stream",
     "text": [
      "logisticregression :  78.77094972067039\n",
      "KNN                :  78.77094972067039\n",
      "Decision Tree      :  84.35754189944134\n",
      "Perceptron         :  80.44692737430168\n",
      "SVC                :  81.56424581005587\n",
      "Liniar SVC         :  80.44692737430168\n",
      "Random forest Clas :  82.12290502793296\n"
     ]
    }
   ],
   "source": [
    "path = r'C:\\Users\\AHBAR ABDELLAH\\Documents\\AI GUI\\4. Test Data\\Classification\\titanic dataset.csv'\n",
    "features = ['Age','Pclass','Sex']\n",
    "target   = 'Survived'\n",
    "\n",
    "\n",
    "model,x_train,x_test,y_train,y_test = logisticregression(path,features,target)\n",
    "print('logisticregression : ',model.score(x_test,y_test)*100)\n",
    "\n",
    "model,x_train,x_test,y_train,y_test = KNN(path,features,target)\n",
    "print('KNN                : ',model.score(x_test,y_test)*100)\n",
    "\n",
    "model,x_train,x_test,y_train,y_test = DecisionTree(path,features,target)\n",
    "print('Decision Tree      : ',model.score(x_test,y_test)*100)\n",
    "\n",
    "model,x_train,x_test,y_train,y_test = perseptron(path,features,target)\n",
    "print('Perceptron         : ',model.score(x_test,y_test)*100)\n",
    "\n",
    "model,x_train,x_test,y_train,y_test = scv(path,features,target)\n",
    "print('SVC                : ',model.score(x_test,y_test)*100)\n",
    "\n",
    "model,x_train,x_test,y_train,y_test = LiniarSvc(path,features,target)\n",
    "print('Liniar SVC         : ',model.score(x_test,y_test)*100)\n",
    "\n",
    "model,x_train,x_test,y_train,y_test = rfc(path,features,target)\n",
    "print('Random forest Clas : ',model.score(x_test,y_test)*100)"
   ]
  }
 ],
 "metadata": {
  "interpreter": {
   "hash": "389ffd08cd8f67d7583e8484d8aab18b6325c22913e45a1a941e1ef893cccb95"
  },
  "kernelspec": {
   "display_name": "Python 3.9.6 64-bit",
   "language": "python",
   "name": "python3"
  },
  "language_info": {
   "codemirror_mode": {
    "name": "ipython",
    "version": 3
   },
   "file_extension": ".py",
   "mimetype": "text/x-python",
   "name": "python",
   "nbconvert_exporter": "python",
   "pygments_lexer": "ipython3",
   "version": "3.10.1"
  },
  "orig_nbformat": 4
 },
 "nbformat": 4,
 "nbformat_minor": 2
}
