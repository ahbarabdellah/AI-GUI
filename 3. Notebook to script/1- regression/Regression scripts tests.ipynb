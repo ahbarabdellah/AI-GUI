{
 "cells": [
  {
   "cell_type": "markdown",
   "metadata": {},
   "source": [
    "## Utilities"
   ]
  },
  {
   "cell_type": "code",
   "execution_count": 1,
   "metadata": {},
   "outputs": [],
   "source": [
    "import numpy as np \n",
    "import pandas as pd \n",
    "from sklearn.preprocessing import LabelEncoder \n",
    "\n",
    "def NullClearner(df):\n",
    "    if(isinstance(df, pd.Series) and (df.dtype in [\"float64\",\"int64\"])):\n",
    "        df.fillna(df.mean(),inplace=True)\n",
    "        return df\n",
    "    elif(isinstance(df, pd.Series)):\n",
    "        df.fillna(df.mode()[0],inplace=True)\n",
    "        return df\n",
    "    else:return df\n",
    "    \n",
    "    \n",
    "def EncodeX(df):\n",
    "    return pd.get_dummies(df)\n",
    "\n",
    "def EncodeY(df):\n",
    "    if len(df.unique())<=2:\n",
    "        return df\n",
    "    else:\n",
    "        un_EncodedT=np.sort(pd.unique(df), axis=-1, kind='mergesort')\n",
    "        df=LabelEncoder().fit_transform(df)\n",
    "        EncodedT=[xi for xi in range(len(un_EncodedT))]\n",
    "        print(\"Encoded Target: {} to {}\".format(un_EncodedT,EncodedT))\n",
    "        return df"
   ]
  },
  {
   "cell_type": "markdown",
   "metadata": {},
   "source": [
    "## Linear Regression"
   ]
  },
  {
   "cell_type": "code",
   "execution_count": 3,
   "metadata": {},
   "outputs": [],
   "source": [
    "import warnings\n",
    "import numpy as np \n",
    "import pandas as pd \n",
    "import seaborn as se \n",
    "import matplotlib.pyplot as plt \n",
    "from sklearn.preprocessing import LabelEncoder\n",
    "from sklearn.model_selection import train_test_split \n",
    "from sklearn.metrics import r2_score, mean_absolute_error, mean_squared_error \n",
    "from sklearn.linear_model import LinearRegression\n",
    "warnings.filterwarnings('ignore')\n",
    "\n",
    "\n",
    "def linearregression(path,features,target):\n",
    "    \n",
    "    # -- Data Preprocessing --\n",
    "    df=pd.read_csv(path)\n",
    "    X=df[features]\n",
    "    Y=df[target]\n",
    "\n",
    "    # -- Calling preprocessing functions on the feature and target set. --\n",
    "    x=X.columns.to_list()\n",
    "    for i in x:\n",
    "        X[i]=NullClearner(X[i])\n",
    "    X=EncodeX(X)\n",
    "    Y=NullClearner(Y)\n",
    "\n",
    "    # -- Splitting the dataset into the Training set and Test set --\n",
    "    x_train,x_test,y_train,y_test=train_test_split(X,Y,test_size=0.2,random_state=123)\n",
    "\n",
    "    # -- Fitting Linear Regression to the Training set --\n",
    "    model=LinearRegression()\n",
    "    model.fit(x_train,y_train)\n",
    "\n",
    "    # -- Predicting the Test set results --\n",
    "    y_pred=model.predict(x_test)\n",
    "\n",
    "    # -- evalution metric between (y_test,y_pred) --\n",
    "    score1 = model.score(x_test,y_test)*100    #r2_score\n",
    "    score2 = mean_absolute_error(y_test,y_pred) #r2_score\n",
    "    score3 = mean_squared_error(y_test,y_pred)\n",
    "\n",
    "    return score1, score2, score3, model"
   ]
  },
  {
   "cell_type": "code",
   "execution_count": 13,
   "metadata": {},
   "outputs": [],
   "source": [
    "path=\"../../4. Test Data/Regression/House prices/House prices.csv\"\n",
    "features=['MSSubClass','MSZoning','LotFrontage','LotArea','Street','Neighborhood','HouseStyle','YearBuilt','RoofStyle','Foundation','BedroomAbvGr','Functional','Fireplaces','GarageType','GarageYrBlt','GarageFinish','GarageCars','GarageArea','GarageQual','GarageCond','PoolArea','PoolQC']\n",
    "target='SalePrice'"
   ]
  },
  {
   "cell_type": "code",
   "execution_count": 14,
   "metadata": {},
   "outputs": [],
   "source": [
    "a,b,c,d=linearregression(path,features,target)"
   ]
  },
  {
   "cell_type": "code",
   "execution_count": 15,
   "metadata": {},
   "outputs": [
    {
     "name": "stdout",
     "output_type": "stream",
     "text": [
      "71.62702092769365 27688.62454641361 1753340866.4791856\n"
     ]
    }
   ],
   "source": [
    "print(a,b,c)"
   ]
  },
  {
   "cell_type": "code",
   "execution_count": null,
   "metadata": {},
   "outputs": [],
   "source": []
  }
 ],
 "metadata": {
  "interpreter": {
   "hash": "08b64dc7e9099eac269fb18b5d824c195a782a2ed4ec34aad5d0bbbc3d697e62"
  },
  "kernelspec": {
   "display_name": "Python 3.8.8 64-bit",
   "language": "python",
   "name": "python3"
  },
  "language_info": {
   "codemirror_mode": {
    "name": "ipython",
    "version": 3
   },
   "file_extension": ".py",
   "mimetype": "text/x-python",
   "name": "python",
   "nbconvert_exporter": "python",
   "pygments_lexer": "ipython3",
   "version": "3.8.8"
  },
  "orig_nbformat": 4
 },
 "nbformat": 4,
 "nbformat_minor": 2
}
