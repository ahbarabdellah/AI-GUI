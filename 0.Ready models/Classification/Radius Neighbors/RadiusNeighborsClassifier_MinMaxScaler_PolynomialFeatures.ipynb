{
  "nbformat": 4,
  "nbformat_minor": 0,
  "metadata": {
    "kernelspec": {
      "display_name": "Python 3",
      "language": "python",
      "name": "python3"
    },
    "language_info": {
      "codemirror_mode": {
        "name": "ipython",
        "version": 3
      },
      "file_extension": ".py",
      "mimetype": "text/x-python",
      "name": "python",
      "nbconvert_exporter": "python",
      "pygments_lexer": "ipython3",
      "version": "3.8.3"
    },
    "colab": {
      "name": "RadiusNeighborsClassifier_MinMaxScaler_PolynomialFeatures.ipynb",
      "provenance": []
    }
  },
  "cells": [
    {
      "cell_type": "markdown",
      "metadata": {
        "id": "UZcM9OUWn9UL"
      },
      "source": [
        "# RadiusNeighborsClassifier with MinMaxScaler & Polynomial Features"
      ]
    },
    {
      "cell_type": "markdown",
      "metadata": {
        "id": "kkBBu5jOn9UN"
      },
      "source": [
        "This Code template is for the Classification task using a simple Radius Neighbor Classifier using MinMax Scaler with pipeline and Polynomial Feature Transformation. It implements learning based on the number of neighbors within a fixed radius r of each training point, where r is a floating-point value specified by the user. "
      ]
    },
    {
      "cell_type": "markdown",
      "metadata": {
        "id": "sV-wW21on9UO"
      },
      "source": [
        "## Required Packages"
      ]
    },
    {
      "cell_type": "code",
      "metadata": {
        "id": "ub8SkpTMn9UO"
      },
      "source": [
        "!pip install imblearn"
      ],
      "execution_count": null,
      "outputs": []
    },
    {
      "cell_type": "code",
      "metadata": {
        "id": "P9p65l2on9UP"
      },
      "source": [
        "import numpy as np\n",
        "import pandas as pd\n",
        "import seaborn as se\n",
        "import warnings\n",
        "import matplotlib.pyplot as plt\n",
        "from sklearn.model_selection import train_test_split\n",
        "from sklearn.neighbors import RadiusNeighborsClassifier\n",
        "from imblearn.over_sampling import RandomOverSampler\n",
        "from sklearn.pipeline import make_pipeline\n",
        "from sklearn.preprocessing import LabelEncoder, MinMaxScaler, PolynomialFeatures \n",
        "from sklearn.metrics import classification_report,plot_confusion_matrix\n",
        "warnings.filterwarnings('ignore')"
      ],
      "execution_count": null,
      "outputs": []
    },
    {
      "cell_type": "markdown",
      "metadata": {
        "id": "gZ4zLaQwn9UP"
      },
      "source": [
        "## Initialization\n",
        "\n",
        "Filepath of CSV file"
      ]
    },
    {
      "cell_type": "code",
      "metadata": {
        "id": "UgKSOoBin9UQ"
      },
      "source": [
        "#filepath\n",
        "file_path= \"\""
      ],
      "execution_count": 2,
      "outputs": []
    },
    {
      "cell_type": "markdown",
      "metadata": {
        "id": "OnrRQqGmn9UR"
      },
      "source": [
        "List of features which are required for model training "
      ]
    },
    {
      "cell_type": "code",
      "metadata": {
        "id": "1vX2W3Bbn9UR"
      },
      "source": [
        "#x_values\n",
        "features=[]"
      ],
      "execution_count": 3,
      "outputs": []
    },
    {
      "cell_type": "markdown",
      "metadata": {
        "id": "ypjIdVmWn9US"
      },
      "source": [
        "Target feature for prediction"
      ]
    },
    {
      "cell_type": "code",
      "metadata": {
        "id": "IBQ_0BcMn9US"
      },
      "source": [
        "#y_value\n",
        "target=''"
      ],
      "execution_count": 4,
      "outputs": []
    },
    {
      "cell_type": "markdown",
      "metadata": {
        "id": "DEi4M31fn9UT"
      },
      "source": [
        "## Data Fetching\n",
        "\n",
        "Pandas is an open-source, BSD-licensed library providing high-performance, easy-to-use data manipulation and data analysis tools.\n",
        "\n",
        "We will use panda's library to read the CSV file using its storage path.And we use the head function to display the initial row or entry."
      ]
    },
    {
      "cell_type": "code",
      "metadata": {
        "colab": {
          "base_uri": "https://localhost:8080/",
          "height": 203
        },
        "id": "etwU7FtSn9UV",
        "outputId": "d4801563-ac8c-4e1a-f6d9-a2f6d9a0b88a"
      },
      "source": [
        "df=pd.read_csv(file_path)\n",
        "df.head()"
      ],
      "execution_count": 5,
      "outputs": [
        {
          "output_type": "execute_result",
          "data": {
            "text/html": [
              "<div>\n",
              "<style scoped>\n",
              "    .dataframe tbody tr th:only-of-type {\n",
              "        vertical-align: middle;\n",
              "    }\n",
              "\n",
              "    .dataframe tbody tr th {\n",
              "        vertical-align: top;\n",
              "    }\n",
              "\n",
              "    .dataframe thead th {\n",
              "        text-align: right;\n",
              "    }\n",
              "</style>\n",
              "<table border=\"1\" class=\"dataframe\">\n",
              "  <thead>\n",
              "    <tr style=\"text-align: right;\">\n",
              "      <th></th>\n",
              "      <th>Age</th>\n",
              "      <th>Sex</th>\n",
              "      <th>BP</th>\n",
              "      <th>Cholesterol</th>\n",
              "      <th>Na_to_K</th>\n",
              "      <th>Drug</th>\n",
              "    </tr>\n",
              "  </thead>\n",
              "  <tbody>\n",
              "    <tr>\n",
              "      <th>0</th>\n",
              "      <td>23</td>\n",
              "      <td>F</td>\n",
              "      <td>HIGH</td>\n",
              "      <td>HIGH</td>\n",
              "      <td>25.355</td>\n",
              "      <td>DrugY</td>\n",
              "    </tr>\n",
              "    <tr>\n",
              "      <th>1</th>\n",
              "      <td>47</td>\n",
              "      <td>M</td>\n",
              "      <td>LOW</td>\n",
              "      <td>HIGH</td>\n",
              "      <td>13.093</td>\n",
              "      <td>drugC</td>\n",
              "    </tr>\n",
              "    <tr>\n",
              "      <th>2</th>\n",
              "      <td>47</td>\n",
              "      <td>M</td>\n",
              "      <td>LOW</td>\n",
              "      <td>HIGH</td>\n",
              "      <td>10.114</td>\n",
              "      <td>drugC</td>\n",
              "    </tr>\n",
              "    <tr>\n",
              "      <th>3</th>\n",
              "      <td>28</td>\n",
              "      <td>F</td>\n",
              "      <td>NORMAL</td>\n",
              "      <td>HIGH</td>\n",
              "      <td>7.798</td>\n",
              "      <td>drugX</td>\n",
              "    </tr>\n",
              "    <tr>\n",
              "      <th>4</th>\n",
              "      <td>61</td>\n",
              "      <td>F</td>\n",
              "      <td>LOW</td>\n",
              "      <td>HIGH</td>\n",
              "      <td>18.043</td>\n",
              "      <td>DrugY</td>\n",
              "    </tr>\n",
              "  </tbody>\n",
              "</table>\n",
              "</div>"
            ],
            "text/plain": [
              "   Age Sex      BP Cholesterol  Na_to_K   Drug\n",
              "0   23   F    HIGH        HIGH   25.355  DrugY\n",
              "1   47   M     LOW        HIGH   13.093  drugC\n",
              "2   47   M     LOW        HIGH   10.114  drugC\n",
              "3   28   F  NORMAL        HIGH    7.798  drugX\n",
              "4   61   F     LOW        HIGH   18.043  DrugY"
            ]
          },
          "metadata": {},
          "execution_count": 5
        }
      ]
    },
    {
      "cell_type": "markdown",
      "metadata": {
        "id": "zD1h5Fa5n9UV"
      },
      "source": [
        "## Feature Selections\n",
        "\n",
        "It is the process of reducing the number of input variables when developing a predictive model. Used to reduce the number of input variables to both reduce the computational cost of modelling and, in some cases, to improve the performance of the model.\n",
        "\n",
        "We will assign all the required input features to X and target/outcome to Y."
      ]
    },
    {
      "cell_type": "code",
      "metadata": {
        "id": "oG_XMBiRn9UW"
      },
      "source": [
        "X=df[features]\n",
        "Y=df[target]"
      ],
      "execution_count": 6,
      "outputs": []
    },
    {
      "cell_type": "markdown",
      "metadata": {
        "id": "ZiiEIb_4n9UW"
      },
      "source": [
        "## Data Preprocessing\n",
        "\n",
        "Since the majority of the machine learning models in the Sklearn library doesn't handle string category data and Null value, we have to explicitly remove or replace null values. The below snippet have functions, which removes the null value if any exists. And convert the string classes data in the datasets by encoding them to integer classes"
      ]
    },
    {
      "cell_type": "code",
      "metadata": {
        "id": "zLKbvBqjn9UW"
      },
      "source": [
        "def NullClearner(df):\n",
        "    if(isinstance(df, pd.Series) and (df.dtype in [\"float64\",\"int64\"])):\n",
        "        df.fillna(df.mean(),inplace=True)\n",
        "        return df\n",
        "    elif(isinstance(df, pd.Series)):\n",
        "        df.fillna(df.mode()[0],inplace=True)\n",
        "        return df\n",
        "    else:return df\n",
        "def EncodeX(df):\n",
        "    return pd.get_dummies(df)\n",
        "def EncodeY(df):\n",
        "    if len(df.unique())<=2:\n",
        "        return df\n",
        "    else:\n",
        "        un_EncodedT=np.sort(pd.unique(df), axis=-1, kind='mergesort')\n",
        "        df=LabelEncoder().fit_transform(df)\n",
        "        EncodedT=[xi for xi in range(len(un_EncodedT))]\n",
        "        print(\"Encoded Target: {} to {}\".format(un_EncodedT,EncodedT))\n",
        "        return df"
      ],
      "execution_count": 7,
      "outputs": []
    },
    {
      "cell_type": "markdown",
      "metadata": {
        "id": "fyDXl00Xn9UW"
      },
      "source": [
        "Calling preprocessing functions on the feature and target set."
      ]
    },
    {
      "cell_type": "code",
      "metadata": {
        "colab": {
          "base_uri": "https://localhost:8080/",
          "height": 220
        },
        "id": "1kofl-esn9UW",
        "outputId": "5c788db5-b529-4bba-941c-e5513538a5d1"
      },
      "source": [
        "x=X.columns.to_list()\n",
        "for i in x:\n",
        "    X[i]=NullClearner(X[i])\n",
        "X=EncodeX(X)\n",
        "Y=EncodeY(NullClearner(Y))\n",
        "X.head()"
      ],
      "execution_count": 8,
      "outputs": [
        {
          "output_type": "stream",
          "text": [
            "Encoded Target: ['DrugY' 'drugA' 'drugB' 'drugC' 'drugX'] to [0, 1, 2, 3, 4]\n"
          ],
          "name": "stdout"
        },
        {
          "output_type": "execute_result",
          "data": {
            "text/html": [
              "<div>\n",
              "<style scoped>\n",
              "    .dataframe tbody tr th:only-of-type {\n",
              "        vertical-align: middle;\n",
              "    }\n",
              "\n",
              "    .dataframe tbody tr th {\n",
              "        vertical-align: top;\n",
              "    }\n",
              "\n",
              "    .dataframe thead th {\n",
              "        text-align: right;\n",
              "    }\n",
              "</style>\n",
              "<table border=\"1\" class=\"dataframe\">\n",
              "  <thead>\n",
              "    <tr style=\"text-align: right;\">\n",
              "      <th></th>\n",
              "      <th>Age</th>\n",
              "      <th>Na_to_K</th>\n",
              "      <th>Sex_F</th>\n",
              "      <th>Sex_M</th>\n",
              "      <th>BP_HIGH</th>\n",
              "      <th>BP_LOW</th>\n",
              "      <th>BP_NORMAL</th>\n",
              "      <th>Cholesterol_HIGH</th>\n",
              "      <th>Cholesterol_NORMAL</th>\n",
              "    </tr>\n",
              "  </thead>\n",
              "  <tbody>\n",
              "    <tr>\n",
              "      <th>0</th>\n",
              "      <td>23</td>\n",
              "      <td>25.355</td>\n",
              "      <td>1</td>\n",
              "      <td>0</td>\n",
              "      <td>1</td>\n",
              "      <td>0</td>\n",
              "      <td>0</td>\n",
              "      <td>1</td>\n",
              "      <td>0</td>\n",
              "    </tr>\n",
              "    <tr>\n",
              "      <th>1</th>\n",
              "      <td>47</td>\n",
              "      <td>13.093</td>\n",
              "      <td>0</td>\n",
              "      <td>1</td>\n",
              "      <td>0</td>\n",
              "      <td>1</td>\n",
              "      <td>0</td>\n",
              "      <td>1</td>\n",
              "      <td>0</td>\n",
              "    </tr>\n",
              "    <tr>\n",
              "      <th>2</th>\n",
              "      <td>47</td>\n",
              "      <td>10.114</td>\n",
              "      <td>0</td>\n",
              "      <td>1</td>\n",
              "      <td>0</td>\n",
              "      <td>1</td>\n",
              "      <td>0</td>\n",
              "      <td>1</td>\n",
              "      <td>0</td>\n",
              "    </tr>\n",
              "    <tr>\n",
              "      <th>3</th>\n",
              "      <td>28</td>\n",
              "      <td>7.798</td>\n",
              "      <td>1</td>\n",
              "      <td>0</td>\n",
              "      <td>0</td>\n",
              "      <td>0</td>\n",
              "      <td>1</td>\n",
              "      <td>1</td>\n",
              "      <td>0</td>\n",
              "    </tr>\n",
              "    <tr>\n",
              "      <th>4</th>\n",
              "      <td>61</td>\n",
              "      <td>18.043</td>\n",
              "      <td>1</td>\n",
              "      <td>0</td>\n",
              "      <td>0</td>\n",
              "      <td>1</td>\n",
              "      <td>0</td>\n",
              "      <td>1</td>\n",
              "      <td>0</td>\n",
              "    </tr>\n",
              "  </tbody>\n",
              "</table>\n",
              "</div>"
            ],
            "text/plain": [
              "   Age  Na_to_K  Sex_F  ...  BP_NORMAL  Cholesterol_HIGH  Cholesterol_NORMAL\n",
              "0   23   25.355      1  ...          0                 1                   0\n",
              "1   47   13.093      0  ...          0                 1                   0\n",
              "2   47   10.114      0  ...          0                 1                   0\n",
              "3   28    7.798      1  ...          1                 1                   0\n",
              "4   61   18.043      1  ...          0                 1                   0\n",
              "\n",
              "[5 rows x 9 columns]"
            ]
          },
          "metadata": {},
          "execution_count": 8
        }
      ]
    },
    {
      "cell_type": "markdown",
      "metadata": {
        "id": "vpkV_q0Bn9UX"
      },
      "source": [
        "## Correlation Map\n",
        "\n",
        "In order to check the correlation between the features, we will plot a correlation matrix. It is effective in summarizing a large amount of data where the goal is to see patterns."
      ]
    },
    {
      "cell_type": "code",
      "metadata": {
        "colab": {
          "base_uri": "https://localhost:8080/",
          "height": 1000
        },
        "id": "zydLJ1gpn9UX",
        "outputId": "8c4aea50-3195-4c43-ba1d-07e87f189bc8"
      },
      "source": [
        "f,ax = plt.subplots(figsize=(18, 18))\n",
        "matrix = np.triu(X.corr())\n",
        "se.heatmap(X.corr(), annot=True, linewidths=.5, fmt= '.1f',ax=ax, mask=matrix)\n",
        "plt.show()"
      ],
      "execution_count": 9,
      "outputs": [
        {
          "output_type": "display_data",
          "data": {
            "image/png": "[encoded data removed]",
            "text/plain": [
              "<Figure size 1296x1296 with 2 Axes>"
            ]
          },
          "metadata": {
            "needs_background": "light"
          }
        }
      ]
    },
    {
      "cell_type": "markdown",
      "metadata": {
        "id": "vrPwBoz-n9UX"
      },
      "source": [
        "## Distribution Of Target Variable"
      ]
    },
    {
      "cell_type": "code",
      "metadata": {
        "colab": {
          "base_uri": "https://localhost:8080/",
          "height": 391
        },
        "id": "edP-aLegn9UX",
        "outputId": "efc6c164-8a4a-42b0-8a9a-3a53d6ad9ff3"
      },
      "source": [
        "plt.figure(figsize = (10,6))\n",
        "se.countplot(Y)"
      ],
      "execution_count": 10,
      "outputs": [
        {
          "output_type": "execute_result",
          "data": {
            "text/plain": [
              "<matplotlib.axes._subplots.AxesSubplot at 0x7fba88b20410>"
            ]
          },
          "metadata": {},
          "execution_count": 10
        },
        {
          "output_type": "display_data",
          "data": {
            "image/png": "[encoded data removed]",
            "text/plain": [
              "<Figure size 720x432 with 1 Axes>"
            ]
          },
          "metadata": {
            "needs_background": "light"
          }
        }
      ]
    },
    {
      "cell_type": "markdown",
      "metadata": {
        "id": "LWW-qhnXn9UY"
      },
      "source": [
        "## Data Splitting\n",
        "\n",
        "The train-test split is a procedure for evaluating the performance of an algorithm. The procedure involves taking a dataset and dividing it into two subsets. The first subset is utilized to fit/train the model. The second subset is used for prediction. The main motive is to estimate the performance of the model on new data."
      ]
    },
    {
      "cell_type": "code",
      "metadata": {
        "id": "LqdMb7Wln9UY"
      },
      "source": [
        "x_train,x_test,y_train,y_test=train_test_split(X,Y,test_size=0.2,random_state=123)"
      ],
      "execution_count": 11,
      "outputs": []
    },
    {
      "cell_type": "markdown",
      "metadata": {
        "id": "wOYj_nNin9UY"
      },
      "source": [
        "## Handling Target Imbalance\n",
        "\n",
        "The challenge of working with imbalanced datasets is that most machine learning techniques will ignore, and in turn have poor performance on, the minority class, although typically it is performance on the minority class that is most important.\n",
        "\n",
        "One approach to addressing imbalanced datasets is to oversample the minority class. The simplest approach involves duplicating examples in the minority class.We will perform overspampling using imblearn library."
      ]
    },
    {
      "cell_type": "code",
      "metadata": {
        "id": "XwHzWWTTn9UY"
      },
      "source": [
        "x_train,y_train = RandomOverSampler(random_state=123).fit_resample(x_train, y_train)"
      ],
      "execution_count": 12,
      "outputs": []
    },
    {
      "cell_type": "markdown",
      "metadata": {
        "id": "etd4iD3in9UY"
      },
      "source": [
        "## Data Rescaling\n",
        "**MinMaxScaler**\n",
        "\n",
        "Transform features by scaling each feature to a given range.\n",
        "\n",
        "This estimator scales and translates each feature individually such that it is in the given range on the training set, e.g. between zero and one.\n",
        "\n",
        "The transformation is given by:\n",
        "\n",
        "X_std = (X - X.min(axis=0)) / (X.max(axis=0) - X.min(axis=0)) <br>\n",
        "X_scaled = X_std * (max - min) + min\n",
        "\n",
        "<a href=\"https://scikit-learn.org/stable/modules/generated/sklearn.preprocessing.MinMaxScaler.html\">More about MinMaxScaler</a>"
      ]
    },
    {
      "cell_type": "markdown",
      "metadata": {
        "id": "k9rf5B0un9UZ"
      },
      "source": [
        "## Feature Transformation\n",
        "\n",
        "**Polynomial Features**\n",
        "\n",
        "Generate polynomial and interaction features.\n",
        "\n",
        "Generate a new feature matrix consisting of all polynomial combinations of the features with degree less than or equal to the specified degree. For example, if an input sample is two dimensional and of the form [a, b], the degree-2 polynomial features are [1, a, b, a^2, ab, b^2].\n",
        "\n",
        "[More on Polynomial Features](https://scikit-learn.org/stable/modules/generated/sklearn.preprocessing.PolynomialFeatures.html)"
      ]
    },
    {
      "cell_type": "markdown",
      "metadata": {
        "id": "tWeX6bMOn9UZ"
      },
      "source": [
        "## Model\n",
        "RadiusNeighborsClassifier implements learning based on the number of neighbors within a fixed radius of each training point, where is a floating-point value specified by the user. In cases where the data is not uniformly sampled, radius-based neighbors classification can be a better choice.\n",
        "\n",
        "### Tuning parameters\n",
        "**radius:** Range of parameter space to use by default for radius_neighbors queries.\n",
        "\n",
        "**algorithm:** Algorithm used to compute the nearest neighbors:\n",
        "\n",
        "**leaf_size:** Leaf size passed to BallTree or KDTree.\n",
        "\n",
        "**p:** Power parameter for the Minkowski metric.\n",
        "\n",
        "**metric:** the distance metric to use for the tree.\n",
        "\n",
        "**outlier_label:** label for outlier samples\n",
        "\n",
        "**weights:** weight function used in prediction.\n",
        "<br><br>FOR MORE INFO : <a href=\"https://scikit-learn.org/stable/modules/generated/sklearn.neighbors.RadiusNeighborsClassifier.html\">API</a>"
      ]
    },
    {
      "cell_type": "code",
      "metadata": {
        "scrolled": true,
        "colab": {
          "base_uri": "https://localhost:8080/"
        },
        "id": "CQpc6yiwn9UZ",
        "outputId": "7fb0c35b-06d9-464d-c7e1-fca164e9f1bb"
      },
      "source": [
        "model = make_pipeline(MinMaxScaler(),PolynomialFeatures(),RadiusNeighborsClassifier())\n",
        "model.fit(x_train, y_train)"
      ],
      "execution_count": 13,
      "outputs": [
        {
          "output_type": "execute_result",
          "data": {
            "text/plain": [
              "Pipeline(memory=None,\n",
              "         steps=[('minmaxscaler', MinMaxScaler(copy=True, feature_range=(0, 1))),\n",
              "                ('polynomialfeatures',\n",
              "                 PolynomialFeatures(degree=2, include_bias=True,\n",
              "                                    interaction_only=False, order='C')),\n",
              "                ('radiusneighborsclassifier',\n",
              "                 RadiusNeighborsClassifier(algorithm='auto', leaf_size=30,\n",
              "                                           metric='minkowski',\n",
              "                                           metric_params=None, n_jobs=None,\n",
              "                                           outlier_label=None, p=2, radius=1.0,\n",
              "                                           weights='uniform'))],\n",
              "         verbose=False)"
            ]
          },
          "metadata": {},
          "execution_count": 13
        }
      ]
    },
    {
      "cell_type": "markdown",
      "metadata": {
        "id": "Ieazeldon9UZ"
      },
      "source": [
        "## Model Accuracy\n",
        "\n",
        "score() method return the mean accuracy on the given test data and labels.\n",
        "\n",
        "In multi-label classification, this is the subset accuracy which is a harsh metric since you require for each sample that each label set be correctly predicted."
      ]
    },
    {
      "cell_type": "code",
      "metadata": {
        "colab": {
          "base_uri": "https://localhost:8080/"
        },
        "id": "GBkGVi2Bn9Ua",
        "outputId": "9f19e112-2df4-4f56-feae-1f4f873a9403"
      },
      "source": [
        "print(\"Accuracy score {:.2f} %\\n\".format(model.score(x_test,y_test)*100))"
      ],
      "execution_count": 14,
      "outputs": [
        {
          "output_type": "stream",
          "text": [
            "Accuracy score 75.00 %\n",
            "\n"
          ],
          "name": "stdout"
        }
      ]
    },
    {
      "cell_type": "markdown",
      "metadata": {
        "id": "OvWnRMcCn9Ua"
      },
      "source": [
        "## Confusion Matrix\n",
        "\n",
        "A confusion matrix is utilized to understand the performance of the classification model or algorithm in machine learning for a given test set where results are known."
      ]
    },
    {
      "cell_type": "code",
      "metadata": {
        "scrolled": true,
        "colab": {
          "base_uri": "https://localhost:8080/",
          "height": 296
        },
        "id": "3iqTq8rCn9Ua",
        "outputId": "05acd490-3cbe-4752-e84c-d397a4d69554"
      },
      "source": [
        "plot_confusion_matrix(model,x_test,y_test,cmap=plt.cm.Blues)"
      ],
      "execution_count": 15,
      "outputs": [
        {
          "output_type": "execute_result",
          "data": {
            "text/plain": [
              "<sklearn.metrics._plot.confusion_matrix.ConfusionMatrixDisplay at 0x7fba8055ce50>"
            ]
          },
          "metadata": {},
          "execution_count": 15
        },
        {
          "output_type": "display_data",
          "data": {
            "image/png": "[encoded data removed]",
            "text/plain": [
              "<Figure size 432x288 with 2 Axes>"
            ]
          },
          "metadata": {
            "needs_background": "light"
          }
        }
      ]
    },
    {
      "cell_type": "markdown",
      "metadata": {
        "id": "s8MeEA5un9Ua"
      },
      "source": [
        "## Classification Report\n",
        "A Classification report is used to measure the quality of predictions from a classification algorithm. How many predictions are True, how many are False.\n",
        "\n",
        "where:\n",
        "- Precision:- Accuracy of positive predictions.\n",
        "- Recall:- Fraction of positives that were correctly identified.\n",
        "- f1-score:-  percent of positive predictions were correct\n",
        "- support:- Support is the number of actual occurrences of the class in the specified dataset."
      ]
    },
    {
      "cell_type": "code",
      "metadata": {
        "scrolled": true,
        "colab": {
          "base_uri": "https://localhost:8080/"
        },
        "id": "WKJd2p2zn9Ua",
        "outputId": "f37f1768-6bb4-4d4d-85aa-4219a1290384"
      },
      "source": [
        "print(classification_report(y_test,model.predict(x_test)))"
      ],
      "execution_count": 16,
      "outputs": [
        {
          "output_type": "stream",
          "text": [
            "              precision    recall  f1-score   support\n",
            "\n",
            "           0       1.00      0.57      0.72        23\n",
            "           1       0.67      1.00      0.80         2\n",
            "           2       0.43      1.00      0.60         3\n",
            "           3       0.75      1.00      0.86         3\n",
            "           4       0.69      1.00      0.82         9\n",
            "\n",
            "    accuracy                           0.75        40\n",
            "   macro avg       0.71      0.91      0.76        40\n",
            "weighted avg       0.85      0.75      0.75        40\n",
            "\n"
          ],
          "name": "stdout"
        }
      ]
    },
    {
      "cell_type": "markdown",
      "metadata": {
        "id": "DFcUtcFxZiSM"
      },
      "source": [
        "#### Creator: Anu Rithiga B , Github: [Profile - Iamgrootsh7](https://github.com/iamgrootsh7)"
      ]
    }
  ]
}