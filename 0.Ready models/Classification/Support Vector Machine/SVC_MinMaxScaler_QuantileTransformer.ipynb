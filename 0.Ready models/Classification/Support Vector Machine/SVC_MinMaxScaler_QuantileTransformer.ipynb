{
  "nbformat": 4,
  "nbformat_minor": 2,
  "metadata": {
    "interpreter": {
      "hash": "032a1289d4253b3d0e4373d7e3255421c0caa148fd7c9225f671ef6c33ece4a8"
    },
    "kernelspec": {
      "display_name": "Python 3",
      "language": "python",
      "name": "python3"
    },
    "language_info": {
      "codemirror_mode": {
        "name": "ipython",
        "version": 3
      },
      "file_extension": ".py",
      "mimetype": "text/x-python",
      "name": "python",
      "nbconvert_exporter": "python",
      "pygments_lexer": "ipython3",
      "version": "3.8.8"
    },
    "colab": {
      "name": "SVC_MinMaxScaler_QuantileTransformer.ipynb",
      "provenance": []
    }
  },
  "cells": [
    {
      "cell_type": "markdown",
      "source": [
        "# Support Vector Classification with  MinMaxScaler & Quantile Transformer"
      ],
      "metadata": {
        "id": "lefalbxl4R6m"
      }
    },
    {
      "cell_type": "markdown",
      "source": [
        "This Code template is for the Classification task using Support Vector Classifier(SVC) based on the Support Vector Machine algorithm with  QuantileTransformer as Feature Transformation Technique with rescaling technique as MinMaxScaler in a pipeline."
      ],
      "metadata": {
        "id": "bGnYliRh4R6n"
      }
    },
    {
      "cell_type": "markdown",
      "source": [
        "### Required Packages"
      ],
      "metadata": {
        "id": "ys1nwCrT4R6o"
      }
    },
    {
      "cell_type": "code",
      "execution_count": 1,
      "source": [
        "!pip install imblearn "
      ],
      "outputs": [
        {
          "output_type": "stream",
          "name": "stdout",
          "text": [
            "Requirement already satisfied: imblearn in /usr/local/lib/python3.7/dist-packages (0.0)\n",
            "Requirement already satisfied: imbalanced-learn in /usr/local/lib/python3.7/dist-packages (from imblearn) (0.4.3)\n",
            "Requirement already satisfied: scikit-learn>=0.20 in /usr/local/lib/python3.7/dist-packages (from imbalanced-learn->imblearn) (0.22.2.post1)\n",
            "Requirement already satisfied: numpy>=1.8.2 in /usr/local/lib/python3.7/dist-packages (from imbalanced-learn->imblearn) (1.19.5)\n",
            "Requirement already satisfied: scipy>=0.13.3 in /usr/local/lib/python3.7/dist-packages (from imbalanced-learn->imblearn) (1.4.1)\n",
            "Requirement already satisfied: joblib>=0.11 in /usr/local/lib/python3.7/dist-packages (from scikit-learn>=0.20->imbalanced-learn->imblearn) (1.0.1)\n"
          ]
        }
      ],
      "metadata": {
        "colab": {
          "base_uri": "https://localhost:8080/"
        },
        "id": "JBRH1_oZ4R6o",
        "outputId": "73e42084-3a10-47a2-a2f5-f9c178282820"
      }
    },
    {
      "cell_type": "code",
      "execution_count": 2,
      "source": [
        "import warnings\r\n",
        "import seaborn as se\r\n",
        "import numpy as np\r\n",
        "import pandas as pd\r\n",
        "import matplotlib.pyplot as plt\r\n",
        "from sklearn.svm import SVC\r\n",
        "from sklearn.model_selection import train_test_split\r\n",
        "from imblearn.over_sampling import RandomOverSampler\r\n",
        "from sklearn.pipeline import make_pipeline\r\n",
        "from sklearn.preprocessing import LabelEncoder,QuantileTransformer,MinMaxScaler \r\n",
        "from sklearn.metrics import classification_report,plot_confusion_matrix\r\n",
        "warnings.filterwarnings('ignore')"
      ],
      "outputs": [
        {
          "output_type": "stream",
          "name": "stderr",
          "text": [
            "/usr/local/lib/python3.7/dist-packages/sklearn/externals/six.py:31: FutureWarning: The module is deprecated in version 0.21 and will be removed in version 0.23 since we've dropped support for Python 2.7. Please rely on the official version of six (https://pypi.org/project/six/).\n",
            "  \"(https://pypi.org/project/six/).\", FutureWarning)\n",
            "/usr/local/lib/python3.7/dist-packages/sklearn/utils/deprecation.py:144: FutureWarning: The sklearn.neighbors.base module is  deprecated in version 0.22 and will be removed in version 0.24. The corresponding classes / functions should instead be imported from sklearn.neighbors. Anything that cannot be imported from sklearn.neighbors is now part of the private API.\n",
            "  warnings.warn(message, FutureWarning)\n"
          ]
        }
      ],
      "metadata": {
        "colab": {
          "base_uri": "https://localhost:8080/"
        },
        "id": "LKoGcIVq4R6p",
        "outputId": "5ceb4be4-510b-4f99-f4df-a525b1b775d6"
      }
    },
    {
      "cell_type": "markdown",
      "source": [
        "### Initialization\n",
        "\n",
        "Filepath of CSV file"
      ],
      "metadata": {
        "id": "AdV-3FTi4R6p"
      }
    },
    {
      "cell_type": "code",
      "execution_count": 3,
      "source": [
        "#filepath\r\n",
        "file_path= \"\""
      ],
      "outputs": [],
      "metadata": {
        "id": "HzHxMTdh4R6p"
      }
    },
    {
      "cell_type": "markdown",
      "source": [
        "List of features which are required for model training ."
      ],
      "metadata": {
        "id": "lYk_RlJR4R6p"
      }
    },
    {
      "cell_type": "code",
      "execution_count": 4,
      "source": [
        "#x_values\r\n",
        "features=[]"
      ],
      "outputs": [],
      "metadata": {
        "id": "p2U-AMFF4R6r"
      }
    },
    {
      "cell_type": "markdown",
      "source": [
        "Target variable for prediction."
      ],
      "metadata": {
        "id": "rPUzajwU4R6r"
      }
    },
    {
      "cell_type": "code",
      "execution_count": 5,
      "source": [
        "#y_value\r\n",
        "target=\"\""
      ],
      "outputs": [],
      "metadata": {
        "id": "KKCPO4uj4R6r"
      }
    },
    {
      "cell_type": "markdown",
      "source": [
        "### Data Fetching\n",
        "\n",
        "Pandas is an open-source, BSD-licensed library providing high-performance, easy-to-use data manipulation and data analysis tools.\n",
        "\n",
        "We will use panda's library to read the CSV file using its storage path.And we use the head function to display the initial row or entry."
      ],
      "metadata": {
        "id": "xGEWVoG34R6r"
      }
    },
    {
      "cell_type": "code",
      "execution_count": 6,
      "source": [
        "df=pd.read_csv(file_path)\r\n",
        "df.head()"
      ],
      "outputs": [
        {
          "output_type": "execute_result",
          "data": {
            "text/html": [
              "<div>\n",
              "<style scoped>\n",
              "    .dataframe tbody tr th:only-of-type {\n",
              "        vertical-align: middle;\n",
              "    }\n",
              "\n",
              "    .dataframe tbody tr th {\n",
              "        vertical-align: top;\n",
              "    }\n",
              "\n",
              "    .dataframe thead th {\n",
              "        text-align: right;\n",
              "    }\n",
              "</style>\n",
              "<table border=\"1\" class=\"dataframe\">\n",
              "  <thead>\n",
              "    <tr style=\"text-align: right;\">\n",
              "      <th></th>\n",
              "      <th>Id</th>\n",
              "      <th>SepalLengthCm</th>\n",
              "      <th>SepalWidthCm</th>\n",
              "      <th>PetalLengthCm</th>\n",
              "      <th>PetalWidthCm</th>\n",
              "      <th>Species</th>\n",
              "    </tr>\n",
              "  </thead>\n",
              "  <tbody>\n",
              "    <tr>\n",
              "      <th>0</th>\n",
              "      <td>1</td>\n",
              "      <td>5.1</td>\n",
              "      <td>3.5</td>\n",
              "      <td>1.4</td>\n",
              "      <td>0.2</td>\n",
              "      <td>Iris-setosa</td>\n",
              "    </tr>\n",
              "    <tr>\n",
              "      <th>1</th>\n",
              "      <td>2</td>\n",
              "      <td>4.9</td>\n",
              "      <td>3.0</td>\n",
              "      <td>1.4</td>\n",
              "      <td>0.2</td>\n",
              "      <td>Iris-setosa</td>\n",
              "    </tr>\n",
              "    <tr>\n",
              "      <th>2</th>\n",
              "      <td>3</td>\n",
              "      <td>4.7</td>\n",
              "      <td>3.2</td>\n",
              "      <td>1.3</td>\n",
              "      <td>0.2</td>\n",
              "      <td>Iris-setosa</td>\n",
              "    </tr>\n",
              "    <tr>\n",
              "      <th>3</th>\n",
              "      <td>4</td>\n",
              "      <td>4.6</td>\n",
              "      <td>3.1</td>\n",
              "      <td>1.5</td>\n",
              "      <td>0.2</td>\n",
              "      <td>Iris-setosa</td>\n",
              "    </tr>\n",
              "    <tr>\n",
              "      <th>4</th>\n",
              "      <td>5</td>\n",
              "      <td>5.0</td>\n",
              "      <td>3.6</td>\n",
              "      <td>1.4</td>\n",
              "      <td>0.2</td>\n",
              "      <td>Iris-setosa</td>\n",
              "    </tr>\n",
              "  </tbody>\n",
              "</table>\n",
              "</div>"
            ],
            "text/plain": [
              "   Id  SepalLengthCm  SepalWidthCm  PetalLengthCm  PetalWidthCm      Species\n",
              "0   1            5.1           3.5            1.4           0.2  Iris-setosa\n",
              "1   2            4.9           3.0            1.4           0.2  Iris-setosa\n",
              "2   3            4.7           3.2            1.3           0.2  Iris-setosa\n",
              "3   4            4.6           3.1            1.5           0.2  Iris-setosa\n",
              "4   5            5.0           3.6            1.4           0.2  Iris-setosa"
            ]
          },
          "metadata": {},
          "execution_count": 6
        }
      ],
      "metadata": {
        "colab": {
          "base_uri": "https://localhost:8080/",
          "height": 204
        },
        "id": "aRsTxlOE4R6r",
        "outputId": "cdbe0631-0cd0-4325-8ac8-e335443526c6"
      }
    },
    {
      "cell_type": "markdown",
      "source": [
        "### Feature Selections\n",
        "\n",
        "It is the process of reducing the number of input variables when developing a predictive model. Used to reduce the number of input variables to both reduce the computational cost of modelling and, in some cases, to improve the performance of the model.\n",
        "\n",
        "We will assign all the required input features to X and target/outcome to Y."
      ],
      "metadata": {
        "id": "Nt4qdyAQ4R6s"
      }
    },
    {
      "cell_type": "code",
      "execution_count": 7,
      "source": [
        "X=df[features]\r\n",
        "Y=df[target]"
      ],
      "outputs": [],
      "metadata": {
        "id": "NUYrhHEg4R6s"
      }
    },
    {
      "cell_type": "markdown",
      "source": [
        "### Data Preprocessing\n",
        "\n",
        "Since the majority of the machine learning models in the Sklearn library doesn't handle string category data and Null value, we have to explicitly remove or replace null values. The below snippet have functions, which removes the null value if any exists. And convert the string classes data in the datasets by encoding them to integer classes.\n"
      ],
      "metadata": {
        "id": "Z508PQWN4R6s"
      }
    },
    {
      "cell_type": "code",
      "execution_count": 8,
      "source": [
        "def NullClearner(df):\r\n",
        "    if(isinstance(df, pd.Series) and (df.dtype in [\"float64\",\"int64\"])):\r\n",
        "        df.fillna(df.mean(),inplace=True)\r\n",
        "        return df\r\n",
        "    elif(isinstance(df, pd.Series)):\r\n",
        "        df.fillna(df.mode()[0],inplace=True)\r\n",
        "        return df\r\n",
        "    else:return df\r\n",
        "def EncodeX(df):\r\n",
        "    return pd.get_dummies(df)\r\n",
        "def EncodeY(df):\r\n",
        "    if len(df.unique())<=2:\r\n",
        "        return df\r\n",
        "    else:\r\n",
        "        un_EncodedT=np.sort(pd.unique(df), axis=-1, kind='mergesort')\r\n",
        "        df=LabelEncoder().fit_transform(df)\r\n",
        "        EncodedT=[xi for xi in range(len(un_EncodedT))]\r\n",
        "        print(\"Encoded Target: {} to {}\".format(un_EncodedT,EncodedT))\r\n",
        "        return df"
      ],
      "outputs": [],
      "metadata": {
        "id": "dLfOlNlK4R6t"
      }
    },
    {
      "cell_type": "markdown",
      "source": [
        "Calling preprocessing functions on the feature and target set.\n"
      ],
      "metadata": {
        "id": "2Bp6rJb04R6t"
      }
    },
    {
      "cell_type": "code",
      "execution_count": 9,
      "source": [
        "x=X.columns.to_list()\r\n",
        "for i in x:\r\n",
        "    X[i]=NullClearner(X[i])\r\n",
        "X=EncodeX(X)\r\n",
        "Y=EncodeY(NullClearner(Y))\r\n",
        "X.head()"
      ],
      "outputs": [
        {
          "output_type": "stream",
          "name": "stdout",
          "text": [
            "Encoded Target: ['Iris-setosa' 'Iris-versicolor' 'Iris-virginica'] to [0, 1, 2]\n"
          ]
        },
        {
          "output_type": "execute_result",
          "data": {
            "text/html": [
              "<div>\n",
              "<style scoped>\n",
              "    .dataframe tbody tr th:only-of-type {\n",
              "        vertical-align: middle;\n",
              "    }\n",
              "\n",
              "    .dataframe tbody tr th {\n",
              "        vertical-align: top;\n",
              "    }\n",
              "\n",
              "    .dataframe thead th {\n",
              "        text-align: right;\n",
              "    }\n",
              "</style>\n",
              "<table border=\"1\" class=\"dataframe\">\n",
              "  <thead>\n",
              "    <tr style=\"text-align: right;\">\n",
              "      <th></th>\n",
              "      <th>SepalLengthCm</th>\n",
              "      <th>SepalWidthCm</th>\n",
              "      <th>PetalLengthCm</th>\n",
              "      <th>PetalWidthCm</th>\n",
              "    </tr>\n",
              "  </thead>\n",
              "  <tbody>\n",
              "    <tr>\n",
              "      <th>0</th>\n",
              "      <td>5.1</td>\n",
              "      <td>3.5</td>\n",
              "      <td>1.4</td>\n",
              "      <td>0.2</td>\n",
              "    </tr>\n",
              "    <tr>\n",
              "      <th>1</th>\n",
              "      <td>4.9</td>\n",
              "      <td>3.0</td>\n",
              "      <td>1.4</td>\n",
              "      <td>0.2</td>\n",
              "    </tr>\n",
              "    <tr>\n",
              "      <th>2</th>\n",
              "      <td>4.7</td>\n",
              "      <td>3.2</td>\n",
              "      <td>1.3</td>\n",
              "      <td>0.2</td>\n",
              "    </tr>\n",
              "    <tr>\n",
              "      <th>3</th>\n",
              "      <td>4.6</td>\n",
              "      <td>3.1</td>\n",
              "      <td>1.5</td>\n",
              "      <td>0.2</td>\n",
              "    </tr>\n",
              "    <tr>\n",
              "      <th>4</th>\n",
              "      <td>5.0</td>\n",
              "      <td>3.6</td>\n",
              "      <td>1.4</td>\n",
              "      <td>0.2</td>\n",
              "    </tr>\n",
              "  </tbody>\n",
              "</table>\n",
              "</div>"
            ],
            "text/plain": [
              "   SepalLengthCm  SepalWidthCm  PetalLengthCm  PetalWidthCm\n",
              "0            5.1           3.5            1.4           0.2\n",
              "1            4.9           3.0            1.4           0.2\n",
              "2            4.7           3.2            1.3           0.2\n",
              "3            4.6           3.1            1.5           0.2\n",
              "4            5.0           3.6            1.4           0.2"
            ]
          },
          "metadata": {},
          "execution_count": 9
        }
      ],
      "metadata": {
        "colab": {
          "base_uri": "https://localhost:8080/",
          "height": 221
        },
        "id": "F_cJL5xM4R6t",
        "outputId": "3298e7a2-6db6-4924-ba6a-0526783038da"
      }
    },
    {
      "cell_type": "markdown",
      "source": [
        "#### Correlation Map\n",
        "\n",
        "In order to check the correlation between the features, we will plot a correlation matrix. It is effective in summarizing a large amount of data where the goal is to see patterns."
      ],
      "metadata": {
        "id": "jrgnn8e24R6t"
      }
    },
    {
      "cell_type": "code",
      "execution_count": 10,
      "source": [
        "f,ax = plt.subplots(figsize=(18, 18))\n",
        "matrix = np.triu(X.corr())\n",
        "se.heatmap(X.corr(), annot=True, linewidths=.5, fmt= '.1f',ax=ax, mask=matrix)\n",
        "plt.show()"
      ],
      "outputs": [
        {
          "output_type": "display_data",
          "data": {
            "image/png": "[encoded data removed]",
            "text/plain": [
              "<Figure size 1296x1296 with 2 Axes>"
            ]
          },
          "metadata": {
            "needs_background": "light"
          }
        }
      ],
      "metadata": {
        "colab": {
          "base_uri": "https://localhost:8080/",
          "height": 1000
        },
        "id": "M54yVaaJ4R6u",
        "outputId": "465bdd21-e0d7-4309-9d1f-b3ac75fdd011"
      }
    },
    {
      "cell_type": "markdown",
      "source": [
        "#### Distribution Of Target Variable"
      ],
      "metadata": {
        "id": "d0cOjfAC4R6u"
      }
    },
    {
      "cell_type": "code",
      "execution_count": 11,
      "source": [
        "plt.figure(figsize = (10,6))\n",
        "se.countplot(Y) "
      ],
      "outputs": [
        {
          "output_type": "execute_result",
          "data": {
            "text/plain": [
              "<matplotlib.axes._subplots.AxesSubplot at 0x7f93f4c82e10>"
            ]
          },
          "metadata": {},
          "execution_count": 11
        },
        {
          "output_type": "display_data",
          "data": {
            "image/png": "[encoded data removed]",
            "text/plain": [
              "<Figure size 720x432 with 1 Axes>"
            ]
          },
          "metadata": {
            "needs_background": "light"
          }
        }
      ],
      "metadata": {
        "colab": {
          "base_uri": "https://localhost:8080/",
          "height": 391
        },
        "id": "MjrRZTVH4R6u",
        "outputId": "0ef88933-21f4-43ed-f044-0dee979ec85f"
      }
    },
    {
      "cell_type": "markdown",
      "source": [
        "### Data Splitting\n",
        "\n",
        "The train-test split is a procedure for evaluating the performance of an algorithm. The procedure involves taking a dataset and dividing it into two subsets. The first subset is utilized to fit/train the model. The second subset is used for prediction. The main motive is to estimate the performance of the model on new data."
      ],
      "metadata": {
        "id": "kBp-FO-34R6v"
      }
    },
    {
      "cell_type": "code",
      "execution_count": 12,
      "source": [
        "x_train,x_test,y_train,y_test=train_test_split(X,Y,test_size=0.2,random_state=123)"
      ],
      "outputs": [],
      "metadata": {
        "id": "kYDLDyET4R6v"
      }
    },
    {
      "cell_type": "markdown",
      "source": [
        "#### Handling Target Imbalance\n",
        "\n",
        "The challenge of working with imbalanced datasets is that most machine learning techniques will ignore, and in turn have poor performance on, the minority class, although typically it is performance on the minority class that is most important.\n",
        "\n",
        "One approach to addressing imbalanced datasets is to oversample the minority class. The simplest approach involves duplicating examples in the minority class.We will perform overspampling using imblearn library. "
      ],
      "metadata": {
        "id": "df9b8rTt4R6v"
      }
    },
    {
      "cell_type": "code",
      "execution_count": 13,
      "source": [
        "x_train,y_train = RandomOverSampler(random_state=123).fit_resample(x_train, y_train)"
      ],
      "outputs": [],
      "metadata": {
        "id": "dg_lUPuM4R6w"
      }
    },
    {
      "cell_type": "markdown",
      "source": [
        "### Model\n",
        "Support vector machines (SVMs) are a set of supervised learning methods used for classification, regression and outliers detection.\n",
        "\n",
        "A Support Vector Machine is a discriminative classifier formally defined by a separating hyperplane. In other terms, for a given known/labelled data points, the SVM outputs an appropriate hyperplane that classifies the inputted new cases based on the hyperplane. In 2-Dimensional space, this hyperplane is a line separating a plane into two segments where each class or group occupied on either side.\n",
        "\n",
        "Here we have used SVC, the svc implementation is based on libsvm.  \n",
        "\n",
        "#### Model Tuning Parameters\n",
        "> - C -> Regularization parameter. The strength of the regularization is inversely proportional to C. Must be strictly positive.\n",
        "\n",
        "> - kernel -> Specifies the kernel type to be used in the algorithm. It must be one of ‘linear’, ‘poly’, ‘rbf’, ‘sigmoid’, ‘precomputed’ or a callable. If none is given, ‘rbf’ will be used. If a callable is given it is used to pre-compute the kernel matrix from data matrices; that matrix should be an array of shape (n_samples, n_samples).\n",
        "\n",
        "> - gamma -> Gamma is a hyperparameter that we have to set before the training model. Gamma decides how much curvature we want in a decision boundary.\n",
        "\n",
        "> - degree -> Degree of the polynomial kernel function (‘poly’). Ignored by all other kernels.Using degree 1 is similar to using a linear kernel. Also, increasing degree parameter leads to higher training times.\n",
        "\n",
        "### Data Rescaling\n",
        "Used sklearn.preprocessing.MinMaxScaler\n",
        "\n",
        "This estimator scales and translates each feature individually such that it is in the given range on the training set, e.g. between zero and one.\n",
        "\n",
        "Read more at [scikit-learn.org](https://scikit-learn.org/stable/modules/generated/sklearn.preprocessing.MinMaxScaler.html)\n",
        "\n",
        "\n",
        "\n",
        "### Feature Transformation\n",
        "\n",
        "Used sklearn.preprocessing.QuantileTransformer\n",
        "\n",
        "QuantileTransformer transforms features using quantiles information.\n",
        "\n",
        "This method transforms the features to follow a uniform or a normal distribution. Therefore, for a given feature, this transformation tends to spread out the most frequent values. It also reduces the impact of (marginal) outliers: this is therefore a robust preprocessing scheme.The transformation is applied on each feature independently.\n",
        "\n",
        "For more information on QuantileTransformer click here"
      ],
      "metadata": {
        "id": "xih6dHr34R6w"
      }
    },
    {
      "cell_type": "code",
      "execution_count": 14,
      "source": [
        "model = make_pipeline(MinMaxScaler(),QuantileTransformer(),SVC(random_state=123))\n",
        "model.fit(x_train,y_train)"
      ],
      "outputs": [
        {
          "output_type": "execute_result",
          "data": {
            "text/plain": [
              "Pipeline(memory=None,\n",
              "         steps=[('minmaxscaler', MinMaxScaler(copy=True, feature_range=(0, 1))),\n",
              "                ('quantiletransformer',\n",
              "                 QuantileTransformer(copy=True, ignore_implicit_zeros=False,\n",
              "                                     n_quantiles=1000,\n",
              "                                     output_distribution='uniform',\n",
              "                                     random_state=None, subsample=100000)),\n",
              "                ('svc',\n",
              "                 SVC(C=1.0, break_ties=False, cache_size=200, class_weight=None,\n",
              "                     coef0=0.0, decision_function_shape='ovr', degree=3,\n",
              "                     gamma='scale', kernel='rbf', max_iter=-1,\n",
              "                     probability=False, random_state=123, shrinking=True,\n",
              "                     tol=0.001, verbose=False))],\n",
              "         verbose=False)"
            ]
          },
          "metadata": {},
          "execution_count": 14
        }
      ],
      "metadata": {
        "colab": {
          "base_uri": "https://localhost:8080/"
        },
        "id": "sj6ak7Be4R6x",
        "outputId": "df594824-f0b3-4aff-b1b1-2dc3cebffae7"
      }
    },
    {
      "cell_type": "markdown",
      "source": [
        "#### Model Accuracy\n",
        "\n",
        "\n",
        "score() method return the mean accuracy on the given test data and labels.\n",
        "\n",
        "In multi-label classification, this is the subset accuracy which is a harsh metric since you require for each sample that each label set be correctly predicted."
      ],
      "metadata": {
        "id": "_NetzBmg4R6x"
      }
    },
    {
      "cell_type": "code",
      "execution_count": 15,
      "source": [
        "print(\"Accuracy score {:.2f} %\\n\".format(model.score(x_test,y_test)*100))"
      ],
      "outputs": [
        {
          "output_type": "stream",
          "name": "stdout",
          "text": [
            "Accuracy score 90.00 %\n",
            "\n"
          ]
        }
      ],
      "metadata": {
        "colab": {
          "base_uri": "https://localhost:8080/"
        },
        "id": "2JGg5wGi4R6x",
        "outputId": "ff2cf8e3-7240-4561-c3d6-0624f6aed261"
      }
    },
    {
      "cell_type": "markdown",
      "source": [
        "#### Confusion matrix\n",
        "\n",
        "A confusion matrix is utilized to understand the performance of the classification model or algorithm in machine learning for a given test set where results are known."
      ],
      "metadata": {
        "id": "yzaqAeZt4R6x"
      }
    },
    {
      "cell_type": "code",
      "execution_count": 16,
      "source": [
        "plot_confusion_matrix(model,x_test,y_test,cmap=plt.cm.Purples)"
      ],
      "outputs": [
        {
          "output_type": "execute_result",
          "data": {
            "text/plain": [
              "<sklearn.metrics._plot.confusion_matrix.ConfusionMatrixDisplay at 0x7f93ec708490>"
            ]
          },
          "metadata": {},
          "execution_count": 16
        },
        {
          "output_type": "display_data",
          "data": {
            "image/png": "[encoded data removed]",
            "text/plain": [
              "<Figure size 432x288 with 2 Axes>"
            ]
          },
          "metadata": {
            "needs_background": "light"
          }
        }
      ],
      "metadata": {
        "colab": {
          "base_uri": "https://localhost:8080/",
          "height": 296
        },
        "id": "6jv9LxUh4R6y",
        "outputId": "4c312914-eea9-4408-b71b-0ffa81f3d336"
      }
    },
    {
      "cell_type": "markdown",
      "source": [
        "\n",
        "#### Classification Report\n",
        "\n",
        "A Classification report is used to measure the quality of predictions from a classification algorithm. How many predictions are True, how many are False.\n",
        "\n",
        "* where:\n",
        "    - Precision:- Accuracy of positive predictions.\n",
        "    - Recall:- Fraction of positives that were correctly identified.\n",
        "    - f1-score:-  percent of positive predictions were correct\n",
        "    - support:- Support is the number of actual occurrences of the class in the specified dataset."
      ],
      "metadata": {
        "id": "lxNdOi034R6y"
      }
    },
    {
      "cell_type": "code",
      "execution_count": 17,
      "source": [
        "print(classification_report(y_test,model.predict(x_test)))"
      ],
      "outputs": [
        {
          "output_type": "stream",
          "name": "stdout",
          "text": [
            "              precision    recall  f1-score   support\n",
            "\n",
            "           0       1.00      1.00      1.00        13\n",
            "           1       0.71      0.83      0.77         6\n",
            "           2       0.90      0.82      0.86        11\n",
            "\n",
            "    accuracy                           0.90        30\n",
            "   macro avg       0.87      0.88      0.88        30\n",
            "weighted avg       0.91      0.90      0.90        30\n",
            "\n"
          ]
        }
      ],
      "metadata": {
        "colab": {
          "base_uri": "https://localhost:8080/"
        },
        "id": "eYz86c-74R6y",
        "outputId": "5c0ee2a6-d28a-4d35-a9c1-6e0cd94e20de"
      }
    },
    {
      "cell_type": "markdown",
      "source": [
        "#### Creator: Ganapathi Thota , Github: [Profile](https://github.com/Shikiz)"
      ],
      "metadata": {
        "id": "y89IqLIX4R6y"
      }
    }
  ]
}