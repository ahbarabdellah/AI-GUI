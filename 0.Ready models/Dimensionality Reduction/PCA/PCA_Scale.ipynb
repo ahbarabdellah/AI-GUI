{
  "nbformat": 4,
  "nbformat_minor": 2,
  "metadata": {
    "interpreter": {
      "hash": "032a1289d4253b3d0e4373d7e3255421c0caa148fd7c9225f671ef6c33ece4a8"
    },
    "kernelspec": {
      "name": "python3",
      "display_name": "Python 3.8.3 64-bit ('base': conda)"
    },
    "language_info": {
      "codemirror_mode": {
        "name": "ipython",
        "version": 3
      },
      "file_extension": ".py",
      "mimetype": "text/x-python",
      "name": "python",
      "nbconvert_exporter": "python",
      "pygments_lexer": "ipython3",
      "version": "3.8.3"
    },
    "colab": {
      "name": "PCA_MinMaxScaler.ipynb",
      "provenance": []
    }
  },
  "cells": [
    {
      "cell_type": "markdown",
      "source": [
        "# Principal component analysis with Scaler"
      ],
      "metadata": {
        "id": "mtvTW0Ru0H4J"
      }
    },
    {
      "cell_type": "markdown",
      "source": [
        "This code template is for simple Principal Component Analysis(PCA) along feature scaling via Scale in python for dimensionality reduction technique. It is used to decompose a multivariate dataset into a set of successive orthogonal components that explain a maximum amount of the variance."
      ],
      "metadata": {
        "id": "hzkZJeTk0H4d"
      }
    },
    {
      "cell_type": "markdown",
      "source": [
        "### Required Packages"
      ],
      "metadata": {
        "id": "fr4x04Zi0H4m"
      }
    },
    {
      "cell_type": "code",
      "execution_count": 1,
      "source": [
        "import warnings \r\n",
        "import itertools\r\n",
        "import numpy as np \r\n",
        "import pandas as pd \r\n",
        "import seaborn as se \r\n",
        "import matplotlib.pyplot as plt\r\n",
        "from mpl_toolkits import mplot3d\r\n",
        "from sklearn.decomposition import PCA\r\n",
        "from sklearn.preprocessing import LabelEncoder, scale\r\n",
        "warnings.filterwarnings('ignore')"
      ],
      "outputs": [],
      "metadata": {
        "id": "sMkmbwhX0H4s"
      }
    },
    {
      "cell_type": "markdown",
      "source": [
        "### Initialization\n",
        "\n",
        "Filepath of CSV file"
      ],
      "metadata": {
        "id": "HCaFU-jS0H4x"
      }
    },
    {
      "cell_type": "code",
      "execution_count": 2,
      "source": [
        "#filepath\r\n",
        "file_path= \"\""
      ],
      "outputs": [],
      "metadata": {
        "id": "tdRmgEoG0H4z"
      }
    },
    {
      "cell_type": "markdown",
      "source": [
        "List of features which are  required for model training ."
      ],
      "metadata": {
        "id": "Xme1LKPg0H42"
      }
    },
    {
      "cell_type": "code",
      "execution_count": 3,
      "source": [
        "#x_values\r\n",
        "features= []"
      ],
      "outputs": [],
      "metadata": {
        "id": "QpuSkgqd0H47"
      }
    },
    {
      "cell_type": "markdown",
      "source": [
        "Target feature for prediction."
      ],
      "metadata": {
        "id": "YFjjq5Va0H4_"
      }
    },
    {
      "cell_type": "code",
      "execution_count": 4,
      "source": [
        "#y_value\n",
        "target= ''"
      ],
      "outputs": [],
      "metadata": {
        "id": "dA4wFMnM0H5G"
      }
    },
    {
      "cell_type": "markdown",
      "source": [
        "### Data Fetching\n",
        "\n",
        "Pandas is an open-source, BSD-licensed library providing high-performance, easy-to-use data manipulation and data analysis tools.\n",
        "\n",
        "We will use panda's library to read the CSV file using its storage path.And we use the head function to display the initial row or entry."
      ],
      "metadata": {
        "id": "pJ9MkIsA0H5M"
      }
    },
    {
      "cell_type": "code",
      "execution_count": 5,
      "source": [
        "df=pd.read_csv(file_path)\n",
        "df.head()"
      ],
      "outputs": [
        {
          "output_type": "execute_result",
          "data": {
            "text/html": [
              "<div>\n",
              "<style scoped>\n",
              "    .dataframe tbody tr th:only-of-type {\n",
              "        vertical-align: middle;\n",
              "    }\n",
              "\n",
              "    .dataframe tbody tr th {\n",
              "        vertical-align: top;\n",
              "    }\n",
              "\n",
              "    .dataframe thead th {\n",
              "        text-align: right;\n",
              "    }\n",
              "</style>\n",
              "<table border=\"1\" class=\"dataframe\">\n",
              "  <thead>\n",
              "    <tr style=\"text-align: right;\">\n",
              "      <th></th>\n",
              "      <th>longitude</th>\n",
              "      <th>latitude</th>\n",
              "      <th>housing_median_age</th>\n",
              "      <th>total_rooms</th>\n",
              "      <th>total_bedrooms</th>\n",
              "      <th>population</th>\n",
              "      <th>households</th>\n",
              "      <th>median_income</th>\n",
              "      <th>median_house_value</th>\n",
              "      <th>ocean_proximity</th>\n",
              "    </tr>\n",
              "  </thead>\n",
              "  <tbody>\n",
              "    <tr>\n",
              "      <th>0</th>\n",
              "      <td>-122.23</td>\n",
              "      <td>37.88</td>\n",
              "      <td>41.0</td>\n",
              "      <td>880.0</td>\n",
              "      <td>129.0</td>\n",
              "      <td>322.0</td>\n",
              "      <td>126.0</td>\n",
              "      <td>8.3252</td>\n",
              "      <td>452600.0</td>\n",
              "      <td>NEAR BAY</td>\n",
              "    </tr>\n",
              "    <tr>\n",
              "      <th>1</th>\n",
              "      <td>-122.22</td>\n",
              "      <td>37.86</td>\n",
              "      <td>21.0</td>\n",
              "      <td>7099.0</td>\n",
              "      <td>1106.0</td>\n",
              "      <td>2401.0</td>\n",
              "      <td>1138.0</td>\n",
              "      <td>8.3014</td>\n",
              "      <td>358500.0</td>\n",
              "      <td>NEAR BAY</td>\n",
              "    </tr>\n",
              "    <tr>\n",
              "      <th>2</th>\n",
              "      <td>-122.24</td>\n",
              "      <td>37.85</td>\n",
              "      <td>52.0</td>\n",
              "      <td>1467.0</td>\n",
              "      <td>190.0</td>\n",
              "      <td>496.0</td>\n",
              "      <td>177.0</td>\n",
              "      <td>7.2574</td>\n",
              "      <td>352100.0</td>\n",
              "      <td>NEAR BAY</td>\n",
              "    </tr>\n",
              "    <tr>\n",
              "      <th>3</th>\n",
              "      <td>-122.25</td>\n",
              "      <td>37.85</td>\n",
              "      <td>52.0</td>\n",
              "      <td>1274.0</td>\n",
              "      <td>235.0</td>\n",
              "      <td>558.0</td>\n",
              "      <td>219.0</td>\n",
              "      <td>5.6431</td>\n",
              "      <td>341300.0</td>\n",
              "      <td>NEAR BAY</td>\n",
              "    </tr>\n",
              "    <tr>\n",
              "      <th>4</th>\n",
              "      <td>-122.25</td>\n",
              "      <td>37.85</td>\n",
              "      <td>52.0</td>\n",
              "      <td>1627.0</td>\n",
              "      <td>280.0</td>\n",
              "      <td>565.0</td>\n",
              "      <td>259.0</td>\n",
              "      <td>3.8462</td>\n",
              "      <td>342200.0</td>\n",
              "      <td>NEAR BAY</td>\n",
              "    </tr>\n",
              "  </tbody>\n",
              "</table>\n",
              "</div>"
            ],
            "text/plain": [
              "   longitude  latitude  ...  median_house_value  ocean_proximity\n",
              "0    -122.23     37.88  ...            452600.0         NEAR BAY\n",
              "1    -122.22     37.86  ...            358500.0         NEAR BAY\n",
              "2    -122.24     37.85  ...            352100.0         NEAR BAY\n",
              "3    -122.25     37.85  ...            341300.0         NEAR BAY\n",
              "4    -122.25     37.85  ...            342200.0         NEAR BAY\n",
              "\n",
              "[5 rows x 10 columns]"
            ]
          },
          "metadata": {},
          "execution_count": 5
        }
      ],
      "metadata": {
        "id": "vbejQgrF0H5P",
        "outputId": "96661211-22dd-4dbe-ee37-258f3ce10143",
        "colab": {
          "base_uri": "https://localhost:8080/",
          "height": 206
        }
      }
    },
    {
      "cell_type": "markdown",
      "source": [
        "### Feature Selections\n",
        "\n",
        "It is the process of reducing the number of input variables when developing a predictive model. Used to reduce the number of input variables to both reduce the computational cost of modelling and, in some cases, to improve the performance of the model.\n",
        "\n",
        "We will assign all the required input features to X and target/outcome to Y."
      ],
      "metadata": {
        "id": "A8YNtJX50H5W"
      }
    },
    {
      "cell_type": "code",
      "execution_count": 6,
      "source": [
        "X = df[features]\n",
        "Y = df[target]"
      ],
      "outputs": [],
      "metadata": {
        "id": "_fIkkQ2Y0H5e"
      }
    },
    {
      "cell_type": "markdown",
      "source": [
        "### Data Preprocessing\n",
        "\n",
        "Since the majority of the machine learning models in the Sklearn library doesn't handle string category data and Null value, we have to explicitly remove or replace null values. The below snippet have functions, which removes the null value if any exists. And convert the string classes data in the datasets by encoding them to integer classes.\n"
      ],
      "metadata": {
        "id": "FS9wP5xx0H5h"
      }
    },
    {
      "cell_type": "code",
      "execution_count": 7,
      "source": [
        "def NullClearner(df):\n",
        "    if(isinstance(df, pd.Series) and (df.dtype in [\"float64\",\"int64\"])):\n",
        "        df.fillna(df.mean(),inplace=True)\n",
        "        return df\n",
        "    elif(isinstance(df, pd.Series)):\n",
        "        df.fillna(df.mode()[0],inplace=True)\n",
        "        return df\n",
        "    else:return df\n",
        "def EncodeX(df):\n",
        "    return pd.get_dummies(df)"
      ],
      "outputs": [],
      "metadata": {
        "id": "lVl1mDKN0H5k"
      }
    },
    {
      "cell_type": "code",
      "execution_count": 8,
      "source": [
        "x=X.columns.to_list()\n",
        "for i in x:\n",
        "    X[i]=NullClearner(X[i])  \n",
        "X=EncodeX(X)\n",
        "Y=NullClearner(Y)\n",
        "X.head()"
      ],
      "outputs": [
        {
          "output_type": "execute_result",
          "data": {
            "text/html": [
              "<div>\n",
              "<style scoped>\n",
              "    .dataframe tbody tr th:only-of-type {\n",
              "        vertical-align: middle;\n",
              "    }\n",
              "\n",
              "    .dataframe tbody tr th {\n",
              "        vertical-align: top;\n",
              "    }\n",
              "\n",
              "    .dataframe thead th {\n",
              "        text-align: right;\n",
              "    }\n",
              "</style>\n",
              "<table border=\"1\" class=\"dataframe\">\n",
              "  <thead>\n",
              "    <tr style=\"text-align: right;\">\n",
              "      <th></th>\n",
              "      <th>longitude</th>\n",
              "      <th>latitude</th>\n",
              "      <th>housing_median_age</th>\n",
              "      <th>total_rooms</th>\n",
              "      <th>total_bedrooms</th>\n",
              "      <th>population</th>\n",
              "      <th>households</th>\n",
              "      <th>median_income</th>\n",
              "    </tr>\n",
              "  </thead>\n",
              "  <tbody>\n",
              "    <tr>\n",
              "      <th>0</th>\n",
              "      <td>-122.23</td>\n",
              "      <td>37.88</td>\n",
              "      <td>41.0</td>\n",
              "      <td>880.0</td>\n",
              "      <td>129.0</td>\n",
              "      <td>322.0</td>\n",
              "      <td>126.0</td>\n",
              "      <td>8.3252</td>\n",
              "    </tr>\n",
              "    <tr>\n",
              "      <th>1</th>\n",
              "      <td>-122.22</td>\n",
              "      <td>37.86</td>\n",
              "      <td>21.0</td>\n",
              "      <td>7099.0</td>\n",
              "      <td>1106.0</td>\n",
              "      <td>2401.0</td>\n",
              "      <td>1138.0</td>\n",
              "      <td>8.3014</td>\n",
              "    </tr>\n",
              "    <tr>\n",
              "      <th>2</th>\n",
              "      <td>-122.24</td>\n",
              "      <td>37.85</td>\n",
              "      <td>52.0</td>\n",
              "      <td>1467.0</td>\n",
              "      <td>190.0</td>\n",
              "      <td>496.0</td>\n",
              "      <td>177.0</td>\n",
              "      <td>7.2574</td>\n",
              "    </tr>\n",
              "    <tr>\n",
              "      <th>3</th>\n",
              "      <td>-122.25</td>\n",
              "      <td>37.85</td>\n",
              "      <td>52.0</td>\n",
              "      <td>1274.0</td>\n",
              "      <td>235.0</td>\n",
              "      <td>558.0</td>\n",
              "      <td>219.0</td>\n",
              "      <td>5.6431</td>\n",
              "    </tr>\n",
              "    <tr>\n",
              "      <th>4</th>\n",
              "      <td>-122.25</td>\n",
              "      <td>37.85</td>\n",
              "      <td>52.0</td>\n",
              "      <td>1627.0</td>\n",
              "      <td>280.0</td>\n",
              "      <td>565.0</td>\n",
              "      <td>259.0</td>\n",
              "      <td>3.8462</td>\n",
              "    </tr>\n",
              "  </tbody>\n",
              "</table>\n",
              "</div>"
            ],
            "text/plain": [
              "   longitude  latitude  ...  households  median_income\n",
              "0    -122.23     37.88  ...       126.0         8.3252\n",
              "1    -122.22     37.86  ...      1138.0         8.3014\n",
              "2    -122.24     37.85  ...       177.0         7.2574\n",
              "3    -122.25     37.85  ...       219.0         5.6431\n",
              "4    -122.25     37.85  ...       259.0         3.8462\n",
              "\n",
              "[5 rows x 8 columns]"
            ]
          },
          "metadata": {},
          "execution_count": 8
        }
      ],
      "metadata": {
        "id": "SHfPobyh0H5m",
        "outputId": "4f94166d-1015-406e-ee0a-7536dce67a0b",
        "colab": {
          "base_uri": "https://localhost:8080/",
          "height": 206
        }
      }
    },
    {
      "cell_type": "markdown",
      "source": [
        "#### Correlation Map\n",
        "\n",
        "In order to check the correlation between the features, we will plot a correlation matrix. It is effective in summarizing a large amount of data where the goal is to see patterns."
      ],
      "metadata": {
        "id": "xmXTXP0r0H5q"
      }
    },
    {
      "cell_type": "code",
      "execution_count": 9,
      "source": [
        "f,ax = plt.subplots(figsize=(18, 18))\n",
        "matrix = np.triu(X.corr())\n",
        "se.heatmap(X.corr(), annot=True, linewidths=.5, fmt= '.1f',ax=ax, mask=matrix)\n",
        "plt.show()"
      ],
      "outputs": [
        {
          "output_type": "display_data",
          "data": {
            "image/png": "[encoded data removed]",
            "text/plain": [
              "<Figure size 1296x1296 with 2 Axes>"
            ]
          },
          "metadata": {
            "needs_background": "light"
          }
        }
      ],
      "metadata": {
        "id": "eJaJ28Ja0H5t",
        "outputId": "406ba32e-2e0e-4b48-fc10-31fe9cda0bdd",
        "colab": {
          "base_uri": "https://localhost:8080/",
          "height": 1000
        }
      }
    },
    {
      "cell_type": "markdown",
      "source": [
        "### Data Rescaling\n",
        "\n",
        "`Scale` standardizes a dataset along any axis. It standardizes features by removing the mean and scaling to unit variance.\n",
        "\n",
        "scale is similar to StandardScaler in terms of feature transformation, but unlike StandardScaler, it lacks Transformer API i.e., it does not have fit_transform, transform and other related methods\n",
        "\n",
        "[**For more Reference**](https://scikit-learn.org/stable/modules/generated/sklearn.preprocessing.scale.html)"
      ],
      "metadata": {
        "id": "1ekZBtyP0H5u"
      }
    },
    {
      "cell_type": "code",
      "execution_count": 10,
      "source": [
        "X_Scaled=scale(X)\n",
        "X_Scaled=pd.DataFrame(data = X_Scaled,columns = X.columns)\n",
        "X_Scaled.head()"
      ],
      "outputs": [
        {
          "output_type": "execute_result",
          "data": {
            "text/html": [
              "<div>\n",
              "<style scoped>\n",
              "    .dataframe tbody tr th:only-of-type {\n",
              "        vertical-align: middle;\n",
              "    }\n",
              "\n",
              "    .dataframe tbody tr th {\n",
              "        vertical-align: top;\n",
              "    }\n",
              "\n",
              "    .dataframe thead th {\n",
              "        text-align: right;\n",
              "    }\n",
              "</style>\n",
              "<table border=\"1\" class=\"dataframe\">\n",
              "  <thead>\n",
              "    <tr style=\"text-align: right;\">\n",
              "      <th></th>\n",
              "      <th>longitude</th>\n",
              "      <th>latitude</th>\n",
              "      <th>housing_median_age</th>\n",
              "      <th>total_rooms</th>\n",
              "      <th>total_bedrooms</th>\n",
              "      <th>population</th>\n",
              "      <th>households</th>\n",
              "      <th>median_income</th>\n",
              "    </tr>\n",
              "  </thead>\n",
              "  <tbody>\n",
              "    <tr>\n",
              "      <th>0</th>\n",
              "      <td>-1.327835</td>\n",
              "      <td>1.052548</td>\n",
              "      <td>0.982143</td>\n",
              "      <td>-0.804819</td>\n",
              "      <td>-0.975228</td>\n",
              "      <td>-0.974429</td>\n",
              "      <td>-0.977033</td>\n",
              "      <td>2.344766</td>\n",
              "    </tr>\n",
              "    <tr>\n",
              "      <th>1</th>\n",
              "      <td>-1.322844</td>\n",
              "      <td>1.043185</td>\n",
              "      <td>-0.607019</td>\n",
              "      <td>2.045890</td>\n",
              "      <td>1.355088</td>\n",
              "      <td>0.861439</td>\n",
              "      <td>1.669961</td>\n",
              "      <td>2.332238</td>\n",
              "    </tr>\n",
              "    <tr>\n",
              "      <th>2</th>\n",
              "      <td>-1.332827</td>\n",
              "      <td>1.038503</td>\n",
              "      <td>1.856182</td>\n",
              "      <td>-0.535746</td>\n",
              "      <td>-0.829732</td>\n",
              "      <td>-0.820777</td>\n",
              "      <td>-0.843637</td>\n",
              "      <td>1.782699</td>\n",
              "    </tr>\n",
              "    <tr>\n",
              "      <th>3</th>\n",
              "      <td>-1.337818</td>\n",
              "      <td>1.038503</td>\n",
              "      <td>1.856182</td>\n",
              "      <td>-0.624215</td>\n",
              "      <td>-0.722399</td>\n",
              "      <td>-0.766028</td>\n",
              "      <td>-0.733781</td>\n",
              "      <td>0.932968</td>\n",
              "    </tr>\n",
              "    <tr>\n",
              "      <th>4</th>\n",
              "      <td>-1.337818</td>\n",
              "      <td>1.038503</td>\n",
              "      <td>1.856182</td>\n",
              "      <td>-0.462404</td>\n",
              "      <td>-0.615066</td>\n",
              "      <td>-0.759847</td>\n",
              "      <td>-0.629157</td>\n",
              "      <td>-0.012881</td>\n",
              "    </tr>\n",
              "  </tbody>\n",
              "</table>\n",
              "</div>"
            ],
            "text/plain": [
              "   longitude  latitude  ...  households  median_income\n",
              "0  -1.327835  1.052548  ...   -0.977033       2.344766\n",
              "1  -1.322844  1.043185  ...    1.669961       2.332238\n",
              "2  -1.332827  1.038503  ...   -0.843637       1.782699\n",
              "3  -1.337818  1.038503  ...   -0.733781       0.932968\n",
              "4  -1.337818  1.038503  ...   -0.629157      -0.012881\n",
              "\n",
              "[5 rows x 8 columns]"
            ]
          },
          "metadata": {},
          "execution_count": 10
        }
      ],
      "metadata": {
        "id": "W_czO8oH0H5w",
        "outputId": "6271e841-5f82-4d24-aba5-ac8b7860cc47",
        "colab": {
          "base_uri": "https://localhost:8080/",
          "height": 206
        }
      }
    },
    {
      "cell_type": "markdown",
      "source": [
        "### Choosing the number of components\n",
        "\n",
        "A vital part of using PCA in practice is the ability to estimate how many components are needed to describe the data. This can be determined by looking at the cumulative explained variance ratio as a function of the number of components.\n",
        "\n",
        "This curve quantifies how much of the total, dimensional variance is contained within the first N components. "
      ],
      "metadata": {
        "id": "ecekj7QS0H5x"
      }
    },
    {
      "cell_type": "code",
      "execution_count": 11,
      "source": [
        "pcaComponents = PCA().fit(X_Scaled)\n",
        "plt.plot(np.cumsum(pcaComponents.explained_variance_ratio_))\n",
        "plt.xlabel('number of components')\n",
        "plt.ylabel('cumulative explained variance');"
      ],
      "outputs": [
        {
          "output_type": "display_data",
          "data": {
            "image/png": "[encoded data removed]",
            "text/plain": [
              "<Figure size 432x288 with 1 Axes>"
            ]
          },
          "metadata": {
            "needs_background": "light"
          }
        }
      ],
      "metadata": {
        "id": "2sg8NpDD0H5z",
        "outputId": "905999e3-96ff-44f2-9b9d-3e14bc3c072c",
        "colab": {
          "base_uri": "https://localhost:8080/",
          "height": 278
        }
      }
    },
    {
      "cell_type": "markdown",
      "source": [
        "#### Scree plot\n",
        "The scree plot helps you to determine the optimal number of components. The eigenvalue of each component in the initial solution is plotted. Generally, you want to extract the components on the steep slope. The components on the shallow slope contribute little to the solution. "
      ],
      "metadata": {
        "id": "gUn2lgNX0H50"
      }
    },
    {
      "cell_type": "code",
      "execution_count": 12,
      "source": [
        "PC_values = np.arange(pcaComponents.n_components_) + 1\n",
        "plt.plot(PC_values, pcaComponents.explained_variance_ratio_, 'ro-', linewidth=2)\n",
        "plt.title('Scree Plot')\n",
        "plt.xlabel('Principal Component')\n",
        "plt.ylabel('Proportion of Variance Explained')\n",
        "plt.show()"
      ],
      "outputs": [
        {
          "output_type": "display_data",
          "data": {
            "image/png": "[encoded data removed]",
            "text/plain": [
              "<Figure size 432x288 with 1 Axes>"
            ]
          },
          "metadata": {
            "needs_background": "light"
          }
        }
      ],
      "metadata": {
        "id": "vPa_fvbk0H51",
        "outputId": "a4fc004c-5d02-4178-9db9-1894736ad384",
        "colab": {
          "base_uri": "https://localhost:8080/",
          "height": 294
        }
      }
    },
    {
      "cell_type": "markdown",
      "source": [
        "# Model\n",
        "\n",
        "PCA is used to decompose a multivariate dataset in a set of successive orthogonal components that explain a maximum amount of the variance. In scikit-learn, PCA is implemented as a transformer object that learns  components in its fit method, and can be used on new data to project it on these components.\n",
        "\n",
        "#### Tunning parameters reference : \n",
        "[API](https://scikit-learn.org/stable/modules/generated/sklearn.decomposition.PCA.html)"
      ],
      "metadata": {
        "id": "68dXYCpt0H52"
      }
    },
    {
      "cell_type": "code",
      "execution_count": 13,
      "source": [
        "pca = PCA(n_components=8)\n",
        "pcaX = pd.DataFrame(data = pca.fit_transform(X_Scaled))"
      ],
      "outputs": [],
      "metadata": {
        "id": "QhxUiZIj0H55"
      }
    },
    {
      "cell_type": "markdown",
      "source": [
        "#### Output Dataframe"
      ],
      "metadata": {
        "id": "S8_U3dXt0H5-"
      }
    },
    {
      "cell_type": "code",
      "execution_count": 14,
      "source": [
        "finalDf = pd.concat([pcaX, Y], axis = 1)\n",
        "finalDf.head()"
      ],
      "outputs": [
        {
          "output_type": "execute_result",
          "data": {
            "text/html": [
              "<div>\n",
              "<style scoped>\n",
              "    .dataframe tbody tr th:only-of-type {\n",
              "        vertical-align: middle;\n",
              "    }\n",
              "\n",
              "    .dataframe tbody tr th {\n",
              "        vertical-align: top;\n",
              "    }\n",
              "\n",
              "    .dataframe thead th {\n",
              "        text-align: right;\n",
              "    }\n",
              "</style>\n",
              "<table border=\"1\" class=\"dataframe\">\n",
              "  <thead>\n",
              "    <tr style=\"text-align: right;\">\n",
              "      <th></th>\n",
              "      <th>0</th>\n",
              "      <th>1</th>\n",
              "      <th>2</th>\n",
              "      <th>3</th>\n",
              "      <th>4</th>\n",
              "      <th>5</th>\n",
              "      <th>6</th>\n",
              "      <th>7</th>\n",
              "      <th>median_house_value</th>\n",
              "    </tr>\n",
              "  </thead>\n",
              "  <tbody>\n",
              "    <tr>\n",
              "      <th>0</th>\n",
              "      <td>-2.094402</td>\n",
              "      <td>1.395471</td>\n",
              "      <td>2.049392</td>\n",
              "      <td>1.485851</td>\n",
              "      <td>0.107583</td>\n",
              "      <td>0.147506</td>\n",
              "      <td>0.229908</td>\n",
              "      <td>-0.092903</td>\n",
              "      <td>452600.0</td>\n",
              "    </tr>\n",
              "    <tr>\n",
              "      <th>1</th>\n",
              "      <td>2.943439</td>\n",
              "      <td>1.933379</td>\n",
              "      <td>2.150934</td>\n",
              "      <td>0.956663</td>\n",
              "      <td>-0.423140</td>\n",
              "      <td>0.065082</td>\n",
              "      <td>-0.064847</td>\n",
              "      <td>0.260257</td>\n",
              "      <td>358500.0</td>\n",
              "    </tr>\n",
              "    <tr>\n",
              "      <th>2</th>\n",
              "      <td>-1.970721</td>\n",
              "      <td>1.464207</td>\n",
              "      <td>1.179892</td>\n",
              "      <td>2.098848</td>\n",
              "      <td>0.020763</td>\n",
              "      <td>-0.038914</td>\n",
              "      <td>0.087208</td>\n",
              "      <td>-0.068673</td>\n",
              "      <td>352100.0</td>\n",
              "    </tr>\n",
              "    <tr>\n",
              "      <th>3</th>\n",
              "      <td>-1.920034</td>\n",
              "      <td>1.505871</td>\n",
              "      <td>0.383924</td>\n",
              "      <td>1.764405</td>\n",
              "      <td>-0.007626</td>\n",
              "      <td>0.026096</td>\n",
              "      <td>0.047716</td>\n",
              "      <td>-0.055732</td>\n",
              "      <td>341300.0</td>\n",
              "    </tr>\n",
              "    <tr>\n",
              "      <th>4</th>\n",
              "      <td>-1.777657</td>\n",
              "      <td>1.564584</td>\n",
              "      <td>-0.468533</td>\n",
              "      <td>1.414739</td>\n",
              "      <td>-0.159418</td>\n",
              "      <td>-0.052883</td>\n",
              "      <td>-0.148121</td>\n",
              "      <td>-0.000782</td>\n",
              "      <td>342200.0</td>\n",
              "    </tr>\n",
              "  </tbody>\n",
              "</table>\n",
              "</div>"
            ],
            "text/plain": [
              "          0         1         2  ...         6         7  median_house_value\n",
              "0 -2.094402  1.395471  2.049392  ...  0.229908 -0.092903            452600.0\n",
              "1  2.943439  1.933379  2.150934  ... -0.064847  0.260257            358500.0\n",
              "2 -1.970721  1.464207  1.179892  ...  0.087208 -0.068673            352100.0\n",
              "3 -1.920034  1.505871  0.383924  ...  0.047716 -0.055732            341300.0\n",
              "4 -1.777657  1.564584 -0.468533  ... -0.148121 -0.000782            342200.0\n",
              "\n",
              "[5 rows x 9 columns]"
            ]
          },
          "metadata": {},
          "execution_count": 14
        }
      ],
      "metadata": {
        "id": "5yVbMH3E0H6A",
        "outputId": "2d18f317-6cc8-44c6-f928-e512cdcbe50d",
        "colab": {
          "base_uri": "https://localhost:8080/",
          "height": 206
        }
      }
    },
    {
      "cell_type": "markdown",
      "source": [
        "#### Creator: Vikas Mishra , Github: [Profile](https://github.com/Vikaas08)"
      ],
      "metadata": {
        "id": "Ki8Eg4Hs0H6C"
      }
    }
  ]
}