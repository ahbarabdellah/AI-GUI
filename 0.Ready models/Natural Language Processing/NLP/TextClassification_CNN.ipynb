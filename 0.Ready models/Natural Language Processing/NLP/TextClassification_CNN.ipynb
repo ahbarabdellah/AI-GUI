{
  "nbformat": 4,
  "nbformat_minor": 2,
  "metadata": {
    "colab": {
      "name": "TextClassification_CNN.ipynb",
      "provenance": [],
      "collapsed_sections": []
    },
    "kernelspec": {
      "display_name": "Python 3 (ipykernel)",
      "language": "python",
      "name": "python3"
    },
    "language_info": {
      "codemirror_mode": {
        "name": "ipython",
        "version": 3
      },
      "file_extension": ".py",
      "mimetype": "text/x-python",
      "name": "python",
      "nbconvert_exporter": "python",
      "pygments_lexer": "ipython3",
      "version": "3.9.6"
    },
    "accelerator": "GPU"
  },
  "cells": [
    {
      "cell_type": "markdown",
      "source": [
        "# Text Classification using CNN"
      ],
      "metadata": {
        "id": "iws1EZcbaquY"
      }
    },
    {
      "cell_type": "markdown",
      "source": [
        "This Code Template is for Text Classification using Convolutional Neural Network (CNN, or ConvNet) \r\n",
        "\r\n",
        "<img src=\"https://cdn.blobcity.com/assets/gpu_required.png\"  height=\"25\" style=\"margin-bottom:-15px\" />"
      ],
      "metadata": {
        "id": "3sYA5-5xayzK"
      }
    },
    {
      "cell_type": "markdown",
      "source": [
        "### Required Packages"
      ],
      "metadata": {
        "id": "DxclZ9Jka773"
      }
    },
    {
      "cell_type": "code",
      "execution_count": null,
      "source": [
        "!pip install nltk\r\n",
        "!pip install imblearn"
      ],
      "outputs": [],
      "metadata": {
        "id": "BbzB-KU1g262"
      }
    },
    {
      "cell_type": "code",
      "execution_count": 2,
      "source": [
        "import warnings\r\n",
        "warnings.filterwarnings('ignore')\r\n",
        "import numpy as np \r\n",
        "import pandas as pd \r\n",
        "import seaborn as sns\r\n",
        "import re, string\r\n",
        "import nltk\r\n",
        "import tensorflow as tf\r\n",
        "from keras import callbacks\r\n",
        "import matplotlib.pyplot as plt\r\n",
        "from sklearn.metrics import confusion_matrix\r\n",
        "from tensorflow.keras.optimizers import RMSprop\r\n",
        "from nltk.tokenize import word_tokenize\r\n",
        "from nltk.corpus import stopwords, wordnet\r\n",
        "from nltk.stem import SnowballStemmer, WordNetLemmatizer\r\n",
        "nltk.download('stopwords')\r\n",
        "nltk.download('punkt')\r\n",
        "nltk.download('averaged_perceptron_tagger')\r\n",
        "nltk.download('wordnet')\r\n",
        "from imblearn.over_sampling import RandomOverSampler\r\n",
        "from sklearn.model_selection import train_test_split\r\n",
        "from sklearn.preprocessing import LabelEncoder\r\n",
        "from tensorflow.keras.models import Sequential\r\n",
        "from tensorflow.keras.layers import Embedding,Dense, Activation, MaxPool1D,Conv1D,Flatten,GlobalAveragePooling1D,Dropout\r\n",
        "from tensorflow.keras.optimizers import Adam\r\n",
        "from tensorflow.keras.preprocessing.text import Tokenizer\r\n",
        "from keras.preprocessing.sequence import pad_sequences\r\n",
        "from sklearn.metrics import plot_confusion_matrix,classification_report"
      ],
      "outputs": [
        {
          "output_type": "stream",
          "name": "stdout",
          "text": [
            "[nltk_data] Downloading package stopwords to /root/nltk_data...\n",
            "[nltk_data]   Unzipping corpora/stopwords.zip.\n",
            "[nltk_data] Downloading package punkt to /root/nltk_data...\n",
            "[nltk_data]   Unzipping tokenizers/punkt.zip.\n",
            "[nltk_data] Downloading package averaged_perceptron_tagger to\n",
            "[nltk_data]     /root/nltk_data...\n",
            "[nltk_data]   Unzipping taggers/averaged_perceptron_tagger.zip.\n",
            "[nltk_data] Downloading package wordnet to /root/nltk_data...\n",
            "[nltk_data]   Unzipping corpora/wordnet.zip.\n"
          ]
        }
      ],
      "metadata": {
        "colab": {
          "base_uri": "https://localhost:8080/"
        },
        "id": "DVQ8QbNMa9SM",
        "outputId": "d326a000-9201-4769-f099-bd32ac72525e"
      }
    },
    {
      "cell_type": "markdown",
      "source": [
        "### Initialization"
      ],
      "metadata": {
        "id": "vcKNbYf-cFXE"
      }
    },
    {
      "cell_type": "markdown",
      "source": [
        "Filepath of CSV file"
      ],
      "metadata": {
        "id": "gMC9nA6dcFl2"
      }
    },
    {
      "cell_type": "code",
      "execution_count": 3,
      "source": [
        "#filepath\r\n",
        "file_path= \"\""
      ],
      "outputs": [],
      "metadata": {
        "id": "XYms4d_4cLcc"
      }
    },
    {
      "cell_type": "markdown",
      "source": [
        "**Target** variable for prediction."
      ],
      "metadata": {
        "id": "tYMsqgb2gezr"
      }
    },
    {
      "cell_type": "code",
      "execution_count": 4,
      "source": [
        "target=''"
      ],
      "outputs": [],
      "metadata": {
        "id": "8dqaqzN4ghl9"
      }
    },
    {
      "cell_type": "markdown",
      "source": [
        "Text column containing all the text data\n"
      ],
      "metadata": {
        "id": "thVb7na9glcy"
      }
    },
    {
      "cell_type": "code",
      "execution_count": 5,
      "source": [
        "text=''"
      ],
      "outputs": [],
      "metadata": {
        "id": "FWgps0zmgpB9"
      }
    },
    {
      "cell_type": "markdown",
      "source": [
        "## Data Fetching"
      ],
      "metadata": {
        "id": "-wZ37AFSdTPW"
      }
    },
    {
      "cell_type": "markdown",
      "source": [
        "Pandas is an open-source, BSD-licensed library providing high-performance, easy-to-use data manipulation and data analysis tools.\n",
        "\n",
        "We will use panda's library to read the CSV file using its storage path.And we use the head function to display the initial row or entry."
      ],
      "metadata": {
        "id": "u_bvM8SadTpO"
      }
    },
    {
      "cell_type": "code",
      "execution_count": 6,
      "source": [
        "df=pd.read_csv(file_path)\r\n",
        "df.head()"
      ],
      "outputs": [
        {
          "output_type": "execute_result",
          "data": {
            "text/html": [
              "<div>\n",
              "<style scoped>\n",
              "    .dataframe tbody tr th:only-of-type {\n",
              "        vertical-align: middle;\n",
              "    }\n",
              "\n",
              "    .dataframe tbody tr th {\n",
              "        vertical-align: top;\n",
              "    }\n",
              "\n",
              "    .dataframe thead th {\n",
              "        text-align: right;\n",
              "    }\n",
              "</style>\n",
              "<table border=\"1\" class=\"dataframe\">\n",
              "  <thead>\n",
              "    <tr style=\"text-align: right;\">\n",
              "      <th></th>\n",
              "      <th>Unnamed: 0</th>\n",
              "      <th>Label</th>\n",
              "      <th>EmailText</th>\n",
              "    </tr>\n",
              "  </thead>\n",
              "  <tbody>\n",
              "    <tr>\n",
              "      <th>0</th>\n",
              "      <td>0</td>\n",
              "      <td>ham</td>\n",
              "      <td>Go until jurong point, crazy.. Available only ...</td>\n",
              "    </tr>\n",
              "    <tr>\n",
              "      <th>1</th>\n",
              "      <td>1</td>\n",
              "      <td>ham</td>\n",
              "      <td>Ok lar... Joking wif u oni...</td>\n",
              "    </tr>\n",
              "    <tr>\n",
              "      <th>2</th>\n",
              "      <td>2</td>\n",
              "      <td>spam</td>\n",
              "      <td>Free entry in 2 a wkly comp to win FA Cup fina...</td>\n",
              "    </tr>\n",
              "    <tr>\n",
              "      <th>3</th>\n",
              "      <td>3</td>\n",
              "      <td>ham</td>\n",
              "      <td>U dun say so early hor... U c already then say...</td>\n",
              "    </tr>\n",
              "    <tr>\n",
              "      <th>4</th>\n",
              "      <td>4</td>\n",
              "      <td>ham</td>\n",
              "      <td>Nah I don't think he goes to usf, he lives aro...</td>\n",
              "    </tr>\n",
              "  </tbody>\n",
              "</table>\n",
              "</div>"
            ],
            "text/plain": [
              "   Unnamed: 0 Label                                          EmailText\n",
              "0           0   ham  Go until jurong point, crazy.. Available only ...\n",
              "1           1   ham                      Ok lar... Joking wif u oni...\n",
              "2           2  spam  Free entry in 2 a wkly comp to win FA Cup fina...\n",
              "3           3   ham  U dun say so early hor... U c already then say...\n",
              "4           4   ham  Nah I don't think he goes to usf, he lives aro..."
            ]
          },
          "metadata": {},
          "execution_count": 6
        }
      ],
      "metadata": {
        "colab": {
          "base_uri": "https://localhost:8080/",
          "height": 206
        },
        "id": "vbgp9mOggxtI",
        "outputId": "4040664d-eab2-44d5-feb9-b4e84c4dcce3"
      }
    },
    {
      "cell_type": "markdown",
      "source": [
        "### Data Preprocessing"
      ],
      "metadata": {
        "id": "7FKVbIjqj-0_"
      }
    },
    {
      "cell_type": "markdown",
      "source": [
        "The text data might contain noise in various forms like emotions, punctuation, text in a different case etc. We apply various text preprocessing methods such as converting text to lowercase, remove text in square brackets, remove links, remove special characters and remove words containing numbers to clean the text data and make it ready to feed data to the model.\n",
        "\n",
        "We also apply lemmetization technique to the data which groups together the different canonical forms of a word so they can be analysed as a single item which ultimately improves model accuracy."
      ],
      "metadata": {
        "id": "renAqXpkj-35"
      }
    },
    {
      "cell_type": "code",
      "execution_count": 7,
      "source": [
        "#convert to lowercase, strip and remove punctuations\r\n",
        "def preprocess(text):\r\n",
        "    text = text.lower() \r\n",
        "    text = text.strip()  \r\n",
        "    text = re.compile('<.*?>').sub('', text) \r\n",
        "    text = re.sub(r'[^\\w\\s]', ' ', str(text))                       \r\n",
        "    text = re.sub('\\s+', ' ', text)  \r\n",
        "    text = re.sub(r'\\d',' ',text) \r\n",
        "    text = re.sub(r'(?:^| )\\w(?:$| )', ' ', text).strip()\r\n",
        "    return text\r\n",
        "\r\n",
        "# STOPWORD REMOVAL\r\n",
        "def stopword(string):\r\n",
        "    a= [i for i in string.split() if i not in stopwords.words('english')]\r\n",
        "    return ' '.join(a)\r\n",
        "\r\n",
        "#LEMMATIZATION\r\n",
        "# Initialize the lemmatizer\r\n",
        "wl = WordNetLemmatizer()\r\n",
        " \r\n",
        "# This is a helper function to map NTLK position tags\r\n",
        "def get_wordnet_pos(tag):\r\n",
        "    if tag.startswith('J'):\r\n",
        "        return wordnet.ADJ\r\n",
        "    elif tag.startswith('V'):\r\n",
        "        return wordnet.VERB\r\n",
        "    elif tag.startswith('N'):\r\n",
        "        return wordnet.NOUN\r\n",
        "    elif tag.startswith('R'):\r\n",
        "        return wordnet.ADV\r\n",
        "    else:\r\n",
        "        return wordnet.NOUN\r\n",
        "# Tokenize the sentence\r\n",
        "def lemmatizer(string):\r\n",
        "    word_pos_tags = nltk.pos_tag(word_tokenize(string)) # Get position tags\r\n",
        "    a=[wl.lemmatize(tag[0], get_wordnet_pos(tag[1])) for idx, tag in enumerate(word_pos_tags)] # Map the position tag and lemmatize the word/token\r\n",
        "    return \" \".join(a)\r\n",
        "\r\n",
        "def textfinalpreprocess(string):\r\n",
        "    return preprocess(lemmatizer(stopword(preprocess(string))))\r\n",
        "\r\n",
        "def data_preprocess(df, target):\r\n",
        "    df = df.dropna(axis=0, how = 'any')\r\n",
        "    df[target] = LabelEncoder().fit_transform(df[target])    \r\n",
        "    return df"
      ],
      "outputs": [],
      "metadata": {
        "id": "gy_OFA53kD_J"
      }
    },
    {
      "cell_type": "code",
      "execution_count": 8,
      "source": [
        "df = data_preprocess(df, target)\r\n",
        "df[text] = df[text].apply(lambda x: textfinalpreprocess(x))\r\n",
        "df.head()"
      ],
      "outputs": [
        {
          "output_type": "execute_result",
          "data": {
            "text/html": [
              "<div>\n",
              "<style scoped>\n",
              "    .dataframe tbody tr th:only-of-type {\n",
              "        vertical-align: middle;\n",
              "    }\n",
              "\n",
              "    .dataframe tbody tr th {\n",
              "        vertical-align: top;\n",
              "    }\n",
              "\n",
              "    .dataframe thead th {\n",
              "        text-align: right;\n",
              "    }\n",
              "</style>\n",
              "<table border=\"1\" class=\"dataframe\">\n",
              "  <thead>\n",
              "    <tr style=\"text-align: right;\">\n",
              "      <th></th>\n",
              "      <th>Unnamed: 0</th>\n",
              "      <th>Label</th>\n",
              "      <th>EmailText</th>\n",
              "    </tr>\n",
              "  </thead>\n",
              "  <tbody>\n",
              "    <tr>\n",
              "      <th>0</th>\n",
              "      <td>0</td>\n",
              "      <td>0</td>\n",
              "      <td>go jurong point crazy available bugis great wo...</td>\n",
              "    </tr>\n",
              "    <tr>\n",
              "      <th>1</th>\n",
              "      <td>1</td>\n",
              "      <td>0</td>\n",
              "      <td>ok lar joking wif oni</td>\n",
              "    </tr>\n",
              "    <tr>\n",
              "      <th>2</th>\n",
              "      <td>2</td>\n",
              "      <td>1</td>\n",
              "      <td>free entry wkly comp win fa cup final tkts st ...</td>\n",
              "    </tr>\n",
              "    <tr>\n",
              "      <th>3</th>\n",
              "      <td>3</td>\n",
              "      <td>0</td>\n",
              "      <td>dun say early hor already say</td>\n",
              "    </tr>\n",
              "    <tr>\n",
              "      <th>4</th>\n",
              "      <td>4</td>\n",
              "      <td>0</td>\n",
              "      <td>nah think go usf life around though</td>\n",
              "    </tr>\n",
              "  </tbody>\n",
              "</table>\n",
              "</div>"
            ],
            "text/plain": [
              "   Unnamed: 0  Label                                          EmailText\n",
              "0           0      0  go jurong point crazy available bugis great wo...\n",
              "1           1      0                              ok lar joking wif oni\n",
              "2           2      1  free entry wkly comp win fa cup final tkts st ...\n",
              "3           3      0                      dun say early hor already say\n",
              "4           4      0                nah think go usf life around though"
            ]
          },
          "metadata": {},
          "execution_count": 8
        }
      ],
      "metadata": {
        "colab": {
          "base_uri": "https://localhost:8080/",
          "height": 206
        },
        "id": "4ajKAt-1v220",
        "outputId": "5a10710b-bab3-4a42-8dee-2e1977c83827"
      }
    },
    {
      "cell_type": "markdown",
      "source": [
        "### Feature Selections"
      ],
      "metadata": {
        "id": "_pAHqMokjI0Q"
      }
    },
    {
      "cell_type": "markdown",
      "source": [
        "It is the process of reducing the number of input variables when developing a predictive model. Used to reduce the number of input variables to both reduce the computational cost of modelling and, in some cases, to improve the performance of the model.\n",
        "\n",
        "We will assign all the required input features to X and target/outcome to Y."
      ],
      "metadata": {
        "id": "mtsrehs6jJDK"
      }
    },
    {
      "cell_type": "code",
      "execution_count": 9,
      "source": [
        "X=df[text]\r\n",
        "Y=df[target]"
      ],
      "outputs": [],
      "metadata": {
        "id": "_MNVdxu6jMjD"
      }
    },
    {
      "cell_type": "markdown",
      "source": [
        "#### Distribution Of Target Variable"
      ],
      "metadata": {
        "id": "RwwCPRS3Du30"
      }
    },
    {
      "cell_type": "code",
      "execution_count": 10,
      "source": [
        "plt.figure(figsize = (10,6))\r\n",
        "sns.countplot(Y)"
      ],
      "outputs": [
        {
          "output_type": "execute_result",
          "data": {
            "text/plain": [
              "<matplotlib.axes._subplots.AxesSubplot at 0x7efca02e3f50>"
            ]
          },
          "metadata": {},
          "execution_count": 10
        },
        {
          "output_type": "display_data",
          "data": {
            "image/png": "[encoded data removed]",
            "text/plain": [
              "<Figure size 720x432 with 1 Axes>"
            ]
          },
          "metadata": {
            "needs_background": "light"
          }
        }
      ],
      "metadata": {
        "colab": {
          "base_uri": "https://localhost:8080/",
          "height": 406
        },
        "id": "dobw-AfYDy3g",
        "outputId": "f4d8cec5-1045-4db5-a1d4-7683af2b1fb1"
      }
    },
    {
      "cell_type": "markdown",
      "source": [
        "### Data Splitting\n",
        "Since we are using a univariate dataset, we can directly split our data into training and testing subsets. The first subset is utilized to fit/train the model. The second subset is used for prediction. The main motive is to estimate the performance of the model on new data."
      ],
      "metadata": {
        "id": "u3iVx_6v_-De"
      }
    },
    {
      "cell_type": "code",
      "execution_count": 11,
      "source": [
        "x_train,x_test,y_train,y_test=train_test_split(X,Y,test_size=0.2,random_state=24)"
      ],
      "outputs": [],
      "metadata": {
        "id": "jKoGwzU3AAkW"
      }
    },
    {
      "cell_type": "markdown",
      "source": [
        "## Model"
      ],
      "metadata": {
        "id": "d4ByFdUKCQ7k"
      }
    },
    {
      "cell_type": "markdown",
      "source": [
        "In deep learning, a convolutional neural network (CNN, or ConvNet) is a class of artificial neural network, most commonly applied to analyze visual imagery. They take advantage of the hierarchical pattern in data and assemble patterns of increasing complexity using smaller and simpler patterns embossed in their filters. Therefore, on a scale of connectivity and complexity, CNNs are on the lower extreme.\r\n",
        "\r\n",
        "Conv1D means each channel in the input and filter is 1 dimensional.\r\n",
        "\r\n",
        "Refer Conv1D [API](https://www.tensorflow.org/api_docs/python/tf/keras/layers/Conv1D)"
      ],
      "metadata": {
        "id": "DOhgjmbaCQwC"
      }
    },
    {
      "cell_type": "code",
      "execution_count": 12,
      "source": [
        "tokenizer = Tokenizer()\r\n",
        "tokenizer.fit_on_texts(X)\r\n",
        "max_length = max([len(s.split()) for s in X])\r\n",
        "vocab_size = len(tokenizer.word_index)+1"
      ],
      "outputs": [],
      "metadata": {
        "id": "wuGwBj8RFRiS"
      }
    },
    {
      "cell_type": "code",
      "execution_count": 13,
      "source": [
        "x_train_tokens = tokenizer.texts_to_sequences(x_train)\r\n",
        "x_test_tokens = tokenizer.texts_to_sequences(x_test)\r\n",
        "x_train_pad = pad_sequences(x_train_tokens, padding='post', maxlen=max_length)\r\n",
        "x_test_pad = pad_sequences(x_test_tokens, padding='post', maxlen=max_length)"
      ],
      "outputs": [],
      "metadata": {
        "id": "LFdM2s73jmjI"
      }
    },
    {
      "cell_type": "code",
      "execution_count": 14,
      "source": [
        "tf.random.set_seed(24)\r\n",
        "textcnnmodel = Sequential()\r\n",
        "textcnnmodel.add(Embedding(vocab_size,256, input_length=max_length))\r\n",
        "textcnnmodel.add(Conv1D(128,3,activation='relu'))\r\n",
        "textcnnmodel.add(MaxPool1D(pool_size=4,strides=3))\r\n",
        "textcnnmodel.add(GlobalAveragePooling1D())\r\n",
        "textcnnmodel.add(Flatten())\r\n",
        "textcnnmodel.add(Dense(64, activation='relu'))\r\n",
        "textcnnmodel.add(Dense(32, activation='relu'))\r\n",
        "textcnnmodel.add(Dense(16, activation='relu'))\r\n",
        "textcnnmodel.add(Dense(1 if len(Y.unique())<=2 else len(Y.unique()), activation='sigmoid' if len(Y.unique())<=2 else 'softmax'))\r\n",
        "if len(Y.unique())==2:\r\n",
        "  textcnnmodel.compile(optimizer='adam',loss=tf.losses.BinaryCrossentropy(),metrics=['accuracy'])\r\n",
        "else: \r\n",
        "  textcnnmodel.compile(optimizer='adam',loss='sparse_categorical_crossentropy',metrics=['accuracy'])\r\n",
        "textcnnmodel.summary() "
      ],
      "outputs": [
        {
          "output_type": "stream",
          "name": "stdout",
          "text": [
            "Model: \"sequential\"\n",
            "_________________________________________________________________\n",
            "Layer (type)                 Output Shape              Param #   \n",
            "=================================================================\n",
            "embedding (Embedding)        (None, 75, 256)           1706240   \n",
            "_________________________________________________________________\n",
            "conv1d (Conv1D)              (None, 73, 128)           98432     \n",
            "_________________________________________________________________\n",
            "max_pooling1d (MaxPooling1D) (None, 24, 128)           0         \n",
            "_________________________________________________________________\n",
            "global_average_pooling1d (Gl (None, 128)               0         \n",
            "_________________________________________________________________\n",
            "flatten (Flatten)            (None, 128)               0         \n",
            "_________________________________________________________________\n",
            "dense (Dense)                (None, 64)                8256      \n",
            "_________________________________________________________________\n",
            "dense_1 (Dense)              (None, 32)                2080      \n",
            "_________________________________________________________________\n",
            "dense_2 (Dense)              (None, 16)                528       \n",
            "_________________________________________________________________\n",
            "dense_3 (Dense)              (None, 1)                 17        \n",
            "=================================================================\n",
            "Total params: 1,815,553\n",
            "Trainable params: 1,815,553\n",
            "Non-trainable params: 0\n",
            "_________________________________________________________________\n"
          ]
        }
      ],
      "metadata": {
        "colab": {
          "base_uri": "https://localhost:8080/"
        },
        "id": "L4oOsH4HJQRi",
        "outputId": "acf5c78c-46ae-4d75-b11b-e282d35c58b2"
      }
    },
    {
      "cell_type": "code",
      "execution_count": 15,
      "source": [
        "earlystopping=callbacks.EarlyStopping(monitor='val_loss',mode='min',patience=3,restore_best_weights=True)\n",
        "textcnnmodel.fit(x_train_pad, y_train,epochs=15,validation_data=(x_test_pad, y_test),callbacks=[earlystopping])"
      ],
      "outputs": [
        {
          "output_type": "stream",
          "name": "stdout",
          "text": [
            "Epoch 1/15\n",
            "140/140 [==============================] - 34s 12ms/step - loss: 0.2778 - accuracy: 0.8948 - val_loss: 0.1141 - val_accuracy: 0.9641\n",
            "Epoch 2/15\n",
            "140/140 [==============================] - 1s 10ms/step - loss: 0.0608 - accuracy: 0.9829 - val_loss: 0.0609 - val_accuracy: 0.9812\n",
            "Epoch 3/15\n",
            "140/140 [==============================] - 1s 10ms/step - loss: 0.0312 - accuracy: 0.9910 - val_loss: 0.0536 - val_accuracy: 0.9839\n",
            "Epoch 4/15\n",
            "140/140 [==============================] - 1s 10ms/step - loss: 0.0138 - accuracy: 0.9964 - val_loss: 0.1082 - val_accuracy: 0.9668\n",
            "Epoch 5/15\n",
            "140/140 [==============================] - 1s 10ms/step - loss: 0.0089 - accuracy: 0.9980 - val_loss: 0.0637 - val_accuracy: 0.9883\n",
            "Epoch 6/15\n",
            "140/140 [==============================] - 1s 10ms/step - loss: 0.0069 - accuracy: 0.9987 - val_loss: 0.0642 - val_accuracy: 0.9857\n"
          ]
        },
        {
          "output_type": "execute_result",
          "data": {
            "text/plain": [
              "<keras.callbacks.History at 0x7efc90092150>"
            ]
          },
          "metadata": {},
          "execution_count": 15
        }
      ],
      "metadata": {
        "colab": {
          "base_uri": "https://localhost:8080/"
        },
        "id": "QQtwrc08NXFp",
        "outputId": "5966050a-5b13-49d2-d02b-48c9c7848142"
      }
    },
    {
      "cell_type": "markdown",
      "source": [
        "#### Model Evalution\n",
        "\n",
        "\n"
      ],
      "metadata": {
        "id": "GYatcCDDC2JP"
      }
    },
    {
      "cell_type": "code",
      "execution_count": 16,
      "source": [
        "loss, accuracy = textcnnmodel.evaluate(x_train_pad, y_train, verbose=False)\n",
        "print(\"Training Accuracy: {:.4f}\".format(accuracy))\n",
        "loss, accuracy = textcnnmodel.evaluate(x_test_pad, y_test, verbose=False)\n",
        "print(\"Testing Accuracy:  {:.4f}\".format(accuracy)) "
      ],
      "outputs": [
        {
          "output_type": "stream",
          "name": "stdout",
          "text": [
            "Training Accuracy: 0.9962\n",
            "Testing Accuracy:  0.9839\n"
          ]
        }
      ],
      "metadata": {
        "colab": {
          "base_uri": "https://localhost:8080/"
        },
        "id": "rwj7Dg-6nWby",
        "outputId": "eb0ced23-9678-4cd9-f4e5-dcb1454ebca5"
      }
    },
    {
      "cell_type": "markdown",
      "source": [
        "#### Confusion Matrix\n",
        "A confusion matrix is utilized to understand the performance of the classification model or algorithm in machine learning for a given test set where results are known."
      ],
      "metadata": {
        "id": "yas-d-CAC9bz"
      }
    },
    {
      "cell_type": "code",
      "execution_count": 17,
      "source": [
        "if len(Y.unique())==2:\n",
        "  y_pred=np.round(textcnnmodel.predict(x_test_pad))\n",
        "else: \n",
        "  y_pred=np.argmax(textcnnmodel.predict(x_test_pad),axis=1) \n",
        "y_pred[:10]"
      ],
      "outputs": [
        {
          "output_type": "execute_result",
          "data": {
            "text/plain": [
              "array([[0.],\n",
              "       [1.],\n",
              "       [0.],\n",
              "       [0.],\n",
              "       [0.],\n",
              "       [0.],\n",
              "       [0.],\n",
              "       [0.],\n",
              "       [0.],\n",
              "       [1.]], dtype=float32)"
            ]
          },
          "metadata": {},
          "execution_count": 17
        }
      ],
      "metadata": {
        "colab": {
          "base_uri": "https://localhost:8080/"
        },
        "id": "TXLu7df2RTzE",
        "outputId": "5d77884e-282e-4d6d-cf1b-87bf1940fb86"
      }
    },
    {
      "cell_type": "code",
      "execution_count": 18,
      "source": [
        "conf_mat=confusion_matrix(y_test,y_pred)\n",
        "sns.heatmap(conf_mat,annot=True,cmap='Blues',fmt='g')\n",
        "plt.ylabel('True label')\n",
        "plt.xlabel('Predicted label')"
      ],
      "outputs": [
        {
          "output_type": "execute_result",
          "data": {
            "text/plain": [
              "Text(0.5, 15.0, 'Predicted label')"
            ]
          },
          "metadata": {},
          "execution_count": 18
        },
        {
          "output_type": "display_data",
          "data": {
            "image/png": "[encoded data removed]",
            "text/plain": [
              "<Figure size 432x288 with 2 Axes>"
            ]
          },
          "metadata": {
            "needs_background": "light"
          }
        }
      ],
      "metadata": {
        "colab": {
          "base_uri": "https://localhost:8080/",
          "height": 297
        },
        "id": "MXz0euBYC-95",
        "outputId": "e91234bb-461c-4316-bdc1-c1fec581ebf3"
      }
    },
    {
      "cell_type": "markdown",
      "source": [
        "#### Classification Report\n",
        "A Classification report is used to measure the quality of predictions from a classification algorithm. How many predictions are True, how many are False.\n",
        "* Where:\n",
        "  - Precision:- Accuracy of positive predictions.\n",
        "  -  Recall:- Fraction of positives that were correctly identified.\n",
        "  -  F1-score:- Percent of positive predictions were correct\n",
        "  -  Support:- Support is the number of actual occurrences of the class in the specified dataset."
      ],
      "metadata": {
        "id": "gny6G4OsDBTT"
      }
    },
    {
      "cell_type": "code",
      "execution_count": 19,
      "source": [
        "print(classification_report(y_test,y_pred))"
      ],
      "outputs": [
        {
          "output_type": "stream",
          "name": "stdout",
          "text": [
            "              precision    recall  f1-score   support\n",
            "\n",
            "           0       0.99      0.99      0.99       971\n",
            "           1       0.95      0.92      0.94       144\n",
            "\n",
            "    accuracy                           0.98      1115\n",
            "   macro avg       0.97      0.96      0.96      1115\n",
            "weighted avg       0.98      0.98      0.98      1115\n",
            "\n"
          ]
        }
      ],
      "metadata": {
        "colab": {
          "base_uri": "https://localhost:8080/"
        },
        "id": "AowdAdt4DaPh",
        "outputId": "97b4cb0a-2d3f-4c68-dc74-88379a9fcb14"
      }
    },
    {
      "cell_type": "markdown",
      "source": [
        "####**Creator: Aishwarya Guntoju , Github: [Profile](https://github.com/DSAishwaryaG)**"
      ],
      "metadata": {
        "id": "R2tcbGJGDhK4"
      }
    }
  ]
}