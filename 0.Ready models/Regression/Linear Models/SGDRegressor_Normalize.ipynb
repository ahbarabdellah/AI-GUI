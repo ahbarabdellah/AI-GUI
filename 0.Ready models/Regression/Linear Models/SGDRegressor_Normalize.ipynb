{
 "cells": [
  {
   "cell_type": "markdown",
   "source": [
    "# Stochastic Gradient Descent Regression with Normalize"
   ],
   "metadata": {}
  },
  {
   "cell_type": "markdown",
   "source": [
    "This Code template is for regression analysis using SGDRegressor based on the Stochastic Gradient Descent approach using feature scaling via Normalizer"
   ],
   "metadata": {}
  },
  {
   "cell_type": "markdown",
   "source": [
    "### Required Packages"
   ],
   "metadata": {}
  },
  {
   "cell_type": "code",
   "execution_count": 183,
   "source": [
    "import warnings \r\n",
    "import numpy as np \r\n",
    "import pandas as pd \r\n",
    "import seaborn as se \r\n",
    "import matplotlib.pyplot as plt \r\n",
    "from sklearn.preprocessing import Normalizer\r\n",
    "from sklearn.model_selection import train_test_split\r\n",
    "from sklearn.metrics import r2_score, mean_absolute_error, mean_squared_error \r\n",
    "from sklearn.linear_model import SGDRegressor\r\n",
    "warnings.filterwarnings('ignore')"
   ],
   "outputs": [],
   "metadata": {}
  },
  {
   "cell_type": "markdown",
   "source": [
    "### Initialization\n",
    "Filepath of CSV file"
   ],
   "metadata": {}
  },
  {
   "cell_type": "code",
   "execution_count": 184,
   "source": [
    "#filepath\r\n",
    "file_path= \"\""
   ],
   "outputs": [],
   "metadata": {}
  },
  {
   "cell_type": "markdown",
   "source": [
    "List of features which are  required for model training ."
   ],
   "metadata": {}
  },
  {
   "cell_type": "code",
   "execution_count": 185,
   "source": [
    "#x_values\r\n",
    "features=[]"
   ],
   "outputs": [],
   "metadata": {}
  },
  {
   "cell_type": "markdown",
   "source": [
    "Target feature for prediction."
   ],
   "metadata": {}
  },
  {
   "cell_type": "code",
   "execution_count": 186,
   "source": [
    "#y_value\n",
    "target=''"
   ],
   "outputs": [],
   "metadata": {}
  },
  {
   "cell_type": "markdown",
   "source": [
    "### Data Fetching\n",
    "\n",
    "Pandas is an open-source, BSD-licensed library providing high-performance, easy-to-use data manipulation and data analysis tools.\n",
    "\n",
    "We will use panda's library to read the CSV file using its storage path.And we use the head function to display the initial row or entry."
   ],
   "metadata": {}
  },
  {
   "cell_type": "code",
   "execution_count": 187,
   "source": [
    "df=pd.read_csv(file_path)\n",
    "df.head()"
   ],
   "outputs": [
    {
     "output_type": "execute_result",
     "data": {
      "text/html": [
       "<div>\n",
       "<style scoped>\n",
       "    .dataframe tbody tr th:only-of-type {\n",
       "        vertical-align: middle;\n",
       "    }\n",
       "\n",
       "    .dataframe tbody tr th {\n",
       "        vertical-align: top;\n",
       "    }\n",
       "\n",
       "    .dataframe thead th {\n",
       "        text-align: right;\n",
       "    }\n",
       "</style>\n",
       "<table border=\"1\" class=\"dataframe\">\n",
       "  <thead>\n",
       "    <tr style=\"text-align: right;\">\n",
       "      <th></th>\n",
       "      <th>serNum</th>\n",
       "      <th>thick</th>\n",
       "      <th>stitchDen</th>\n",
       "      <th>elong</th>\n",
       "      <th>cotton</th>\n",
       "      <th>sewThrdCns</th>\n",
       "    </tr>\n",
       "  </thead>\n",
       "  <tbody>\n",
       "    <tr>\n",
       "      <th>0</th>\n",
       "      <td>1</td>\n",
       "      <td>1.44</td>\n",
       "      <td>3</td>\n",
       "      <td>3.8</td>\n",
       "      <td>1</td>\n",
       "      <td>12.50</td>\n",
       "    </tr>\n",
       "    <tr>\n",
       "      <th>1</th>\n",
       "      <td>2</td>\n",
       "      <td>1.44</td>\n",
       "      <td>4</td>\n",
       "      <td>3.8</td>\n",
       "      <td>1</td>\n",
       "      <td>13.15</td>\n",
       "    </tr>\n",
       "    <tr>\n",
       "      <th>2</th>\n",
       "      <td>3</td>\n",
       "      <td>1.44</td>\n",
       "      <td>5</td>\n",
       "      <td>3.8</td>\n",
       "      <td>1</td>\n",
       "      <td>13.70</td>\n",
       "    </tr>\n",
       "    <tr>\n",
       "      <th>3</th>\n",
       "      <td>4</td>\n",
       "      <td>2.88</td>\n",
       "      <td>3</td>\n",
       "      <td>3.8</td>\n",
       "      <td>1</td>\n",
       "      <td>15.10</td>\n",
       "    </tr>\n",
       "    <tr>\n",
       "      <th>4</th>\n",
       "      <td>5</td>\n",
       "      <td>2.88</td>\n",
       "      <td>4</td>\n",
       "      <td>3.8</td>\n",
       "      <td>1</td>\n",
       "      <td>16.30</td>\n",
       "    </tr>\n",
       "  </tbody>\n",
       "</table>\n",
       "</div>"
      ],
      "text/plain": [
       "   serNum  thick  stitchDen  elong  cotton  sewThrdCns\n",
       "0       1   1.44          3    3.8       1       12.50\n",
       "1       2   1.44          4    3.8       1       13.15\n",
       "2       3   1.44          5    3.8       1       13.70\n",
       "3       4   2.88          3    3.8       1       15.10\n",
       "4       5   2.88          4    3.8       1       16.30"
      ]
     },
     "metadata": {},
     "execution_count": 187
    }
   ],
   "metadata": {}
  },
  {
   "cell_type": "markdown",
   "source": [
    "### Feature Selections\n",
    "\n",
    "It is the process of reducing the number of input variables when developing a predictive model. Used to reduce the number of input variables to both reduce the computational cost of modelling and, in some cases, to improve the performance of the model.\n",
    "\n",
    "We will assign all the required input features to X and target/outcome to Y."
   ],
   "metadata": {}
  },
  {
   "cell_type": "code",
   "execution_count": 188,
   "source": [
    "X=df[features]\n",
    "Y=df[target]"
   ],
   "outputs": [],
   "metadata": {}
  },
  {
   "cell_type": "markdown",
   "source": [
    "### Data Preprocessing\n",
    "\n",
    "Since the majority of the machine learning models in the Sklearn library doesn't handle string category data and Null value, we have to explicitly remove or replace null values. The below snippet have functions, which removes the null value if any exists. And convert the string classes data in the datasets by encoding them to integer classes.\n"
   ],
   "metadata": {}
  },
  {
   "cell_type": "code",
   "execution_count": 189,
   "source": [
    "def NullClearner(df):\n",
    "    if(isinstance(df, pd.Series) and (df.dtype in [\"float64\",\"int64\"])):\n",
    "        df.fillna(df.mean(),inplace=True)\n",
    "        return df\n",
    "    elif(isinstance(df, pd.Series)):\n",
    "        df.fillna(df.mode()[0],inplace=True)\n",
    "        return df\n",
    "    else:return df\n",
    "def EncodeX(df):\n",
    "    return pd.get_dummies(df)"
   ],
   "outputs": [],
   "metadata": {}
  },
  {
   "cell_type": "markdown",
   "source": [
    "Calling preprocessing functions on the feature and target set.\n"
   ],
   "metadata": {}
  },
  {
   "cell_type": "code",
   "execution_count": 191,
   "source": [
    "x=X.columns.to_list()\n",
    "for i in x:\n",
    "    X[i]=NullClearner(X[i])\n",
    "X=EncodeX(X)\n",
    "Y=NullClearner(Y)\n",
    "X.head()"
   ],
   "outputs": [
    {
     "output_type": "execute_result",
     "data": {
      "text/html": [
       "<div>\n",
       "<style scoped>\n",
       "    .dataframe tbody tr th:only-of-type {\n",
       "        vertical-align: middle;\n",
       "    }\n",
       "\n",
       "    .dataframe tbody tr th {\n",
       "        vertical-align: top;\n",
       "    }\n",
       "\n",
       "    .dataframe thead th {\n",
       "        text-align: right;\n",
       "    }\n",
       "</style>\n",
       "<table border=\"1\" class=\"dataframe\">\n",
       "  <thead>\n",
       "    <tr style=\"text-align: right;\">\n",
       "      <th></th>\n",
       "      <th>thick</th>\n",
       "      <th>stitchDen</th>\n",
       "      <th>elong</th>\n",
       "      <th>cotton</th>\n",
       "    </tr>\n",
       "  </thead>\n",
       "  <tbody>\n",
       "    <tr>\n",
       "      <th>0</th>\n",
       "      <td>1.44</td>\n",
       "      <td>3</td>\n",
       "      <td>3.8</td>\n",
       "      <td>1</td>\n",
       "    </tr>\n",
       "    <tr>\n",
       "      <th>1</th>\n",
       "      <td>1.44</td>\n",
       "      <td>4</td>\n",
       "      <td>3.8</td>\n",
       "      <td>1</td>\n",
       "    </tr>\n",
       "    <tr>\n",
       "      <th>2</th>\n",
       "      <td>1.44</td>\n",
       "      <td>5</td>\n",
       "      <td>3.8</td>\n",
       "      <td>1</td>\n",
       "    </tr>\n",
       "    <tr>\n",
       "      <th>3</th>\n",
       "      <td>2.88</td>\n",
       "      <td>3</td>\n",
       "      <td>3.8</td>\n",
       "      <td>1</td>\n",
       "    </tr>\n",
       "    <tr>\n",
       "      <th>4</th>\n",
       "      <td>2.88</td>\n",
       "      <td>4</td>\n",
       "      <td>3.8</td>\n",
       "      <td>1</td>\n",
       "    </tr>\n",
       "  </tbody>\n",
       "</table>\n",
       "</div>"
      ],
      "text/plain": [
       "   thick  stitchDen  elong  cotton\n",
       "0   1.44          3    3.8       1\n",
       "1   1.44          4    3.8       1\n",
       "2   1.44          5    3.8       1\n",
       "3   2.88          3    3.8       1\n",
       "4   2.88          4    3.8       1"
      ]
     },
     "metadata": {},
     "execution_count": 191
    }
   ],
   "metadata": {}
  },
  {
   "cell_type": "markdown",
   "source": [
    "#### Correlation Map\n",
    "\n",
    "In order to check the correlation between the features, we will plot a correlation matrix. It is effective in summarizing a large amount of data where the goal is to see patterns."
   ],
   "metadata": {}
  },
  {
   "cell_type": "code",
   "execution_count": 192,
   "source": [
    "f,ax = plt.subplots(figsize=(18, 18))\n",
    "matrix = np.triu(X.corr())\n",
    "se.heatmap(X.corr(), annot=True, linewidths=.5, fmt= '.1f',ax=ax, mask=matrix)\n",
    "plt.show()"
   ],
   "outputs": [
    {
     "output_type": "display_data",
     "data": {
      "image/png": "[encoded data removed]",
      "text/plain": [
       "<Figure size 1296x1296 with 2 Axes>"
      ]
     },
     "metadata": {
      "needs_background": "light"
     }
    }
   ],
   "metadata": {}
  },
  {
   "cell_type": "markdown",
   "source": [
    "### Data Splitting\n",
    "\n",
    "The train-test split is a procedure for evaluating the performance of an algorithm. The procedure involves taking a dataset and dividing it into two subsets. The first subset is utilized to fit/train the model. The second subset is used for prediction. The main motive is to estimate the performance of the model on new data."
   ],
   "metadata": {}
  },
  {
   "cell_type": "code",
   "execution_count": 193,
   "source": [
    "x_train,x_test,y_train,y_test=train_test_split(X,Y,test_size=0.2,random_state=123)"
   ],
   "outputs": [],
   "metadata": {}
  },
  {
   "cell_type": "markdown",
   "source": [
    "### Data Rescaling\n",
    "\n",
    "Normalizer normalizes samples individually to unit norm where each sample (i.e. each row) with at least one non zero component is rescaled independently of other samples so that its norm (l1, l2 or inf) equals one.\n",
    "\n",
    "We will fit an object of Normalizer to train data then transform the same data via fit_transform(X_train) method, following which we will transform test data via transform(X_test) method.\n",
    "\n",
    "#### Parameters\n",
    "    1. norm{‘l1’, ‘l2’, ‘max’}, default=’l2’\n",
    "> The norm to use to normalize each non zero sample. If norm=’max’ is used, values will be rescaled by the maximum of the absolute values.\n",
    "\n",
    "    2. copy : bool, default=True\n",
    "> set to False to perform inplace row normalization and avoid a copy (if the input is already a numpy array or a scipy.sparse CSR matrix)."
   ],
   "metadata": {}
  },
  {
   "cell_type": "code",
   "execution_count": 194,
   "source": [
    "normalizer = Normalizer()\n",
    "x_train = normalizer.fit_transform(x_train)\n",
    "x_test = normalizer.transform(x_test)"
   ],
   "outputs": [],
   "metadata": {}
  },
  {
   "cell_type": "markdown",
   "source": [
    "### Model\n",
    "\n",
    "Stochastic Gradient Descent (SGD) is a simple yet very efficient approach to fitting linear classifiers and regressors under convex loss functions such as (linear) Support Vector Machines and Logistic Regression. SGD is merely an optimization technique and does not correspond to a specific family of machine learning models. It is only a way to train a model. Often, an instance of SGDClassifier or SGDRegressor will have an equivalent estimator in the scikit-learn API, potentially using a different optimization technique.\n",
    "\n",
    "\n",
    "For example, using SGDRegressor(loss='squared_loss', penalty='l2') and Ridge solve the same optimization problem, via different means.\n",
    "\n",
    "#### Model Tuning Parameters\n",
    "> - **loss** -> The loss function to be used. The possible values are ‘squared_loss’, ‘huber’, ‘epsilon_insensitive’, or ‘squared_epsilon_insensitive’\n",
    "> - **penalty** -> The penalty (aka regularization term) to be used. Defaults to ‘l2’ which is the standard regularizer for linear SVM models. ‘l1’ and ‘elasticnet’ might bring sparsity to the model (feature selection) not achievable with ‘l2’.\n",
    "> - **alpha** -> Constant that multiplies the regularization term. The higher the value, the stronger the regularization. Also used to compute the learning rate when set to learning_rate is set to ‘optimal’.\n",
    "> - **l1_ratio** -> The Elastic Net mixing parameter, with 0 <= l1_ratio <= 1. l1_ratio=0 corresponds to L2 penalty, l1_ratio=1 to L1. Only used if penalty is ‘elasticnet’.\n",
    "> - **tol** -> The stopping criterion\n",
    "> - **learning_rate** -> The learning rate schedule,possible values {'optimal','constant','invscaling','adaptive'}\n",
    "> - **eta0** -> The initial learning rate for the ‘constant’, ‘invscaling’ or ‘adaptive’ schedules.\n",
    "> - **power_t** -> The exponent for inverse scaling learning rate.\n",
    "> - **epsilon** -> Epsilon in the epsilon-insensitive loss functions; only if loss is ‘huber’, ‘epsilon_insensitive’, or ‘squared_epsilon_insensitive’."
   ],
   "metadata": {}
  },
  {
   "cell_type": "code",
   "execution_count": 199,
   "source": [
    "model = SGDRegressor(random_state=12)\n",
    "model.fit(x_train, y_train)"
   ],
   "outputs": [
    {
     "output_type": "execute_result",
     "data": {
      "text/plain": [
       "SGDRegressor(random_state=12)"
      ]
     },
     "metadata": {},
     "execution_count": 199
    }
   ],
   "metadata": {}
  },
  {
   "cell_type": "markdown",
   "source": [
    "#### Model Accuracy\n",
    "\n",
    "We will use the trained model to make a prediction on the test set.Then use the predicted value for measuring the accuracy of our model.\n",
    "\n",
    "score: The score function returns the coefficient of determination R2 of the prediction.\n"
   ],
   "metadata": {}
  },
  {
   "cell_type": "code",
   "execution_count": 200,
   "source": [
    "print(\"Accuracy score {:.2f} %\\n\".format(model.score(x_test,y_test)*100))"
   ],
   "outputs": [
    {
     "output_type": "stream",
     "name": "stdout",
     "text": [
      "Accuracy score 64.33 %\n",
      "\n"
     ]
    }
   ],
   "metadata": {}
  },
  {
   "cell_type": "markdown",
   "source": [
    "> **r2_score**: The **r2_score** function computes the percentage variablility explained by our model, either the fraction or the count of correct predictions.  \n",
    "\n",
    "> **mae**: The **mean abosolute error** function calculates the amount of total error(absolute average distance between the real data and the predicted data) by our model.  \n",
    "\n",
    "> **mse**: The **mean squared error** function squares the error(penalizes the model for large errors) by our model. "
   ],
   "metadata": {}
  },
  {
   "cell_type": "code",
   "execution_count": 201,
   "source": [
    "y_pred=model.predict(x_test)\n",
    "print(\"R2 Score: {:.2f} %\".format(r2_score(y_test,y_pred)*100))\n",
    "print(\"Mean Absolute Error {:.2f}\".format(mean_absolute_error(y_test,y_pred)))\n",
    "print(\"Mean Squared Error {:.2f}\".format(mean_squared_error(y_test,y_pred)))"
   ],
   "outputs": [
    {
     "output_type": "stream",
     "name": "stdout",
     "text": [
      "R2 Score: 64.33 %\n",
      "Mean Absolute Error 1.81\n",
      "Mean Squared Error 4.61\n"
     ]
    }
   ],
   "metadata": {}
  },
  {
   "cell_type": "markdown",
   "source": [
    "#### Prediction Plot\n",
    "\n",
    "First, we make use of a plot to plot the actual observations, with x_train on the x-axis and y_train on the y-axis.\n",
    "For the regression line, we will use x_train on the x-axis and then the predictions of the x_train observations on the y-axis."
   ],
   "metadata": {}
  },
  {
   "cell_type": "code",
   "execution_count": 202,
   "source": [
    "n=len(x_test) if len(x_test)<20 else 20\n",
    "plt.figure(figsize=(14,10))\n",
    "plt.plot(range(n),y_test[0:n], color = \"green\")\n",
    "plt.plot(range(n),model.predict(x_test[0:n]), color = \"red\")\n",
    "plt.legend([\"Actual\",\"prediction\"]) \n",
    "plt.title(\"Predicted vs True Value\")\n",
    "plt.xlabel(\"Record number\")\n",
    "plt.ylabel(target)\n",
    "plt.show()"
   ],
   "outputs": [
    {
     "output_type": "display_data",
     "data": {
      "image/png": "[encoded data removed]",
      "text/plain": [
       "<Figure size 1008x720 with 1 Axes>"
      ]
     },
     "metadata": {
      "needs_background": "light"
     }
    }
   ],
   "metadata": {}
  },
  {
   "cell_type": "markdown",
   "source": [
    "#### Creator: Aishwarya Guntoju , Github: [Profile](https://github.com/DSAishwaryaG)"
   ],
   "metadata": {}
  }
 ],
 "metadata": {
  "interpreter": {
   "hash": "51a9663a131f1b5758c45b97a2d6917c8ae86b33e231c3733631cbc7265cfc89"
  },
  "kernelspec": {
   "display_name": "Python 3",
   "language": "python",
   "name": "python3"
  },
  "language_info": {
   "codemirror_mode": {
    "name": "ipython",
    "version": 3
   },
   "file_extension": ".py",
   "mimetype": "text/x-python",
   "name": "python",
   "nbconvert_exporter": "python",
   "pygments_lexer": "ipython3",
   "version": "3.7.6"
  }
 },
 "nbformat": 4,
 "nbformat_minor": 4
}