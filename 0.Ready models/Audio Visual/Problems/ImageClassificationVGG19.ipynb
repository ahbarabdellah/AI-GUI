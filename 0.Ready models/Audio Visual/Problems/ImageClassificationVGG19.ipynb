{
 "cells": [
  {
   "cell_type": "markdown",
   "source": [
    "# Simple Image Classification using VGG19"
   ],
   "metadata": {}
  },
  {
   "cell_type": "markdown",
   "source": [
    "This code template is for image classification using VGG19 model.\r\n",
    "\r\n",
    "<img src=\"https://cdn.blobcity.com/assets/gpu_required.png\"  height=\"25\" style=\"margin-bottom:-15px\" />"
   ],
   "metadata": {}
  },
  {
   "cell_type": "markdown",
   "source": [
    "## Required Packages"
   ],
   "metadata": {}
  },
  {
   "cell_type": "code",
   "execution_count": 1,
   "source": [
    "import numpy as np\r\n",
    "import matplotlib.pyplot as plt\r\n",
    "from sklearn.metrics import plot_confusion_matrix, classification_report, confusion_matrix\r\n",
    "import tensorflow as tf\r\n",
    "from tensorflow.keras.models import Sequential\r\n",
    "from tensorflow.keras import Input\r\n",
    "from tensorflow.keras.layers import Dense, Conv2D, MaxPool2D, GlobalMaxPool2D, Dropout\r\n",
    "from tensorflow.keras.preprocessing.image import ImageDataGenerator\r\n",
    "from tensorflow.keras import models\r\n",
    "from tensorflow.keras import layers\r\n",
    "from tensorflow.keras import optimizers\r\n",
    "from tensorflow.keras.applications import VGG19\r\n",
    "import seaborn as sns\r\n",
    "import warnings\r\n",
    "warnings.filterwarnings('ignore')"
   ],
   "outputs": [],
   "metadata": {}
  },
  {
   "cell_type": "markdown",
   "source": [
    "## Data Preprocessing\n",
    "\n",
    "An Image occupies a significant portion of space. Since images represent huge datasets, loading them at once to memory (RAM) can lead to severe scalibility issues and memory limitations. Therefore, in practice, images are loaded directly from the directory structure.   \n",
    "\n",
    "TensorFlow 2 comes with a handy class called <Code>ImageDataGenerator</Code> that augments images. It takes the following parameters:\n",
    "\n",
    "\n",
    "1. **rotation_range**:\tInt. \n",
    ">Degree range for random rotations.\n",
    "\n",
    "2. **width_shift_range**: Float, 1-D array-like or int\n",
    "          * float: fraction of total width, if < 1, or pixels if >= 1.\n",
    "          * 1-D array-like: random elements from the array.\n",
    "          * int: integer number of pixels from interval (-width_shift_range, +width_shift_range)\n",
    "          * With width_shift_range=2 possible values are integers [-1, 0, +1], same as with width_shift_range=[-1, 0, +1], while with width_shift_range=1.0 possible values are floats in the interval [-1.0, +1.0).\n",
    "\n",
    "3. **height_shift_range**:\tFloat, 1-D array-like or int. \n",
    ">Values have similar meaning as width_shift_range\n",
    "\n",
    "4. **zoom_range**:\tFloat or [lower, upper]. \n",
    ">Range for random zoom. If a float, [lower, upper] = [1-zoom_range, 1+zoom_range].\n",
    "channel_shift_range\tFloat. Range for random channel shifts.\n",
    "\n",
    "5. **horizontal_flip**:\tBoolean. \n",
    ">Randomly flip inputs horizontally.\n",
    "\n",
    "\n",
    "6. **rescale**:\trescaling factor. Defaults to None. \n",
    ">If None or 0, no rescaling is applied, otherwise we multiply the data by the value provided (after applying all other transformations).\n",
    "\n",
    "7. **data_format**\tImage data format, either \"channels_first\" or \"channels_last\". \n",
    ">\"channels_last\" mode means that the images should have shape (samples, height, width, channels), \"channels_first\" mode means that the images should have shape (samples, channels, height, width). \n",
    "\n",
    "\n",
    "For More Info: [API](https://www.tensorflow.org/api_docs/python/tf/keras/preprocessing/image/ImageDataGenerator)"
   ],
   "metadata": {}
  },
  {
   "cell_type": "markdown",
   "source": [
    "## Flow From Directory\n",
    "\n",
    "<Code>ImageDataGenerator</Code> class uses the method <Code>flow_from_directory</Code> to load the images. However, for this method to work, it is necessary the directory follow the above directory structure.\n",
    "\n",
    "<Code>flow_from_directory</Code> takes the path to a directory & generates batches of augmented data. It takes following parameters:\n",
    "\n",
    "1. **directory**:\tstring, path to the target directory. \n",
    ">It should contain one subdirectory per class. Any PNG, JPG, BMP, PPM or TIF images inside each of the subdirectories directory tree will be included in the generator. \n",
    "\n",
    "2. **target_size**:\tTuple of integers (height, width), defaults to (256,256). \n",
    ">The dimensions to which all images found will be resized.\n",
    "color_mode\tOne of \"grayscale\", \"rgb\", \"rgba\". Default: \"rgb\". Whether the images will be converted to have 1, 3, or 4 channels.\n",
    "\n",
    "3. **classes**:\tDefault: None. \n",
    ">Optional list of class subdirectories (e.g. ['dogs', 'cats']). \n",
    "\n",
    "4. **class_mode**:\tDefault: \"categorical\". \n",
    ">One of \"categorical\", \"binary\", \"sparse\", \"input\", or None. \n",
    "\n",
    "5. **batch_size**:\tDefault: 32\n",
    ">Size of the batches of data.\n",
    "\n",
    "6. **shuffle**: Default: True\n",
    ">Whether to shuffle the data. If set to False, sorts the data in alphanumeric order.\n",
    "\n",
    "For More Info: [API](https://www.tensorflow.org/api_docs/python/tf/keras/preprocessing/image/ImageDataGenerator#flow_from_directory)"
   ],
   "metadata": {}
  },
  {
   "cell_type": "code",
   "execution_count": 2,
   "source": [
    "train_datagenerator = ImageDataGenerator(rescale=1./255,\n",
    "                                         rotation_range=20,\n",
    "                                         width_shift_range=.15,\n",
    "                                         height_shift_range=.15,\n",
    "                                         horizontal_flip=True,\n",
    "                                         zoom_range=0.2,\n",
    "                                         data_format = \"channels_last\")\n",
    "\n",
    "test_datagenerator = ImageDataGenerator(rescale = 1./255)"
   ],
   "outputs": [],
   "metadata": {}
  },
  {
   "cell_type": "code",
   "execution_count": 3,
   "source": [
    "target=['cats','dogs']"
   ],
   "outputs": [],
   "metadata": {}
  },
  {
   "cell_type": "code",
   "execution_count": 52,
   "source": [
    "batch_size = 64 # number of images to process at a time \n",
    "IMG_SHAPE = 128 # convert all images to be 224 x 224\n",
    "\n",
    "train_data = train_datagenerator.flow_from_directory(directory = '',\n",
    "                                                     batch_size = batch_size,\n",
    "                                                     target_size = (IMG_SHAPE, IMG_SHAPE),\n",
    "#                                                      shuffle = True, #for training only\n",
    "                                                     class_mode = 'sparse', #type of problem (sparse, binary, or categorical, etc.)\n",
    "                                                     classes = target)  \n",
    "\n",
    "test_data = test_datagenerator.flow_from_directory(directory = '',\n",
    "                                                   batch_size = batch_size,\n",
    "                                                   target_size = (IMG_SHAPE, IMG_SHAPE),\n",
    "#                                                    shuffle = False,\n",
    "                                                   class_mode = 'sparse',\n",
    "                                                   classes = target)"
   ],
   "outputs": [
    {
     "output_type": "stream",
     "name": "stdout",
     "text": [
      "Found 2014 images belonging to 2 classes.\n",
      "Found 1000 images belonging to 2 classes.\n"
     ]
    }
   ],
   "metadata": {}
  },
  {
   "cell_type": "markdown",
   "source": [
    "## Model\n",
    "\n",
    "**VGG19** is a variant of VGG model which in short consists of 19 layers (16 convolution layers, 3 Fully connected layer, 5 MaxPool layers and 1 SoftMax layer). There are other variants of VGG like VGG11, VGG16 and others. VGG19 has 19.6 billion FLOPs.\n",
    "\n",
    "**parameters :**\n",
    ">**include_top:** whether to include the 3 fully-connected layers at the top of the network.\n",
    "\n",
    ">**weights:** one of None (random initialization), 'imagenet' (pre-training on ImageNet), or the path to the weights file to be loaded.\n",
    "\n",
    ">**input_tensor:** optional Keras tensor (i.e. output of layers.Input()) to use as image input for the model.\n",
    "\n",
    ">**input_shape:** optional shape tuple, only to be specified if include_top is False (otherwise the input shape has to be (224, 224, 3) (with channels_last data format) or (3, 224, 224) (with channels_first data format). It should have exactly 3 inputs channels, and width and height should be no smaller than 32. E.g. (200, 200, 3) would be one valid value.\n",
    "\n",
    ">**classes:** optional number of classes to classify images into, only to be specified if include_top is True, and if no weights argument is specified.\n",
    "\n",
    ">**classifier_activation:** A str or callable. The activation function to use on the \"top\" layer. Ignored unless include_top=True. Set classifier_activation=None to return the logits of the \"top\" layer. When loading pretrained weights, classifier_activation can only be None or \"softmax\"."
   ],
   "metadata": {}
  },
  {
   "cell_type": "code",
   "execution_count": 60,
   "source": [
    "loss = \"binary_crossentropy\" \n",
    "output_activation = 'sigmoid'\n",
    "learning_rate = 0.0005 #Default = 0.001\n",
    "epochs = 6\n",
    "NUM_COLOR_CHANNELS = 3"
   ],
   "outputs": [],
   "metadata": {}
  },
  {
   "cell_type": "code",
   "execution_count": 61,
   "source": [
    "conv_base = VGG19(weights='imagenet',\n",
    "                  include_top=False,\n",
    "                  input_shape=(128, 128, 3))"
   ],
   "outputs": [],
   "metadata": {}
  },
  {
   "cell_type": "code",
   "execution_count": 62,
   "source": [
    "model = models.Sequential()\n",
    "model.add(conv_base)\n",
    "model.add(layers.Flatten())\n",
    "model.add(layers.Dense(64, activation='relu'))\n",
    "model.add(layers.Dense(1, activation=output_activation))"
   ],
   "outputs": [],
   "metadata": {}
  },
  {
   "cell_type": "code",
   "execution_count": 63,
   "source": [
    "model.summary()"
   ],
   "outputs": [
    {
     "output_type": "stream",
     "name": "stdout",
     "text": [
      "Model: \"sequential_2\"\n",
      "_________________________________________________________________\n",
      "Layer (type)                 Output Shape              Param #   \n",
      "=================================================================\n",
      "vgg19 (Functional)           (None, 4, 4, 512)         20024384  \n",
      "_________________________________________________________________\n",
      "flatten_2 (Flatten)          (None, 8192)              0         \n",
      "_________________________________________________________________\n",
      "dense_4 (Dense)              (None, 64)                524352    \n",
      "_________________________________________________________________\n",
      "dense_5 (Dense)              (None, 1)                 65        \n",
      "=================================================================\n",
      "Total params: 20,548,801\n",
      "Trainable params: 20,548,801\n",
      "Non-trainable params: 0\n",
      "_________________________________________________________________\n"
     ]
    }
   ],
   "metadata": {}
  },
  {
   "cell_type": "code",
   "execution_count": 64,
   "source": [
    "model.compile(loss=loss,\n",
    "              optimizer=optimizers.RMSprop(learning_rate=learning_rate),\n",
    "              metrics=['acc'])"
   ],
   "outputs": [],
   "metadata": {}
  },
  {
   "cell_type": "code",
   "execution_count": 65,
   "source": [
    "history = model.fit(train_data,\n",
    "                    epochs=epochs,\n",
    "                   validation_data=test_data)"
   ],
   "outputs": [
    {
     "output_type": "stream",
     "name": "stdout",
     "text": [
      "Epoch 1/6\n",
      "32/32 [==============================] - 1045s 32s/step - loss: 569.8585 - acc: 0.4950 - val_loss: 0.6932 - val_acc: 0.4920\n",
      "Epoch 2/6\n",
      "32/32 [==============================] - 1019s 32s/step - loss: 0.6964 - acc: 0.4980 - val_loss: 0.6968 - val_acc: 0.5000\n",
      "Epoch 3/6\n",
      "32/32 [==============================] - 1037s 32s/step - loss: 0.7059 - acc: 0.5333 - val_loss: 0.7001 - val_acc: 0.5000\n",
      "Epoch 4/6\n",
      "32/32 [==============================] - 1021s 32s/step - loss: 0.6986 - acc: 0.5372 - val_loss: 0.6894 - val_acc: 0.5380\n",
      "Epoch 5/6\n",
      "32/32 [==============================] - 991s 31s/step - loss: 0.8267 - acc: 0.5144 - val_loss: 0.6927 - val_acc: 0.5020\n",
      "Epoch 6/6\n",
      "32/32 [==============================] - 1022s 32s/step - loss: 0.8002 - acc: 0.4975 - val_loss: 0.6930 - val_acc: 0.5000\n"
     ]
    }
   ],
   "metadata": {}
  },
  {
   "cell_type": "code",
   "execution_count": 66,
   "source": [
    "def plot_model(model_name_history, metric_name):\n",
    "    # Plot loss per iteration\n",
    "    fig, ax = plt.subplots(1, 2,figsize=(15,5))\n",
    "\n",
    "    ax[0].plot(model_name_history.history['loss'], label='loss')\n",
    "    ax[0].plot(model_name_history.history['val_loss'], label='val_loss')\n",
    "    ax[0].legend()\n",
    "    \n",
    "    # Plot accuracy per iteration\n",
    "    ax[1].plot(model_name_history.history[metric_name], label='accuracy')\n",
    "    ax[1].plot(model_name_history.history[f\"val_{metric_name}\"], label='val_accuracy')\n",
    "    ax[1].legend()"
   ],
   "outputs": [],
   "metadata": {}
  },
  {
   "cell_type": "markdown",
   "source": [
    "## Plot Curves\n",
    "\n",
    "Plot loss and accuracy metrics to see how the model trains"
   ],
   "metadata": {}
  },
  {
   "cell_type": "code",
   "execution_count": 67,
   "source": [
    "plot_model(history,'acc')"
   ],
   "outputs": [
    {
     "output_type": "display_data",
     "data": {
      "image/png": "[encoded data removed]",
      "text/plain": [
       "<Figure size 1080x360 with 2 Axes>"
      ]
     },
     "metadata": {
      "needs_background": "light"
     }
    }
   ],
   "metadata": {
    "scrolled": true
   }
  },
  {
   "cell_type": "markdown",
   "source": [
    "## Model Evaluation"
   ],
   "metadata": {}
  },
  {
   "cell_type": "code",
   "execution_count": 68,
   "source": [
    "predictions = model.predict(test_data)\n",
    "y_pred = np.argmax(predictions,axis = 1)\n",
    "y_test = test_data.classes\n",
    "class_labels = list(test_data.class_indices.keys())   \n",
    "loss, accuracy = model.evaluate(test_data)\n",
    "print(\"Loss: \", loss)\n",
    "print(\"Accuracy Score: \",accuracy)"
   ],
   "outputs": [
    {
     "output_type": "stream",
     "name": "stdout",
     "text": [
      "16/16 [==============================] - 112s 7s/step - loss: 0.6930 - acc: 0.5000\n",
      "Loss:  0.692980945110321\n",
      "Accuracy Score:  0.5\n"
     ]
    }
   ],
   "metadata": {}
  },
  {
   "cell_type": "markdown",
   "source": [
    "## Confusion Matrix\n",
    "\n",
    "A confusion matrix is utilized to understand the performance of the classification model or algorithm in machine learning for a given test set where results are known."
   ],
   "metadata": {}
  },
  {
   "cell_type": "code",
   "execution_count": 69,
   "source": [
    "def get_confusion_matrix(data, N):\n",
    "    print(\"Generating confusion matrix\", N)\n",
    "    predictions = []\n",
    "    targets = []\n",
    "    i = 0\n",
    "    for x, y in data:\n",
    "        i += 1\n",
    "        if i % 50 == 0:\n",
    "            print(i)\n",
    "        p = model.predict(x)\n",
    "        y_pred = np.argmax(p,axis = 1)\n",
    "        predictions = np.concatenate((predictions, y_pred))\n",
    " \n",
    "        targets = np.concatenate((targets, y))\n",
    "        if len(targets) >= N:\n",
    "            break\n",
    "    cm = confusion_matrix(targets, predictions)\n",
    "    return cm"
   ],
   "outputs": [],
   "metadata": {}
  },
  {
   "cell_type": "code",
   "execution_count": 70,
   "source": [
    "cm = get_confusion_matrix(test_data, len(test_data))\n",
    "sns.heatmap(cm,\n",
    "            annot = True,\n",
    "            fmt = 'd',\n",
    "            xticklabels=class_labels, \n",
    "            yticklabels= class_labels,\n",
    "            cmap = plt.cm.Blues)\n",
    "plt.show()"
   ],
   "outputs": [
    {
     "output_type": "stream",
     "name": "stdout",
     "text": [
      "Generating confusion matrix 16\n"
     ]
    },
    {
     "output_type": "display_data",
     "data": {
      "image/png": "[encoded data removed]",
      "text/plain": [
       "<Figure size 432x288 with 2 Axes>"
      ]
     },
     "metadata": {
      "needs_background": "light"
     }
    }
   ],
   "metadata": {}
  },
  {
   "cell_type": "markdown",
   "source": [
    "## Classification Report\n",
    "A Classification report is used to measure the quality of predictions from a classification algorithm. How many predictions are True, how many are False.\n",
    "\n",
    "* **where**:\n",
    "    - Precision:- Accuracy of positive predictions.\n",
    "    - Recall:- Fraction of positives that were correctly identified.\n",
    "    - f1-score:-  percent of positive predictions were correct\n",
    "    - support:- Support is the number of actual occurrences of the class in the specified dataset."
   ],
   "metadata": {}
  },
  {
   "cell_type": "code",
   "execution_count": 71,
   "source": [
    "print(classification_report(y_test, y_pred))"
   ],
   "outputs": [
    {
     "output_type": "stream",
     "name": "stdout",
     "text": [
      "              precision    recall  f1-score   support\n",
      "\n",
      "           0       0.50      1.00      0.67       500\n",
      "           1       0.00      0.00      0.00       500\n",
      "\n",
      "    accuracy                           0.50      1000\n",
      "   macro avg       0.25      0.50      0.33      1000\n",
      "weighted avg       0.25      0.50      0.33      1000\n",
      "\n"
     ]
    }
   ],
   "metadata": {}
  },
  {
   "cell_type": "markdown",
   "source": [
    "## Creator:Abhishek Garg ,Github [Profile](https://github.com/abhishek-252)"
   ],
   "metadata": {}
  }
 ],
 "metadata": {
  "kernelspec": {
   "display_name": "Python 3",
   "language": "python",
   "name": "python3"
  },
  "language_info": {
   "codemirror_mode": {
    "name": "ipython",
    "version": 3
   },
   "file_extension": ".py",
   "mimetype": "text/x-python",
   "name": "python",
   "nbconvert_exporter": "python",
   "pygments_lexer": "ipython3",
   "version": "3.8.3"
  }
 },
 "nbformat": 4,
 "nbformat_minor": 4
}