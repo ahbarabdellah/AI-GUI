{
  "nbformat": 4,
  "nbformat_minor": 0,
  "metadata": {
    "interpreter": {
      "hash": "51a9663a131f1b5758c45b97a2d6917c8ae86b33e231c3733631cbc7265cfc89"
    },
    "kernelspec": {
      "display_name": "Python 3",
      "language": "python",
      "name": "python3"
    },
    "language_info": {
      "codemirror_mode": {
        "name": "ipython",
        "version": 3
      },
      "file_extension": ".py",
      "mimetype": "text/x-python",
      "name": "python",
      "nbconvert_exporter": "python",
      "pygments_lexer": "ipython3",
      "version": "3.8.6"
    },
    "colab": {
      "name": "ScatterPlot.ipynb",
      "provenance": [],
      "collapsed_sections": []
    }
  },
  "cells": [
    {
      "cell_type": "markdown",
      "metadata": {
        "id": "qw-3zVyjI8c1"
      },
      "source": [
        "#  Visualization using Correlation Plot"
      ]
    },
    {
      "cell_type": "markdown",
      "metadata": {
        "id": "jAxm5M3NOwLL"
      },
      "source": [
        "This Code template is for the Exploratory Data Analysis using Correlation Plot which plots 2D correlation matrix between two discrete dimensions, using colored cells to represent data from usually a monochromatic scale."
      ]
    },
    {
      "cell_type": "markdown",
      "metadata": {
        "id": "VU9LuzqMPGMw"
      },
      "source": [
        "### Required Packages"
      ]
    },
    {
      "cell_type": "code",
      "metadata": {
        "id": "93EDMECbth4e"
      },
      "source": [
        "import pandas as pd\n",
        "import seaborn as sns\n",
        "import matplotlib.pyplot as plt"
      ],
      "execution_count": 1,
      "outputs": []
    },
    {
      "cell_type": "markdown",
      "metadata": {
        "id": "lFykDmJII8c9"
      },
      "source": [
        "### Initialization\n",
        "Filepath of CSV file"
      ]
    },
    {
      "cell_type": "code",
      "metadata": {
        "id": "tO2uUlukI8c-"
      },
      "source": [
        "#filepath\n",
        "file_path= \"\""
      ],
      "execution_count": 2,
      "outputs": []
    },
    {
      "cell_type": "markdown",
      "metadata": {
        "id": "XAJDKzqXI8c_"
      },
      "source": [
        "List of features which are  required for model training."
      ]
    },
    {
      "cell_type": "code",
      "metadata": {
        "id": "-jzGscQhI8c_"
      },
      "source": [
        "#x_values\n",
        "features=[]"
      ],
      "execution_count": null,
      "outputs": []
    },
    {
      "cell_type": "markdown",
      "metadata": {
        "id": "NkS3Klro6LhH"
      },
      "source": [
        "Target variable from dataset"
      ]
    },
    {
      "cell_type": "code",
      "metadata": {
        "id": "wDePWia36PGz"
      },
      "source": [
        "#y_value\n",
        "target=''"
      ],
      "execution_count": null,
      "outputs": []
    },
    {
      "cell_type": "markdown",
      "metadata": {
        "id": "fqv7RkeKI8dC"
      },
      "source": [
        "### Data Fetching\n",
        "\n",
        "Pandas is an open-source, BSD-licensed library providing high-performance, easy-to-use data manipulation and data analysis tools.\n",
        "\n",
        "We will use panda's library to read the CSV file using its storage path.And we use the head function to display the initial row or entry."
      ]
    },
    {
      "cell_type": "code",
      "metadata": {
        "id": "sDuo2DzBI8dD",
        "colab": {
          "base_uri": "https://localhost:8080/",
          "height": 265
        },
        "outputId": "eecc2e00-cad9-44c8-93e5-795f6c15a0b0"
      },
      "source": [
        "data=pd.read_csv(file_path)\n",
        "data.head()"
      ],
      "execution_count": 5,
      "outputs": [
        {
          "output_type": "execute_result",
          "data": {
            "text/html": [
              "<div>\n",
              "<style scoped>\n",
              "    .dataframe tbody tr th:only-of-type {\n",
              "        vertical-align: middle;\n",
              "    }\n",
              "\n",
              "    .dataframe tbody tr th {\n",
              "        vertical-align: top;\n",
              "    }\n",
              "\n",
              "    .dataframe thead th {\n",
              "        text-align: right;\n",
              "    }\n",
              "</style>\n",
              "<table border=\"1\" class=\"dataframe\">\n",
              "  <thead>\n",
              "    <tr style=\"text-align: right;\">\n",
              "      <th></th>\n",
              "      <th>Name</th>\n",
              "      <th>Author</th>\n",
              "      <th>User Rating</th>\n",
              "      <th>Reviews</th>\n",
              "      <th>Price</th>\n",
              "      <th>Year</th>\n",
              "      <th>Genre</th>\n",
              "    </tr>\n",
              "  </thead>\n",
              "  <tbody>\n",
              "    <tr>\n",
              "      <th>0</th>\n",
              "      <td>10-Day Green Smoothie Cleanse</td>\n",
              "      <td>JJ Smith</td>\n",
              "      <td>4.7</td>\n",
              "      <td>17350</td>\n",
              "      <td>8</td>\n",
              "      <td>2016</td>\n",
              "      <td>Non Fiction</td>\n",
              "    </tr>\n",
              "    <tr>\n",
              "      <th>1</th>\n",
              "      <td>11/22/63: A Novel</td>\n",
              "      <td>Stephen King</td>\n",
              "      <td>4.6</td>\n",
              "      <td>2052</td>\n",
              "      <td>22</td>\n",
              "      <td>2011</td>\n",
              "      <td>Fiction</td>\n",
              "    </tr>\n",
              "    <tr>\n",
              "      <th>2</th>\n",
              "      <td>12 Rules for Life: An Antidote to Chaos</td>\n",
              "      <td>Jordan B. Peterson</td>\n",
              "      <td>4.7</td>\n",
              "      <td>18979</td>\n",
              "      <td>15</td>\n",
              "      <td>2018</td>\n",
              "      <td>Non Fiction</td>\n",
              "    </tr>\n",
              "    <tr>\n",
              "      <th>3</th>\n",
              "      <td>1984 (Signet Classics)</td>\n",
              "      <td>George Orwell</td>\n",
              "      <td>4.7</td>\n",
              "      <td>21424</td>\n",
              "      <td>6</td>\n",
              "      <td>2017</td>\n",
              "      <td>Fiction</td>\n",
              "    </tr>\n",
              "    <tr>\n",
              "      <th>4</th>\n",
              "      <td>A Dance with Dragons (A Song of Ice and Fire)</td>\n",
              "      <td>George R. R. Martin</td>\n",
              "      <td>4.4</td>\n",
              "      <td>12643</td>\n",
              "      <td>11</td>\n",
              "      <td>2011</td>\n",
              "      <td>Fiction</td>\n",
              "    </tr>\n",
              "  </tbody>\n",
              "</table>\n",
              "</div>"
            ],
            "text/plain": [
              "                                            Name  ...        Genre\n",
              "0                  10-Day Green Smoothie Cleanse  ...  Non Fiction\n",
              "1                              11/22/63: A Novel  ...      Fiction\n",
              "2        12 Rules for Life: An Antidote to Chaos  ...  Non Fiction\n",
              "3                         1984 (Signet Classics)  ...      Fiction\n",
              "4  A Dance with Dragons (A Song of Ice and Fire)  ...      Fiction\n",
              "\n",
              "[5 rows x 7 columns]"
            ]
          },
          "metadata": {},
          "execution_count": 5
        }
      ]
    },
    {
      "cell_type": "markdown",
      "metadata": {
        "id": "RRrPwxRW8PCU"
      },
      "source": [
        "###Model\n",
        "The Correlation Plot plots 2D correlation matrix between two discrete dimensions, using colored cells to represent data from usually a monochromatic scale.\n",
        "\n",
        "This is an Axes-level function and will draw the heatmap into the currently-active Axes if none is provided to the ax argument. Part of this Axes space will be taken and used to plot a colormap, unless cbar is False or a separate Axes is provided to cbar_ax.\n",
        "\n",
        "####Parameters:\n",
        "**data** : rectangular dataset\n",
        "2D dataset that can be coerced into an ndarray. If a Pandas DataFrame is provided, the index/column information will be used to label the columns and rows.\n",
        "\n",
        "**vmin, vmax** : floats, optional\n",
        "Values to anchor the colormap, otherwise they are inferred from the data and other keyword arguments.\n",
        "\n",
        "**cmap** : matplotlib colormap name or object, or list of colors, optional\n",
        "The mapping from data values to color space. If not provided, the default will depend on whether center is set.\n",
        "\n",
        "**center** : float, optional\n",
        "The value at which to center the colormap when plotting divergant data. Using this parameter will change the default cmap if none is specified.\n",
        "\n",
        "**robust** : bool, optional\n",
        "If True and vmin or vmax are absent, the colormap range is computed with robust quantiles instead of the extreme values.\n",
        "\n",
        "**annot** : bool or rectangular dataset, optional\n",
        "If True, write the data value in each cell. If an array-like with the same shape as data, then use this to annotate the heatmap instead of the data. Note that DataFrames will match on position, not index.\n",
        "\n",
        "**fmt** : str, optional\n",
        "String formatting code to use when adding annotations.\n",
        "\n",
        "**annot_kws** : dict of key, value mappings, optional\n",
        "Keyword arguments for matplotlib.axes.Axes.text() when annot is True.\n",
        "\n",
        "**linewidths** : float, optional\n",
        "Width of the lines that will divide each cell.\n",
        "\n",
        "**linecolor** : color, optional\n",
        "Color of the lines that will divide each cell.\n",
        "\n",
        "**cbar** : bool, optional\n",
        "Whether to draw a colorbar.\n",
        "\n",
        "**cbar_kws** : dict of key, value mappings, optional\n",
        "Keyword arguments for matplotlib.figure.Figure.colorbar().\n",
        "\n",
        "**cbar_ax** : matplotlib Axes, optional\n",
        "Axes in which to draw the colorbar, otherwise take space from the main Axes.\n",
        "\n",
        "**square** : bool, optional\n",
        "If True, set the Axes aspect to “equal” so each cell will be square-shaped.\n",
        "\n",
        "**xticklabels, yticklabels** : “auto”, bool, list-like, or int, optional\n",
        "If True, plot the column names of the dataframe. If False, don’t plot the column names. If list-like, plot these alternate labels as the xticklabels. If an integer, use the column names but plot only every n label. If “auto”, try to densely plot non-overlapping labels.\n",
        "\n",
        "**mask** : bool array or DataFrame, optional\n",
        "If passed, data will not be shown in cells where mask is True. Cells with missing values are automatically masked.\n",
        "\n",
        "**ax** : matplotlib Axes, optional\n",
        "Axes in which to draw the plot, otherwise use the currently-active Axes.\n",
        "\n",
        "**kwargs** : other keyword arguments\n",
        "All other keyword arguments are passed to matplotlib.axes.Axes.pcolormesh().\n",
        "\n",
        "###Returns:\n",
        "**ax** : matplotlib Axes\n",
        "Axes object with the heatmap."
      ]
    },
    {
      "cell_type": "markdown",
      "metadata": {
        "id": "epxA7Bz9DhFH"
      },
      "source": [
        "###Correlation Plots"
      ]
    },
    {
      "cell_type": "markdown",
      "metadata": {
        "id": "c2s3v84OC5cD"
      },
      "source": [
        "####Visualizing the correlation heatmap. The values of the first dimension appear as the rows of the table while of the second dimension as a column. The color of the cell is proportional to the number of measurements that match the dimensional value."
      ]
    },
    {
      "cell_type": "code",
      "metadata": {
        "colab": {
          "base_uri": "https://localhost:8080/",
          "height": 350
        },
        "id": "ASGLX-XDDMEe",
        "outputId": "719d8251-7baf-439f-f0fc-e2833ed2cb21"
      },
      "source": [
        "print(data.corr())\n",
        "dataplot = sns.heatmap(data.corr(), cmap=\"YlGnBu\", annot=True)"
      ],
      "execution_count": 10,
      "outputs": [
        {
          "output_type": "stream",
          "name": "stdout",
          "text": [
            "             User Rating   Reviews     Price      Year\n",
            "User Rating     1.000000 -0.251392 -0.102724  0.212416\n",
            "Reviews        -0.251392  1.000000  0.007326  0.151764\n",
            "Price          -0.102724  0.007326  1.000000 -0.167430\n",
            "Year            0.212416  0.151764 -0.167430  1.000000\n"
          ]
        },
        {
          "output_type": "display_data",
          "data": {
            "image/png": "[encoded data removed]",
            "text/plain": [
              "<Figure size 432x288 with 2 Axes>"
            ]
          },
          "metadata": {
            "needs_background": "light"
          }
        }
      ]
    },
    {
      "cell_type": "markdown",
      "metadata": {
        "id": "eLjzoA50I8dP"
      },
      "source": [
        "#### Creator: Vikas Mishra , Github: [Profile](https://github.com/Vikaas08)"
      ]
    }
  ]
}