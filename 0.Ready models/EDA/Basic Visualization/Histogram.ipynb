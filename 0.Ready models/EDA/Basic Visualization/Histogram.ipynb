{
  "nbformat": 4,
  "nbformat_minor": 5,
  "metadata": {
    "kernelspec": {
      "name": "python3",
      "display_name": "Python 3.8.5 64-bit ('base': conda)"
    },
    "language_info": {
      "codemirror_mode": {
        "name": "ipython",
        "version": 3
      },
      "file_extension": ".py",
      "mimetype": "text/x-python",
      "name": "python",
      "nbconvert_exporter": "python",
      "pygments_lexer": "ipython3",
      "version": "3.8.5"
    },
    "interpreter": {
      "hash": "51a9663a131f1b5758c45b97a2d6917c8ae86b33e231c3733631cbc7265cfc89"
    },
    "colab": {
      "name": "Histogram.ipynb",
      "provenance": [],
      "collapsed_sections": []
    }
  },
  "cells": [
    {
      "cell_type": "markdown",
      "metadata": {
        "id": "3zdC2qSrfsUL"
      },
      "source": [
        "# Visualization using Histogram\n"
      ],
      "id": "3zdC2qSrfsUL"
    },
    {
      "cell_type": "markdown",
      "metadata": {
        "id": "RDo-UCAMfsUV"
      },
      "source": [
        "This Code template is for the Exploratory Data Analysis using Histogram. A histogram represents the distribution of a variable by creating bins (interval) along the range of values and showing vertical bars to indicate the number of observations in each bin.\n"
      ],
      "id": "RDo-UCAMfsUV"
    },
    {
      "cell_type": "markdown",
      "metadata": {
        "id": "F2DH9R3XfsUX"
      },
      "source": [
        "### Required Packages"
      ],
      "id": "F2DH9R3XfsUX"
    },
    {
      "cell_type": "code",
      "metadata": {
        "id": "G-Sv8zmIfsUb"
      },
      "source": [
        "import matplotlib.pyplot as plt\n",
        "import numpy as np\n",
        "import pandas as pd"
      ],
      "id": "G-Sv8zmIfsUb",
      "execution_count": 6,
      "outputs": []
    },
    {
      "cell_type": "markdown",
      "metadata": {
        "id": "O0ea2x7gfsUd"
      },
      "source": [
        "#### Dataset\n",
        "\n",
        "\n",
        "Filepath of CSV file"
      ],
      "id": "O0ea2x7gfsUd"
    },
    {
      "cell_type": "code",
      "metadata": {
        "id": "sX6OaPgdfsUe"
      },
      "source": [
        "#filepath\n",
        "file_path=\"\""
      ],
      "id": "sX6OaPgdfsUe",
      "execution_count": 2,
      "outputs": []
    },
    {
      "cell_type": "markdown",
      "metadata": {
        "id": "A6zi8ufgfsUg"
      },
      "source": [
        "#### Target\n",
        "\n",
        "Target variable from dataset"
      ],
      "id": "A6zi8ufgfsUg"
    },
    {
      "cell_type": "code",
      "metadata": {
        "id": "iffqWtyvfsUh"
      },
      "source": [
        "#y_value\n",
        "target=\"\""
      ],
      "id": "iffqWtyvfsUh",
      "execution_count": 3,
      "outputs": []
    },
    {
      "cell_type": "code",
      "metadata": {
        "colab": {
          "base_uri": "https://localhost:8080/",
          "height": 204
        },
        "id": "ojziSucifsUj",
        "outputId": "12319003-eab6-4ee4-8600-edfde29aa69f"
      },
      "source": [
        "df=pd.read_csv(file_path)\n",
        "df.head()"
      ],
      "id": "ojziSucifsUj",
      "execution_count": 7,
      "outputs": [
        {
          "output_type": "execute_result",
          "data": {
            "text/html": [
              "<div>\n",
              "<style scoped>\n",
              "    .dataframe tbody tr th:only-of-type {\n",
              "        vertical-align: middle;\n",
              "    }\n",
              "\n",
              "    .dataframe tbody tr th {\n",
              "        vertical-align: top;\n",
              "    }\n",
              "\n",
              "    .dataframe thead th {\n",
              "        text-align: right;\n",
              "    }\n",
              "</style>\n",
              "<table border=\"1\" class=\"dataframe\">\n",
              "  <thead>\n",
              "    <tr style=\"text-align: right;\">\n",
              "      <th></th>\n",
              "      <th>sepal_length</th>\n",
              "      <th>sepal_width</th>\n",
              "      <th>petal_length</th>\n",
              "      <th>petal_width</th>\n",
              "      <th>species</th>\n",
              "    </tr>\n",
              "  </thead>\n",
              "  <tbody>\n",
              "    <tr>\n",
              "      <th>0</th>\n",
              "      <td>5.1</td>\n",
              "      <td>3.5</td>\n",
              "      <td>1.4</td>\n",
              "      <td>0.2</td>\n",
              "      <td>setosa</td>\n",
              "    </tr>\n",
              "    <tr>\n",
              "      <th>1</th>\n",
              "      <td>4.9</td>\n",
              "      <td>3.0</td>\n",
              "      <td>1.4</td>\n",
              "      <td>0.2</td>\n",
              "      <td>setosa</td>\n",
              "    </tr>\n",
              "    <tr>\n",
              "      <th>2</th>\n",
              "      <td>4.7</td>\n",
              "      <td>3.2</td>\n",
              "      <td>1.3</td>\n",
              "      <td>0.2</td>\n",
              "      <td>setosa</td>\n",
              "    </tr>\n",
              "    <tr>\n",
              "      <th>3</th>\n",
              "      <td>4.6</td>\n",
              "      <td>3.1</td>\n",
              "      <td>1.5</td>\n",
              "      <td>0.2</td>\n",
              "      <td>setosa</td>\n",
              "    </tr>\n",
              "    <tr>\n",
              "      <th>4</th>\n",
              "      <td>5.0</td>\n",
              "      <td>3.6</td>\n",
              "      <td>1.4</td>\n",
              "      <td>0.2</td>\n",
              "      <td>setosa</td>\n",
              "    </tr>\n",
              "  </tbody>\n",
              "</table>\n",
              "</div>"
            ],
            "text/plain": [
              "   sepal_length  sepal_width  petal_length  petal_width species\n",
              "0           5.1          3.5           1.4          0.2  setosa\n",
              "1           4.9          3.0           1.4          0.2  setosa\n",
              "2           4.7          3.2           1.3          0.2  setosa\n",
              "3           4.6          3.1           1.5          0.2  setosa\n",
              "4           5.0          3.6           1.4          0.2  setosa"
            ]
          },
          "metadata": {},
          "execution_count": 7
        }
      ]
    },
    {
      "cell_type": "markdown",
      "metadata": {
        "id": "7egGdovofsUm"
      },
      "source": [
        "### Visualization\n",
        "\n",
        "Plot a histogram.\n",
        "\n",
        "Compute and draw the histogram of x. The return value is a tuple (n, bins, patches) or ([n0, n1, ...], bins, [patches0, patches1, ...]) if the input contains multiple data. See the documentation of the weights parameter to draw a histogram of already-binned data.\n",
        "\n",
        "Multiple data can be provided via x as a list of datasets of potentially different length ([x0, x1, ...]), or as a 2D ndarray in which each column is a dataset. Note that the ndarray form is transposed relative to the list form.\n",
        "\n",
        "Masked arrays are not supported.\n",
        "\n",
        "The bins, range, weights, and density parameters behave as in numpy.histogram.\n",
        "\n",
        "#### Parameters:\n",
        "* **x** : (n,) array or sequence of (n,) arrays\n",
        "Input values, this takes either a single array or a sequence of arrays which are not required to be of the same length.\n",
        "\n",
        "* **bins** :int or sequence or str, default: rcParams[\"hist.bins\"] (default: 10)\n",
        "If bins is an integer, it defines the number of equal-width bins in the range.\n",
        "\n",
        "  If bins is a sequence, it defines the bin edges, including the left edge of the first bin and the right edge of the last bin; in this case, bins may be unequally spaced. All but the last (righthand-most) bin is half-open. In other words, if bins is:\n",
        "\n",
        "  [1, 2, 3, 4]\n",
        "then the first bin is [1, 2) (including 1, but excluding 2) and the second [2, 3). The last bin, however, is [3, 4], which includes 4.\n",
        "\n",
        "  If bins is a string, it is one of the binning strategies supported by numpy.histogram_bin_edges: 'auto', 'fd', 'doane', 'scott', 'stone', 'rice', 'sturges', or 'sqrt'.\n",
        "\n",
        "* **range** :tuple or None, default: None\n",
        "The lower and upper range of the bins. Lower and upper outliers are ignored. If not provided, range is (x.min(), x.max()). Range has no effect if bins is a sequence.\n",
        "\n",
        "  If bins is a sequence or range is specified, autoscaling is based on the specified bin range instead of the range of x.\n",
        "\n",
        "* **density** :bool, default: False\n",
        "  If True, draw and return a probability density: each bin will display the bin's raw count divided by the total number of counts and the bin width (density = counts / (sum(counts) * np.diff(bins))), so that the area under the histogram integrates to 1 (np.sum(density * np.diff(bins)) == 1).\n",
        "\n",
        "  If stacked is also True, the sum of the histograms is normalized to 1.\n",
        "\n",
        "* **weights** :(n,) array-like or None, default: None\n",
        "An array of weights, of the same shape as x. Each value in x only contributes its associated weight towards the bin count (instead of 1). If density is True, the weights are normalized, so that the integral of the density over the range remains 1.\n",
        "\n",
        "  This parameter can be used to draw a histogram of data that has already been binned, e.g. using numpy.histogram (by treating each bin as a single point with a weight equal to its count)\n",
        "\n",
        "  counts, bins = np.histogram(data)\n",
        "plt.hist(bins[:-1], bins, weights=counts)\n",
        "(or you may alternatively use bar()).\n",
        "\n",
        "* **cumulative** :bool or -1, default: False\n",
        "  If True, then a histogram is computed where each bin gives the counts in that bin plus all bins for smaller values. The last bin gives the total number of datapoints.\n",
        "\n",
        "  If density is also True then the histogram is normalized such that the last bin equals 1.\n",
        "\n",
        "If cumulative is a number less than 0 (e.g., -1), the direction of accumulation is reversed. In this case, if density is also True, then the histogram is normalized such that the first bin equals 1.\n",
        "\n",
        "* **bottom** :array-like, scalar, or None, default: None\n",
        "Location of the bottom of each bin, ie. bins are drawn from bottom to bottom + hist(x, bins) If a scalar, the bottom of each bin is shifted by the same amount. If an array, each bin is shifted independently and the length of bottom must match the number of bins. If None, defaults to 0.\n",
        "\n",
        "* **histtype** :{'bar', 'barstacked', 'step', 'stepfilled'}, default: 'bar'\n",
        "The type of histogram to draw.\n",
        "\n",
        "  'bar' is a traditional bar-type histogram. If multiple data are given the bars are arranged side by side.\n",
        "'barstacked' is a bar-type histogram where multiple data are stacked on top of each other.\n",
        "'step' generates a lineplot that is by default unfilled.\n",
        "'stepfilled' generates a lineplot that is by default filled.\n",
        "align** :{'left', 'mid', 'right'}, default: 'mid'\n",
        "The horizontal alignment of the histogram bars.\n",
        "\n",
        "  'left': bars are centered on the left bin edges.\n",
        "'mid': bars are centered between the bin edges.\n",
        "'right': bars are centered on the right bin edges.\n",
        "orientation** :{'vertical', 'horizontal'}, default: 'vertical'\n",
        "If 'horizontal', barh will be used for bar-type histograms and the bottom kwarg will be the left edges.\n",
        "\n",
        "* **rwidth** :float or None, default: None\n",
        "The relative width of the bars as a fraction of the bin width. If None, automatically compute the width.\n",
        "\n",
        "  Ignored if histtype is 'step' or 'stepfilled'.\n",
        "\n",
        "* **log** :bool, default: False\n",
        "If True, the histogram axis will be set to a log scale.\n",
        "\n",
        "* **color** :color or array-like of colors or None, default: None\n",
        "Color or sequence of colors, one per dataset. Default (None) uses the standard line color sequence.\n",
        "\n",
        "* **label** :str or None, default: None\n",
        "String, or sequence of strings to match multiple datasets. Bar charts yield multiple patches per dataset, but only the first gets the label, so that legend will work as expected.\n",
        "\n",
        "* **stacked** :bool, default: False\n",
        "If True, multiple data are stacked on top of each other If False multiple data are arranged side by side if histtype is 'bar' or on top of each other if histtype is 'step'"
      ],
      "id": "7egGdovofsUm"
    },
    {
      "cell_type": "code",
      "metadata": {
        "colab": {
          "base_uri": "https://localhost:8080/",
          "height": 265
        },
        "id": "CaekUxf8fsUo",
        "outputId": "44a5da2f-ba4d-4ffc-8900-5b46c1855f65"
      },
      "source": [
        "plt.hist(df.sepal_width);"
      ],
      "id": "CaekUxf8fsUo",
      "execution_count": 8,
      "outputs": [
        {
          "output_type": "display_data",
          "data": {
            "image/png": "[encoded data removed]",
            "text/plain": [
              "<Figure size 432x288 with 1 Axes>"
            ]
          },
          "metadata": {
            "needs_background": "light"
          }
        }
      ]
    },
    {
      "cell_type": "code",
      "metadata": {
        "colab": {
          "base_uri": "https://localhost:8080/",
          "height": 265
        },
        "id": "P3Lnb5gG6MDM",
        "outputId": "2fca6f3f-ca08-4893-b06d-26293fbd86af"
      },
      "source": [
        "plt.hist(df.sepal_width, bins=5);"
      ],
      "id": "P3Lnb5gG6MDM",
      "execution_count": 9,
      "outputs": [
        {
          "output_type": "display_data",
          "data": {
            "image/png": "[encoded data removed]",
            "text/plain": [
              "<Figure size 432x288 with 1 Axes>"
            ]
          },
          "metadata": {
            "needs_background": "light"
          }
        }
      ]
    },
    {
      "cell_type": "code",
      "metadata": {
        "id": "YJpbaH3S6M1G"
      },
      "source": [
        "setosa_df = df[df.species == 'setosa']\n",
        "versicolor_df = df[df.species == 'versicolor']\n",
        "virginica_df = df[df.species == 'virginica']"
      ],
      "id": "YJpbaH3S6M1G",
      "execution_count": 14,
      "outputs": []
    },
    {
      "cell_type": "code",
      "metadata": {
        "colab": {
          "base_uri": "https://localhost:8080/",
          "height": 265
        },
        "id": "RRORoKQu6NRr",
        "outputId": "6455ece0-6310-4838-cb49-1d12c32e9434"
      },
      "source": [
        "plt.hist(setosa_df.sepal_width, alpha=0.4, bins=np.arange(2, 5, 0.25));\n",
        "plt.hist(versicolor_df.sepal_width, alpha=0.4, bins=np.arange(2, 5, 0.25));"
      ],
      "id": "RRORoKQu6NRr",
      "execution_count": 15,
      "outputs": [
        {
          "output_type": "display_data",
          "data": {
            "image/png": "[encoded data removed]",
            "text/plain": [
              "<Figure size 432x288 with 1 Axes>"
            ]
          },
          "metadata": {
            "needs_background": "light"
          }
        }
      ]
    },
    {
      "cell_type": "code",
      "metadata": {
        "colab": {
          "base_uri": "https://localhost:8080/",
          "height": 281
        },
        "id": "H4L9vUmX6hi5",
        "outputId": "67564c40-2ed0-4faa-d5c5-f4e499ecf546"
      },
      "source": [
        "plt.title('Distribution of Sepal Width')\n",
        "\n",
        "plt.hist([setosa_df.sepal_width, versicolor_df.sepal_width, virginica_df.sepal_width], \n",
        "         bins=np.arange(2, 5, 0.25), \n",
        "         stacked=True);\n",
        "\n",
        "plt.legend(['Setosa', 'Versicolor', 'Virginica']);"
      ],
      "id": "H4L9vUmX6hi5",
      "execution_count": 16,
      "outputs": [
        {
          "output_type": "display_data",
          "data": {
            "image/png": "[encoded data removed]",
            "text/plain": [
              "<Figure size 432x288 with 1 Axes>"
            ]
          },
          "metadata": {
            "needs_background": "light"
          }
        }
      ]
    },
    {
      "cell_type": "markdown",
      "metadata": {
        "id": "OJUgQbkrfsUq"
      },
      "source": [
        "#### Creator: Ganapathi Thota , Github: [Profile](https://github.com/Shikiz)\n"
      ],
      "id": "OJUgQbkrfsUq"
    }
  ]
}